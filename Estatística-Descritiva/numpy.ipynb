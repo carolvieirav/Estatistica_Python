{
  "cells": [
    {
      "cell_type": "markdown",
      "metadata": {
        "id": "view-in-github",
        "colab_type": "text"
      },
      "source": [
        "<a href=\"https://colab.research.google.com/github/carolvieirav/Estatistica_Python/blob/main/Estat%C3%ADstica-Descritiva/numpy.ipynb\" target=\"_parent\"><img src=\"https://colab.research.google.com/assets/colab-badge.svg\" alt=\"Open In Colab\"/></a>"
      ]
    },
    {
      "cell_type": "code",
      "execution_count": null,
      "metadata": {
        "ExecuteTime": {
          "end_time": "2020-06-08T18:53:59.359122Z",
          "start_time": "2020-06-08T18:53:59.355105Z"
        },
        "id": "NL2L6clF69Kv"
      },
      "outputs": [],
      "source": [
        "import numpy as np"
      ]
    },
    {
      "cell_type": "markdown",
      "metadata": {
        "id": "_ieyt9aT69Kw"
      },
      "source": [
        "# Numpy Arrays"
      ]
    },
    {
      "cell_type": "markdown",
      "metadata": {
        "id": "_RXS6rJb69Kw"
      },
      "source": [
        "## Criando uma numpy array de uma lista\n",
        "\n",
        "*   Item da lista\n",
        "*   Item da lista\n",
        "\n"
      ]
    },
    {
      "cell_type": "code",
      "execution_count": null,
      "metadata": {
        "ExecuteTime": {
          "end_time": "2020-06-08T19:05:02.134068Z",
          "start_time": "2020-06-08T19:05:02.130078Z"
        },
        "id": "YtIOsAWT69Kw",
        "outputId": "2779e075-4e99-4a12-a48b-d4dba5f0af21"
      },
      "outputs": [
        {
          "data": {
            "text/plain": [
              "[1, 3, 5, 10]"
            ]
          },
          "execution_count": 5,
          "metadata": {},
          "output_type": "execute_result"
        }
      ],
      "source": [
        "a = [1,3,5,10]\n",
        "a"
      ]
    },
    {
      "cell_type": "code",
      "execution_count": null,
      "metadata": {
        "ExecuteTime": {
          "end_time": "2020-06-08T19:06:17.871857Z",
          "start_time": "2020-06-08T19:06:17.868866Z"
        },
        "id": "s62_d4hA69Kx"
      },
      "outputs": [],
      "source": [
        "b = np.array(a)"
      ]
    },
    {
      "cell_type": "code",
      "execution_count": null,
      "metadata": {
        "ExecuteTime": {
          "end_time": "2020-06-08T19:07:37.523710Z",
          "start_time": "2020-06-08T19:07:37.519722Z"
        },
        "id": "z-dotc7_69Ky",
        "outputId": "0f200559-7a57-4f6e-eb56-7a498fe66bbe"
      },
      "outputs": [
        {
          "data": {
            "text/plain": [
              "array([ 1,  3,  5, 10])"
            ]
          },
          "execution_count": 10,
          "metadata": {},
          "output_type": "execute_result"
        }
      ],
      "source": [
        "b"
      ]
    },
    {
      "cell_type": "code",
      "execution_count": null,
      "metadata": {
        "ExecuteTime": {
          "end_time": "2020-06-08T19:08:42.947345Z",
          "start_time": "2020-06-08T19:08:42.944381Z"
        },
        "id": "XPmMfvwN69Kz",
        "outputId": "94a27ed0-bc9a-4c7d-ec83-829092f2f79c"
      },
      "outputs": [
        {
          "data": {
            "text/plain": [
              "numpy.ndarray"
            ]
          },
          "execution_count": 14,
          "metadata": {},
          "output_type": "execute_result"
        }
      ],
      "source": [
        "type(b)"
      ]
    },
    {
      "cell_type": "code",
      "execution_count": null,
      "metadata": {
        "ExecuteTime": {
          "end_time": "2020-06-08T19:09:14.150513Z",
          "start_time": "2020-06-08T19:09:14.146523Z"
        },
        "id": "KwejKt0P69Kz",
        "outputId": "48f279ef-5b80-4633-dbe9-3cf2e5f78b9c"
      },
      "outputs": [
        {
          "data": {
            "text/plain": [
              "[1, 3, 5, 10, 1, 3, 5, 10, 1, 3, 5, 10]"
            ]
          },
          "execution_count": 16,
          "metadata": {},
          "output_type": "execute_result"
        }
      ],
      "source": [
        "a * 3"
      ]
    },
    {
      "cell_type": "code",
      "execution_count": null,
      "metadata": {
        "ExecuteTime": {
          "end_time": "2020-06-08T19:09:49.634456Z",
          "start_time": "2020-06-08T19:09:49.630440Z"
        },
        "id": "j9yxcN_469K0",
        "outputId": "00eeb719-80c8-46e5-ecd8-a08aca3f28b0"
      },
      "outputs": [
        {
          "data": {
            "text/plain": [
              "array([ 3,  9, 15, 30])"
            ]
          },
          "execution_count": 18,
          "metadata": {},
          "output_type": "execute_result"
        }
      ],
      "source": [
        "b * 3"
      ]
    },
    {
      "cell_type": "code",
      "execution_count": null,
      "metadata": {
        "ExecuteTime": {
          "end_time": "2020-06-08T19:10:26.622230Z",
          "start_time": "2020-06-08T19:10:26.618210Z"
        },
        "id": "0mnYlBHf69K0",
        "outputId": "12d5dfd1-0fd4-4003-ce29-6b80fbf86f17"
      },
      "outputs": [
        {
          "data": {
            "text/plain": [
              "<function list.append(object, /)>"
            ]
          },
          "execution_count": 19,
          "metadata": {},
          "output_type": "execute_result"
        }
      ],
      "source": [
        "a.append"
      ]
    },
    {
      "cell_type": "code",
      "execution_count": null,
      "metadata": {
        "ExecuteTime": {
          "end_time": "2020-06-08T19:10:56.528133Z",
          "start_time": "2020-06-08T19:10:56.524145Z"
        },
        "id": "iGgCeCj569K1",
        "outputId": "000d9ded-7679-4eb8-caad-270d822d4e85"
      },
      "outputs": [
        {
          "data": {
            "text/plain": [
              "10"
            ]
          },
          "execution_count": 20,
          "metadata": {},
          "output_type": "execute_result"
        }
      ],
      "source": [
        "b.max()"
      ]
    },
    {
      "cell_type": "code",
      "execution_count": null,
      "metadata": {
        "ExecuteTime": {
          "end_time": "2020-06-08T19:11:03.745888Z",
          "start_time": "2020-06-08T19:11:03.741899Z"
        },
        "id": "bYfMlLeq69K1",
        "outputId": "83767a30-c8df-4f94-ecbe-2f588bed83c8"
      },
      "outputs": [
        {
          "data": {
            "text/plain": [
              "4.75"
            ]
          },
          "execution_count": 21,
          "metadata": {},
          "output_type": "execute_result"
        }
      ],
      "source": [
        "b.mean()"
      ]
    },
    {
      "cell_type": "code",
      "execution_count": null,
      "metadata": {
        "ExecuteTime": {
          "end_time": "2020-06-08T19:11:44.151280Z",
          "start_time": "2020-06-08T19:11:44.146295Z"
        },
        "id": "C1Q1wb0369K1",
        "outputId": "a0421f71-7a2a-47a1-c745-5e45d064c876"
      },
      "outputs": [
        {
          "data": {
            "text/plain": [
              "3"
            ]
          },
          "execution_count": 23,
          "metadata": {},
          "output_type": "execute_result"
        }
      ],
      "source": [
        "b.argmax()"
      ]
    },
    {
      "cell_type": "code",
      "execution_count": null,
      "metadata": {
        "ExecuteTime": {
          "end_time": "2020-06-08T19:12:27.819866Z",
          "start_time": "2020-06-08T19:12:27.815877Z"
        },
        "id": "OYEalK3s69K2",
        "outputId": "49733682-367e-462e-8e19-2b56d1e5ab87"
      },
      "outputs": [
        {
          "data": {
            "text/plain": [
              "(4,)"
            ]
          },
          "execution_count": 24,
          "metadata": {},
          "output_type": "execute_result"
        }
      ],
      "source": [
        "b.shape"
      ]
    },
    {
      "cell_type": "markdown",
      "metadata": {
        "id": "wwVyhU9U69K2"
      },
      "source": [
        "* 1-D array"
      ]
    },
    {
      "cell_type": "code",
      "execution_count": null,
      "metadata": {
        "id": "f9SRll0x69K2",
        "outputId": "ce3e7eec-4526-4bfe-9752-3a0e210d857c"
      },
      "outputs": [
        {
          "data": {
            "text/plain": [
              "48"
            ]
          },
          "execution_count": 41,
          "metadata": {},
          "output_type": "execute_result"
        }
      ],
      "source": [
        "np.random.randint(0, 100)"
      ]
    },
    {
      "cell_type": "code",
      "execution_count": null,
      "metadata": {
        "ExecuteTime": {
          "end_time": "2020-06-08T19:17:35.666641Z",
          "start_time": "2020-06-08T19:17:35.662651Z"
        },
        "id": "BJRoDf0669K3",
        "outputId": "b9b9db28-15ff-4370-d7f5-b129302e8049"
      },
      "outputs": [
        {
          "data": {
            "text/plain": [
              "array([7, 3, 0, 8])"
            ]
          },
          "execution_count": 63,
          "metadata": {},
          "output_type": "execute_result"
        }
      ],
      "source": [
        "np.random.randint(0, 10, size=4)"
      ]
    },
    {
      "cell_type": "code",
      "execution_count": null,
      "metadata": {
        "ExecuteTime": {
          "end_time": "2020-06-08T19:17:21.724094Z",
          "start_time": "2020-06-08T19:17:21.720132Z"
        },
        "id": "OZkvYs-C69K3",
        "outputId": "caddc3e2-55c3-43c1-cc0d-db28dc855df3"
      },
      "outputs": [
        {
          "data": {
            "text/plain": [
              "(4,)"
            ]
          },
          "execution_count": 53,
          "metadata": {},
          "output_type": "execute_result"
        }
      ],
      "source": [
        "np.random.randint(0, 10, size=4).shape"
      ]
    },
    {
      "cell_type": "code",
      "execution_count": null,
      "metadata": {
        "ExecuteTime": {
          "end_time": "2020-06-08T19:18:09.222669Z",
          "start_time": "2020-06-08T19:18:09.218653Z"
        },
        "id": "mRcZ3J2o69K4",
        "outputId": "713d1600-dcfd-4b29-cf6d-e4c32fa1ba57"
      },
      "outputs": [
        {
          "data": {
            "text/plain": [
              "array([0.24211732, 0.53986733, 0.30087105, 0.98647668])"
            ]
          },
          "execution_count": 88,
          "metadata": {},
          "output_type": "execute_result"
        }
      ],
      "source": [
        "np.random.random(size=4)"
      ]
    },
    {
      "cell_type": "markdown",
      "metadata": {
        "id": "zkPxAYbQ69K4"
      },
      "source": [
        "* 2-D array: **row, column**"
      ]
    },
    {
      "cell_type": "code",
      "execution_count": null,
      "metadata": {
        "ExecuteTime": {
          "end_time": "2020-06-08T19:21:05.259343Z",
          "start_time": "2020-06-08T19:21:05.256352Z"
        },
        "id": "9dMltxxT69K4"
      },
      "outputs": [],
      "source": [
        "a = [[1,2,3],[4,5,6]]"
      ]
    },
    {
      "cell_type": "code",
      "execution_count": null,
      "metadata": {
        "ExecuteTime": {
          "end_time": "2020-06-08T19:21:27.816592Z",
          "start_time": "2020-06-08T19:21:27.812602Z"
        },
        "id": "NNjC17Lz69K5",
        "outputId": "3304057e-1e88-4db5-ce7a-8c95315f0cbc"
      },
      "outputs": [
        {
          "data": {
            "text/plain": [
              "3"
            ]
          },
          "execution_count": 93,
          "metadata": {},
          "output_type": "execute_result"
        }
      ],
      "source": [
        "a[0][-1]"
      ]
    },
    {
      "cell_type": "code",
      "execution_count": null,
      "metadata": {
        "ExecuteTime": {
          "end_time": "2020-06-08T19:22:01.409231Z",
          "start_time": "2020-06-08T19:22:01.405241Z"
        },
        "id": "HxlnmPY969K5"
      },
      "outputs": [],
      "source": [
        "# from a list of lists\n",
        "b = np.array([[1,2,3],[4,5,6]])"
      ]
    },
    {
      "cell_type": "code",
      "execution_count": null,
      "metadata": {
        "ExecuteTime": {
          "end_time": "2020-06-08T19:22:25.030578Z",
          "start_time": "2020-06-08T19:22:25.027558Z"
        },
        "id": "X43f9COo69K5",
        "outputId": "a75706f8-d945-48de-e140-7d1b94907987"
      },
      "outputs": [
        {
          "data": {
            "text/plain": [
              "3"
            ]
          },
          "execution_count": 99,
          "metadata": {},
          "output_type": "execute_result"
        }
      ],
      "source": [
        "b[0][-1]"
      ]
    },
    {
      "cell_type": "code",
      "execution_count": null,
      "metadata": {
        "ExecuteTime": {
          "end_time": "2020-06-08T19:22:40.272792Z",
          "start_time": "2020-06-08T19:22:40.259852Z"
        },
        "id": "GtD8UGVR69K5",
        "outputId": "76b1d499-83e4-4847-c4e2-19e656806649"
      },
      "outputs": [
        {
          "ename": "TypeError",
          "evalue": "list indices must be integers or slices, not tuple",
          "output_type": "error",
          "traceback": [
            "\u001b[1;31m---------------------------------------------------------------------------\u001b[0m",
            "\u001b[1;31mTypeError\u001b[0m                                 Traceback (most recent call last)",
            "\u001b[1;32m<ipython-input-100-c40981472b77>\u001b[0m in \u001b[0;36m<module>\u001b[1;34m\u001b[0m\n\u001b[1;32m----> 1\u001b[1;33m \u001b[0ma\u001b[0m\u001b[1;33m[\u001b[0m\u001b[1;36m0\u001b[0m\u001b[1;33m,\u001b[0m \u001b[1;33m-\u001b[0m\u001b[1;36m1\u001b[0m\u001b[1;33m]\u001b[0m\u001b[1;33m\u001b[0m\u001b[1;33m\u001b[0m\u001b[0m\n\u001b[0m",
            "\u001b[1;31mTypeError\u001b[0m: list indices must be integers or slices, not tuple"
          ]
        }
      ],
      "source": [
        "a[0, -1]"
      ]
    },
    {
      "cell_type": "code",
      "execution_count": null,
      "metadata": {
        "ExecuteTime": {
          "end_time": "2020-06-08T19:23:50.043358Z",
          "start_time": "2020-06-08T19:23:50.039396Z"
        },
        "id": "VwldJx4A69K6",
        "outputId": "225f4bd3-8dfa-4200-ca82-414c4966c731"
      },
      "outputs": [
        {
          "data": {
            "text/plain": [
              "3"
            ]
          },
          "execution_count": 103,
          "metadata": {},
          "output_type": "execute_result"
        }
      ],
      "source": [
        "b[0,2]"
      ]
    },
    {
      "cell_type": "code",
      "execution_count": null,
      "metadata": {
        "ExecuteTime": {
          "end_time": "2020-06-08T19:23:59.237533Z",
          "start_time": "2020-06-08T19:23:59.233544Z"
        },
        "id": "lS29SNx169K6",
        "outputId": "28cdbe62-9dd1-48f1-a227-3984ddf92e4d"
      },
      "outputs": [
        {
          "data": {
            "text/plain": [
              "5"
            ]
          },
          "execution_count": 105,
          "metadata": {},
          "output_type": "execute_result"
        }
      ],
      "source": [
        "b[1,1]"
      ]
    },
    {
      "cell_type": "code",
      "execution_count": null,
      "metadata": {
        "ExecuteTime": {
          "end_time": "2020-06-08T19:25:03.807342Z",
          "start_time": "2020-06-08T19:25:03.803352Z"
        },
        "id": "W92iZOhQ69K6",
        "outputId": "712eeb4c-140f-454d-a28b-b9056126dbee"
      },
      "outputs": [
        {
          "data": {
            "text/plain": [
              "array([[1, 2, 3],\n",
              "       [4, 5, 6]])"
            ]
          },
          "execution_count": 117,
          "metadata": {},
          "output_type": "execute_result"
        }
      ],
      "source": [
        "b"
      ]
    },
    {
      "cell_type": "code",
      "execution_count": null,
      "metadata": {
        "ExecuteTime": {
          "end_time": "2020-06-08T19:24:56.470744Z",
          "start_time": "2020-06-08T19:24:56.466754Z"
        },
        "id": "dEO9py1v69K6",
        "outputId": "f3487588-e148-45e2-8cd5-92d5e3f43f75"
      },
      "outputs": [
        {
          "data": {
            "text/plain": [
              "(2, 3)"
            ]
          },
          "execution_count": 116,
          "metadata": {},
          "output_type": "execute_result"
        }
      ],
      "source": [
        "b.shape"
      ]
    },
    {
      "cell_type": "code",
      "execution_count": null,
      "metadata": {
        "ExecuteTime": {
          "end_time": "2020-06-08T19:26:17.283674Z",
          "start_time": "2020-06-08T19:26:17.279685Z"
        },
        "id": "uKHeaX9_69K6",
        "outputId": "e958bcdb-4547-4a15-a5e7-331b672a0c11"
      },
      "outputs": [
        {
          "data": {
            "text/plain": [
              "6"
            ]
          },
          "execution_count": 124,
          "metadata": {},
          "output_type": "execute_result"
        }
      ],
      "source": [
        "b.size"
      ]
    },
    {
      "cell_type": "code",
      "execution_count": null,
      "metadata": {
        "ExecuteTime": {
          "end_time": "2020-06-08T19:25:58.353038Z",
          "start_time": "2020-06-08T19:25:58.349050Z"
        },
        "id": "8om5gZ8Q69K7",
        "outputId": "4e5b2623-3531-4746-eeb1-2cd6eb7d2d36"
      },
      "outputs": [
        {
          "data": {
            "text/plain": [
              "array([[0.0475806 , 0.21899082, 0.41925996, 0.36390053],\n",
              "       [0.50259474, 0.5681986 , 0.22754648, 0.113178  ],\n",
              "       [0.89566067, 0.74933728, 0.61098718, 0.19204804],\n",
              "       [0.75433981, 0.54921164, 0.99789319, 0.56975261],\n",
              "       [0.50752234, 0.11741873, 0.37805641, 0.93283942],\n",
              "       [0.37554576, 0.81213963, 0.12742458, 0.28006802],\n",
              "       [0.99787026, 0.46924011, 0.42188027, 0.52640382]])"
            ]
          },
          "execution_count": 123,
          "metadata": {},
          "output_type": "execute_result"
        }
      ],
      "source": [
        "np.random.random(size=(7,4))"
      ]
    },
    {
      "cell_type": "markdown",
      "metadata": {
        "id": "Q3u7Aphq69K7"
      },
      "source": [
        "* 3-D array"
      ]
    },
    {
      "cell_type": "code",
      "execution_count": null,
      "metadata": {
        "ExecuteTime": {
          "end_time": "2020-06-08T19:27:26.528695Z",
          "start_time": "2020-06-08T19:27:26.525674Z"
        },
        "id": "Mkh9SRa969K7"
      },
      "outputs": [],
      "source": [
        "# from a list of list of lists\n",
        "a = np.array([[[1,2,3],[4,5,6],[7,8,9]],\n",
        "          [[10,11,12],[13,14,15],[16,17,18]]])"
      ]
    },
    {
      "cell_type": "code",
      "execution_count": null,
      "metadata": {
        "ExecuteTime": {
          "end_time": "2020-06-08T19:28:17.446819Z",
          "start_time": "2020-06-08T19:28:17.442806Z"
        },
        "id": "gzZsbC5w69K7",
        "outputId": "d52978b8-1658-405a-c00a-45ce77e6d6a1"
      },
      "outputs": [
        {
          "data": {
            "text/plain": [
              "array([[[ 1,  2,  3],\n",
              "        [ 4,  5,  6],\n",
              "        [ 7,  8,  9]],\n",
              "\n",
              "       [[10, 11, 12],\n",
              "        [13, 14, 15],\n",
              "        [16, 17, 18]]])"
            ]
          },
          "execution_count": 135,
          "metadata": {},
          "output_type": "execute_result"
        }
      ],
      "source": [
        "a"
      ]
    },
    {
      "cell_type": "code",
      "execution_count": null,
      "metadata": {
        "ExecuteTime": {
          "end_time": "2020-06-08T19:28:09.925210Z",
          "start_time": "2020-06-08T19:28:09.921220Z"
        },
        "id": "4lZ-Qk9H69K8",
        "outputId": "20c860e1-8df3-4ae9-97ea-1ecada6add7e"
      },
      "outputs": [
        {
          "data": {
            "text/plain": [
              "array([[1, 2, 3],\n",
              "       [4, 5, 6],\n",
              "       [7, 8, 9]])"
            ]
          },
          "execution_count": 133,
          "metadata": {},
          "output_type": "execute_result"
        }
      ],
      "source": [
        "a[0]"
      ]
    },
    {
      "cell_type": "code",
      "execution_count": null,
      "metadata": {
        "ExecuteTime": {
          "end_time": "2020-06-08T19:28:13.522434Z",
          "start_time": "2020-06-08T19:28:13.517419Z"
        },
        "id": "1is9t2y669K8",
        "outputId": "62b85940-2a6b-4bd7-c0df-289c57fee063"
      },
      "outputs": [
        {
          "data": {
            "text/plain": [
              "array([4, 5, 6])"
            ]
          },
          "execution_count": 134,
          "metadata": {},
          "output_type": "execute_result"
        }
      ],
      "source": [
        "a[0][1]"
      ]
    },
    {
      "cell_type": "code",
      "execution_count": null,
      "metadata": {
        "ExecuteTime": {
          "end_time": "2020-06-08T19:27:58.132030Z",
          "start_time": "2020-06-08T19:27:58.127016Z"
        },
        "id": "Un3lJ16769K8",
        "outputId": "dc88e4d8-9474-401d-cf96-29501342344f"
      },
      "outputs": [
        {
          "data": {
            "text/plain": [
              "6"
            ]
          },
          "execution_count": 131,
          "metadata": {},
          "output_type": "execute_result"
        }
      ],
      "source": [
        "a[0][1][2]"
      ]
    },
    {
      "cell_type": "code",
      "execution_count": null,
      "metadata": {
        "ExecuteTime": {
          "end_time": "2020-06-08T19:28:02.506724Z",
          "start_time": "2020-06-08T19:28:02.502735Z"
        },
        "id": "_4-sTuds69K8",
        "outputId": "db1db208-e846-48ba-e0bf-8b78918071d5"
      },
      "outputs": [
        {
          "data": {
            "text/plain": [
              "6"
            ]
          },
          "execution_count": 132,
          "metadata": {},
          "output_type": "execute_result"
        }
      ],
      "source": [
        "a[0,1,2]"
      ]
    },
    {
      "cell_type": "code",
      "execution_count": null,
      "metadata": {
        "ExecuteTime": {
          "end_time": "2020-06-08T19:31:14.617851Z",
          "start_time": "2020-06-08T19:31:14.613834Z"
        },
        "id": "mH7aejlg69K8",
        "outputId": "92a7582f-1129-4d71-a8b1-42ec7c2b3813"
      },
      "outputs": [
        {
          "data": {
            "text/plain": [
              "(2, 3, 3)"
            ]
          },
          "execution_count": 137,
          "metadata": {},
          "output_type": "execute_result"
        }
      ],
      "source": [
        "a.shape"
      ]
    },
    {
      "cell_type": "code",
      "execution_count": null,
      "metadata": {
        "ExecuteTime": {
          "end_time": "2020-06-08T19:31:48.581129Z",
          "start_time": "2020-06-08T19:31:48.577130Z"
        },
        "id": "F7Gqw6hT69K9"
      },
      "outputs": [],
      "source": [
        "b = np.random.random(size=(4,2,3))"
      ]
    },
    {
      "cell_type": "code",
      "execution_count": null,
      "metadata": {
        "ExecuteTime": {
          "end_time": "2020-06-08T19:31:50.971317Z",
          "start_time": "2020-06-08T19:31:50.967361Z"
        },
        "id": "Nk5LjNCA69K9",
        "outputId": "3e08e031-d433-4796-d293-7436b0d3e699"
      },
      "outputs": [
        {
          "data": {
            "text/plain": [
              "array([[[0.46728726, 0.50970004, 0.13084185],\n",
              "        [0.69384902, 0.53166858, 0.69192876]],\n",
              "\n",
              "       [[0.73669708, 0.03205114, 0.56939669],\n",
              "        [0.27739405, 0.0301216 , 0.66152328]],\n",
              "\n",
              "       [[0.60015258, 0.68929225, 0.77441248],\n",
              "        [0.13004818, 0.68008976, 0.40445816]],\n",
              "\n",
              "       [[0.96742344, 0.41989347, 0.64056641],\n",
              "        [0.53869263, 0.49841793, 0.86390891]]])"
            ]
          },
          "execution_count": 139,
          "metadata": {},
          "output_type": "execute_result"
        }
      ],
      "source": [
        "b"
      ]
    },
    {
      "cell_type": "markdown",
      "metadata": {
        "id": "hg3fuFsB69K9"
      },
      "source": [
        "## Partições"
      ]
    },
    {
      "cell_type": "code",
      "execution_count": null,
      "metadata": {
        "ExecuteTime": {
          "end_time": "2020-06-08T19:32:34.025487Z",
          "start_time": "2020-06-08T19:32:34.021500Z"
        },
        "id": "t6rhPvzE69K9"
      },
      "outputs": [],
      "source": [
        "a = np.random.randint(0, 10, size=(4,3))"
      ]
    },
    {
      "cell_type": "code",
      "execution_count": null,
      "metadata": {
        "ExecuteTime": {
          "end_time": "2020-06-08T19:32:56.451596Z",
          "start_time": "2020-06-08T19:32:56.448605Z"
        },
        "id": "IcKNnw8b69K9"
      },
      "outputs": [],
      "source": [
        "my_list = [1,2,4,7,8,10,4,6]"
      ]
    },
    {
      "cell_type": "code",
      "execution_count": null,
      "metadata": {
        "ExecuteTime": {
          "end_time": "2020-06-08T19:32:58.328849Z",
          "start_time": "2020-06-08T19:32:58.324860Z"
        },
        "id": "5jslUCkw69K9",
        "outputId": "ed42fcd8-cf2b-4cdd-e804-f01570e7f484"
      },
      "outputs": [
        {
          "data": {
            "text/plain": [
              "[1, 2, 4, 7, 8, 10, 4, 6]"
            ]
          },
          "execution_count": 146,
          "metadata": {},
          "output_type": "execute_result"
        }
      ],
      "source": [
        "my_list"
      ]
    },
    {
      "cell_type": "code",
      "execution_count": null,
      "metadata": {
        "ExecuteTime": {
          "end_time": "2020-06-08T19:33:01.077663Z",
          "start_time": "2020-06-08T19:33:01.073673Z"
        },
        "id": "ODsjlltx69K-",
        "outputId": "72f28bd7-28fb-4357-ac10-2a62c027279d"
      },
      "outputs": [
        {
          "data": {
            "text/plain": [
              "8"
            ]
          },
          "execution_count": 147,
          "metadata": {},
          "output_type": "execute_result"
        }
      ],
      "source": [
        "len(my_list)"
      ]
    },
    {
      "cell_type": "code",
      "execution_count": null,
      "metadata": {
        "ExecuteTime": {
          "end_time": "2020-06-08T19:33:20.558874Z",
          "start_time": "2020-06-08T19:33:20.554885Z"
        },
        "id": "782l3efZ69K-",
        "outputId": "6f57e2c9-9fdf-4c51-b00e-a4f75c1609f9"
      },
      "outputs": [
        {
          "data": {
            "text/plain": [
              "[8, 10, 4, 6]"
            ]
          },
          "execution_count": 151,
          "metadata": {},
          "output_type": "execute_result"
        }
      ],
      "source": [
        "my_list[4:]"
      ]
    },
    {
      "cell_type": "code",
      "execution_count": null,
      "metadata": {
        "ExecuteTime": {
          "end_time": "2020-06-08T19:33:30.777219Z",
          "start_time": "2020-06-08T19:33:30.772202Z"
        },
        "id": "FRFv9BU469K-",
        "outputId": "b412a7cd-3194-4afb-ab54-abf118937c36"
      },
      "outputs": [
        {
          "data": {
            "text/plain": [
              "[1, 2, 4]"
            ]
          },
          "execution_count": 152,
          "metadata": {},
          "output_type": "execute_result"
        }
      ],
      "source": [
        "my_list[:3]"
      ]
    },
    {
      "cell_type": "code",
      "execution_count": null,
      "metadata": {
        "ExecuteTime": {
          "end_time": "2020-06-08T19:33:56.475864Z",
          "start_time": "2020-06-08T19:33:56.471898Z"
        },
        "id": "qPkaRAh469K-",
        "outputId": "37b92d20-9ee5-4c6f-f8b6-161d0137c01d"
      },
      "outputs": [
        {
          "data": {
            "text/plain": [
              "[1, 2, 4, 7, 8, 10, 4, 6]"
            ]
          },
          "execution_count": 153,
          "metadata": {},
          "output_type": "execute_result"
        }
      ],
      "source": [
        "my_list[:]"
      ]
    },
    {
      "cell_type": "code",
      "execution_count": null,
      "metadata": {
        "ExecuteTime": {
          "end_time": "2020-06-08T19:34:25.849884Z",
          "start_time": "2020-06-08T19:34:25.845895Z"
        },
        "id": "lZ06Sfkl69K-",
        "outputId": "9ba80fd3-f250-41e8-c822-cedb0a79d83e"
      },
      "outputs": [
        {
          "data": {
            "text/plain": [
              "array([[4, 0, 8],\n",
              "       [8, 2, 3],\n",
              "       [8, 5, 7],\n",
              "       [4, 1, 4]])"
            ]
          },
          "execution_count": 155,
          "metadata": {},
          "output_type": "execute_result"
        }
      ],
      "source": [
        "a"
      ]
    },
    {
      "cell_type": "code",
      "execution_count": null,
      "metadata": {
        "ExecuteTime": {
          "end_time": "2020-06-08T19:35:01.864407Z",
          "start_time": "2020-06-08T19:35:01.860417Z"
        },
        "id": "dfHViAbj69K_",
        "outputId": "3ec31140-f429-4f6f-ee32-670d24651130"
      },
      "outputs": [
        {
          "data": {
            "text/plain": [
              "4"
            ]
          },
          "execution_count": 158,
          "metadata": {},
          "output_type": "execute_result"
        }
      ],
      "source": [
        "# a[row, column]\n",
        "\n",
        "a[3,2]"
      ]
    },
    {
      "cell_type": "code",
      "execution_count": null,
      "metadata": {
        "ExecuteTime": {
          "end_time": "2020-06-08T19:36:24.855290Z",
          "start_time": "2020-06-08T19:36:24.850304Z"
        },
        "id": "g3poVA0x69K_",
        "outputId": "f38d803d-5e90-47f4-ba68-1ae4d5b65763"
      },
      "outputs": [
        {
          "data": {
            "text/plain": [
              "array([[8, 5, 7],\n",
              "       [4, 1, 4]])"
            ]
          },
          "execution_count": 161,
          "metadata": {},
          "output_type": "execute_result"
        }
      ],
      "source": [
        "a[2:, :]"
      ]
    },
    {
      "cell_type": "code",
      "execution_count": null,
      "metadata": {
        "ExecuteTime": {
          "end_time": "2020-06-08T19:35:46.295800Z",
          "start_time": "2020-06-08T19:35:46.291810Z"
        },
        "id": "uUCysRTy69K_",
        "outputId": "3e972f33-ef05-4d6c-a39d-3ce2ca3fc0af"
      },
      "outputs": [
        {
          "data": {
            "text/plain": [
              "array([8, 3, 7, 4])"
            ]
          },
          "execution_count": 159,
          "metadata": {},
          "output_type": "execute_result"
        }
      ],
      "source": [
        "a[:, 2]"
      ]
    },
    {
      "cell_type": "markdown",
      "metadata": {
        "id": "6HQ1I2U569K_"
      },
      "source": [
        "## Outros médotos"
      ]
    },
    {
      "cell_type": "code",
      "execution_count": null,
      "metadata": {
        "ExecuteTime": {
          "end_time": "2020-06-08T19:37:59.143280Z",
          "start_time": "2020-06-08T19:37:59.140294Z"
        },
        "id": "kK5xzsY869K_",
        "outputId": "0c025ed5-dd8f-4a0c-f536-76ff59c4c3ca"
      },
      "outputs": [
        {
          "data": {
            "text/plain": [
              "array([[0., 0.],\n",
              "       [0., 0.],\n",
              "       [0., 0.]])"
            ]
          },
          "execution_count": 162,
          "metadata": {},
          "output_type": "execute_result"
        }
      ],
      "source": [
        "np.zeros(shape=(3,2))"
      ]
    },
    {
      "cell_type": "code",
      "execution_count": null,
      "metadata": {
        "ExecuteTime": {
          "end_time": "2020-06-08T19:41:01.435754Z",
          "start_time": "2020-06-08T19:41:01.430767Z"
        },
        "scrolled": false,
        "id": "JhE_3mnZ69LA",
        "outputId": "90bd189d-5e03-4b3e-9b87-f847d8c338d9"
      },
      "outputs": [
        {
          "data": {
            "text/plain": [
              "array([[0.00000000e+000, 0.00000000e+000, 0.00000000e+000],\n",
              "       [0.00000000e+000, 0.00000000e+000, 6.58095440e-321],\n",
              "       [1.15706964e-306, 2.33419537e-312, 3.91792476e-317]])"
            ]
          },
          "execution_count": 166,
          "metadata": {},
          "output_type": "execute_result"
        }
      ],
      "source": [
        "np.empty(shape=(3,3) )"
      ]
    },
    {
      "cell_type": "code",
      "execution_count": null,
      "metadata": {
        "ExecuteTime": {
          "end_time": "2020-06-08T19:41:14.979643Z",
          "start_time": "2020-06-08T19:41:14.975653Z"
        },
        "id": "n6SfSeMY69LA",
        "outputId": "0de4b4c3-7e8c-45d8-b84b-1ede80387e22"
      },
      "outputs": [
        {
          "data": {
            "text/plain": [
              "array([[1., 1., 1.],\n",
              "       [1., 1., 1.],\n",
              "       [1., 1., 1.]])"
            ]
          },
          "execution_count": 169,
          "metadata": {},
          "output_type": "execute_result"
        }
      ],
      "source": [
        "np.ones((3, 3))"
      ]
    },
    {
      "cell_type": "code",
      "execution_count": null,
      "metadata": {
        "ExecuteTime": {
          "end_time": "2020-06-08T19:41:37.454666Z",
          "start_time": "2020-06-08T19:41:37.450677Z"
        },
        "id": "DaWS5ygE69LA",
        "outputId": "b4018811-e975-4e07-bf21-df88d8b53cc3"
      },
      "outputs": [
        {
          "data": {
            "text/plain": [
              "range(0, 10)"
            ]
          },
          "execution_count": 170,
          "metadata": {},
          "output_type": "execute_result"
        }
      ],
      "source": [
        "range(10)"
      ]
    },
    {
      "cell_type": "code",
      "execution_count": null,
      "metadata": {
        "ExecuteTime": {
          "end_time": "2020-06-08T19:41:43.470894Z",
          "start_time": "2020-06-08T19:41:43.466905Z"
        },
        "id": "rzo7PRGG69LA",
        "outputId": "0dd8c375-ca8e-4754-a513-73a821392977"
      },
      "outputs": [
        {
          "data": {
            "text/plain": [
              "array([0, 1, 2, 3, 4, 5, 6, 7, 8, 9])"
            ]
          },
          "execution_count": 171,
          "metadata": {},
          "output_type": "execute_result"
        }
      ],
      "source": [
        "np.arange(10)"
      ]
    },
    {
      "cell_type": "code",
      "execution_count": null,
      "metadata": {
        "ExecuteTime": {
          "end_time": "2020-06-08T19:42:09.061333Z",
          "start_time": "2020-06-08T19:42:09.056341Z"
        },
        "id": "rHPIdiYf69LA",
        "outputId": "e922af04-ad90-42bd-b2cb-ae84895270fe"
      },
      "outputs": [
        {
          "data": {
            "text/plain": [
              "array([0. , 0.5, 1. , 1.5, 2. , 2.5, 3. , 3.5, 4. , 4.5])"
            ]
          },
          "execution_count": 172,
          "metadata": {},
          "output_type": "execute_result"
        }
      ],
      "source": [
        "np.arange(0, 5, 0.5)"
      ]
    },
    {
      "cell_type": "code",
      "execution_count": null,
      "metadata": {
        "ExecuteTime": {
          "end_time": "2020-06-08T19:42:22.043575Z",
          "start_time": "2020-06-08T19:42:22.036622Z"
        },
        "id": "gmEsZqBK69LA",
        "outputId": "df94428e-ec04-43a1-a3ee-561d2eb11f81"
      },
      "outputs": [
        {
          "ename": "TypeError",
          "evalue": "'float' object cannot be interpreted as an integer",
          "output_type": "error",
          "traceback": [
            "\u001b[1;31m---------------------------------------------------------------------------\u001b[0m",
            "\u001b[1;31mTypeError\u001b[0m                                 Traceback (most recent call last)",
            "\u001b[1;32m<ipython-input-173-e04a484e1d23>\u001b[0m in \u001b[0;36m<module>\u001b[1;34m\u001b[0m\n\u001b[1;32m----> 1\u001b[1;33m \u001b[0mrange\u001b[0m\u001b[1;33m(\u001b[0m\u001b[1;36m0\u001b[0m\u001b[1;33m,\u001b[0m\u001b[1;36m5\u001b[0m\u001b[1;33m,\u001b[0m\u001b[1;36m0.5\u001b[0m\u001b[1;33m)\u001b[0m\u001b[1;33m\u001b[0m\u001b[1;33m\u001b[0m\u001b[0m\n\u001b[0m",
            "\u001b[1;31mTypeError\u001b[0m: 'float' object cannot be interpreted as an integer"
          ]
        }
      ],
      "source": [
        "range(0,5,0.5)"
      ]
    },
    {
      "cell_type": "code",
      "execution_count": null,
      "metadata": {
        "ExecuteTime": {
          "end_time": "2020-06-08T19:43:11.765474Z",
          "start_time": "2020-06-08T19:43:11.761513Z"
        },
        "id": "SBPWw0XW69LB",
        "outputId": "f9c5c911-5188-4562-f3dc-17403e3ca6ca"
      },
      "outputs": [
        {
          "data": {
            "text/plain": [
              "array([1. , 1.5, 2. , 2.5, 3. , 3.5, 4. , 4.5, 5. , 5.5, 6. , 6.5, 7. ,\n",
              "       7.5, 8. , 8.5, 9. , 9.5])"
            ]
          },
          "execution_count": 174,
          "metadata": {},
          "output_type": "execute_result"
        }
      ],
      "source": [
        "np.arange(1,10, 0.5)"
      ]
    },
    {
      "cell_type": "code",
      "execution_count": null,
      "metadata": {
        "ExecuteTime": {
          "end_time": "2020-06-08T19:43:17.188132Z",
          "start_time": "2020-06-08T19:43:17.183144Z"
        },
        "id": "sRrlYt2D69LB",
        "outputId": "e581916d-e456-4e9f-dc78-3b5e699bf645"
      },
      "outputs": [
        {
          "data": {
            "text/plain": [
              "array([1. , 1.5, 2. , 2.5, 3. , 3.5, 4. , 4.5, 5. , 5.5, 6. , 6.5, 7. ,\n",
              "       7.5, 8. , 8.5, 9. , 9.5])"
            ]
          },
          "execution_count": 175,
          "metadata": {},
          "output_type": "execute_result"
        }
      ],
      "source": [
        "np.arange(1,10, 0.5)"
      ]
    },
    {
      "cell_type": "code",
      "execution_count": null,
      "metadata": {
        "ExecuteTime": {
          "end_time": "2020-06-08T19:43:53.491719Z",
          "start_time": "2020-06-08T19:43:53.487705Z"
        },
        "id": "uX1WDwpV69LB",
        "outputId": "68dc4e93-e1fa-4f42-ad43-a3a4af23c0c7"
      },
      "outputs": [
        {
          "data": {
            "text/plain": [
              "617.25"
            ]
          },
          "execution_count": 176,
          "metadata": {},
          "output_type": "execute_result"
        }
      ],
      "source": [
        "np.dot(np.arange(1,10, 0.5) , np.arange(1,10, 0.5) )"
      ]
    },
    {
      "cell_type": "markdown",
      "metadata": {
        "id": "_OMdUZYk69LB"
      },
      "source": [
        "# Acessando elementos"
      ]
    },
    {
      "cell_type": "code",
      "execution_count": null,
      "metadata": {
        "ExecuteTime": {
          "end_time": "2020-06-08T19:45:21.949034Z",
          "start_time": "2020-06-08T19:45:21.946042Z"
        },
        "id": "X-a7OI2K69LB"
      },
      "outputs": [],
      "source": [
        "array_1d = np.random.random(10)"
      ]
    },
    {
      "cell_type": "code",
      "execution_count": null,
      "metadata": {
        "ExecuteTime": {
          "end_time": "2020-06-08T19:45:22.382904Z",
          "start_time": "2020-06-08T19:45:22.378916Z"
        },
        "id": "CLlKF8Dp69LB",
        "outputId": "361cd385-8df4-4466-af2f-8a01c0b08716"
      },
      "outputs": [
        {
          "data": {
            "text/plain": [
              "array([0.14262889, 0.51181858, 0.03821853, 0.05604645, 0.62005312,\n",
              "       0.85978202, 0.29934158, 0.35627982, 0.38025847, 0.49346816])"
            ]
          },
          "execution_count": 178,
          "metadata": {},
          "output_type": "execute_result"
        }
      ],
      "source": [
        "array_1d"
      ]
    },
    {
      "cell_type": "code",
      "execution_count": null,
      "metadata": {
        "ExecuteTime": {
          "end_time": "2020-06-08T19:45:25.104246Z",
          "start_time": "2020-06-08T19:45:25.100256Z"
        },
        "id": "B7eqcXJ469LC"
      },
      "outputs": [],
      "source": [
        "array_2d = np.random.random((5,3))"
      ]
    },
    {
      "cell_type": "code",
      "execution_count": null,
      "metadata": {
        "ExecuteTime": {
          "end_time": "2020-06-08T19:45:26.329235Z",
          "start_time": "2020-06-08T19:45:26.324249Z"
        },
        "id": "ZwWL-9It69LC",
        "outputId": "8f0ed755-1f08-406b-b749-280f56ed47df"
      },
      "outputs": [
        {
          "data": {
            "text/plain": [
              "array([[0.28054149, 0.33433262, 0.79731926],\n",
              "       [0.81831155, 0.24264351, 0.60602659],\n",
              "       [0.17313883, 0.31408395, 0.04589798],\n",
              "       [0.50139267, 0.91388757, 0.53377035],\n",
              "       [0.49812968, 0.94692612, 0.82961969]])"
            ]
          },
          "execution_count": 180,
          "metadata": {},
          "output_type": "execute_result"
        }
      ],
      "source": [
        "array_2d"
      ]
    },
    {
      "cell_type": "markdown",
      "metadata": {
        "id": "79ALcS0n69LC"
      },
      "source": [
        "## For 2-D arrays, there are two ways of doing it."
      ]
    },
    {
      "cell_type": "code",
      "execution_count": null,
      "metadata": {
        "id": "Nl-GGH3z69LC",
        "outputId": "d70797ff-f91c-4b59-c381-bc4021455cc5"
      },
      "outputs": [
        {
          "data": {
            "text/plain": [
              "array([0.20656859, 0.88737349, 0.16138217])"
            ]
          },
          "execution_count": 141,
          "metadata": {},
          "output_type": "execute_result"
        }
      ],
      "source": [
        "array_2d[0]"
      ]
    },
    {
      "cell_type": "code",
      "execution_count": null,
      "metadata": {
        "id": "6HL01zr469LC",
        "outputId": "feae696e-416b-4512-df87-cc4a8f13cc9d"
      },
      "outputs": [
        {
          "data": {
            "text/plain": [
              "0.6293898555326345"
            ]
          },
          "execution_count": 143,
          "metadata": {},
          "output_type": "execute_result"
        }
      ],
      "source": [
        "array_2d[4,2]"
      ]
    },
    {
      "cell_type": "code",
      "execution_count": null,
      "metadata": {
        "id": "1q6-zmQJ69LD",
        "outputId": "92901c0d-f3f4-4668-b7b2-90d6823f6401"
      },
      "outputs": [
        {
          "data": {
            "text/plain": [
              "0.6293898555326345"
            ]
          },
          "execution_count": 144,
          "metadata": {},
          "output_type": "execute_result"
        }
      ],
      "source": [
        "array_2d[4][2]"
      ]
    },
    {
      "cell_type": "code",
      "execution_count": null,
      "metadata": {
        "ExecuteTime": {
          "end_time": "2020-06-08T19:46:17.268573Z",
          "start_time": "2020-06-08T19:46:17.265582Z"
        },
        "id": "u60I_-d-69LD"
      },
      "outputs": [],
      "source": [
        "array_3d = np.random.random((5,3,4))"
      ]
    },
    {
      "cell_type": "code",
      "execution_count": null,
      "metadata": {
        "ExecuteTime": {
          "end_time": "2020-06-08T19:46:17.543871Z",
          "start_time": "2020-06-08T19:46:17.539883Z"
        },
        "id": "Wo4ZNbYa69LD",
        "outputId": "98719685-8bbc-496b-b34e-7d1d62243b91"
      },
      "outputs": [
        {
          "data": {
            "text/plain": [
              "array([[[0.40875755, 0.7582361 , 0.22791318, 0.23127454],\n",
              "        [0.42465146, 0.77629681, 0.99403948, 0.77769779],\n",
              "        [0.99879582, 0.03099149, 0.81860559, 0.51580583]],\n",
              "\n",
              "       [[0.57146813, 0.04722416, 0.45294555, 0.18905779],\n",
              "        [0.63467783, 0.51332971, 0.98199648, 0.34920958],\n",
              "        [0.75428446, 0.94564528, 0.13366868, 0.8885225 ]],\n",
              "\n",
              "       [[0.41907688, 0.60010907, 0.06229187, 0.73755725],\n",
              "        [0.97558476, 0.86335351, 0.58920349, 0.26069347],\n",
              "        [0.34961859, 0.11745149, 0.25247048, 0.43084913]],\n",
              "\n",
              "       [[0.79682043, 0.71687694, 0.92731844, 0.23062681],\n",
              "        [0.54101743, 0.32748859, 0.45288333, 0.64504692],\n",
              "        [0.85784955, 0.90623177, 0.90981794, 0.89950035]],\n",
              "\n",
              "       [[0.71955617, 0.96275613, 0.59233063, 0.43989872],\n",
              "        [0.7639781 , 0.7059774 , 0.1005343 , 0.87468855],\n",
              "        [0.23484859, 0.15650071, 0.14615025, 0.73303093]]])"
            ]
          },
          "execution_count": 184,
          "metadata": {},
          "output_type": "execute_result"
        }
      ],
      "source": [
        "array_3d"
      ]
    },
    {
      "cell_type": "code",
      "execution_count": null,
      "metadata": {
        "ExecuteTime": {
          "end_time": "2020-06-08T19:46:31.467984Z",
          "start_time": "2020-06-08T19:46:31.463967Z"
        },
        "id": "YZWfMGvW69LD",
        "outputId": "8536359a-c2da-4ee4-b507-9a7a1a2f8e8e"
      },
      "outputs": [
        {
          "data": {
            "text/plain": [
              "0.23127454342254583"
            ]
          },
          "execution_count": 187,
          "metadata": {},
          "output_type": "execute_result"
        }
      ],
      "source": [
        "array_3d[0,0,-1]"
      ]
    },
    {
      "cell_type": "code",
      "source": [],
      "metadata": {
        "id": "qe2cjyjR7eA9"
      },
      "execution_count": null,
      "outputs": []
    },
    {
      "cell_type": "markdown",
      "metadata": {
        "id": "HPLxiKnZ69LD"
      },
      "source": [
        "# Convertendo para np.array\n",
        "\n",
        "\n"
      ]
    },
    {
      "cell_type": "code",
      "execution_count": null,
      "metadata": {
        "ExecuteTime": {
          "end_time": "2020-06-08T19:47:01.381243Z",
          "start_time": "2020-06-08T19:47:01.377254Z"
        },
        "id": "57eFhQwv69LD",
        "outputId": "5ef02f7a-727f-41a5-8a8a-d58c5d774ca0"
      },
      "outputs": [
        {
          "data": {
            "text/plain": [
              "array([1, 4, 7, 8])"
            ]
          },
          "execution_count": 188,
          "metadata": {},
          "output_type": "execute_result"
        }
      ],
      "source": [
        "lst = [1,4,7,8]\n",
        "np.array(lst)\n"
      ]
    },
    {
      "cell_type": "code",
      "execution_count": null,
      "metadata": {
        "ExecuteTime": {
          "end_time": "2020-06-08T19:47:06.891319Z",
          "start_time": "2020-06-08T19:47:06.886332Z"
        },
        "id": "uoFah0ow69LE",
        "outputId": "77da9c49-0c2e-47e6-f510-fb058064aca1"
      },
      "outputs": [
        {
          "data": {
            "text/plain": [
              "array([[1, 2, 3],\n",
              "       [4, 5, 6],\n",
              "       [7, 8, 9]])"
            ]
          },
          "execution_count": 190,
          "metadata": {},
          "output_type": "execute_result"
        }
      ],
      "source": [
        "list_of_lists = [[1,2,3],[4,5,6],[7,8,9]]\n",
        "array_lst_lst = np.array(list_of_lists)\n",
        "array_lst_lst"
      ]
    },
    {
      "cell_type": "code",
      "execution_count": null,
      "metadata": {
        "ExecuteTime": {
          "end_time": "2020-06-08T19:47:08.636800Z",
          "start_time": "2020-06-08T19:47:08.632811Z"
        },
        "id": "2fsLo-cj69LE",
        "outputId": "ed651a71-4242-4fed-e0aa-374883c389cd"
      },
      "outputs": [
        {
          "data": {
            "text/plain": [
              "3"
            ]
          },
          "execution_count": 191,
          "metadata": {},
          "output_type": "execute_result"
        }
      ],
      "source": [
        "len(list_of_lists)"
      ]
    },
    {
      "cell_type": "code",
      "execution_count": null,
      "metadata": {
        "ExecuteTime": {
          "end_time": "2020-06-08T19:47:09.938759Z",
          "start_time": "2020-06-08T19:47:09.934793Z"
        },
        "id": "PxkQYrG_69LE",
        "outputId": "29cbaa78-2d27-4f68-d512-16d59af94ece"
      },
      "outputs": [
        {
          "data": {
            "text/plain": [
              "(3, 3)"
            ]
          },
          "execution_count": 192,
          "metadata": {},
          "output_type": "execute_result"
        }
      ],
      "source": [
        "array_lst_lst.shape"
      ]
    },
    {
      "cell_type": "code",
      "execution_count": null,
      "metadata": {
        "ExecuteTime": {
          "end_time": "2020-06-08T19:47:10.715284Z",
          "start_time": "2020-06-08T19:47:10.710299Z"
        },
        "id": "CIsKG_mE69LE",
        "outputId": "ffe1934d-b3a1-4352-917d-952f90e20adc"
      },
      "outputs": [
        {
          "data": {
            "text/plain": [
              "[[1, 3, array([5, 6, 8])]]"
            ]
          },
          "execution_count": 193,
          "metadata": {},
          "output_type": "execute_result"
        }
      ],
      "source": [
        "a = [[1,3,np.array([5,6,8])]]\n",
        "a"
      ]
    },
    {
      "cell_type": "code",
      "execution_count": null,
      "metadata": {
        "ExecuteTime": {
          "end_time": "2020-06-08T19:47:32.400644Z",
          "start_time": "2020-06-08T19:47:32.396654Z"
        },
        "id": "j_xlqQxM69LE",
        "outputId": "bb2c6df7-393f-40fc-96fe-1f3a80ae30d5"
      },
      "outputs": [
        {
          "data": {
            "text/plain": [
              "array([1, 3, 5])"
            ]
          },
          "execution_count": 194,
          "metadata": {},
          "output_type": "execute_result"
        }
      ],
      "source": [
        "np.array((1,3,5))"
      ]
    },
    {
      "cell_type": "markdown",
      "metadata": {
        "id": "JK966t9-69LE"
      },
      "source": [
        "# Funções matemáticas"
      ]
    },
    {
      "cell_type": "markdown",
      "metadata": {
        "id": "69pam1xm69LF"
      },
      "source": [
        "## sum"
      ]
    },
    {
      "cell_type": "code",
      "execution_count": null,
      "metadata": {
        "ExecuteTime": {
          "end_time": "2020-06-08T19:49:43.159427Z",
          "start_time": "2020-06-08T19:49:43.155438Z"
        },
        "id": "wJm6cfGD69LF",
        "outputId": "8be0f505-db6a-4f92-cb62-4192f5f579f1"
      },
      "outputs": [
        {
          "data": {
            "text/plain": [
              "array([[8, 7, 1],\n",
              "       [2, 0, 3]])"
            ]
          },
          "execution_count": 210,
          "metadata": {},
          "output_type": "execute_result"
        }
      ],
      "source": [
        "a = np.random.randint(0, 10, size=(2,3))\n",
        "a"
      ]
    },
    {
      "cell_type": "code",
      "execution_count": null,
      "metadata": {
        "ExecuteTime": {
          "end_time": "2020-06-08T19:49:43.872939Z",
          "start_time": "2020-06-08T19:49:43.868975Z"
        },
        "id": "4EKczuuG69LF",
        "outputId": "61b4ee9d-bcbc-4991-d8a5-0f2288c23958"
      },
      "outputs": [
        {
          "data": {
            "text/plain": [
              "(2, 3)"
            ]
          },
          "execution_count": 211,
          "metadata": {},
          "output_type": "execute_result"
        }
      ],
      "source": [
        "a.shape"
      ]
    },
    {
      "cell_type": "code",
      "execution_count": null,
      "metadata": {
        "ExecuteTime": {
          "end_time": "2020-06-08T19:50:07.700326Z",
          "start_time": "2020-06-08T19:50:07.696307Z"
        },
        "id": "jg2pIHec69LF",
        "outputId": "233422b6-9503-4caf-d9a8-5d2802e41aa0"
      },
      "outputs": [
        {
          "data": {
            "text/plain": [
              "21"
            ]
          },
          "execution_count": 214,
          "metadata": {},
          "output_type": "execute_result"
        }
      ],
      "source": [
        "a.sum()"
      ]
    },
    {
      "cell_type": "code",
      "execution_count": null,
      "metadata": {
        "ExecuteTime": {
          "end_time": "2020-06-08T19:55:02.270902Z",
          "start_time": "2020-06-08T19:55:02.265910Z"
        },
        "id": "06dOqb0F69LF",
        "outputId": "c650f6ab-2acf-4c21-bfc1-13be820e7a78"
      },
      "outputs": [
        {
          "data": {
            "text/plain": [
              "array([10,  7,  4])"
            ]
          },
          "execution_count": 216,
          "metadata": {},
          "output_type": "execute_result"
        }
      ],
      "source": [
        "a.sum(axis=0)"
      ]
    },
    {
      "cell_type": "code",
      "execution_count": null,
      "metadata": {
        "ExecuteTime": {
          "end_time": "2020-06-08T19:55:04.949818Z",
          "start_time": "2020-06-08T19:55:04.945828Z"
        },
        "id": "J503yd7_69LF",
        "outputId": "a9d1394d-7c8c-4637-b6e7-b9237fd302a0"
      },
      "outputs": [
        {
          "data": {
            "text/plain": [
              "array([16,  5])"
            ]
          },
          "execution_count": 217,
          "metadata": {},
          "output_type": "execute_result"
        }
      ],
      "source": [
        "a.sum(axis=1)"
      ]
    },
    {
      "cell_type": "code",
      "execution_count": null,
      "metadata": {
        "ExecuteTime": {
          "end_time": "2020-06-08T19:57:22.671175Z",
          "start_time": "2020-06-08T19:57:22.666189Z"
        },
        "id": "a9gb0xzc69LG",
        "outputId": "7bce7a9f-b2b3-45cb-f467-5c8032e35fe3"
      },
      "outputs": [
        {
          "data": {
            "text/plain": [
              "16"
            ]
          },
          "execution_count": 221,
          "metadata": {},
          "output_type": "execute_result"
        }
      ],
      "source": [
        "a[0].sum()"
      ]
    },
    {
      "cell_type": "code",
      "execution_count": null,
      "metadata": {
        "id": "xIWDp2lQ69LG",
        "outputId": "0f2b5b83-8c94-4d8b-ddff-10bc50570b3f"
      },
      "outputs": [
        {
          "data": {
            "text/plain": [
              "68"
            ]
          },
          "execution_count": 221,
          "metadata": {},
          "output_type": "execute_result"
        }
      ],
      "source": [
        "# Sum of all elements in matrix a\n",
        "# Sum of each column in matrix a (sum over rows - dimension 0)\n",
        "# Sum of each row in matrix a (sum over columns - dimension 1)\n",
        "# Sum of all the elements in the first LINE of matrix a\n",
        "\n",
        "a.sum()   # soma \n",
        "\n",
        "a.sum(axis=0)\n",
        "\n",
        "a.sum(axis=1)\n",
        "\n",
        "a[:2].sum()"
      ]
    },
    {
      "cell_type": "markdown",
      "metadata": {
        "id": "rqdt-LiY69LG"
      },
      "source": [
        "-----"
      ]
    },
    {
      "cell_type": "markdown",
      "metadata": {
        "id": "gEhZbxTB69LG"
      },
      "source": [
        "## mean"
      ]
    },
    {
      "cell_type": "code",
      "execution_count": null,
      "metadata": {
        "ExecuteTime": {
          "end_time": "2020-06-08T19:57:55.895458Z",
          "start_time": "2020-06-08T19:57:55.891468Z"
        },
        "id": "QBfl2CFI69LG",
        "outputId": "62bb773f-86f2-4dab-e5bb-df0e84002dc2"
      },
      "outputs": [
        {
          "data": {
            "text/plain": [
              "array([[8, 7, 1],\n",
              "       [2, 0, 3]])"
            ]
          },
          "execution_count": 222,
          "metadata": {},
          "output_type": "execute_result"
        }
      ],
      "source": [
        "a"
      ]
    },
    {
      "cell_type": "code",
      "execution_count": null,
      "metadata": {
        "ExecuteTime": {
          "end_time": "2020-06-08T19:58:04.828802Z",
          "start_time": "2020-06-08T19:58:04.823815Z"
        },
        "id": "hco6UJSa69LG",
        "outputId": "2c4c4ff7-3c3b-4bc2-eb68-2d3e17831567"
      },
      "outputs": [
        {
          "data": {
            "text/plain": [
              "3.5"
            ]
          },
          "execution_count": 223,
          "metadata": {},
          "output_type": "execute_result"
        }
      ],
      "source": [
        "a.sum()/a.size"
      ]
    },
    {
      "cell_type": "code",
      "execution_count": null,
      "metadata": {
        "ExecuteTime": {
          "end_time": "2020-06-08T19:58:06.708193Z",
          "start_time": "2020-06-08T19:58:06.704198Z"
        },
        "id": "Eub02OGd69LH",
        "outputId": "d7e1cb4d-c9da-4804-a989-63aa1f6f3072"
      },
      "outputs": [
        {
          "data": {
            "text/plain": [
              "3.5"
            ]
          },
          "execution_count": 224,
          "metadata": {},
          "output_type": "execute_result"
        }
      ],
      "source": [
        "a.mean()"
      ]
    },
    {
      "cell_type": "code",
      "execution_count": null,
      "metadata": {
        "ExecuteTime": {
          "end_time": "2020-06-08T19:58:16.177775Z",
          "start_time": "2020-06-08T19:58:16.172790Z"
        },
        "id": "KdRGKF4k69LH",
        "outputId": "dcdd5313-49ad-4374-8e80-9a8228bf55e2"
      },
      "outputs": [
        {
          "data": {
            "text/plain": [
              "array([5.33333333, 1.66666667])"
            ]
          },
          "execution_count": 225,
          "metadata": {},
          "output_type": "execute_result"
        }
      ],
      "source": [
        "a.mean(axis=1)"
      ]
    },
    {
      "cell_type": "code",
      "execution_count": null,
      "metadata": {
        "ExecuteTime": {
          "end_time": "2020-06-08T19:58:49.329829Z",
          "start_time": "2020-06-08T19:58:49.324842Z"
        },
        "id": "3zo7KhuA69LH",
        "outputId": "45053ca4-e7de-4506-b988-4ef7adacb366"
      },
      "outputs": [
        {
          "data": {
            "text/plain": [
              "array([5. , 3.5, 2. ])"
            ]
          },
          "execution_count": 226,
          "metadata": {},
          "output_type": "execute_result"
        }
      ],
      "source": [
        "a.mean(axis=0)"
      ]
    },
    {
      "cell_type": "code",
      "execution_count": null,
      "metadata": {
        "ExecuteTime": {
          "end_time": "2020-06-08T19:59:12.233975Z",
          "start_time": "2020-06-08T19:59:12.229985Z"
        },
        "id": "U7Mw-PQB69LH",
        "outputId": "c2c9d092-36f8-4ee9-b217-6812a8f140a9"
      },
      "outputs": [
        {
          "data": {
            "text/plain": [
              "array([[8, 7, 1],\n",
              "       [2, 0, 3]])"
            ]
          },
          "execution_count": 227,
          "metadata": {},
          "output_type": "execute_result"
        }
      ],
      "source": [
        "a"
      ]
    },
    {
      "cell_type": "code",
      "execution_count": null,
      "metadata": {
        "ExecuteTime": {
          "end_time": "2020-06-08T19:59:41.647977Z",
          "start_time": "2020-06-08T19:59:41.643988Z"
        },
        "id": "c7wmYRq069LH",
        "outputId": "3d228f69-6272-4a3b-d0cf-126e2450f18d"
      },
      "outputs": [
        {
          "data": {
            "text/plain": [
              "5.333333333333333"
            ]
          },
          "execution_count": 228,
          "metadata": {},
          "output_type": "execute_result"
        }
      ],
      "source": [
        "# Mean of all elements in matrix a\n",
        "# Mean of each column in matrix a\n",
        "# Mean of each row in matrix a\n",
        "# Mean of all the elements in the first line of matrix a\n",
        "\n",
        "np.mean(a)\n",
        "# np.mean(a).round()\n",
        "\n",
        "np.mean(a, axis=0)\n",
        "\n",
        "a.mean(axis=1)\n",
        "\n",
        "a[0].mean()"
      ]
    },
    {
      "cell_type": "code",
      "execution_count": null,
      "metadata": {
        "ExecuteTime": {
          "end_time": "2020-06-08T19:59:46.231036Z",
          "start_time": "2020-06-08T19:59:46.227048Z"
        },
        "scrolled": true,
        "id": "Dw_HGNpz69LI",
        "outputId": "9e23b683-c991-4251-b450-a4b91dbaea76"
      },
      "outputs": [
        {
          "data": {
            "text/plain": [
              "array([[8, 7, 1],\n",
              "       [2, 0, 3]])"
            ]
          },
          "execution_count": 229,
          "metadata": {},
          "output_type": "execute_result"
        }
      ],
      "source": [
        "a"
      ]
    },
    {
      "cell_type": "code",
      "execution_count": null,
      "metadata": {
        "ExecuteTime": {
          "end_time": "2020-06-08T20:00:27.101209Z",
          "start_time": "2020-06-08T20:00:27.097220Z"
        },
        "id": "TgVrP7C069LI",
        "outputId": "11f639f0-e836-4cbc-c78f-11b1ba1fe036"
      },
      "outputs": [
        {
          "data": {
            "text/plain": [
              "array([[8, 2],\n",
              "       [7, 0],\n",
              "       [1, 3]])"
            ]
          },
          "execution_count": 230,
          "metadata": {},
          "output_type": "execute_result"
        }
      ],
      "source": [
        "a.T"
      ]
    },
    {
      "cell_type": "code",
      "execution_count": null,
      "metadata": {
        "ExecuteTime": {
          "end_time": "2020-06-08T20:00:33.183980Z",
          "start_time": "2020-06-08T20:00:33.179991Z"
        },
        "id": "hbDGp9-q69LI",
        "outputId": "42697a19-8630-4a3d-f003-14cc3fff53a1"
      },
      "outputs": [
        {
          "data": {
            "text/plain": [
              "array([[8, 2],\n",
              "       [7, 0],\n",
              "       [1, 3]])"
            ]
          },
          "execution_count": 231,
          "metadata": {},
          "output_type": "execute_result"
        }
      ],
      "source": [
        "a.transpose()"
      ]
    },
    {
      "cell_type": "markdown",
      "metadata": {
        "id": "JSI0WeEq69LI"
      },
      "source": [
        "# Operações entre np.arrays"
      ]
    },
    {
      "cell_type": "code",
      "execution_count": null,
      "metadata": {
        "ExecuteTime": {
          "end_time": "2020-06-08T20:00:45.461625Z",
          "start_time": "2020-06-08T20:00:45.457636Z"
        },
        "id": "4m1de1sb69LJ",
        "outputId": "e3dcc497-472d-4138-e7f6-fc85d9a0deb0"
      },
      "outputs": [
        {
          "data": {
            "text/plain": [
              "array([[8, 7, 1],\n",
              "       [2, 0, 3]])"
            ]
          },
          "execution_count": 232,
          "metadata": {},
          "output_type": "execute_result"
        }
      ],
      "source": [
        "a"
      ]
    },
    {
      "cell_type": "code",
      "execution_count": null,
      "metadata": {
        "ExecuteTime": {
          "end_time": "2020-06-08T20:00:48.907049Z",
          "start_time": "2020-06-08T20:00:48.904046Z"
        },
        "id": "aY1vhVeR69LJ",
        "outputId": "99d9a28c-25a4-47cb-9860-e17cc26731ae"
      },
      "outputs": [
        {
          "data": {
            "text/plain": [
              "(2, 3)"
            ]
          },
          "execution_count": 233,
          "metadata": {},
          "output_type": "execute_result"
        }
      ],
      "source": [
        "a.shape"
      ]
    },
    {
      "cell_type": "code",
      "execution_count": null,
      "metadata": {
        "ExecuteTime": {
          "end_time": "2020-06-08T20:01:10.934602Z",
          "start_time": "2020-06-08T20:01:10.930638Z"
        },
        "id": "QMhY6XiU69LJ",
        "outputId": "fd184a2b-9602-457d-dc2b-c03e927ab8c5"
      },
      "outputs": [
        {
          "data": {
            "text/plain": [
              "array([[2, 6, 1],\n",
              "       [0, 7, 2]])"
            ]
          },
          "execution_count": 234,
          "metadata": {},
          "output_type": "execute_result"
        }
      ],
      "source": [
        "c = np.random.randint(0,10, size=(2,3))\n",
        "c"
      ]
    },
    {
      "cell_type": "code",
      "execution_count": null,
      "metadata": {
        "ExecuteTime": {
          "end_time": "2020-06-08T20:01:23.003644Z",
          "start_time": "2020-06-08T20:01:22.998657Z"
        },
        "id": "jkWgF19h69LJ",
        "outputId": "a7c3d900-fef7-4719-fa10-ab1a2b483e34"
      },
      "outputs": [
        {
          "data": {
            "text/plain": [
              "array([[10, 13,  2],\n",
              "       [ 2,  7,  5]])"
            ]
          },
          "execution_count": 235,
          "metadata": {},
          "output_type": "execute_result"
        }
      ],
      "source": [
        "a + c"
      ]
    },
    {
      "cell_type": "code",
      "execution_count": null,
      "metadata": {
        "ExecuteTime": {
          "end_time": "2020-06-08T20:01:46.048633Z",
          "start_time": "2020-06-08T20:01:46.044672Z"
        },
        "id": "pLCScVY369LJ",
        "outputId": "b7ea41e7-1abf-4ec8-ae84-c9d9f162b798"
      },
      "outputs": [
        {
          "data": {
            "text/plain": [
              "array([[ 6,  1,  0],\n",
              "       [ 2, -7,  1]])"
            ]
          },
          "execution_count": 236,
          "metadata": {},
          "output_type": "execute_result"
        }
      ],
      "source": [
        "a - c"
      ]
    },
    {
      "cell_type": "code",
      "execution_count": null,
      "metadata": {
        "ExecuteTime": {
          "end_time": "2020-06-08T20:02:15.278857Z",
          "start_time": "2020-06-08T20:02:15.275861Z"
        },
        "id": "IVznx_a169LJ"
      },
      "outputs": [],
      "source": [
        "x = a[0, 0] + c[-1, -1]"
      ]
    },
    {
      "cell_type": "code",
      "execution_count": null,
      "metadata": {
        "ExecuteTime": {
          "end_time": "2020-06-08T20:02:16.551768Z",
          "start_time": "2020-06-08T20:02:16.547807Z"
        },
        "id": "pqQXE3cv69LK",
        "outputId": "30810aaf-9fef-416a-f8b3-4bda65ad6208"
      },
      "outputs": [
        {
          "data": {
            "text/plain": [
              "10"
            ]
          },
          "execution_count": 242,
          "metadata": {},
          "output_type": "execute_result"
        }
      ],
      "source": [
        "x"
      ]
    },
    {
      "cell_type": "code",
      "execution_count": null,
      "metadata": {
        "ExecuteTime": {
          "end_time": "2020-06-08T20:02:36.780560Z",
          "start_time": "2020-06-08T20:02:36.776570Z"
        },
        "id": "4EY6Q85Y69LK",
        "outputId": "71d1db47-48a7-4d4e-8da7-093a290b7836"
      },
      "outputs": [
        {
          "data": {
            "text/plain": [
              "array([[8, 7, 1],\n",
              "       [2, 0, 3]])"
            ]
          },
          "execution_count": 243,
          "metadata": {},
          "output_type": "execute_result"
        }
      ],
      "source": [
        "a"
      ]
    },
    {
      "cell_type": "code",
      "execution_count": null,
      "metadata": {
        "ExecuteTime": {
          "end_time": "2020-06-08T20:02:40.338159Z",
          "start_time": "2020-06-08T20:02:40.335167Z"
        },
        "id": "XrDiaZwa69LK"
      },
      "outputs": [],
      "source": [
        "# Shallow copy\n",
        "b = a "
      ]
    },
    {
      "cell_type": "code",
      "execution_count": null,
      "metadata": {
        "ExecuteTime": {
          "end_time": "2020-06-08T20:03:02.608064Z",
          "start_time": "2020-06-08T20:03:02.604075Z"
        },
        "id": "wd4K3UKw69LK"
      },
      "outputs": [],
      "source": [
        "b[0,0] = 1000"
      ]
    },
    {
      "cell_type": "code",
      "execution_count": null,
      "metadata": {
        "ExecuteTime": {
          "end_time": "2020-06-08T20:03:03.778215Z",
          "start_time": "2020-06-08T20:03:03.775195Z"
        },
        "id": "sjTzHGdm69LK",
        "outputId": "114ed06e-bb34-4502-ac16-b5f44fe23508"
      },
      "outputs": [
        {
          "data": {
            "text/plain": [
              "array([[1000,    7,    1],\n",
              "       [   2,    0,    3]])"
            ]
          },
          "execution_count": 248,
          "metadata": {},
          "output_type": "execute_result"
        }
      ],
      "source": [
        "b"
      ]
    },
    {
      "cell_type": "code",
      "execution_count": null,
      "metadata": {
        "ExecuteTime": {
          "end_time": "2020-06-08T20:03:07.636763Z",
          "start_time": "2020-06-08T20:03:07.631778Z"
        },
        "id": "lNCFqObf69LK",
        "outputId": "4282ba4a-718a-4e9f-ebc3-3f3b94666c27"
      },
      "outputs": [
        {
          "data": {
            "text/plain": [
              "array([[1000,    7,    1],\n",
              "       [   2,    0,    3]])"
            ]
          },
          "execution_count": 249,
          "metadata": {},
          "output_type": "execute_result"
        }
      ],
      "source": [
        "a"
      ]
    },
    {
      "cell_type": "code",
      "execution_count": null,
      "metadata": {
        "ExecuteTime": {
          "end_time": "2020-06-08T20:03:28.342788Z",
          "start_time": "2020-06-08T20:03:28.340759Z"
        },
        "id": "J7CVs67z69LK"
      },
      "outputs": [],
      "source": [
        "# Deep copy\n",
        "b = a.copy()\n",
        "# b = a[:] DOESNT WORK for numpy arrays (as it worked in lists)"
      ]
    },
    {
      "cell_type": "code",
      "execution_count": null,
      "metadata": {
        "ExecuteTime": {
          "end_time": "2020-06-08T20:03:32.100581Z",
          "start_time": "2020-06-08T20:03:32.096565Z"
        },
        "id": "yiOpL-2A69LL",
        "outputId": "9facd0cd-f89c-48b5-b077-5aa3d1cb12dd"
      },
      "outputs": [
        {
          "data": {
            "text/plain": [
              "array([[1000,    7,    1],\n",
              "       [   2,    0,    3]])"
            ]
          },
          "execution_count": 251,
          "metadata": {},
          "output_type": "execute_result"
        }
      ],
      "source": [
        "a"
      ]
    },
    {
      "cell_type": "code",
      "execution_count": null,
      "metadata": {
        "ExecuteTime": {
          "end_time": "2020-06-08T20:03:34.362628Z",
          "start_time": "2020-06-08T20:03:34.358639Z"
        },
        "id": "krnuowDP69LL",
        "outputId": "69d21e9a-05cb-49d1-c68c-9fe485d0cd60"
      },
      "outputs": [
        {
          "data": {
            "text/plain": [
              "array([[1000,    7,    1],\n",
              "       [   2,    0,    3]])"
            ]
          },
          "execution_count": 252,
          "metadata": {},
          "output_type": "execute_result"
        }
      ],
      "source": [
        "b"
      ]
    },
    {
      "cell_type": "code",
      "execution_count": null,
      "metadata": {
        "ExecuteTime": {
          "end_time": "2020-06-08T20:03:42.550119Z",
          "start_time": "2020-06-08T20:03:42.547127Z"
        },
        "id": "-v3WMiHy69LL"
      },
      "outputs": [],
      "source": [
        "b[0,0] = -1"
      ]
    },
    {
      "cell_type": "code",
      "execution_count": null,
      "metadata": {
        "ExecuteTime": {
          "end_time": "2020-06-08T20:03:43.549554Z",
          "start_time": "2020-06-08T20:03:43.545533Z"
        },
        "id": "7mp3qe9S69LL",
        "outputId": "6fbc9b26-a48e-48da-80ef-969919fb2f04"
      },
      "outputs": [
        {
          "data": {
            "text/plain": [
              "array([[-1,  7,  1],\n",
              "       [ 2,  0,  3]])"
            ]
          },
          "execution_count": 254,
          "metadata": {},
          "output_type": "execute_result"
        }
      ],
      "source": [
        "b"
      ]
    },
    {
      "cell_type": "code",
      "execution_count": null,
      "metadata": {
        "ExecuteTime": {
          "end_time": "2020-06-08T20:03:45.409574Z",
          "start_time": "2020-06-08T20:03:45.405568Z"
        },
        "id": "Y2bWDGzq69LL",
        "outputId": "48393e4c-43c6-4ef0-c131-5f77c230cc34"
      },
      "outputs": [
        {
          "data": {
            "text/plain": [
              "array([[1000,    7,    1],\n",
              "       [   2,    0,    3]])"
            ]
          },
          "execution_count": 255,
          "metadata": {},
          "output_type": "execute_result"
        }
      ],
      "source": [
        "a"
      ]
    },
    {
      "cell_type": "code",
      "execution_count": null,
      "metadata": {
        "ExecuteTime": {
          "end_time": "2020-06-08T20:04:05.119071Z",
          "start_time": "2020-06-08T20:04:05.116080Z"
        },
        "id": "1pRxpGUz69LL"
      },
      "outputs": [],
      "source": [
        "b = a[:]"
      ]
    },
    {
      "cell_type": "code",
      "execution_count": null,
      "metadata": {
        "ExecuteTime": {
          "end_time": "2020-06-08T20:04:08.027918Z",
          "start_time": "2020-06-08T20:04:08.023929Z"
        },
        "id": "QtD3q07U69LL",
        "outputId": "deb38aed-9cc5-4dcb-ffa8-be97de27b25e"
      },
      "outputs": [
        {
          "data": {
            "text/plain": [
              "array([[1000,    7,    1],\n",
              "       [   2,    0,    3]])"
            ]
          },
          "execution_count": 257,
          "metadata": {},
          "output_type": "execute_result"
        }
      ],
      "source": [
        "b"
      ]
    },
    {
      "cell_type": "code",
      "execution_count": null,
      "metadata": {
        "ExecuteTime": {
          "end_time": "2020-06-08T20:04:10.956737Z",
          "start_time": "2020-06-08T20:04:10.952748Z"
        },
        "id": "tREqFF4J69LM",
        "outputId": "9206c21f-368b-48ab-cb6d-479559d9179b"
      },
      "outputs": [
        {
          "data": {
            "text/plain": [
              "array([[1000,    7,    1],\n",
              "       [   2,    0,    3]])"
            ]
          },
          "execution_count": 258,
          "metadata": {},
          "output_type": "execute_result"
        }
      ],
      "source": [
        "a"
      ]
    },
    {
      "cell_type": "code",
      "execution_count": null,
      "metadata": {
        "ExecuteTime": {
          "end_time": "2020-06-08T20:04:15.375185Z",
          "start_time": "2020-06-08T20:04:15.372193Z"
        },
        "id": "5yOL7u1V69LM"
      },
      "outputs": [],
      "source": [
        "b[0,0] = -1"
      ]
    },
    {
      "cell_type": "code",
      "execution_count": null,
      "metadata": {
        "ExecuteTime": {
          "end_time": "2020-06-08T20:04:16.256675Z",
          "start_time": "2020-06-08T20:04:16.252687Z"
        },
        "id": "G5dzgHSF69LM",
        "outputId": "f3ecf30d-2688-449e-cb05-64d241b7e8a2"
      },
      "outputs": [
        {
          "data": {
            "text/plain": [
              "array([[-1,  7,  1],\n",
              "       [ 2,  0,  3]])"
            ]
          },
          "execution_count": 260,
          "metadata": {},
          "output_type": "execute_result"
        }
      ],
      "source": [
        "b"
      ]
    },
    {
      "cell_type": "code",
      "execution_count": null,
      "metadata": {
        "ExecuteTime": {
          "end_time": "2020-06-08T20:04:17.346511Z",
          "start_time": "2020-06-08T20:04:17.341497Z"
        },
        "id": "up6w7ApW69LM",
        "outputId": "90401b21-9f43-4f32-eaef-2814fb284ab2"
      },
      "outputs": [
        {
          "data": {
            "text/plain": [
              "array([[-1,  7,  1],\n",
              "       [ 2,  0,  3]])"
            ]
          },
          "execution_count": 261,
          "metadata": {},
          "output_type": "execute_result"
        }
      ],
      "source": [
        "a"
      ]
    },
    {
      "cell_type": "code",
      "execution_count": null,
      "metadata": {
        "ExecuteTime": {
          "end_time": "2020-06-08T20:06:33.663173Z",
          "start_time": "2020-06-08T20:06:33.659184Z"
        },
        "id": "BshJRb0Z69LM",
        "outputId": "6e17366b-4132-4fe6-8583-1f742131366c"
      },
      "outputs": [
        {
          "data": {
            "text/plain": [
              "array([[-1,  7,  1],\n",
              "       [ 2,  0,  3]])"
            ]
          },
          "execution_count": 265,
          "metadata": {},
          "output_type": "execute_result"
        }
      ],
      "source": [
        "a"
      ]
    },
    {
      "cell_type": "code",
      "execution_count": null,
      "metadata": {
        "ExecuteTime": {
          "end_time": "2020-06-08T20:06:23.907398Z",
          "start_time": "2020-06-08T20:06:23.903409Z"
        },
        "id": "XkzDZFvu69LM",
        "outputId": "cd23f2d8-e2cc-49e9-8ec9-392fee50ce12"
      },
      "outputs": [
        {
          "name": "stdout",
          "output_type": "stream",
          "text": [
            "[-1  7  1] -1\n",
            "[-1  7  1] 7\n",
            "[-1  7  1] 1\n",
            "[2 0 3] 2\n",
            "[2 0 3] 0\n",
            "[2 0 3] 3\n"
          ]
        }
      ],
      "source": [
        "for item in a:\n",
        "    for another_item in item:\n",
        "        print(item, another_item)"
      ]
    },
    {
      "cell_type": "code",
      "execution_count": null,
      "metadata": {
        "ExecuteTime": {
          "end_time": "2020-06-08T20:06:55.749317Z",
          "start_time": "2020-06-08T20:06:55.746287Z"
        },
        "id": "O5vJtK6m69LM",
        "outputId": "8efbb5b7-725d-47d1-9b2f-27a33116bed1"
      },
      "outputs": [
        {
          "data": {
            "text/plain": [
              "(2, 3)"
            ]
          },
          "execution_count": 266,
          "metadata": {},
          "output_type": "execute_result"
        }
      ],
      "source": [
        "a.shape"
      ]
    },
    {
      "cell_type": "code",
      "execution_count": null,
      "metadata": {
        "ExecuteTime": {
          "end_time": "2020-06-08T20:08:25.595214Z",
          "start_time": "2020-06-08T20:08:25.591225Z"
        },
        "id": "VVeaFQIa69LN",
        "outputId": "b19e9ea2-db54-41af-8238-26f5aca54432"
      },
      "outputs": [
        {
          "data": {
            "text/plain": [
              "array([[-1,  7,  1],\n",
              "       [ 2,  0,  3]])"
            ]
          },
          "execution_count": 271,
          "metadata": {},
          "output_type": "execute_result"
        }
      ],
      "source": [
        "a"
      ]
    },
    {
      "cell_type": "code",
      "execution_count": null,
      "metadata": {
        "ExecuteTime": {
          "end_time": "2020-06-08T20:09:21.501175Z",
          "start_time": "2020-06-08T20:09:21.497213Z"
        },
        "id": "W4t1gaiy69LN",
        "outputId": "fa81c856-92b1-4a7d-c842-1b1bbfabfd4e"
      },
      "outputs": [
        {
          "name": "stdout",
          "output_type": "stream",
          "text": [
            "0 0 -1\n",
            "0 1 7\n",
            "0 2 1\n",
            "1 0 2\n",
            "1 1 0\n",
            "1 2 3\n"
          ]
        }
      ],
      "source": [
        "for i in range(2):\n",
        "    for j in range(3):\n",
        "        print(i, j, a[i,j])"
      ]
    },
    {
      "cell_type": "markdown",
      "metadata": {
        "id": "nclJVSj069LN"
      },
      "source": [
        "# Realinhando arrays"
      ]
    },
    {
      "cell_type": "code",
      "execution_count": null,
      "metadata": {
        "ExecuteTime": {
          "end_time": "2020-06-08T20:10:11.094437Z",
          "start_time": "2020-06-08T20:10:11.089479Z"
        },
        "id": "mQJ8SE_j69LN",
        "outputId": "cd99b189-ecc0-4cb1-8629-184defef4a4f"
      },
      "outputs": [
        {
          "data": {
            "text/plain": [
              "array([1, 2, 3, 4, 5, 6, 7, 8, 9])"
            ]
          },
          "execution_count": 273,
          "metadata": {},
          "output_type": "execute_result"
        }
      ],
      "source": [
        "a = np.arange(1, 10)\n",
        "a"
      ]
    },
    {
      "cell_type": "code",
      "execution_count": null,
      "metadata": {
        "ExecuteTime": {
          "end_time": "2020-06-08T20:10:22.547959Z",
          "start_time": "2020-06-08T20:10:22.542972Z"
        },
        "id": "FKCc0q5F69LN",
        "outputId": "2b985eb4-966e-41ef-9dc5-7102809e5c19"
      },
      "outputs": [
        {
          "data": {
            "text/plain": [
              "array([[1, 2, 3],\n",
              "       [4, 5, 6],\n",
              "       [7, 8, 9]])"
            ]
          },
          "execution_count": 274,
          "metadata": {},
          "output_type": "execute_result"
        }
      ],
      "source": [
        "a.reshape((3,3))"
      ]
    },
    {
      "cell_type": "markdown",
      "metadata": {
        "id": "lRF8vd1y69LN"
      },
      "source": [
        "# Concatenando"
      ]
    },
    {
      "cell_type": "code",
      "execution_count": null,
      "metadata": {
        "id": "r40llhCd69LN"
      },
      "outputs": [],
      "source": [
        "# in lists: x + y"
      ]
    },
    {
      "cell_type": "code",
      "execution_count": null,
      "metadata": {
        "ExecuteTime": {
          "end_time": "2020-06-08T20:11:54.026150Z",
          "start_time": "2020-06-08T20:11:54.021164Z"
        },
        "id": "fjgsqFPx69LO",
        "outputId": "ea3f922b-2c00-4818-8e56-3cfa244080fa"
      },
      "outputs": [
        {
          "data": {
            "text/plain": [
              "array([1, 2, 3, 3, 2, 1])"
            ]
          },
          "execution_count": 276,
          "metadata": {},
          "output_type": "execute_result"
        }
      ],
      "source": [
        "x = np.array([1, 2, 3])\n",
        "y = np.array([3, 2, 1])\n",
        "\n",
        "np.concatenate([x, y])"
      ]
    },
    {
      "cell_type": "code",
      "execution_count": null,
      "metadata": {
        "ExecuteTime": {
          "end_time": "2020-06-08T20:11:55.585233Z",
          "start_time": "2020-06-08T20:11:55.581273Z"
        },
        "id": "HzNtsdc669LO",
        "outputId": "fd93f7d0-8abd-4f3c-8c98-ad4dfcabb43b"
      },
      "outputs": [
        {
          "data": {
            "text/plain": [
              "array([4, 4, 4])"
            ]
          },
          "execution_count": 277,
          "metadata": {},
          "output_type": "execute_result"
        }
      ],
      "source": [
        "x + y"
      ]
    },
    {
      "cell_type": "code",
      "execution_count": null,
      "metadata": {
        "ExecuteTime": {
          "end_time": "2020-06-08T20:12:33.986045Z",
          "start_time": "2020-06-08T20:12:33.982057Z"
        },
        "id": "4W7cBNqX69LO",
        "outputId": "167b27a5-b952-4887-e360-3df8f0758649"
      },
      "outputs": [
        {
          "data": {
            "text/plain": [
              "(3,)"
            ]
          },
          "execution_count": 280,
          "metadata": {},
          "output_type": "execute_result"
        }
      ],
      "source": [
        "x.shape"
      ]
    }
  ],
  "metadata": {
    "kernelspec": {
      "display_name": "Python 3",
      "language": "python",
      "name": "python3"
    },
    "language_info": {
      "codemirror_mode": {
        "name": "ipython",
        "version": 3
      },
      "file_extension": ".py",
      "mimetype": "text/x-python",
      "name": "python",
      "nbconvert_exporter": "python",
      "pygments_lexer": "ipython3",
      "version": "3.7.3"
    },
    "toc": {
      "base_numbering": 1,
      "nav_menu": {},
      "number_sections": true,
      "sideBar": true,
      "skip_h1_title": false,
      "title_cell": "Table of Contents",
      "title_sidebar": "Contents",
      "toc_cell": false,
      "toc_position": {},
      "toc_section_display": true,
      "toc_window_display": false
    },
    "colab": {
      "provenance": [],
      "include_colab_link": true
    }
  },
  "nbformat": 4,
  "nbformat_minor": 0
}