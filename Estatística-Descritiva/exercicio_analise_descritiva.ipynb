{
  "nbformat": 4,
  "nbformat_minor": 0,
  "metadata": {
    "anaconda-cloud": {},
    "kernelspec": {
      "display_name": "Python 3",
      "language": "python",
      "name": "python3"
    },
    "language_info": {
      "codemirror_mode": {
        "name": "ipython",
        "version": 3
      },
      "file_extension": ".py",
      "mimetype": "text/x-python",
      "name": "python",
      "nbconvert_exporter": "python",
      "pygments_lexer": "ipython3",
      "version": "3.7.2"
    },
    "colab": {
      "provenance": [],
      "collapsed_sections": [
        "GMfSdcnMI1hF",
        "oUnK7iqiI1hH",
        "tbJ9v6KQI1hK",
        "mlA3_P3KI1hP",
        "oU0_bpCQI1hU",
        "9GrVPW6II1hY",
        "oK3JSIZII1hb",
        "kMily2h-I1hf",
        "l-C6OKlEI1hi",
        "Gq6sW6NoI1hm",
        "ps_Yctq7I1hp",
        "-vgEAsGOI1hw",
        "XJaAbw5FI1h1",
        "okrwz0ghI1h4",
        "Y4NfLoR2I1h6",
        "VUvVA_XtI1h8",
        "MCUmuj-WI1iB",
        "yfVQldXWI1iD",
        "qn3yfKMwI1iG",
        "91x1sfBcI1iM",
        "57chrfoJI1iV",
        "mRvvLWgiI1iZ",
        "1jYveA5SI1ib",
        "FKVtNGTkI1in",
        "rv5EP6kFI1iq",
        "iI1oyuinI1it",
        "In63V0qZI1iw",
        "EXvC76guI1iy",
        "hLfsQx9xI1i0",
        "My8Y5wKnI1i3",
        "XTUr4DIuI1i5",
        "E1Nly-DiI1i8",
        "pcwQMS6sI1i_",
        "ctkvBxaDI1jC",
        "vDD6_SWzI1jI"
      ],
      "include_colab_link": true
    }
  },
  "cells": [
    {
      "cell_type": "markdown",
      "metadata": {
        "id": "view-in-github",
        "colab_type": "text"
      },
      "source": [
        "<a href=\"https://colab.research.google.com/github/carolvieirav/Estatistica_Python/blob/main/Estat%C3%ADstica-Descritiva/exercicio_analise_descritiva.ipynb\" target=\"_parent\"><img src=\"https://colab.research.google.com/assets/colab-badge.svg\" alt=\"Open In Colab\"/></a>"
      ]
    },
    {
      "cell_type": "markdown",
      "metadata": {
        "id": "M646rnzUI1gh"
      },
      "source": [
        "# Análise Descritiva\n",
        "\n",
        "   \n",
        "#### Importe todas as bibliotecas necessárias aqui:"
      ]
    },
    {
      "cell_type": "code",
      "metadata": {
        "id": "JFyBgeuzI1gi"
      },
      "source": [
        "# import libraries here"
      ],
      "execution_count": null,
      "outputs": []
    },
    {
      "cell_type": "markdown",
      "metadata": {
        "id": "IL6HxLOXI1gm"
      },
      "source": [
        "# Exercício\n",
        "#### Nesse exercício usaremos o dataset `Temp_States`. \n",
        "\n",
        "#### Primeiro importe o dataset em um dataframe chamado `temp`."
      ]
    },
    {
      "cell_type": "code",
      "metadata": {
        "id": "2BJajSiZI1gm"
      },
      "source": [
        "# seu código aqui"
      ],
      "execution_count": null,
      "outputs": []
    },
    {
      "cell_type": "markdown",
      "metadata": {
        "id": "bXj36NEoI1gp"
      },
      "source": [
        "#### Printe `temp`."
      ]
    },
    {
      "cell_type": "code",
      "metadata": {
        "id": "XS4Rb0VFI1gp"
      },
      "source": [
        "# seu código aqui"
      ],
      "execution_count": null,
      "outputs": []
    },
    {
      "cell_type": "markdown",
      "metadata": {
        "id": "Mg1RnLa5I1gu"
      },
      "source": [
        "#### Explore os tipos de dados do DataFrame `temp`. Que tipo de dados nós temos? Comente sua resposta."
      ]
    },
    {
      "cell_type": "code",
      "metadata": {
        "id": "aFiHCbVpI1gv"
      },
      "source": [
        "# seu código aqui"
      ],
      "execution_count": null,
      "outputs": []
    },
    {
      "cell_type": "code",
      "metadata": {
        "id": "8m2hF1cQI1gy"
      },
      "source": [
        "\"\"\"\n",
        "seu comentário aqui\n",
        "\"\"\""
      ],
      "execution_count": null,
      "outputs": []
    },
    {
      "cell_type": "markdown",
      "metadata": {
        "id": "mT66PPtjI1g2"
      },
      "source": [
        "#### Selecione as linhas onde o estado é New York."
      ]
    },
    {
      "cell_type": "code",
      "metadata": {
        "id": "hhbe_fWsI1g2"
      },
      "source": [
        "# seu código aqui"
      ],
      "execution_count": null,
      "outputs": []
    },
    {
      "cell_type": "markdown",
      "metadata": {
        "id": "JR4BfyLLI1g5"
      },
      "source": [
        "#### Qual é a temperatura média das cidades em New York?"
      ]
    },
    {
      "cell_type": "code",
      "metadata": {
        "id": "m-bHvn6eI1g5"
      },
      "source": [
        "# seu código aqui"
      ],
      "execution_count": null,
      "outputs": []
    },
    {
      "cell_type": "markdown",
      "metadata": {
        "id": "j2QA7d19I1g-"
      },
      "source": [
        "#### Quais estatos e cidades têm a temperatura acima de 15 graus Celsius?"
      ]
    },
    {
      "cell_type": "code",
      "metadata": {
        "id": "Umlf1D7VI1g_"
      },
      "source": [
        "# seu código aqui"
      ],
      "execution_count": null,
      "outputs": []
    },
    {
      "cell_type": "markdown",
      "metadata": {
        "id": "L_Z7FedLI1hC"
      },
      "source": [
        "\n",
        "\n",
        "```\n",
        "# Isto está formatado como código\n",
        "```\n",
        "\n",
        "#### Agora, retorne apenas as cidades que têm temperatura acima de 15 graus Celsius."
      ]
    },
    {
      "cell_type": "code",
      "metadata": {
        "id": "dKFr2DI4I1hC"
      },
      "source": [
        "# seu código aqui"
      ],
      "execution_count": null,
      "outputs": []
    },
    {
      "cell_type": "markdown",
      "metadata": {
        "id": "GMfSdcnMI1hF"
      },
      "source": [
        "#### Quais cidades têm a temperatura acima de 15 graus Celsius e abaixo de 20 graus Celsius?\n",
        "\n",
        "**Dica**: Primeiro, escreva a condição. Depois selecione as linhas."
      ]
    },
    {
      "cell_type": "code",
      "metadata": {
        "id": "9zwjKV78I1hF"
      },
      "source": [
        "# seu código aqui"
      ],
      "execution_count": null,
      "outputs": []
    },
    {
      "cell_type": "markdown",
      "metadata": {
        "id": "oUnK7iqiI1hH"
      },
      "source": [
        "#### Ache a média e o desvio padrão da temperatura de cada estado."
      ]
    },
    {
      "cell_type": "code",
      "metadata": {
        "id": "ks973JY1I1hI"
      },
      "source": [
        "# seu código aqui"
      ],
      "execution_count": null,
      "outputs": []
    }
  ]
}