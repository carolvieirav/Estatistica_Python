{
  "cells": [
    {
      "cell_type": "markdown",
      "metadata": {
        "id": "view-in-github",
        "colab_type": "text"
      },
      "source": [
        "<a href=\"https://colab.research.google.com/github/carolvieirav/Estatistica_Python/blob/main/Estat%C3%ADstica-Descritiva/estatistica_descritiva.ipynb\" target=\"_parent\"><img src=\"https://colab.research.google.com/assets/colab-badge.svg\" alt=\"Open In Colab\"/></a>"
      ]
    },
    {
      "cell_type": "markdown",
      "metadata": {
        "id": "TTyRl7y2CZs9"
      },
      "source": [
        "# Revisão Rápida"
      ]
    },
    {
      "cell_type": "markdown",
      "metadata": {
        "id": "X9M1J9Q2CZs_"
      },
      "source": [
        "- Medidas de Tendência Central --> Sintetizar um dataset através de um único valor\n",
        "    - Moda, Mediana, Media\n",
        "        - Outlier: Media considera tudo e, por isso, é afetada por outliers (o outlier puxa a média pra perto dele)\n",
        "        - Outlier: Mediana considera o ponto do meio do dataset (o lado bom disso é que ela é menos afetada por outliers)\n",
        "                \n",
        "    - Medias geometrica, aritmetica e harmônica\n",
        "        - harmonica: uma média que penaliza valores muito baixos\n",
        "\n",
        "- Medidas de Dispersão\n",
        "    - Range, Desvio Padrão, Variância\n",
        "        - Variância: Informação contida numa variável\n",
        "\n",
        "- Distribuições\n",
        "    - Frequências (histograma)\n",
        "    - kde - Kernel Density Estimation\n",
        "        - Gaussian Distribution\n"
      ]
    },
    {
      "cell_type": "markdown",
      "metadata": {
        "id": "0c9_Rz8wCZs_"
      },
      "source": [
        "# Distribuição Gaussiana\n",
        "> Objetivos: Observar as propriedades da distribuição normal com dados reais."
      ]
    },
    {
      "cell_type": "code",
      "execution_count": 1,
      "metadata": {
        "ExecuteTime": {
          "end_time": "2020-04-06T12:35:38.573709Z",
          "start_time": "2020-04-06T12:35:38.094942Z"
        },
        "id": "DE7bspdzCZtA"
      },
      "outputs": [],
      "source": [
        "import pandas as pd\n",
        "import numpy as np"
      ]
    },
    {
      "cell_type": "code",
      "execution_count": 2,
      "metadata": {
        "ExecuteTime": {
          "end_time": "2020-04-06T12:35:56.871031Z",
          "start_time": "2020-04-06T12:35:56.443599Z"
        },
        "id": "cNwyVRIACZtB"
      },
      "outputs": [],
      "source": [
        "data = pd.read_csv('/content/vehicles_messy.csv', low_memory=False)"
      ]
    },
    {
      "cell_type": "code",
      "execution_count": 3,
      "metadata": {
        "ExecuteTime": {
          "end_time": "2020-04-06T12:36:06.676276Z",
          "start_time": "2020-04-06T12:36:06.652339Z"
        },
        "colab": {
          "base_uri": "https://localhost:8080/",
          "height": 560
        },
        "id": "5xkhLDx4CZtB",
        "outputId": "060747b1-e396-4b0c-9fc7-682c3757b35c"
      },
      "outputs": [
        {
          "output_type": "execute_result",
          "data": {
            "text/plain": [
              "   barrels08  barrelsA08  charge120  charge240  city08  city08U  cityA08  \\\n",
              "0  15.695714         0.0        0.0        0.0      19      0.0        0   \n",
              "1  29.964545         0.0        0.0        0.0       9      0.0        0   \n",
              "2  12.207778         0.0        0.0        0.0      23      0.0        0   \n",
              "3  29.964545         0.0        0.0        0.0      10      0.0        0   \n",
              "4  17.347895         0.0        0.0        0.0      17      0.0        0   \n",
              "\n",
              "   cityA08U  cityCD  cityE  ...  mfrCode  c240Dscr  charge240b  c240bDscr  \\\n",
              "0       0.0     0.0    0.0  ...      NaN       NaN         0.0        NaN   \n",
              "1       0.0     0.0    0.0  ...      NaN       NaN         0.0        NaN   \n",
              "2       0.0     0.0    0.0  ...      NaN       NaN         0.0        NaN   \n",
              "3       0.0     0.0    0.0  ...      NaN       NaN         0.0        NaN   \n",
              "4       0.0     0.0    0.0  ...      NaN       NaN         0.0        NaN   \n",
              "\n",
              "                      createdOn                    modifiedOn  startStop  \\\n",
              "0  Tue Jan 01 00:00:00 EST 2013  Tue Jan 01 00:00:00 EST 2013        NaN   \n",
              "1  Tue Jan 01 00:00:00 EST 2013  Tue Jan 01 00:00:00 EST 2013        NaN   \n",
              "2  Tue Jan 01 00:00:00 EST 2013  Tue Jan 01 00:00:00 EST 2013        NaN   \n",
              "3  Tue Jan 01 00:00:00 EST 2013  Tue Jan 01 00:00:00 EST 2013        NaN   \n",
              "4  Tue Jan 01 00:00:00 EST 2013  Tue Jan 01 00:00:00 EST 2013        NaN   \n",
              "\n",
              "   phevCity  phevHwy  phevComb  \n",
              "0         0        0         0  \n",
              "1         0        0         0  \n",
              "2         0        0         0  \n",
              "3         0        0         0  \n",
              "4         0        0         0  \n",
              "\n",
              "[5 rows x 83 columns]"
            ],
            "text/html": [
              "\n",
              "  <div id=\"df-9e8239e9-27a8-4251-9149-32bbcf993d87\">\n",
              "    <div class=\"colab-df-container\">\n",
              "      <div>\n",
              "<style scoped>\n",
              "    .dataframe tbody tr th:only-of-type {\n",
              "        vertical-align: middle;\n",
              "    }\n",
              "\n",
              "    .dataframe tbody tr th {\n",
              "        vertical-align: top;\n",
              "    }\n",
              "\n",
              "    .dataframe thead th {\n",
              "        text-align: right;\n",
              "    }\n",
              "</style>\n",
              "<table border=\"1\" class=\"dataframe\">\n",
              "  <thead>\n",
              "    <tr style=\"text-align: right;\">\n",
              "      <th></th>\n",
              "      <th>barrels08</th>\n",
              "      <th>barrelsA08</th>\n",
              "      <th>charge120</th>\n",
              "      <th>charge240</th>\n",
              "      <th>city08</th>\n",
              "      <th>city08U</th>\n",
              "      <th>cityA08</th>\n",
              "      <th>cityA08U</th>\n",
              "      <th>cityCD</th>\n",
              "      <th>cityE</th>\n",
              "      <th>...</th>\n",
              "      <th>mfrCode</th>\n",
              "      <th>c240Dscr</th>\n",
              "      <th>charge240b</th>\n",
              "      <th>c240bDscr</th>\n",
              "      <th>createdOn</th>\n",
              "      <th>modifiedOn</th>\n",
              "      <th>startStop</th>\n",
              "      <th>phevCity</th>\n",
              "      <th>phevHwy</th>\n",
              "      <th>phevComb</th>\n",
              "    </tr>\n",
              "  </thead>\n",
              "  <tbody>\n",
              "    <tr>\n",
              "      <th>0</th>\n",
              "      <td>15.695714</td>\n",
              "      <td>0.0</td>\n",
              "      <td>0.0</td>\n",
              "      <td>0.0</td>\n",
              "      <td>19</td>\n",
              "      <td>0.0</td>\n",
              "      <td>0</td>\n",
              "      <td>0.0</td>\n",
              "      <td>0.0</td>\n",
              "      <td>0.0</td>\n",
              "      <td>...</td>\n",
              "      <td>NaN</td>\n",
              "      <td>NaN</td>\n",
              "      <td>0.0</td>\n",
              "      <td>NaN</td>\n",
              "      <td>Tue Jan 01 00:00:00 EST 2013</td>\n",
              "      <td>Tue Jan 01 00:00:00 EST 2013</td>\n",
              "      <td>NaN</td>\n",
              "      <td>0</td>\n",
              "      <td>0</td>\n",
              "      <td>0</td>\n",
              "    </tr>\n",
              "    <tr>\n",
              "      <th>1</th>\n",
              "      <td>29.964545</td>\n",
              "      <td>0.0</td>\n",
              "      <td>0.0</td>\n",
              "      <td>0.0</td>\n",
              "      <td>9</td>\n",
              "      <td>0.0</td>\n",
              "      <td>0</td>\n",
              "      <td>0.0</td>\n",
              "      <td>0.0</td>\n",
              "      <td>0.0</td>\n",
              "      <td>...</td>\n",
              "      <td>NaN</td>\n",
              "      <td>NaN</td>\n",
              "      <td>0.0</td>\n",
              "      <td>NaN</td>\n",
              "      <td>Tue Jan 01 00:00:00 EST 2013</td>\n",
              "      <td>Tue Jan 01 00:00:00 EST 2013</td>\n",
              "      <td>NaN</td>\n",
              "      <td>0</td>\n",
              "      <td>0</td>\n",
              "      <td>0</td>\n",
              "    </tr>\n",
              "    <tr>\n",
              "      <th>2</th>\n",
              "      <td>12.207778</td>\n",
              "      <td>0.0</td>\n",
              "      <td>0.0</td>\n",
              "      <td>0.0</td>\n",
              "      <td>23</td>\n",
              "      <td>0.0</td>\n",
              "      <td>0</td>\n",
              "      <td>0.0</td>\n",
              "      <td>0.0</td>\n",
              "      <td>0.0</td>\n",
              "      <td>...</td>\n",
              "      <td>NaN</td>\n",
              "      <td>NaN</td>\n",
              "      <td>0.0</td>\n",
              "      <td>NaN</td>\n",
              "      <td>Tue Jan 01 00:00:00 EST 2013</td>\n",
              "      <td>Tue Jan 01 00:00:00 EST 2013</td>\n",
              "      <td>NaN</td>\n",
              "      <td>0</td>\n",
              "      <td>0</td>\n",
              "      <td>0</td>\n",
              "    </tr>\n",
              "    <tr>\n",
              "      <th>3</th>\n",
              "      <td>29.964545</td>\n",
              "      <td>0.0</td>\n",
              "      <td>0.0</td>\n",
              "      <td>0.0</td>\n",
              "      <td>10</td>\n",
              "      <td>0.0</td>\n",
              "      <td>0</td>\n",
              "      <td>0.0</td>\n",
              "      <td>0.0</td>\n",
              "      <td>0.0</td>\n",
              "      <td>...</td>\n",
              "      <td>NaN</td>\n",
              "      <td>NaN</td>\n",
              "      <td>0.0</td>\n",
              "      <td>NaN</td>\n",
              "      <td>Tue Jan 01 00:00:00 EST 2013</td>\n",
              "      <td>Tue Jan 01 00:00:00 EST 2013</td>\n",
              "      <td>NaN</td>\n",
              "      <td>0</td>\n",
              "      <td>0</td>\n",
              "      <td>0</td>\n",
              "    </tr>\n",
              "    <tr>\n",
              "      <th>4</th>\n",
              "      <td>17.347895</td>\n",
              "      <td>0.0</td>\n",
              "      <td>0.0</td>\n",
              "      <td>0.0</td>\n",
              "      <td>17</td>\n",
              "      <td>0.0</td>\n",
              "      <td>0</td>\n",
              "      <td>0.0</td>\n",
              "      <td>0.0</td>\n",
              "      <td>0.0</td>\n",
              "      <td>...</td>\n",
              "      <td>NaN</td>\n",
              "      <td>NaN</td>\n",
              "      <td>0.0</td>\n",
              "      <td>NaN</td>\n",
              "      <td>Tue Jan 01 00:00:00 EST 2013</td>\n",
              "      <td>Tue Jan 01 00:00:00 EST 2013</td>\n",
              "      <td>NaN</td>\n",
              "      <td>0</td>\n",
              "      <td>0</td>\n",
              "      <td>0</td>\n",
              "    </tr>\n",
              "  </tbody>\n",
              "</table>\n",
              "<p>5 rows × 83 columns</p>\n",
              "</div>\n",
              "      <button class=\"colab-df-convert\" onclick=\"convertToInteractive('df-9e8239e9-27a8-4251-9149-32bbcf993d87')\"\n",
              "              title=\"Convert this dataframe to an interactive table.\"\n",
              "              style=\"display:none;\">\n",
              "        \n",
              "  <svg xmlns=\"http://www.w3.org/2000/svg\" height=\"24px\"viewBox=\"0 0 24 24\"\n",
              "       width=\"24px\">\n",
              "    <path d=\"M0 0h24v24H0V0z\" fill=\"none\"/>\n",
              "    <path d=\"M18.56 5.44l.94 2.06.94-2.06 2.06-.94-2.06-.94-.94-2.06-.94 2.06-2.06.94zm-11 1L8.5 8.5l.94-2.06 2.06-.94-2.06-.94L8.5 2.5l-.94 2.06-2.06.94zm10 10l.94 2.06.94-2.06 2.06-.94-2.06-.94-.94-2.06-.94 2.06-2.06.94z\"/><path d=\"M17.41 7.96l-1.37-1.37c-.4-.4-.92-.59-1.43-.59-.52 0-1.04.2-1.43.59L10.3 9.45l-7.72 7.72c-.78.78-.78 2.05 0 2.83L4 21.41c.39.39.9.59 1.41.59.51 0 1.02-.2 1.41-.59l7.78-7.78 2.81-2.81c.8-.78.8-2.07 0-2.86zM5.41 20L4 18.59l7.72-7.72 1.47 1.35L5.41 20z\"/>\n",
              "  </svg>\n",
              "      </button>\n",
              "      \n",
              "  <style>\n",
              "    .colab-df-container {\n",
              "      display:flex;\n",
              "      flex-wrap:wrap;\n",
              "      gap: 12px;\n",
              "    }\n",
              "\n",
              "    .colab-df-convert {\n",
              "      background-color: #E8F0FE;\n",
              "      border: none;\n",
              "      border-radius: 50%;\n",
              "      cursor: pointer;\n",
              "      display: none;\n",
              "      fill: #1967D2;\n",
              "      height: 32px;\n",
              "      padding: 0 0 0 0;\n",
              "      width: 32px;\n",
              "    }\n",
              "\n",
              "    .colab-df-convert:hover {\n",
              "      background-color: #E2EBFA;\n",
              "      box-shadow: 0px 1px 2px rgba(60, 64, 67, 0.3), 0px 1px 3px 1px rgba(60, 64, 67, 0.15);\n",
              "      fill: #174EA6;\n",
              "    }\n",
              "\n",
              "    [theme=dark] .colab-df-convert {\n",
              "      background-color: #3B4455;\n",
              "      fill: #D2E3FC;\n",
              "    }\n",
              "\n",
              "    [theme=dark] .colab-df-convert:hover {\n",
              "      background-color: #434B5C;\n",
              "      box-shadow: 0px 1px 3px 1px rgba(0, 0, 0, 0.15);\n",
              "      filter: drop-shadow(0px 1px 2px rgba(0, 0, 0, 0.3));\n",
              "      fill: #FFFFFF;\n",
              "    }\n",
              "  </style>\n",
              "\n",
              "      <script>\n",
              "        const buttonEl =\n",
              "          document.querySelector('#df-9e8239e9-27a8-4251-9149-32bbcf993d87 button.colab-df-convert');\n",
              "        buttonEl.style.display =\n",
              "          google.colab.kernel.accessAllowed ? 'block' : 'none';\n",
              "\n",
              "        async function convertToInteractive(key) {\n",
              "          const element = document.querySelector('#df-9e8239e9-27a8-4251-9149-32bbcf993d87');\n",
              "          const dataTable =\n",
              "            await google.colab.kernel.invokeFunction('convertToInteractive',\n",
              "                                                     [key], {});\n",
              "          if (!dataTable) return;\n",
              "\n",
              "          const docLinkHtml = 'Like what you see? Visit the ' +\n",
              "            '<a target=\"_blank\" href=https://colab.research.google.com/notebooks/data_table.ipynb>data table notebook</a>'\n",
              "            + ' to learn more about interactive tables.';\n",
              "          element.innerHTML = '';\n",
              "          dataTable['output_type'] = 'display_data';\n",
              "          await google.colab.output.renderOutput(dataTable, element);\n",
              "          const docLink = document.createElement('div');\n",
              "          docLink.innerHTML = docLinkHtml;\n",
              "          element.appendChild(docLink);\n",
              "        }\n",
              "      </script>\n",
              "    </div>\n",
              "  </div>\n",
              "  "
            ]
          },
          "metadata": {},
          "execution_count": 3
        }
      ],
      "source": [
        "data.head()"
      ]
    },
    {
      "cell_type": "code",
      "execution_count": 4,
      "metadata": {
        "ExecuteTime": {
          "end_time": "2020-04-06T12:36:15.035797Z",
          "start_time": "2020-04-06T12:36:15.031780Z"
        },
        "colab": {
          "base_uri": "https://localhost:8080/"
        },
        "id": "ux0HlXv1CZtB",
        "outputId": "ac96a0e3-4951-4f93-d547-c2b85e42bd6c"
      },
      "outputs": [
        {
          "output_type": "execute_result",
          "data": {
            "text/plain": [
              "(37843, 83)"
            ]
          },
          "metadata": {},
          "execution_count": 4
        }
      ],
      "source": [
        "data.shape"
      ]
    },
    {
      "cell_type": "code",
      "execution_count": 5,
      "metadata": {
        "ExecuteTime": {
          "end_time": "2020-04-06T12:36:47.880187Z",
          "start_time": "2020-04-06T12:36:47.695681Z"
        },
        "colab": {
          "base_uri": "https://localhost:8080/",
          "height": 394
        },
        "id": "BVauPZ1VCZtB",
        "outputId": "71dec22c-d493-4d2e-c423-ce52e374ebad"
      },
      "outputs": [
        {
          "output_type": "execute_result",
          "data": {
            "text/plain": [
              "          barrels08    barrelsA08  charge120     charge240        city08  \\\n",
              "count  37843.000000  37843.000000    37843.0  37843.000000  37843.000000   \n",
              "mean      17.532506      0.216169        0.0      0.023531     17.941389   \n",
              "std        4.575950      1.141527        0.0      0.427647      6.660360   \n",
              "min        0.060000      0.000000        0.0      0.000000      6.000000   \n",
              "25%       14.330870      0.000000        0.0      0.000000     15.000000   \n",
              "50%       17.347895      0.000000        0.0      0.000000     17.000000   \n",
              "75%       20.600625      0.000000        0.0      0.000000     20.000000   \n",
              "max       47.087143     18.311667        0.0     12.000000    138.000000   \n",
              "\n",
              "            city08U       cityA08      cityA08U        cityCD         cityE  \\\n",
              "count  37843.000000  37843.000000  37843.000000  37843.000000  37843.000000   \n",
              "mean       4.042737      0.520149      0.327163      0.000406      0.184790   \n",
              "std        9.645820      3.837874      3.542596      0.039918      2.904558   \n",
              "min        0.000000      0.000000      0.000000      0.000000      0.000000   \n",
              "25%        0.000000      0.000000      0.000000      0.000000      0.000000   \n",
              "50%        0.000000      0.000000      0.000000      0.000000      0.000000   \n",
              "75%        0.000000      0.000000      0.000000      0.000000      0.000000   \n",
              "max      138.304000    127.000000    127.093000      5.350000    122.000000   \n",
              "\n",
              "       ...         UCity        UCityA      UHighway     UHighwayA  \\\n",
              "count  ...  37843.000000  37843.000000  37843.000000  37843.000000   \n",
              "mean   ...     22.587229      0.652380     33.619221      0.933845   \n",
              "std    ...      9.350163      5.284547     10.048326      6.059456   \n",
              "min    ...      0.000000      0.000000      0.000000      0.000000   \n",
              "25%    ...     18.000000      0.000000     27.100000      0.000000   \n",
              "50%    ...     21.000000      0.000000     33.000000      0.000000   \n",
              "75%    ...     25.139300      0.000000     38.109600      0.000000   \n",
              "max    ...    197.577100    181.560900    159.100000    152.187800   \n",
              "\n",
              "               year  youSaveSpend    charge240b      phevCity       phevHwy  \\\n",
              "count  37843.000000  37843.000000  37843.000000  37843.000000  37843.000000   \n",
              "mean    2000.064398  -2658.999022      0.004360      0.069313      0.068203   \n",
              "std       10.390588   2553.098329      0.142776      1.966806      1.871986   \n",
              "min     1984.000000 -22250.000000      0.000000      0.000000      0.000000   \n",
              "25%     1990.000000  -4250.000000      0.000000      0.000000      0.000000   \n",
              "50%     2001.000000  -2500.000000      0.000000      0.000000      0.000000   \n",
              "75%     2009.000000   -750.000000      0.000000      0.000000      0.000000   \n",
              "max     2017.000000   4000.000000      7.000000     97.000000     79.000000   \n",
              "\n",
              "           phevComb  \n",
              "count  37843.000000  \n",
              "mean       0.068573  \n",
              "std        1.913647  \n",
              "min        0.000000  \n",
              "25%        0.000000  \n",
              "50%        0.000000  \n",
              "75%        0.000000  \n",
              "max       88.000000  \n",
              "\n",
              "[8 rows x 59 columns]"
            ],
            "text/html": [
              "\n",
              "  <div id=\"df-b8512822-74fd-40f1-aef7-0deca79691e8\">\n",
              "    <div class=\"colab-df-container\">\n",
              "      <div>\n",
              "<style scoped>\n",
              "    .dataframe tbody tr th:only-of-type {\n",
              "        vertical-align: middle;\n",
              "    }\n",
              "\n",
              "    .dataframe tbody tr th {\n",
              "        vertical-align: top;\n",
              "    }\n",
              "\n",
              "    .dataframe thead th {\n",
              "        text-align: right;\n",
              "    }\n",
              "</style>\n",
              "<table border=\"1\" class=\"dataframe\">\n",
              "  <thead>\n",
              "    <tr style=\"text-align: right;\">\n",
              "      <th></th>\n",
              "      <th>barrels08</th>\n",
              "      <th>barrelsA08</th>\n",
              "      <th>charge120</th>\n",
              "      <th>charge240</th>\n",
              "      <th>city08</th>\n",
              "      <th>city08U</th>\n",
              "      <th>cityA08</th>\n",
              "      <th>cityA08U</th>\n",
              "      <th>cityCD</th>\n",
              "      <th>cityE</th>\n",
              "      <th>...</th>\n",
              "      <th>UCity</th>\n",
              "      <th>UCityA</th>\n",
              "      <th>UHighway</th>\n",
              "      <th>UHighwayA</th>\n",
              "      <th>year</th>\n",
              "      <th>youSaveSpend</th>\n",
              "      <th>charge240b</th>\n",
              "      <th>phevCity</th>\n",
              "      <th>phevHwy</th>\n",
              "      <th>phevComb</th>\n",
              "    </tr>\n",
              "  </thead>\n",
              "  <tbody>\n",
              "    <tr>\n",
              "      <th>count</th>\n",
              "      <td>37843.000000</td>\n",
              "      <td>37843.000000</td>\n",
              "      <td>37843.0</td>\n",
              "      <td>37843.000000</td>\n",
              "      <td>37843.000000</td>\n",
              "      <td>37843.000000</td>\n",
              "      <td>37843.000000</td>\n",
              "      <td>37843.000000</td>\n",
              "      <td>37843.000000</td>\n",
              "      <td>37843.000000</td>\n",
              "      <td>...</td>\n",
              "      <td>37843.000000</td>\n",
              "      <td>37843.000000</td>\n",
              "      <td>37843.000000</td>\n",
              "      <td>37843.000000</td>\n",
              "      <td>37843.000000</td>\n",
              "      <td>37843.000000</td>\n",
              "      <td>37843.000000</td>\n",
              "      <td>37843.000000</td>\n",
              "      <td>37843.000000</td>\n",
              "      <td>37843.000000</td>\n",
              "    </tr>\n",
              "    <tr>\n",
              "      <th>mean</th>\n",
              "      <td>17.532506</td>\n",
              "      <td>0.216169</td>\n",
              "      <td>0.0</td>\n",
              "      <td>0.023531</td>\n",
              "      <td>17.941389</td>\n",
              "      <td>4.042737</td>\n",
              "      <td>0.520149</td>\n",
              "      <td>0.327163</td>\n",
              "      <td>0.000406</td>\n",
              "      <td>0.184790</td>\n",
              "      <td>...</td>\n",
              "      <td>22.587229</td>\n",
              "      <td>0.652380</td>\n",
              "      <td>33.619221</td>\n",
              "      <td>0.933845</td>\n",
              "      <td>2000.064398</td>\n",
              "      <td>-2658.999022</td>\n",
              "      <td>0.004360</td>\n",
              "      <td>0.069313</td>\n",
              "      <td>0.068203</td>\n",
              "      <td>0.068573</td>\n",
              "    </tr>\n",
              "    <tr>\n",
              "      <th>std</th>\n",
              "      <td>4.575950</td>\n",
              "      <td>1.141527</td>\n",
              "      <td>0.0</td>\n",
              "      <td>0.427647</td>\n",
              "      <td>6.660360</td>\n",
              "      <td>9.645820</td>\n",
              "      <td>3.837874</td>\n",
              "      <td>3.542596</td>\n",
              "      <td>0.039918</td>\n",
              "      <td>2.904558</td>\n",
              "      <td>...</td>\n",
              "      <td>9.350163</td>\n",
              "      <td>5.284547</td>\n",
              "      <td>10.048326</td>\n",
              "      <td>6.059456</td>\n",
              "      <td>10.390588</td>\n",
              "      <td>2553.098329</td>\n",
              "      <td>0.142776</td>\n",
              "      <td>1.966806</td>\n",
              "      <td>1.871986</td>\n",
              "      <td>1.913647</td>\n",
              "    </tr>\n",
              "    <tr>\n",
              "      <th>min</th>\n",
              "      <td>0.060000</td>\n",
              "      <td>0.000000</td>\n",
              "      <td>0.0</td>\n",
              "      <td>0.000000</td>\n",
              "      <td>6.000000</td>\n",
              "      <td>0.000000</td>\n",
              "      <td>0.000000</td>\n",
              "      <td>0.000000</td>\n",
              "      <td>0.000000</td>\n",
              "      <td>0.000000</td>\n",
              "      <td>...</td>\n",
              "      <td>0.000000</td>\n",
              "      <td>0.000000</td>\n",
              "      <td>0.000000</td>\n",
              "      <td>0.000000</td>\n",
              "      <td>1984.000000</td>\n",
              "      <td>-22250.000000</td>\n",
              "      <td>0.000000</td>\n",
              "      <td>0.000000</td>\n",
              "      <td>0.000000</td>\n",
              "      <td>0.000000</td>\n",
              "    </tr>\n",
              "    <tr>\n",
              "      <th>25%</th>\n",
              "      <td>14.330870</td>\n",
              "      <td>0.000000</td>\n",
              "      <td>0.0</td>\n",
              "      <td>0.000000</td>\n",
              "      <td>15.000000</td>\n",
              "      <td>0.000000</td>\n",
              "      <td>0.000000</td>\n",
              "      <td>0.000000</td>\n",
              "      <td>0.000000</td>\n",
              "      <td>0.000000</td>\n",
              "      <td>...</td>\n",
              "      <td>18.000000</td>\n",
              "      <td>0.000000</td>\n",
              "      <td>27.100000</td>\n",
              "      <td>0.000000</td>\n",
              "      <td>1990.000000</td>\n",
              "      <td>-4250.000000</td>\n",
              "      <td>0.000000</td>\n",
              "      <td>0.000000</td>\n",
              "      <td>0.000000</td>\n",
              "      <td>0.000000</td>\n",
              "    </tr>\n",
              "    <tr>\n",
              "      <th>50%</th>\n",
              "      <td>17.347895</td>\n",
              "      <td>0.000000</td>\n",
              "      <td>0.0</td>\n",
              "      <td>0.000000</td>\n",
              "      <td>17.000000</td>\n",
              "      <td>0.000000</td>\n",
              "      <td>0.000000</td>\n",
              "      <td>0.000000</td>\n",
              "      <td>0.000000</td>\n",
              "      <td>0.000000</td>\n",
              "      <td>...</td>\n",
              "      <td>21.000000</td>\n",
              "      <td>0.000000</td>\n",
              "      <td>33.000000</td>\n",
              "      <td>0.000000</td>\n",
              "      <td>2001.000000</td>\n",
              "      <td>-2500.000000</td>\n",
              "      <td>0.000000</td>\n",
              "      <td>0.000000</td>\n",
              "      <td>0.000000</td>\n",
              "      <td>0.000000</td>\n",
              "    </tr>\n",
              "    <tr>\n",
              "      <th>75%</th>\n",
              "      <td>20.600625</td>\n",
              "      <td>0.000000</td>\n",
              "      <td>0.0</td>\n",
              "      <td>0.000000</td>\n",
              "      <td>20.000000</td>\n",
              "      <td>0.000000</td>\n",
              "      <td>0.000000</td>\n",
              "      <td>0.000000</td>\n",
              "      <td>0.000000</td>\n",
              "      <td>0.000000</td>\n",
              "      <td>...</td>\n",
              "      <td>25.139300</td>\n",
              "      <td>0.000000</td>\n",
              "      <td>38.109600</td>\n",
              "      <td>0.000000</td>\n",
              "      <td>2009.000000</td>\n",
              "      <td>-750.000000</td>\n",
              "      <td>0.000000</td>\n",
              "      <td>0.000000</td>\n",
              "      <td>0.000000</td>\n",
              "      <td>0.000000</td>\n",
              "    </tr>\n",
              "    <tr>\n",
              "      <th>max</th>\n",
              "      <td>47.087143</td>\n",
              "      <td>18.311667</td>\n",
              "      <td>0.0</td>\n",
              "      <td>12.000000</td>\n",
              "      <td>138.000000</td>\n",
              "      <td>138.304000</td>\n",
              "      <td>127.000000</td>\n",
              "      <td>127.093000</td>\n",
              "      <td>5.350000</td>\n",
              "      <td>122.000000</td>\n",
              "      <td>...</td>\n",
              "      <td>197.577100</td>\n",
              "      <td>181.560900</td>\n",
              "      <td>159.100000</td>\n",
              "      <td>152.187800</td>\n",
              "      <td>2017.000000</td>\n",
              "      <td>4000.000000</td>\n",
              "      <td>7.000000</td>\n",
              "      <td>97.000000</td>\n",
              "      <td>79.000000</td>\n",
              "      <td>88.000000</td>\n",
              "    </tr>\n",
              "  </tbody>\n",
              "</table>\n",
              "<p>8 rows × 59 columns</p>\n",
              "</div>\n",
              "      <button class=\"colab-df-convert\" onclick=\"convertToInteractive('df-b8512822-74fd-40f1-aef7-0deca79691e8')\"\n",
              "              title=\"Convert this dataframe to an interactive table.\"\n",
              "              style=\"display:none;\">\n",
              "        \n",
              "  <svg xmlns=\"http://www.w3.org/2000/svg\" height=\"24px\"viewBox=\"0 0 24 24\"\n",
              "       width=\"24px\">\n",
              "    <path d=\"M0 0h24v24H0V0z\" fill=\"none\"/>\n",
              "    <path d=\"M18.56 5.44l.94 2.06.94-2.06 2.06-.94-2.06-.94-.94-2.06-.94 2.06-2.06.94zm-11 1L8.5 8.5l.94-2.06 2.06-.94-2.06-.94L8.5 2.5l-.94 2.06-2.06.94zm10 10l.94 2.06.94-2.06 2.06-.94-2.06-.94-.94-2.06-.94 2.06-2.06.94z\"/><path d=\"M17.41 7.96l-1.37-1.37c-.4-.4-.92-.59-1.43-.59-.52 0-1.04.2-1.43.59L10.3 9.45l-7.72 7.72c-.78.78-.78 2.05 0 2.83L4 21.41c.39.39.9.59 1.41.59.51 0 1.02-.2 1.41-.59l7.78-7.78 2.81-2.81c.8-.78.8-2.07 0-2.86zM5.41 20L4 18.59l7.72-7.72 1.47 1.35L5.41 20z\"/>\n",
              "  </svg>\n",
              "      </button>\n",
              "      \n",
              "  <style>\n",
              "    .colab-df-container {\n",
              "      display:flex;\n",
              "      flex-wrap:wrap;\n",
              "      gap: 12px;\n",
              "    }\n",
              "\n",
              "    .colab-df-convert {\n",
              "      background-color: #E8F0FE;\n",
              "      border: none;\n",
              "      border-radius: 50%;\n",
              "      cursor: pointer;\n",
              "      display: none;\n",
              "      fill: #1967D2;\n",
              "      height: 32px;\n",
              "      padding: 0 0 0 0;\n",
              "      width: 32px;\n",
              "    }\n",
              "\n",
              "    .colab-df-convert:hover {\n",
              "      background-color: #E2EBFA;\n",
              "      box-shadow: 0px 1px 2px rgba(60, 64, 67, 0.3), 0px 1px 3px 1px rgba(60, 64, 67, 0.15);\n",
              "      fill: #174EA6;\n",
              "    }\n",
              "\n",
              "    [theme=dark] .colab-df-convert {\n",
              "      background-color: #3B4455;\n",
              "      fill: #D2E3FC;\n",
              "    }\n",
              "\n",
              "    [theme=dark] .colab-df-convert:hover {\n",
              "      background-color: #434B5C;\n",
              "      box-shadow: 0px 1px 3px 1px rgba(0, 0, 0, 0.15);\n",
              "      filter: drop-shadow(0px 1px 2px rgba(0, 0, 0, 0.3));\n",
              "      fill: #FFFFFF;\n",
              "    }\n",
              "  </style>\n",
              "\n",
              "      <script>\n",
              "        const buttonEl =\n",
              "          document.querySelector('#df-b8512822-74fd-40f1-aef7-0deca79691e8 button.colab-df-convert');\n",
              "        buttonEl.style.display =\n",
              "          google.colab.kernel.accessAllowed ? 'block' : 'none';\n",
              "\n",
              "        async function convertToInteractive(key) {\n",
              "          const element = document.querySelector('#df-b8512822-74fd-40f1-aef7-0deca79691e8');\n",
              "          const dataTable =\n",
              "            await google.colab.kernel.invokeFunction('convertToInteractive',\n",
              "                                                     [key], {});\n",
              "          if (!dataTable) return;\n",
              "\n",
              "          const docLinkHtml = 'Like what you see? Visit the ' +\n",
              "            '<a target=\"_blank\" href=https://colab.research.google.com/notebooks/data_table.ipynb>data table notebook</a>'\n",
              "            + ' to learn more about interactive tables.';\n",
              "          element.innerHTML = '';\n",
              "          dataTable['output_type'] = 'display_data';\n",
              "          await google.colab.output.renderOutput(dataTable, element);\n",
              "          const docLink = document.createElement('div');\n",
              "          docLink.innerHTML = docLinkHtml;\n",
              "          element.appendChild(docLink);\n",
              "        }\n",
              "      </script>\n",
              "    </div>\n",
              "  </div>\n",
              "  "
            ]
          },
          "metadata": {},
          "execution_count": 5
        }
      ],
      "source": [
        "data.describe()"
      ]
    },
    {
      "cell_type": "markdown",
      "metadata": {
        "id": "SdWZXdx1CZtC"
      },
      "source": [
        "# Outliers (!)\n"
      ]
    },
    {
      "cell_type": "code",
      "execution_count": 6,
      "metadata": {
        "ExecuteTime": {
          "end_time": "2020-04-06T12:36:57.215210Z",
          "start_time": "2020-04-06T12:36:57.039680Z"
        },
        "scrolled": true,
        "colab": {
          "base_uri": "https://localhost:8080/",
          "height": 1000
        },
        "id": "ZDsqAs04CZtC",
        "outputId": "fa648d55-9ad6-4e55-dfd8-e2269408dcfa"
      },
      "outputs": [
        {
          "output_type": "execute_result",
          "data": {
            "text/plain": [
              "                   count          mean           std       min         25%  \\\n",
              "barrels08        37843.0     17.532506      4.575950      0.06    14.33087   \n",
              "barrelsA08       37843.0      0.216169      1.141527      0.00     0.00000   \n",
              "charge120        37843.0      0.000000      0.000000      0.00     0.00000   \n",
              "charge240        37843.0      0.023531      0.427647      0.00     0.00000   \n",
              "city08           37843.0     17.941389      6.660360      6.00    15.00000   \n",
              "city08U          37843.0      4.042737      9.645820      0.00     0.00000   \n",
              "cityA08          37843.0      0.520149      3.837874      0.00     0.00000   \n",
              "cityA08U         37843.0      0.327163      3.542596      0.00     0.00000   \n",
              "cityCD           37843.0      0.000406      0.039918      0.00     0.00000   \n",
              "cityE            37843.0      0.184790      2.904558      0.00     0.00000   \n",
              "cityUF           37843.0      0.000706      0.019458      0.00     0.00000   \n",
              "co2              37843.0     61.503713    153.387715     -1.00    -1.00000   \n",
              "co2A             37843.0      5.349919     55.539497     -1.00    -1.00000   \n",
              "co2TailpipeAGpm  37843.0     17.771433     94.129283      0.00     0.00000   \n",
              "co2TailpipeGpm   37843.0    473.179736    122.188847      0.00   388.00000   \n",
              "comb08           37843.0     20.195809      6.623444      7.00    17.00000   \n",
              "comb08U          37843.0      4.549751     10.389994      0.00     0.00000   \n",
              "combA08          37843.0      0.581191      3.966255      0.00     0.00000   \n",
              "combA08U         37843.0      0.359027      3.589260      0.00     0.00000   \n",
              "combE            37843.0      0.190575      2.979567      0.00     0.00000   \n",
              "combinedCD       37843.0      0.000335      0.035284      0.00     0.00000   \n",
              "combinedUF       37843.0      0.000691      0.019049      0.00     0.00000   \n",
              "cylinders        37720.0      5.737990      1.751795      2.00     4.00000   \n",
              "displ            37723.0      3.318180      1.361399      0.00     2.20000   \n",
              "engId            37843.0   8860.308961  17829.683477      0.00     0.00000   \n",
              "feScore          37843.0     -0.035145      2.379584     -1.00    -1.00000   \n",
              "fuelCost08       37843.0   1882.060090    510.280408    550.00  1500.00000   \n",
              "fuelCostA08      37843.0     79.070105    417.668580      0.00     0.00000   \n",
              "ghgScore         37843.0     -0.037206      2.374338     -1.00    -1.00000   \n",
              "ghgScoreA        37843.0     -0.929630      0.627565     -1.00    -1.00000   \n",
              "highway08        37843.0     24.104881      6.963192      9.00    20.00000   \n",
              "highway08U       37843.0      5.438467     11.936327      0.00     0.00000   \n",
              "highwayA08       37843.0      0.686891      4.308934      0.00     0.00000   \n",
              "highwayA08U      37843.0      0.418698      3.808877      0.00     0.00000   \n",
              "highwayCD        37843.0      0.000233      0.029564      0.00     0.00000   \n",
              "highwayE         37843.0      0.198247      3.091862      0.00     0.00000   \n",
              "highwayUF        37843.0      0.000673      0.018583      0.00     0.00000   \n",
              "hlv              37843.0      2.026214      5.947989      0.00     0.00000   \n",
              "hpv              37843.0     10.424332     28.148770      0.00     0.00000   \n",
              "id               37843.0  19019.286235  11034.784855      1.00  9461.50000   \n",
              "lv2              37843.0      1.849219      4.429983      0.00     0.00000   \n",
              "lv4              37843.0      6.165658      9.743297      0.00     0.00000   \n",
              "pv2              37843.0     13.696113     31.269930      0.00     0.00000   \n",
              "pv4              37843.0     33.769125     45.914462      0.00     0.00000   \n",
              "range            37843.0      0.392675      8.251191      0.00     0.00000   \n",
              "rangeCity        37843.0      0.352618      8.049082      0.00     0.00000   \n",
              "rangeCityA       37843.0      0.036800      1.158270      0.00     0.00000   \n",
              "rangeHwy         37843.0      0.343399      8.171939      0.00     0.00000   \n",
              "rangeHwyA        37843.0      0.033475      1.032642      0.00     0.00000   \n",
              "UCity            37843.0     22.587229      9.350163      0.00    18.00000   \n",
              "UCityA           37843.0      0.652380      5.284547      0.00     0.00000   \n",
              "UHighway         37843.0     33.619221     10.048326      0.00    27.10000   \n",
              "UHighwayA        37843.0      0.933845      6.059456      0.00     0.00000   \n",
              "year             37843.0   2000.064398     10.390588   1984.00  1990.00000   \n",
              "youSaveSpend     37843.0  -2658.999022   2553.098329 -22250.00 -4250.00000   \n",
              "charge240b       37843.0      0.004360      0.142776      0.00     0.00000   \n",
              "phevCity         37843.0      0.069313      1.966806      0.00     0.00000   \n",
              "phevHwy          37843.0      0.068203      1.871986      0.00     0.00000   \n",
              "phevComb         37843.0      0.068573      1.913647      0.00     0.00000   \n",
              "\n",
              "                          50%           75%           max  \n",
              "barrels08           17.347895     20.600625     47.087143  \n",
              "barrelsA08           0.000000      0.000000     18.311667  \n",
              "charge120            0.000000      0.000000      0.000000  \n",
              "charge240            0.000000      0.000000     12.000000  \n",
              "city08              17.000000     20.000000    138.000000  \n",
              "city08U              0.000000      0.000000    138.304000  \n",
              "cityA08              0.000000      0.000000    127.000000  \n",
              "cityA08U             0.000000      0.000000    127.093000  \n",
              "cityCD               0.000000      0.000000      5.350000  \n",
              "cityE                0.000000      0.000000    122.000000  \n",
              "cityUF               0.000000      0.000000      0.849000  \n",
              "co2                 -1.000000     -1.000000    847.000000  \n",
              "co2A                -1.000000     -1.000000    719.000000  \n",
              "co2TailpipeAGpm      0.000000      0.000000    719.000000  \n",
              "co2TailpipeGpm     467.736842    555.437500   1269.571429  \n",
              "comb08              19.000000     23.000000    124.000000  \n",
              "comb08U              0.000000      0.000000    124.360100  \n",
              "combA08              0.000000      0.000000    117.000000  \n",
              "combA08U             0.000000      0.000000    116.936400  \n",
              "combE                0.000000      0.000000    121.000000  \n",
              "combinedCD           0.000000      0.000000      4.800000  \n",
              "combinedUF           0.000000      0.000000      0.834000  \n",
              "cylinders            6.000000      6.000000     16.000000  \n",
              "displ                3.000000      4.300000      8.400000  \n",
              "engId              211.000000   4505.000000  69102.000000  \n",
              "feScore             -1.000000     -1.000000     10.000000  \n",
              "fuelCost08        1850.000000   2200.000000   5800.000000  \n",
              "fuelCostA08          0.000000      0.000000   3800.000000  \n",
              "ghgScore            -1.000000     -1.000000     10.000000  \n",
              "ghgScoreA           -1.000000     -1.000000      8.000000  \n",
              "highway08           24.000000     27.000000    111.000000  \n",
              "highway08U           0.000000      0.000000    111.370000  \n",
              "highwayA08           0.000000      0.000000    107.000000  \n",
              "highwayA08U          0.000000      0.000000    106.531000  \n",
              "highwayCD            0.000000      0.000000      4.060000  \n",
              "highwayE             0.000000      0.000000    120.000000  \n",
              "highwayUF            0.000000      0.000000      0.813000  \n",
              "hlv                  0.000000      0.000000     49.000000  \n",
              "hpv                  0.000000      0.000000    195.000000  \n",
              "id               18923.000000  28570.500000  38173.000000  \n",
              "lv2                  0.000000      0.000000     41.000000  \n",
              "lv4                  0.000000     13.000000     55.000000  \n",
              "pv2                  0.000000      0.000000    194.000000  \n",
              "pv4                  0.000000     91.000000    192.000000  \n",
              "range                0.000000      0.000000    315.000000  \n",
              "rangeCity            0.000000      0.000000    305.900000  \n",
              "rangeCityA           0.000000      0.000000     77.504000  \n",
              "rangeHwy             0.000000      0.000000    346.900000  \n",
              "rangeHwyA            0.000000      0.000000     65.632000  \n",
              "UCity               21.000000     25.139300    197.577100  \n",
              "UCityA               0.000000      0.000000    181.560900  \n",
              "UHighway            33.000000     38.109600    159.100000  \n",
              "UHighwayA            0.000000      0.000000    152.187800  \n",
              "year              2001.000000   2009.000000   2017.000000  \n",
              "youSaveSpend     -2500.000000   -750.000000   4000.000000  \n",
              "charge240b           0.000000      0.000000      7.000000  \n",
              "phevCity             0.000000      0.000000     97.000000  \n",
              "phevHwy              0.000000      0.000000     79.000000  \n",
              "phevComb             0.000000      0.000000     88.000000  "
            ],
            "text/html": [
              "\n",
              "  <div id=\"df-024018d5-d85a-4960-afac-2ef33876b68b\">\n",
              "    <div class=\"colab-df-container\">\n",
              "      <div>\n",
              "<style scoped>\n",
              "    .dataframe tbody tr th:only-of-type {\n",
              "        vertical-align: middle;\n",
              "    }\n",
              "\n",
              "    .dataframe tbody tr th {\n",
              "        vertical-align: top;\n",
              "    }\n",
              "\n",
              "    .dataframe thead th {\n",
              "        text-align: right;\n",
              "    }\n",
              "</style>\n",
              "<table border=\"1\" class=\"dataframe\">\n",
              "  <thead>\n",
              "    <tr style=\"text-align: right;\">\n",
              "      <th></th>\n",
              "      <th>count</th>\n",
              "      <th>mean</th>\n",
              "      <th>std</th>\n",
              "      <th>min</th>\n",
              "      <th>25%</th>\n",
              "      <th>50%</th>\n",
              "      <th>75%</th>\n",
              "      <th>max</th>\n",
              "    </tr>\n",
              "  </thead>\n",
              "  <tbody>\n",
              "    <tr>\n",
              "      <th>barrels08</th>\n",
              "      <td>37843.0</td>\n",
              "      <td>17.532506</td>\n",
              "      <td>4.575950</td>\n",
              "      <td>0.06</td>\n",
              "      <td>14.33087</td>\n",
              "      <td>17.347895</td>\n",
              "      <td>20.600625</td>\n",
              "      <td>47.087143</td>\n",
              "    </tr>\n",
              "    <tr>\n",
              "      <th>barrelsA08</th>\n",
              "      <td>37843.0</td>\n",
              "      <td>0.216169</td>\n",
              "      <td>1.141527</td>\n",
              "      <td>0.00</td>\n",
              "      <td>0.00000</td>\n",
              "      <td>0.000000</td>\n",
              "      <td>0.000000</td>\n",
              "      <td>18.311667</td>\n",
              "    </tr>\n",
              "    <tr>\n",
              "      <th>charge120</th>\n",
              "      <td>37843.0</td>\n",
              "      <td>0.000000</td>\n",
              "      <td>0.000000</td>\n",
              "      <td>0.00</td>\n",
              "      <td>0.00000</td>\n",
              "      <td>0.000000</td>\n",
              "      <td>0.000000</td>\n",
              "      <td>0.000000</td>\n",
              "    </tr>\n",
              "    <tr>\n",
              "      <th>charge240</th>\n",
              "      <td>37843.0</td>\n",
              "      <td>0.023531</td>\n",
              "      <td>0.427647</td>\n",
              "      <td>0.00</td>\n",
              "      <td>0.00000</td>\n",
              "      <td>0.000000</td>\n",
              "      <td>0.000000</td>\n",
              "      <td>12.000000</td>\n",
              "    </tr>\n",
              "    <tr>\n",
              "      <th>city08</th>\n",
              "      <td>37843.0</td>\n",
              "      <td>17.941389</td>\n",
              "      <td>6.660360</td>\n",
              "      <td>6.00</td>\n",
              "      <td>15.00000</td>\n",
              "      <td>17.000000</td>\n",
              "      <td>20.000000</td>\n",
              "      <td>138.000000</td>\n",
              "    </tr>\n",
              "    <tr>\n",
              "      <th>city08U</th>\n",
              "      <td>37843.0</td>\n",
              "      <td>4.042737</td>\n",
              "      <td>9.645820</td>\n",
              "      <td>0.00</td>\n",
              "      <td>0.00000</td>\n",
              "      <td>0.000000</td>\n",
              "      <td>0.000000</td>\n",
              "      <td>138.304000</td>\n",
              "    </tr>\n",
              "    <tr>\n",
              "      <th>cityA08</th>\n",
              "      <td>37843.0</td>\n",
              "      <td>0.520149</td>\n",
              "      <td>3.837874</td>\n",
              "      <td>0.00</td>\n",
              "      <td>0.00000</td>\n",
              "      <td>0.000000</td>\n",
              "      <td>0.000000</td>\n",
              "      <td>127.000000</td>\n",
              "    </tr>\n",
              "    <tr>\n",
              "      <th>cityA08U</th>\n",
              "      <td>37843.0</td>\n",
              "      <td>0.327163</td>\n",
              "      <td>3.542596</td>\n",
              "      <td>0.00</td>\n",
              "      <td>0.00000</td>\n",
              "      <td>0.000000</td>\n",
              "      <td>0.000000</td>\n",
              "      <td>127.093000</td>\n",
              "    </tr>\n",
              "    <tr>\n",
              "      <th>cityCD</th>\n",
              "      <td>37843.0</td>\n",
              "      <td>0.000406</td>\n",
              "      <td>0.039918</td>\n",
              "      <td>0.00</td>\n",
              "      <td>0.00000</td>\n",
              "      <td>0.000000</td>\n",
              "      <td>0.000000</td>\n",
              "      <td>5.350000</td>\n",
              "    </tr>\n",
              "    <tr>\n",
              "      <th>cityE</th>\n",
              "      <td>37843.0</td>\n",
              "      <td>0.184790</td>\n",
              "      <td>2.904558</td>\n",
              "      <td>0.00</td>\n",
              "      <td>0.00000</td>\n",
              "      <td>0.000000</td>\n",
              "      <td>0.000000</td>\n",
              "      <td>122.000000</td>\n",
              "    </tr>\n",
              "    <tr>\n",
              "      <th>cityUF</th>\n",
              "      <td>37843.0</td>\n",
              "      <td>0.000706</td>\n",
              "      <td>0.019458</td>\n",
              "      <td>0.00</td>\n",
              "      <td>0.00000</td>\n",
              "      <td>0.000000</td>\n",
              "      <td>0.000000</td>\n",
              "      <td>0.849000</td>\n",
              "    </tr>\n",
              "    <tr>\n",
              "      <th>co2</th>\n",
              "      <td>37843.0</td>\n",
              "      <td>61.503713</td>\n",
              "      <td>153.387715</td>\n",
              "      <td>-1.00</td>\n",
              "      <td>-1.00000</td>\n",
              "      <td>-1.000000</td>\n",
              "      <td>-1.000000</td>\n",
              "      <td>847.000000</td>\n",
              "    </tr>\n",
              "    <tr>\n",
              "      <th>co2A</th>\n",
              "      <td>37843.0</td>\n",
              "      <td>5.349919</td>\n",
              "      <td>55.539497</td>\n",
              "      <td>-1.00</td>\n",
              "      <td>-1.00000</td>\n",
              "      <td>-1.000000</td>\n",
              "      <td>-1.000000</td>\n",
              "      <td>719.000000</td>\n",
              "    </tr>\n",
              "    <tr>\n",
              "      <th>co2TailpipeAGpm</th>\n",
              "      <td>37843.0</td>\n",
              "      <td>17.771433</td>\n",
              "      <td>94.129283</td>\n",
              "      <td>0.00</td>\n",
              "      <td>0.00000</td>\n",
              "      <td>0.000000</td>\n",
              "      <td>0.000000</td>\n",
              "      <td>719.000000</td>\n",
              "    </tr>\n",
              "    <tr>\n",
              "      <th>co2TailpipeGpm</th>\n",
              "      <td>37843.0</td>\n",
              "      <td>473.179736</td>\n",
              "      <td>122.188847</td>\n",
              "      <td>0.00</td>\n",
              "      <td>388.00000</td>\n",
              "      <td>467.736842</td>\n",
              "      <td>555.437500</td>\n",
              "      <td>1269.571429</td>\n",
              "    </tr>\n",
              "    <tr>\n",
              "      <th>comb08</th>\n",
              "      <td>37843.0</td>\n",
              "      <td>20.195809</td>\n",
              "      <td>6.623444</td>\n",
              "      <td>7.00</td>\n",
              "      <td>17.00000</td>\n",
              "      <td>19.000000</td>\n",
              "      <td>23.000000</td>\n",
              "      <td>124.000000</td>\n",
              "    </tr>\n",
              "    <tr>\n",
              "      <th>comb08U</th>\n",
              "      <td>37843.0</td>\n",
              "      <td>4.549751</td>\n",
              "      <td>10.389994</td>\n",
              "      <td>0.00</td>\n",
              "      <td>0.00000</td>\n",
              "      <td>0.000000</td>\n",
              "      <td>0.000000</td>\n",
              "      <td>124.360100</td>\n",
              "    </tr>\n",
              "    <tr>\n",
              "      <th>combA08</th>\n",
              "      <td>37843.0</td>\n",
              "      <td>0.581191</td>\n",
              "      <td>3.966255</td>\n",
              "      <td>0.00</td>\n",
              "      <td>0.00000</td>\n",
              "      <td>0.000000</td>\n",
              "      <td>0.000000</td>\n",
              "      <td>117.000000</td>\n",
              "    </tr>\n",
              "    <tr>\n",
              "      <th>combA08U</th>\n",
              "      <td>37843.0</td>\n",
              "      <td>0.359027</td>\n",
              "      <td>3.589260</td>\n",
              "      <td>0.00</td>\n",
              "      <td>0.00000</td>\n",
              "      <td>0.000000</td>\n",
              "      <td>0.000000</td>\n",
              "      <td>116.936400</td>\n",
              "    </tr>\n",
              "    <tr>\n",
              "      <th>combE</th>\n",
              "      <td>37843.0</td>\n",
              "      <td>0.190575</td>\n",
              "      <td>2.979567</td>\n",
              "      <td>0.00</td>\n",
              "      <td>0.00000</td>\n",
              "      <td>0.000000</td>\n",
              "      <td>0.000000</td>\n",
              "      <td>121.000000</td>\n",
              "    </tr>\n",
              "    <tr>\n",
              "      <th>combinedCD</th>\n",
              "      <td>37843.0</td>\n",
              "      <td>0.000335</td>\n",
              "      <td>0.035284</td>\n",
              "      <td>0.00</td>\n",
              "      <td>0.00000</td>\n",
              "      <td>0.000000</td>\n",
              "      <td>0.000000</td>\n",
              "      <td>4.800000</td>\n",
              "    </tr>\n",
              "    <tr>\n",
              "      <th>combinedUF</th>\n",
              "      <td>37843.0</td>\n",
              "      <td>0.000691</td>\n",
              "      <td>0.019049</td>\n",
              "      <td>0.00</td>\n",
              "      <td>0.00000</td>\n",
              "      <td>0.000000</td>\n",
              "      <td>0.000000</td>\n",
              "      <td>0.834000</td>\n",
              "    </tr>\n",
              "    <tr>\n",
              "      <th>cylinders</th>\n",
              "      <td>37720.0</td>\n",
              "      <td>5.737990</td>\n",
              "      <td>1.751795</td>\n",
              "      <td>2.00</td>\n",
              "      <td>4.00000</td>\n",
              "      <td>6.000000</td>\n",
              "      <td>6.000000</td>\n",
              "      <td>16.000000</td>\n",
              "    </tr>\n",
              "    <tr>\n",
              "      <th>displ</th>\n",
              "      <td>37723.0</td>\n",
              "      <td>3.318180</td>\n",
              "      <td>1.361399</td>\n",
              "      <td>0.00</td>\n",
              "      <td>2.20000</td>\n",
              "      <td>3.000000</td>\n",
              "      <td>4.300000</td>\n",
              "      <td>8.400000</td>\n",
              "    </tr>\n",
              "    <tr>\n",
              "      <th>engId</th>\n",
              "      <td>37843.0</td>\n",
              "      <td>8860.308961</td>\n",
              "      <td>17829.683477</td>\n",
              "      <td>0.00</td>\n",
              "      <td>0.00000</td>\n",
              "      <td>211.000000</td>\n",
              "      <td>4505.000000</td>\n",
              "      <td>69102.000000</td>\n",
              "    </tr>\n",
              "    <tr>\n",
              "      <th>feScore</th>\n",
              "      <td>37843.0</td>\n",
              "      <td>-0.035145</td>\n",
              "      <td>2.379584</td>\n",
              "      <td>-1.00</td>\n",
              "      <td>-1.00000</td>\n",
              "      <td>-1.000000</td>\n",
              "      <td>-1.000000</td>\n",
              "      <td>10.000000</td>\n",
              "    </tr>\n",
              "    <tr>\n",
              "      <th>fuelCost08</th>\n",
              "      <td>37843.0</td>\n",
              "      <td>1882.060090</td>\n",
              "      <td>510.280408</td>\n",
              "      <td>550.00</td>\n",
              "      <td>1500.00000</td>\n",
              "      <td>1850.000000</td>\n",
              "      <td>2200.000000</td>\n",
              "      <td>5800.000000</td>\n",
              "    </tr>\n",
              "    <tr>\n",
              "      <th>fuelCostA08</th>\n",
              "      <td>37843.0</td>\n",
              "      <td>79.070105</td>\n",
              "      <td>417.668580</td>\n",
              "      <td>0.00</td>\n",
              "      <td>0.00000</td>\n",
              "      <td>0.000000</td>\n",
              "      <td>0.000000</td>\n",
              "      <td>3800.000000</td>\n",
              "    </tr>\n",
              "    <tr>\n",
              "      <th>ghgScore</th>\n",
              "      <td>37843.0</td>\n",
              "      <td>-0.037206</td>\n",
              "      <td>2.374338</td>\n",
              "      <td>-1.00</td>\n",
              "      <td>-1.00000</td>\n",
              "      <td>-1.000000</td>\n",
              "      <td>-1.000000</td>\n",
              "      <td>10.000000</td>\n",
              "    </tr>\n",
              "    <tr>\n",
              "      <th>ghgScoreA</th>\n",
              "      <td>37843.0</td>\n",
              "      <td>-0.929630</td>\n",
              "      <td>0.627565</td>\n",
              "      <td>-1.00</td>\n",
              "      <td>-1.00000</td>\n",
              "      <td>-1.000000</td>\n",
              "      <td>-1.000000</td>\n",
              "      <td>8.000000</td>\n",
              "    </tr>\n",
              "    <tr>\n",
              "      <th>highway08</th>\n",
              "      <td>37843.0</td>\n",
              "      <td>24.104881</td>\n",
              "      <td>6.963192</td>\n",
              "      <td>9.00</td>\n",
              "      <td>20.00000</td>\n",
              "      <td>24.000000</td>\n",
              "      <td>27.000000</td>\n",
              "      <td>111.000000</td>\n",
              "    </tr>\n",
              "    <tr>\n",
              "      <th>highway08U</th>\n",
              "      <td>37843.0</td>\n",
              "      <td>5.438467</td>\n",
              "      <td>11.936327</td>\n",
              "      <td>0.00</td>\n",
              "      <td>0.00000</td>\n",
              "      <td>0.000000</td>\n",
              "      <td>0.000000</td>\n",
              "      <td>111.370000</td>\n",
              "    </tr>\n",
              "    <tr>\n",
              "      <th>highwayA08</th>\n",
              "      <td>37843.0</td>\n",
              "      <td>0.686891</td>\n",
              "      <td>4.308934</td>\n",
              "      <td>0.00</td>\n",
              "      <td>0.00000</td>\n",
              "      <td>0.000000</td>\n",
              "      <td>0.000000</td>\n",
              "      <td>107.000000</td>\n",
              "    </tr>\n",
              "    <tr>\n",
              "      <th>highwayA08U</th>\n",
              "      <td>37843.0</td>\n",
              "      <td>0.418698</td>\n",
              "      <td>3.808877</td>\n",
              "      <td>0.00</td>\n",
              "      <td>0.00000</td>\n",
              "      <td>0.000000</td>\n",
              "      <td>0.000000</td>\n",
              "      <td>106.531000</td>\n",
              "    </tr>\n",
              "    <tr>\n",
              "      <th>highwayCD</th>\n",
              "      <td>37843.0</td>\n",
              "      <td>0.000233</td>\n",
              "      <td>0.029564</td>\n",
              "      <td>0.00</td>\n",
              "      <td>0.00000</td>\n",
              "      <td>0.000000</td>\n",
              "      <td>0.000000</td>\n",
              "      <td>4.060000</td>\n",
              "    </tr>\n",
              "    <tr>\n",
              "      <th>highwayE</th>\n",
              "      <td>37843.0</td>\n",
              "      <td>0.198247</td>\n",
              "      <td>3.091862</td>\n",
              "      <td>0.00</td>\n",
              "      <td>0.00000</td>\n",
              "      <td>0.000000</td>\n",
              "      <td>0.000000</td>\n",
              "      <td>120.000000</td>\n",
              "    </tr>\n",
              "    <tr>\n",
              "      <th>highwayUF</th>\n",
              "      <td>37843.0</td>\n",
              "      <td>0.000673</td>\n",
              "      <td>0.018583</td>\n",
              "      <td>0.00</td>\n",
              "      <td>0.00000</td>\n",
              "      <td>0.000000</td>\n",
              "      <td>0.000000</td>\n",
              "      <td>0.813000</td>\n",
              "    </tr>\n",
              "    <tr>\n",
              "      <th>hlv</th>\n",
              "      <td>37843.0</td>\n",
              "      <td>2.026214</td>\n",
              "      <td>5.947989</td>\n",
              "      <td>0.00</td>\n",
              "      <td>0.00000</td>\n",
              "      <td>0.000000</td>\n",
              "      <td>0.000000</td>\n",
              "      <td>49.000000</td>\n",
              "    </tr>\n",
              "    <tr>\n",
              "      <th>hpv</th>\n",
              "      <td>37843.0</td>\n",
              "      <td>10.424332</td>\n",
              "      <td>28.148770</td>\n",
              "      <td>0.00</td>\n",
              "      <td>0.00000</td>\n",
              "      <td>0.000000</td>\n",
              "      <td>0.000000</td>\n",
              "      <td>195.000000</td>\n",
              "    </tr>\n",
              "    <tr>\n",
              "      <th>id</th>\n",
              "      <td>37843.0</td>\n",
              "      <td>19019.286235</td>\n",
              "      <td>11034.784855</td>\n",
              "      <td>1.00</td>\n",
              "      <td>9461.50000</td>\n",
              "      <td>18923.000000</td>\n",
              "      <td>28570.500000</td>\n",
              "      <td>38173.000000</td>\n",
              "    </tr>\n",
              "    <tr>\n",
              "      <th>lv2</th>\n",
              "      <td>37843.0</td>\n",
              "      <td>1.849219</td>\n",
              "      <td>4.429983</td>\n",
              "      <td>0.00</td>\n",
              "      <td>0.00000</td>\n",
              "      <td>0.000000</td>\n",
              "      <td>0.000000</td>\n",
              "      <td>41.000000</td>\n",
              "    </tr>\n",
              "    <tr>\n",
              "      <th>lv4</th>\n",
              "      <td>37843.0</td>\n",
              "      <td>6.165658</td>\n",
              "      <td>9.743297</td>\n",
              "      <td>0.00</td>\n",
              "      <td>0.00000</td>\n",
              "      <td>0.000000</td>\n",
              "      <td>13.000000</td>\n",
              "      <td>55.000000</td>\n",
              "    </tr>\n",
              "    <tr>\n",
              "      <th>pv2</th>\n",
              "      <td>37843.0</td>\n",
              "      <td>13.696113</td>\n",
              "      <td>31.269930</td>\n",
              "      <td>0.00</td>\n",
              "      <td>0.00000</td>\n",
              "      <td>0.000000</td>\n",
              "      <td>0.000000</td>\n",
              "      <td>194.000000</td>\n",
              "    </tr>\n",
              "    <tr>\n",
              "      <th>pv4</th>\n",
              "      <td>37843.0</td>\n",
              "      <td>33.769125</td>\n",
              "      <td>45.914462</td>\n",
              "      <td>0.00</td>\n",
              "      <td>0.00000</td>\n",
              "      <td>0.000000</td>\n",
              "      <td>91.000000</td>\n",
              "      <td>192.000000</td>\n",
              "    </tr>\n",
              "    <tr>\n",
              "      <th>range</th>\n",
              "      <td>37843.0</td>\n",
              "      <td>0.392675</td>\n",
              "      <td>8.251191</td>\n",
              "      <td>0.00</td>\n",
              "      <td>0.00000</td>\n",
              "      <td>0.000000</td>\n",
              "      <td>0.000000</td>\n",
              "      <td>315.000000</td>\n",
              "    </tr>\n",
              "    <tr>\n",
              "      <th>rangeCity</th>\n",
              "      <td>37843.0</td>\n",
              "      <td>0.352618</td>\n",
              "      <td>8.049082</td>\n",
              "      <td>0.00</td>\n",
              "      <td>0.00000</td>\n",
              "      <td>0.000000</td>\n",
              "      <td>0.000000</td>\n",
              "      <td>305.900000</td>\n",
              "    </tr>\n",
              "    <tr>\n",
              "      <th>rangeCityA</th>\n",
              "      <td>37843.0</td>\n",
              "      <td>0.036800</td>\n",
              "      <td>1.158270</td>\n",
              "      <td>0.00</td>\n",
              "      <td>0.00000</td>\n",
              "      <td>0.000000</td>\n",
              "      <td>0.000000</td>\n",
              "      <td>77.504000</td>\n",
              "    </tr>\n",
              "    <tr>\n",
              "      <th>rangeHwy</th>\n",
              "      <td>37843.0</td>\n",
              "      <td>0.343399</td>\n",
              "      <td>8.171939</td>\n",
              "      <td>0.00</td>\n",
              "      <td>0.00000</td>\n",
              "      <td>0.000000</td>\n",
              "      <td>0.000000</td>\n",
              "      <td>346.900000</td>\n",
              "    </tr>\n",
              "    <tr>\n",
              "      <th>rangeHwyA</th>\n",
              "      <td>37843.0</td>\n",
              "      <td>0.033475</td>\n",
              "      <td>1.032642</td>\n",
              "      <td>0.00</td>\n",
              "      <td>0.00000</td>\n",
              "      <td>0.000000</td>\n",
              "      <td>0.000000</td>\n",
              "      <td>65.632000</td>\n",
              "    </tr>\n",
              "    <tr>\n",
              "      <th>UCity</th>\n",
              "      <td>37843.0</td>\n",
              "      <td>22.587229</td>\n",
              "      <td>9.350163</td>\n",
              "      <td>0.00</td>\n",
              "      <td>18.00000</td>\n",
              "      <td>21.000000</td>\n",
              "      <td>25.139300</td>\n",
              "      <td>197.577100</td>\n",
              "    </tr>\n",
              "    <tr>\n",
              "      <th>UCityA</th>\n",
              "      <td>37843.0</td>\n",
              "      <td>0.652380</td>\n",
              "      <td>5.284547</td>\n",
              "      <td>0.00</td>\n",
              "      <td>0.00000</td>\n",
              "      <td>0.000000</td>\n",
              "      <td>0.000000</td>\n",
              "      <td>181.560900</td>\n",
              "    </tr>\n",
              "    <tr>\n",
              "      <th>UHighway</th>\n",
              "      <td>37843.0</td>\n",
              "      <td>33.619221</td>\n",
              "      <td>10.048326</td>\n",
              "      <td>0.00</td>\n",
              "      <td>27.10000</td>\n",
              "      <td>33.000000</td>\n",
              "      <td>38.109600</td>\n",
              "      <td>159.100000</td>\n",
              "    </tr>\n",
              "    <tr>\n",
              "      <th>UHighwayA</th>\n",
              "      <td>37843.0</td>\n",
              "      <td>0.933845</td>\n",
              "      <td>6.059456</td>\n",
              "      <td>0.00</td>\n",
              "      <td>0.00000</td>\n",
              "      <td>0.000000</td>\n",
              "      <td>0.000000</td>\n",
              "      <td>152.187800</td>\n",
              "    </tr>\n",
              "    <tr>\n",
              "      <th>year</th>\n",
              "      <td>37843.0</td>\n",
              "      <td>2000.064398</td>\n",
              "      <td>10.390588</td>\n",
              "      <td>1984.00</td>\n",
              "      <td>1990.00000</td>\n",
              "      <td>2001.000000</td>\n",
              "      <td>2009.000000</td>\n",
              "      <td>2017.000000</td>\n",
              "    </tr>\n",
              "    <tr>\n",
              "      <th>youSaveSpend</th>\n",
              "      <td>37843.0</td>\n",
              "      <td>-2658.999022</td>\n",
              "      <td>2553.098329</td>\n",
              "      <td>-22250.00</td>\n",
              "      <td>-4250.00000</td>\n",
              "      <td>-2500.000000</td>\n",
              "      <td>-750.000000</td>\n",
              "      <td>4000.000000</td>\n",
              "    </tr>\n",
              "    <tr>\n",
              "      <th>charge240b</th>\n",
              "      <td>37843.0</td>\n",
              "      <td>0.004360</td>\n",
              "      <td>0.142776</td>\n",
              "      <td>0.00</td>\n",
              "      <td>0.00000</td>\n",
              "      <td>0.000000</td>\n",
              "      <td>0.000000</td>\n",
              "      <td>7.000000</td>\n",
              "    </tr>\n",
              "    <tr>\n",
              "      <th>phevCity</th>\n",
              "      <td>37843.0</td>\n",
              "      <td>0.069313</td>\n",
              "      <td>1.966806</td>\n",
              "      <td>0.00</td>\n",
              "      <td>0.00000</td>\n",
              "      <td>0.000000</td>\n",
              "      <td>0.000000</td>\n",
              "      <td>97.000000</td>\n",
              "    </tr>\n",
              "    <tr>\n",
              "      <th>phevHwy</th>\n",
              "      <td>37843.0</td>\n",
              "      <td>0.068203</td>\n",
              "      <td>1.871986</td>\n",
              "      <td>0.00</td>\n",
              "      <td>0.00000</td>\n",
              "      <td>0.000000</td>\n",
              "      <td>0.000000</td>\n",
              "      <td>79.000000</td>\n",
              "    </tr>\n",
              "    <tr>\n",
              "      <th>phevComb</th>\n",
              "      <td>37843.0</td>\n",
              "      <td>0.068573</td>\n",
              "      <td>1.913647</td>\n",
              "      <td>0.00</td>\n",
              "      <td>0.00000</td>\n",
              "      <td>0.000000</td>\n",
              "      <td>0.000000</td>\n",
              "      <td>88.000000</td>\n",
              "    </tr>\n",
              "  </tbody>\n",
              "</table>\n",
              "</div>\n",
              "      <button class=\"colab-df-convert\" onclick=\"convertToInteractive('df-024018d5-d85a-4960-afac-2ef33876b68b')\"\n",
              "              title=\"Convert this dataframe to an interactive table.\"\n",
              "              style=\"display:none;\">\n",
              "        \n",
              "  <svg xmlns=\"http://www.w3.org/2000/svg\" height=\"24px\"viewBox=\"0 0 24 24\"\n",
              "       width=\"24px\">\n",
              "    <path d=\"M0 0h24v24H0V0z\" fill=\"none\"/>\n",
              "    <path d=\"M18.56 5.44l.94 2.06.94-2.06 2.06-.94-2.06-.94-.94-2.06-.94 2.06-2.06.94zm-11 1L8.5 8.5l.94-2.06 2.06-.94-2.06-.94L8.5 2.5l-.94 2.06-2.06.94zm10 10l.94 2.06.94-2.06 2.06-.94-2.06-.94-.94-2.06-.94 2.06-2.06.94z\"/><path d=\"M17.41 7.96l-1.37-1.37c-.4-.4-.92-.59-1.43-.59-.52 0-1.04.2-1.43.59L10.3 9.45l-7.72 7.72c-.78.78-.78 2.05 0 2.83L4 21.41c.39.39.9.59 1.41.59.51 0 1.02-.2 1.41-.59l7.78-7.78 2.81-2.81c.8-.78.8-2.07 0-2.86zM5.41 20L4 18.59l7.72-7.72 1.47 1.35L5.41 20z\"/>\n",
              "  </svg>\n",
              "      </button>\n",
              "      \n",
              "  <style>\n",
              "    .colab-df-container {\n",
              "      display:flex;\n",
              "      flex-wrap:wrap;\n",
              "      gap: 12px;\n",
              "    }\n",
              "\n",
              "    .colab-df-convert {\n",
              "      background-color: #E8F0FE;\n",
              "      border: none;\n",
              "      border-radius: 50%;\n",
              "      cursor: pointer;\n",
              "      display: none;\n",
              "      fill: #1967D2;\n",
              "      height: 32px;\n",
              "      padding: 0 0 0 0;\n",
              "      width: 32px;\n",
              "    }\n",
              "\n",
              "    .colab-df-convert:hover {\n",
              "      background-color: #E2EBFA;\n",
              "      box-shadow: 0px 1px 2px rgba(60, 64, 67, 0.3), 0px 1px 3px 1px rgba(60, 64, 67, 0.15);\n",
              "      fill: #174EA6;\n",
              "    }\n",
              "\n",
              "    [theme=dark] .colab-df-convert {\n",
              "      background-color: #3B4455;\n",
              "      fill: #D2E3FC;\n",
              "    }\n",
              "\n",
              "    [theme=dark] .colab-df-convert:hover {\n",
              "      background-color: #434B5C;\n",
              "      box-shadow: 0px 1px 3px 1px rgba(0, 0, 0, 0.15);\n",
              "      filter: drop-shadow(0px 1px 2px rgba(0, 0, 0, 0.3));\n",
              "      fill: #FFFFFF;\n",
              "    }\n",
              "  </style>\n",
              "\n",
              "      <script>\n",
              "        const buttonEl =\n",
              "          document.querySelector('#df-024018d5-d85a-4960-afac-2ef33876b68b button.colab-df-convert');\n",
              "        buttonEl.style.display =\n",
              "          google.colab.kernel.accessAllowed ? 'block' : 'none';\n",
              "\n",
              "        async function convertToInteractive(key) {\n",
              "          const element = document.querySelector('#df-024018d5-d85a-4960-afac-2ef33876b68b');\n",
              "          const dataTable =\n",
              "            await google.colab.kernel.invokeFunction('convertToInteractive',\n",
              "                                                     [key], {});\n",
              "          if (!dataTable) return;\n",
              "\n",
              "          const docLinkHtml = 'Like what you see? Visit the ' +\n",
              "            '<a target=\"_blank\" href=https://colab.research.google.com/notebooks/data_table.ipynb>data table notebook</a>'\n",
              "            + ' to learn more about interactive tables.';\n",
              "          element.innerHTML = '';\n",
              "          dataTable['output_type'] = 'display_data';\n",
              "          await google.colab.output.renderOutput(dataTable, element);\n",
              "          const docLink = document.createElement('div');\n",
              "          docLink.innerHTML = docLinkHtml;\n",
              "          element.appendChild(docLink);\n",
              "        }\n",
              "      </script>\n",
              "    </div>\n",
              "  </div>\n",
              "  "
            ]
          },
          "metadata": {},
          "execution_count": 6
        }
      ],
      "source": [
        "data.describe().transpose()"
      ]
    },
    {
      "cell_type": "code",
      "execution_count": 7,
      "metadata": {
        "ExecuteTime": {
          "end_time": "2020-04-06T12:45:56.354155Z",
          "start_time": "2020-04-06T12:45:56.164662Z"
        },
        "scrolled": true,
        "colab": {
          "base_uri": "https://localhost:8080/",
          "height": 1000
        },
        "id": "sfsZeltKCZtC",
        "outputId": "a968bd84-c063-4578-dd42-0d28796bfecc"
      },
      "outputs": [
        {
          "output_type": "execute_result",
          "data": {
            "text/plain": [
              "                   count          mean           std       min         25%  \\\n",
              "barrels08        37843.0     17.532506      4.575950      0.06    14.33087   \n",
              "barrelsA08       37843.0      0.216169      1.141527      0.00     0.00000   \n",
              "charge120        37843.0      0.000000      0.000000      0.00     0.00000   \n",
              "charge240        37843.0      0.023531      0.427647      0.00     0.00000   \n",
              "city08           37843.0     17.941389      6.660360      6.00    15.00000   \n",
              "city08U          37843.0      4.042737      9.645820      0.00     0.00000   \n",
              "cityA08          37843.0      0.520149      3.837874      0.00     0.00000   \n",
              "cityA08U         37843.0      0.327163      3.542596      0.00     0.00000   \n",
              "cityCD           37843.0      0.000406      0.039918      0.00     0.00000   \n",
              "cityE            37843.0      0.184790      2.904558      0.00     0.00000   \n",
              "cityUF           37843.0      0.000706      0.019458      0.00     0.00000   \n",
              "co2              37843.0     61.503713    153.387715     -1.00    -1.00000   \n",
              "co2A             37843.0      5.349919     55.539497     -1.00    -1.00000   \n",
              "co2TailpipeAGpm  37843.0     17.771433     94.129283      0.00     0.00000   \n",
              "co2TailpipeGpm   37843.0    473.179736    122.188847      0.00   388.00000   \n",
              "comb08           37843.0     20.195809      6.623444      7.00    17.00000   \n",
              "comb08U          37843.0      4.549751     10.389994      0.00     0.00000   \n",
              "combA08          37843.0      0.581191      3.966255      0.00     0.00000   \n",
              "combA08U         37843.0      0.359027      3.589260      0.00     0.00000   \n",
              "combE            37843.0      0.190575      2.979567      0.00     0.00000   \n",
              "combinedCD       37843.0      0.000335      0.035284      0.00     0.00000   \n",
              "combinedUF       37843.0      0.000691      0.019049      0.00     0.00000   \n",
              "cylinders        37720.0      5.737990      1.751795      2.00     4.00000   \n",
              "displ            37723.0      3.318180      1.361399      0.00     2.20000   \n",
              "engId            37843.0   8860.308961  17829.683477      0.00     0.00000   \n",
              "feScore          37843.0     -0.035145      2.379584     -1.00    -1.00000   \n",
              "fuelCost08       37843.0   1882.060090    510.280408    550.00  1500.00000   \n",
              "fuelCostA08      37843.0     79.070105    417.668580      0.00     0.00000   \n",
              "ghgScore         37843.0     -0.037206      2.374338     -1.00    -1.00000   \n",
              "ghgScoreA        37843.0     -0.929630      0.627565     -1.00    -1.00000   \n",
              "highway08        37843.0     24.104881      6.963192      9.00    20.00000   \n",
              "highway08U       37843.0      5.438467     11.936327      0.00     0.00000   \n",
              "highwayA08       37843.0      0.686891      4.308934      0.00     0.00000   \n",
              "highwayA08U      37843.0      0.418698      3.808877      0.00     0.00000   \n",
              "highwayCD        37843.0      0.000233      0.029564      0.00     0.00000   \n",
              "highwayE         37843.0      0.198247      3.091862      0.00     0.00000   \n",
              "highwayUF        37843.0      0.000673      0.018583      0.00     0.00000   \n",
              "hlv              37843.0      2.026214      5.947989      0.00     0.00000   \n",
              "hpv              37843.0     10.424332     28.148770      0.00     0.00000   \n",
              "id               37843.0  19019.286235  11034.784855      1.00  9461.50000   \n",
              "lv2              37843.0      1.849219      4.429983      0.00     0.00000   \n",
              "lv4              37843.0      6.165658      9.743297      0.00     0.00000   \n",
              "pv2              37843.0     13.696113     31.269930      0.00     0.00000   \n",
              "pv4              37843.0     33.769125     45.914462      0.00     0.00000   \n",
              "range            37843.0      0.392675      8.251191      0.00     0.00000   \n",
              "rangeCity        37843.0      0.352618      8.049082      0.00     0.00000   \n",
              "rangeCityA       37843.0      0.036800      1.158270      0.00     0.00000   \n",
              "rangeHwy         37843.0      0.343399      8.171939      0.00     0.00000   \n",
              "rangeHwyA        37843.0      0.033475      1.032642      0.00     0.00000   \n",
              "UCity            37843.0     22.587229      9.350163      0.00    18.00000   \n",
              "UCityA           37843.0      0.652380      5.284547      0.00     0.00000   \n",
              "UHighway         37843.0     33.619221     10.048326      0.00    27.10000   \n",
              "UHighwayA        37843.0      0.933845      6.059456      0.00     0.00000   \n",
              "year             37843.0   2000.064398     10.390588   1984.00  1990.00000   \n",
              "youSaveSpend     37843.0  -2658.999022   2553.098329 -22250.00 -4250.00000   \n",
              "charge240b       37843.0      0.004360      0.142776      0.00     0.00000   \n",
              "phevCity         37843.0      0.069313      1.966806      0.00     0.00000   \n",
              "phevHwy          37843.0      0.068203      1.871986      0.00     0.00000   \n",
              "phevComb         37843.0      0.068573      1.913647      0.00     0.00000   \n",
              "\n",
              "                          50%           75%           max           IQR  \n",
              "barrels08           17.347895     20.600625     47.087143      6.269755  \n",
              "barrelsA08           0.000000      0.000000     18.311667      0.000000  \n",
              "charge120            0.000000      0.000000      0.000000      0.000000  \n",
              "charge240            0.000000      0.000000     12.000000      0.000000  \n",
              "city08              17.000000     20.000000    138.000000      5.000000  \n",
              "city08U              0.000000      0.000000    138.304000      0.000000  \n",
              "cityA08              0.000000      0.000000    127.000000      0.000000  \n",
              "cityA08U             0.000000      0.000000    127.093000      0.000000  \n",
              "cityCD               0.000000      0.000000      5.350000      0.000000  \n",
              "cityE                0.000000      0.000000    122.000000      0.000000  \n",
              "cityUF               0.000000      0.000000      0.849000      0.000000  \n",
              "co2                 -1.000000     -1.000000    847.000000      0.000000  \n",
              "co2A                -1.000000     -1.000000    719.000000      0.000000  \n",
              "co2TailpipeAGpm      0.000000      0.000000    719.000000      0.000000  \n",
              "co2TailpipeGpm     467.736842    555.437500   1269.571429    167.437500  \n",
              "comb08              19.000000     23.000000    124.000000      6.000000  \n",
              "comb08U              0.000000      0.000000    124.360100      0.000000  \n",
              "combA08              0.000000      0.000000    117.000000      0.000000  \n",
              "combA08U             0.000000      0.000000    116.936400      0.000000  \n",
              "combE                0.000000      0.000000    121.000000      0.000000  \n",
              "combinedCD           0.000000      0.000000      4.800000      0.000000  \n",
              "combinedUF           0.000000      0.000000      0.834000      0.000000  \n",
              "cylinders            6.000000      6.000000     16.000000      2.000000  \n",
              "displ                3.000000      4.300000      8.400000      2.100000  \n",
              "engId              211.000000   4505.000000  69102.000000   4505.000000  \n",
              "feScore             -1.000000     -1.000000     10.000000      0.000000  \n",
              "fuelCost08        1850.000000   2200.000000   5800.000000    700.000000  \n",
              "fuelCostA08          0.000000      0.000000   3800.000000      0.000000  \n",
              "ghgScore            -1.000000     -1.000000     10.000000      0.000000  \n",
              "ghgScoreA           -1.000000     -1.000000      8.000000      0.000000  \n",
              "highway08           24.000000     27.000000    111.000000      7.000000  \n",
              "highway08U           0.000000      0.000000    111.370000      0.000000  \n",
              "highwayA08           0.000000      0.000000    107.000000      0.000000  \n",
              "highwayA08U          0.000000      0.000000    106.531000      0.000000  \n",
              "highwayCD            0.000000      0.000000      4.060000      0.000000  \n",
              "highwayE             0.000000      0.000000    120.000000      0.000000  \n",
              "highwayUF            0.000000      0.000000      0.813000      0.000000  \n",
              "hlv                  0.000000      0.000000     49.000000      0.000000  \n",
              "hpv                  0.000000      0.000000    195.000000      0.000000  \n",
              "id               18923.000000  28570.500000  38173.000000  19109.000000  \n",
              "lv2                  0.000000      0.000000     41.000000      0.000000  \n",
              "lv4                  0.000000     13.000000     55.000000     13.000000  \n",
              "pv2                  0.000000      0.000000    194.000000      0.000000  \n",
              "pv4                  0.000000     91.000000    192.000000     91.000000  \n",
              "range                0.000000      0.000000    315.000000      0.000000  \n",
              "rangeCity            0.000000      0.000000    305.900000      0.000000  \n",
              "rangeCityA           0.000000      0.000000     77.504000      0.000000  \n",
              "rangeHwy             0.000000      0.000000    346.900000      0.000000  \n",
              "rangeHwyA            0.000000      0.000000     65.632000      0.000000  \n",
              "UCity               21.000000     25.139300    197.577100      7.139300  \n",
              "UCityA               0.000000      0.000000    181.560900      0.000000  \n",
              "UHighway            33.000000     38.109600    159.100000     11.009600  \n",
              "UHighwayA            0.000000      0.000000    152.187800      0.000000  \n",
              "year              2001.000000   2009.000000   2017.000000     19.000000  \n",
              "youSaveSpend     -2500.000000   -750.000000   4000.000000   3500.000000  \n",
              "charge240b           0.000000      0.000000      7.000000      0.000000  \n",
              "phevCity             0.000000      0.000000     97.000000      0.000000  \n",
              "phevHwy              0.000000      0.000000     79.000000      0.000000  \n",
              "phevComb             0.000000      0.000000     88.000000      0.000000  "
            ],
            "text/html": [
              "\n",
              "  <div id=\"df-834678c0-f464-4660-b3d3-8fa6d491ddcf\">\n",
              "    <div class=\"colab-df-container\">\n",
              "      <div>\n",
              "<style scoped>\n",
              "    .dataframe tbody tr th:only-of-type {\n",
              "        vertical-align: middle;\n",
              "    }\n",
              "\n",
              "    .dataframe tbody tr th {\n",
              "        vertical-align: top;\n",
              "    }\n",
              "\n",
              "    .dataframe thead th {\n",
              "        text-align: right;\n",
              "    }\n",
              "</style>\n",
              "<table border=\"1\" class=\"dataframe\">\n",
              "  <thead>\n",
              "    <tr style=\"text-align: right;\">\n",
              "      <th></th>\n",
              "      <th>count</th>\n",
              "      <th>mean</th>\n",
              "      <th>std</th>\n",
              "      <th>min</th>\n",
              "      <th>25%</th>\n",
              "      <th>50%</th>\n",
              "      <th>75%</th>\n",
              "      <th>max</th>\n",
              "      <th>IQR</th>\n",
              "    </tr>\n",
              "  </thead>\n",
              "  <tbody>\n",
              "    <tr>\n",
              "      <th>barrels08</th>\n",
              "      <td>37843.0</td>\n",
              "      <td>17.532506</td>\n",
              "      <td>4.575950</td>\n",
              "      <td>0.06</td>\n",
              "      <td>14.33087</td>\n",
              "      <td>17.347895</td>\n",
              "      <td>20.600625</td>\n",
              "      <td>47.087143</td>\n",
              "      <td>6.269755</td>\n",
              "    </tr>\n",
              "    <tr>\n",
              "      <th>barrelsA08</th>\n",
              "      <td>37843.0</td>\n",
              "      <td>0.216169</td>\n",
              "      <td>1.141527</td>\n",
              "      <td>0.00</td>\n",
              "      <td>0.00000</td>\n",
              "      <td>0.000000</td>\n",
              "      <td>0.000000</td>\n",
              "      <td>18.311667</td>\n",
              "      <td>0.000000</td>\n",
              "    </tr>\n",
              "    <tr>\n",
              "      <th>charge120</th>\n",
              "      <td>37843.0</td>\n",
              "      <td>0.000000</td>\n",
              "      <td>0.000000</td>\n",
              "      <td>0.00</td>\n",
              "      <td>0.00000</td>\n",
              "      <td>0.000000</td>\n",
              "      <td>0.000000</td>\n",
              "      <td>0.000000</td>\n",
              "      <td>0.000000</td>\n",
              "    </tr>\n",
              "    <tr>\n",
              "      <th>charge240</th>\n",
              "      <td>37843.0</td>\n",
              "      <td>0.023531</td>\n",
              "      <td>0.427647</td>\n",
              "      <td>0.00</td>\n",
              "      <td>0.00000</td>\n",
              "      <td>0.000000</td>\n",
              "      <td>0.000000</td>\n",
              "      <td>12.000000</td>\n",
              "      <td>0.000000</td>\n",
              "    </tr>\n",
              "    <tr>\n",
              "      <th>city08</th>\n",
              "      <td>37843.0</td>\n",
              "      <td>17.941389</td>\n",
              "      <td>6.660360</td>\n",
              "      <td>6.00</td>\n",
              "      <td>15.00000</td>\n",
              "      <td>17.000000</td>\n",
              "      <td>20.000000</td>\n",
              "      <td>138.000000</td>\n",
              "      <td>5.000000</td>\n",
              "    </tr>\n",
              "    <tr>\n",
              "      <th>city08U</th>\n",
              "      <td>37843.0</td>\n",
              "      <td>4.042737</td>\n",
              "      <td>9.645820</td>\n",
              "      <td>0.00</td>\n",
              "      <td>0.00000</td>\n",
              "      <td>0.000000</td>\n",
              "      <td>0.000000</td>\n",
              "      <td>138.304000</td>\n",
              "      <td>0.000000</td>\n",
              "    </tr>\n",
              "    <tr>\n",
              "      <th>cityA08</th>\n",
              "      <td>37843.0</td>\n",
              "      <td>0.520149</td>\n",
              "      <td>3.837874</td>\n",
              "      <td>0.00</td>\n",
              "      <td>0.00000</td>\n",
              "      <td>0.000000</td>\n",
              "      <td>0.000000</td>\n",
              "      <td>127.000000</td>\n",
              "      <td>0.000000</td>\n",
              "    </tr>\n",
              "    <tr>\n",
              "      <th>cityA08U</th>\n",
              "      <td>37843.0</td>\n",
              "      <td>0.327163</td>\n",
              "      <td>3.542596</td>\n",
              "      <td>0.00</td>\n",
              "      <td>0.00000</td>\n",
              "      <td>0.000000</td>\n",
              "      <td>0.000000</td>\n",
              "      <td>127.093000</td>\n",
              "      <td>0.000000</td>\n",
              "    </tr>\n",
              "    <tr>\n",
              "      <th>cityCD</th>\n",
              "      <td>37843.0</td>\n",
              "      <td>0.000406</td>\n",
              "      <td>0.039918</td>\n",
              "      <td>0.00</td>\n",
              "      <td>0.00000</td>\n",
              "      <td>0.000000</td>\n",
              "      <td>0.000000</td>\n",
              "      <td>5.350000</td>\n",
              "      <td>0.000000</td>\n",
              "    </tr>\n",
              "    <tr>\n",
              "      <th>cityE</th>\n",
              "      <td>37843.0</td>\n",
              "      <td>0.184790</td>\n",
              "      <td>2.904558</td>\n",
              "      <td>0.00</td>\n",
              "      <td>0.00000</td>\n",
              "      <td>0.000000</td>\n",
              "      <td>0.000000</td>\n",
              "      <td>122.000000</td>\n",
              "      <td>0.000000</td>\n",
              "    </tr>\n",
              "    <tr>\n",
              "      <th>cityUF</th>\n",
              "      <td>37843.0</td>\n",
              "      <td>0.000706</td>\n",
              "      <td>0.019458</td>\n",
              "      <td>0.00</td>\n",
              "      <td>0.00000</td>\n",
              "      <td>0.000000</td>\n",
              "      <td>0.000000</td>\n",
              "      <td>0.849000</td>\n",
              "      <td>0.000000</td>\n",
              "    </tr>\n",
              "    <tr>\n",
              "      <th>co2</th>\n",
              "      <td>37843.0</td>\n",
              "      <td>61.503713</td>\n",
              "      <td>153.387715</td>\n",
              "      <td>-1.00</td>\n",
              "      <td>-1.00000</td>\n",
              "      <td>-1.000000</td>\n",
              "      <td>-1.000000</td>\n",
              "      <td>847.000000</td>\n",
              "      <td>0.000000</td>\n",
              "    </tr>\n",
              "    <tr>\n",
              "      <th>co2A</th>\n",
              "      <td>37843.0</td>\n",
              "      <td>5.349919</td>\n",
              "      <td>55.539497</td>\n",
              "      <td>-1.00</td>\n",
              "      <td>-1.00000</td>\n",
              "      <td>-1.000000</td>\n",
              "      <td>-1.000000</td>\n",
              "      <td>719.000000</td>\n",
              "      <td>0.000000</td>\n",
              "    </tr>\n",
              "    <tr>\n",
              "      <th>co2TailpipeAGpm</th>\n",
              "      <td>37843.0</td>\n",
              "      <td>17.771433</td>\n",
              "      <td>94.129283</td>\n",
              "      <td>0.00</td>\n",
              "      <td>0.00000</td>\n",
              "      <td>0.000000</td>\n",
              "      <td>0.000000</td>\n",
              "      <td>719.000000</td>\n",
              "      <td>0.000000</td>\n",
              "    </tr>\n",
              "    <tr>\n",
              "      <th>co2TailpipeGpm</th>\n",
              "      <td>37843.0</td>\n",
              "      <td>473.179736</td>\n",
              "      <td>122.188847</td>\n",
              "      <td>0.00</td>\n",
              "      <td>388.00000</td>\n",
              "      <td>467.736842</td>\n",
              "      <td>555.437500</td>\n",
              "      <td>1269.571429</td>\n",
              "      <td>167.437500</td>\n",
              "    </tr>\n",
              "    <tr>\n",
              "      <th>comb08</th>\n",
              "      <td>37843.0</td>\n",
              "      <td>20.195809</td>\n",
              "      <td>6.623444</td>\n",
              "      <td>7.00</td>\n",
              "      <td>17.00000</td>\n",
              "      <td>19.000000</td>\n",
              "      <td>23.000000</td>\n",
              "      <td>124.000000</td>\n",
              "      <td>6.000000</td>\n",
              "    </tr>\n",
              "    <tr>\n",
              "      <th>comb08U</th>\n",
              "      <td>37843.0</td>\n",
              "      <td>4.549751</td>\n",
              "      <td>10.389994</td>\n",
              "      <td>0.00</td>\n",
              "      <td>0.00000</td>\n",
              "      <td>0.000000</td>\n",
              "      <td>0.000000</td>\n",
              "      <td>124.360100</td>\n",
              "      <td>0.000000</td>\n",
              "    </tr>\n",
              "    <tr>\n",
              "      <th>combA08</th>\n",
              "      <td>37843.0</td>\n",
              "      <td>0.581191</td>\n",
              "      <td>3.966255</td>\n",
              "      <td>0.00</td>\n",
              "      <td>0.00000</td>\n",
              "      <td>0.000000</td>\n",
              "      <td>0.000000</td>\n",
              "      <td>117.000000</td>\n",
              "      <td>0.000000</td>\n",
              "    </tr>\n",
              "    <tr>\n",
              "      <th>combA08U</th>\n",
              "      <td>37843.0</td>\n",
              "      <td>0.359027</td>\n",
              "      <td>3.589260</td>\n",
              "      <td>0.00</td>\n",
              "      <td>0.00000</td>\n",
              "      <td>0.000000</td>\n",
              "      <td>0.000000</td>\n",
              "      <td>116.936400</td>\n",
              "      <td>0.000000</td>\n",
              "    </tr>\n",
              "    <tr>\n",
              "      <th>combE</th>\n",
              "      <td>37843.0</td>\n",
              "      <td>0.190575</td>\n",
              "      <td>2.979567</td>\n",
              "      <td>0.00</td>\n",
              "      <td>0.00000</td>\n",
              "      <td>0.000000</td>\n",
              "      <td>0.000000</td>\n",
              "      <td>121.000000</td>\n",
              "      <td>0.000000</td>\n",
              "    </tr>\n",
              "    <tr>\n",
              "      <th>combinedCD</th>\n",
              "      <td>37843.0</td>\n",
              "      <td>0.000335</td>\n",
              "      <td>0.035284</td>\n",
              "      <td>0.00</td>\n",
              "      <td>0.00000</td>\n",
              "      <td>0.000000</td>\n",
              "      <td>0.000000</td>\n",
              "      <td>4.800000</td>\n",
              "      <td>0.000000</td>\n",
              "    </tr>\n",
              "    <tr>\n",
              "      <th>combinedUF</th>\n",
              "      <td>37843.0</td>\n",
              "      <td>0.000691</td>\n",
              "      <td>0.019049</td>\n",
              "      <td>0.00</td>\n",
              "      <td>0.00000</td>\n",
              "      <td>0.000000</td>\n",
              "      <td>0.000000</td>\n",
              "      <td>0.834000</td>\n",
              "      <td>0.000000</td>\n",
              "    </tr>\n",
              "    <tr>\n",
              "      <th>cylinders</th>\n",
              "      <td>37720.0</td>\n",
              "      <td>5.737990</td>\n",
              "      <td>1.751795</td>\n",
              "      <td>2.00</td>\n",
              "      <td>4.00000</td>\n",
              "      <td>6.000000</td>\n",
              "      <td>6.000000</td>\n",
              "      <td>16.000000</td>\n",
              "      <td>2.000000</td>\n",
              "    </tr>\n",
              "    <tr>\n",
              "      <th>displ</th>\n",
              "      <td>37723.0</td>\n",
              "      <td>3.318180</td>\n",
              "      <td>1.361399</td>\n",
              "      <td>0.00</td>\n",
              "      <td>2.20000</td>\n",
              "      <td>3.000000</td>\n",
              "      <td>4.300000</td>\n",
              "      <td>8.400000</td>\n",
              "      <td>2.100000</td>\n",
              "    </tr>\n",
              "    <tr>\n",
              "      <th>engId</th>\n",
              "      <td>37843.0</td>\n",
              "      <td>8860.308961</td>\n",
              "      <td>17829.683477</td>\n",
              "      <td>0.00</td>\n",
              "      <td>0.00000</td>\n",
              "      <td>211.000000</td>\n",
              "      <td>4505.000000</td>\n",
              "      <td>69102.000000</td>\n",
              "      <td>4505.000000</td>\n",
              "    </tr>\n",
              "    <tr>\n",
              "      <th>feScore</th>\n",
              "      <td>37843.0</td>\n",
              "      <td>-0.035145</td>\n",
              "      <td>2.379584</td>\n",
              "      <td>-1.00</td>\n",
              "      <td>-1.00000</td>\n",
              "      <td>-1.000000</td>\n",
              "      <td>-1.000000</td>\n",
              "      <td>10.000000</td>\n",
              "      <td>0.000000</td>\n",
              "    </tr>\n",
              "    <tr>\n",
              "      <th>fuelCost08</th>\n",
              "      <td>37843.0</td>\n",
              "      <td>1882.060090</td>\n",
              "      <td>510.280408</td>\n",
              "      <td>550.00</td>\n",
              "      <td>1500.00000</td>\n",
              "      <td>1850.000000</td>\n",
              "      <td>2200.000000</td>\n",
              "      <td>5800.000000</td>\n",
              "      <td>700.000000</td>\n",
              "    </tr>\n",
              "    <tr>\n",
              "      <th>fuelCostA08</th>\n",
              "      <td>37843.0</td>\n",
              "      <td>79.070105</td>\n",
              "      <td>417.668580</td>\n",
              "      <td>0.00</td>\n",
              "      <td>0.00000</td>\n",
              "      <td>0.000000</td>\n",
              "      <td>0.000000</td>\n",
              "      <td>3800.000000</td>\n",
              "      <td>0.000000</td>\n",
              "    </tr>\n",
              "    <tr>\n",
              "      <th>ghgScore</th>\n",
              "      <td>37843.0</td>\n",
              "      <td>-0.037206</td>\n",
              "      <td>2.374338</td>\n",
              "      <td>-1.00</td>\n",
              "      <td>-1.00000</td>\n",
              "      <td>-1.000000</td>\n",
              "      <td>-1.000000</td>\n",
              "      <td>10.000000</td>\n",
              "      <td>0.000000</td>\n",
              "    </tr>\n",
              "    <tr>\n",
              "      <th>ghgScoreA</th>\n",
              "      <td>37843.0</td>\n",
              "      <td>-0.929630</td>\n",
              "      <td>0.627565</td>\n",
              "      <td>-1.00</td>\n",
              "      <td>-1.00000</td>\n",
              "      <td>-1.000000</td>\n",
              "      <td>-1.000000</td>\n",
              "      <td>8.000000</td>\n",
              "      <td>0.000000</td>\n",
              "    </tr>\n",
              "    <tr>\n",
              "      <th>highway08</th>\n",
              "      <td>37843.0</td>\n",
              "      <td>24.104881</td>\n",
              "      <td>6.963192</td>\n",
              "      <td>9.00</td>\n",
              "      <td>20.00000</td>\n",
              "      <td>24.000000</td>\n",
              "      <td>27.000000</td>\n",
              "      <td>111.000000</td>\n",
              "      <td>7.000000</td>\n",
              "    </tr>\n",
              "    <tr>\n",
              "      <th>highway08U</th>\n",
              "      <td>37843.0</td>\n",
              "      <td>5.438467</td>\n",
              "      <td>11.936327</td>\n",
              "      <td>0.00</td>\n",
              "      <td>0.00000</td>\n",
              "      <td>0.000000</td>\n",
              "      <td>0.000000</td>\n",
              "      <td>111.370000</td>\n",
              "      <td>0.000000</td>\n",
              "    </tr>\n",
              "    <tr>\n",
              "      <th>highwayA08</th>\n",
              "      <td>37843.0</td>\n",
              "      <td>0.686891</td>\n",
              "      <td>4.308934</td>\n",
              "      <td>0.00</td>\n",
              "      <td>0.00000</td>\n",
              "      <td>0.000000</td>\n",
              "      <td>0.000000</td>\n",
              "      <td>107.000000</td>\n",
              "      <td>0.000000</td>\n",
              "    </tr>\n",
              "    <tr>\n",
              "      <th>highwayA08U</th>\n",
              "      <td>37843.0</td>\n",
              "      <td>0.418698</td>\n",
              "      <td>3.808877</td>\n",
              "      <td>0.00</td>\n",
              "      <td>0.00000</td>\n",
              "      <td>0.000000</td>\n",
              "      <td>0.000000</td>\n",
              "      <td>106.531000</td>\n",
              "      <td>0.000000</td>\n",
              "    </tr>\n",
              "    <tr>\n",
              "      <th>highwayCD</th>\n",
              "      <td>37843.0</td>\n",
              "      <td>0.000233</td>\n",
              "      <td>0.029564</td>\n",
              "      <td>0.00</td>\n",
              "      <td>0.00000</td>\n",
              "      <td>0.000000</td>\n",
              "      <td>0.000000</td>\n",
              "      <td>4.060000</td>\n",
              "      <td>0.000000</td>\n",
              "    </tr>\n",
              "    <tr>\n",
              "      <th>highwayE</th>\n",
              "      <td>37843.0</td>\n",
              "      <td>0.198247</td>\n",
              "      <td>3.091862</td>\n",
              "      <td>0.00</td>\n",
              "      <td>0.00000</td>\n",
              "      <td>0.000000</td>\n",
              "      <td>0.000000</td>\n",
              "      <td>120.000000</td>\n",
              "      <td>0.000000</td>\n",
              "    </tr>\n",
              "    <tr>\n",
              "      <th>highwayUF</th>\n",
              "      <td>37843.0</td>\n",
              "      <td>0.000673</td>\n",
              "      <td>0.018583</td>\n",
              "      <td>0.00</td>\n",
              "      <td>0.00000</td>\n",
              "      <td>0.000000</td>\n",
              "      <td>0.000000</td>\n",
              "      <td>0.813000</td>\n",
              "      <td>0.000000</td>\n",
              "    </tr>\n",
              "    <tr>\n",
              "      <th>hlv</th>\n",
              "      <td>37843.0</td>\n",
              "      <td>2.026214</td>\n",
              "      <td>5.947989</td>\n",
              "      <td>0.00</td>\n",
              "      <td>0.00000</td>\n",
              "      <td>0.000000</td>\n",
              "      <td>0.000000</td>\n",
              "      <td>49.000000</td>\n",
              "      <td>0.000000</td>\n",
              "    </tr>\n",
              "    <tr>\n",
              "      <th>hpv</th>\n",
              "      <td>37843.0</td>\n",
              "      <td>10.424332</td>\n",
              "      <td>28.148770</td>\n",
              "      <td>0.00</td>\n",
              "      <td>0.00000</td>\n",
              "      <td>0.000000</td>\n",
              "      <td>0.000000</td>\n",
              "      <td>195.000000</td>\n",
              "      <td>0.000000</td>\n",
              "    </tr>\n",
              "    <tr>\n",
              "      <th>id</th>\n",
              "      <td>37843.0</td>\n",
              "      <td>19019.286235</td>\n",
              "      <td>11034.784855</td>\n",
              "      <td>1.00</td>\n",
              "      <td>9461.50000</td>\n",
              "      <td>18923.000000</td>\n",
              "      <td>28570.500000</td>\n",
              "      <td>38173.000000</td>\n",
              "      <td>19109.000000</td>\n",
              "    </tr>\n",
              "    <tr>\n",
              "      <th>lv2</th>\n",
              "      <td>37843.0</td>\n",
              "      <td>1.849219</td>\n",
              "      <td>4.429983</td>\n",
              "      <td>0.00</td>\n",
              "      <td>0.00000</td>\n",
              "      <td>0.000000</td>\n",
              "      <td>0.000000</td>\n",
              "      <td>41.000000</td>\n",
              "      <td>0.000000</td>\n",
              "    </tr>\n",
              "    <tr>\n",
              "      <th>lv4</th>\n",
              "      <td>37843.0</td>\n",
              "      <td>6.165658</td>\n",
              "      <td>9.743297</td>\n",
              "      <td>0.00</td>\n",
              "      <td>0.00000</td>\n",
              "      <td>0.000000</td>\n",
              "      <td>13.000000</td>\n",
              "      <td>55.000000</td>\n",
              "      <td>13.000000</td>\n",
              "    </tr>\n",
              "    <tr>\n",
              "      <th>pv2</th>\n",
              "      <td>37843.0</td>\n",
              "      <td>13.696113</td>\n",
              "      <td>31.269930</td>\n",
              "      <td>0.00</td>\n",
              "      <td>0.00000</td>\n",
              "      <td>0.000000</td>\n",
              "      <td>0.000000</td>\n",
              "      <td>194.000000</td>\n",
              "      <td>0.000000</td>\n",
              "    </tr>\n",
              "    <tr>\n",
              "      <th>pv4</th>\n",
              "      <td>37843.0</td>\n",
              "      <td>33.769125</td>\n",
              "      <td>45.914462</td>\n",
              "      <td>0.00</td>\n",
              "      <td>0.00000</td>\n",
              "      <td>0.000000</td>\n",
              "      <td>91.000000</td>\n",
              "      <td>192.000000</td>\n",
              "      <td>91.000000</td>\n",
              "    </tr>\n",
              "    <tr>\n",
              "      <th>range</th>\n",
              "      <td>37843.0</td>\n",
              "      <td>0.392675</td>\n",
              "      <td>8.251191</td>\n",
              "      <td>0.00</td>\n",
              "      <td>0.00000</td>\n",
              "      <td>0.000000</td>\n",
              "      <td>0.000000</td>\n",
              "      <td>315.000000</td>\n",
              "      <td>0.000000</td>\n",
              "    </tr>\n",
              "    <tr>\n",
              "      <th>rangeCity</th>\n",
              "      <td>37843.0</td>\n",
              "      <td>0.352618</td>\n",
              "      <td>8.049082</td>\n",
              "      <td>0.00</td>\n",
              "      <td>0.00000</td>\n",
              "      <td>0.000000</td>\n",
              "      <td>0.000000</td>\n",
              "      <td>305.900000</td>\n",
              "      <td>0.000000</td>\n",
              "    </tr>\n",
              "    <tr>\n",
              "      <th>rangeCityA</th>\n",
              "      <td>37843.0</td>\n",
              "      <td>0.036800</td>\n",
              "      <td>1.158270</td>\n",
              "      <td>0.00</td>\n",
              "      <td>0.00000</td>\n",
              "      <td>0.000000</td>\n",
              "      <td>0.000000</td>\n",
              "      <td>77.504000</td>\n",
              "      <td>0.000000</td>\n",
              "    </tr>\n",
              "    <tr>\n",
              "      <th>rangeHwy</th>\n",
              "      <td>37843.0</td>\n",
              "      <td>0.343399</td>\n",
              "      <td>8.171939</td>\n",
              "      <td>0.00</td>\n",
              "      <td>0.00000</td>\n",
              "      <td>0.000000</td>\n",
              "      <td>0.000000</td>\n",
              "      <td>346.900000</td>\n",
              "      <td>0.000000</td>\n",
              "    </tr>\n",
              "    <tr>\n",
              "      <th>rangeHwyA</th>\n",
              "      <td>37843.0</td>\n",
              "      <td>0.033475</td>\n",
              "      <td>1.032642</td>\n",
              "      <td>0.00</td>\n",
              "      <td>0.00000</td>\n",
              "      <td>0.000000</td>\n",
              "      <td>0.000000</td>\n",
              "      <td>65.632000</td>\n",
              "      <td>0.000000</td>\n",
              "    </tr>\n",
              "    <tr>\n",
              "      <th>UCity</th>\n",
              "      <td>37843.0</td>\n",
              "      <td>22.587229</td>\n",
              "      <td>9.350163</td>\n",
              "      <td>0.00</td>\n",
              "      <td>18.00000</td>\n",
              "      <td>21.000000</td>\n",
              "      <td>25.139300</td>\n",
              "      <td>197.577100</td>\n",
              "      <td>7.139300</td>\n",
              "    </tr>\n",
              "    <tr>\n",
              "      <th>UCityA</th>\n",
              "      <td>37843.0</td>\n",
              "      <td>0.652380</td>\n",
              "      <td>5.284547</td>\n",
              "      <td>0.00</td>\n",
              "      <td>0.00000</td>\n",
              "      <td>0.000000</td>\n",
              "      <td>0.000000</td>\n",
              "      <td>181.560900</td>\n",
              "      <td>0.000000</td>\n",
              "    </tr>\n",
              "    <tr>\n",
              "      <th>UHighway</th>\n",
              "      <td>37843.0</td>\n",
              "      <td>33.619221</td>\n",
              "      <td>10.048326</td>\n",
              "      <td>0.00</td>\n",
              "      <td>27.10000</td>\n",
              "      <td>33.000000</td>\n",
              "      <td>38.109600</td>\n",
              "      <td>159.100000</td>\n",
              "      <td>11.009600</td>\n",
              "    </tr>\n",
              "    <tr>\n",
              "      <th>UHighwayA</th>\n",
              "      <td>37843.0</td>\n",
              "      <td>0.933845</td>\n",
              "      <td>6.059456</td>\n",
              "      <td>0.00</td>\n",
              "      <td>0.00000</td>\n",
              "      <td>0.000000</td>\n",
              "      <td>0.000000</td>\n",
              "      <td>152.187800</td>\n",
              "      <td>0.000000</td>\n",
              "    </tr>\n",
              "    <tr>\n",
              "      <th>year</th>\n",
              "      <td>37843.0</td>\n",
              "      <td>2000.064398</td>\n",
              "      <td>10.390588</td>\n",
              "      <td>1984.00</td>\n",
              "      <td>1990.00000</td>\n",
              "      <td>2001.000000</td>\n",
              "      <td>2009.000000</td>\n",
              "      <td>2017.000000</td>\n",
              "      <td>19.000000</td>\n",
              "    </tr>\n",
              "    <tr>\n",
              "      <th>youSaveSpend</th>\n",
              "      <td>37843.0</td>\n",
              "      <td>-2658.999022</td>\n",
              "      <td>2553.098329</td>\n",
              "      <td>-22250.00</td>\n",
              "      <td>-4250.00000</td>\n",
              "      <td>-2500.000000</td>\n",
              "      <td>-750.000000</td>\n",
              "      <td>4000.000000</td>\n",
              "      <td>3500.000000</td>\n",
              "    </tr>\n",
              "    <tr>\n",
              "      <th>charge240b</th>\n",
              "      <td>37843.0</td>\n",
              "      <td>0.004360</td>\n",
              "      <td>0.142776</td>\n",
              "      <td>0.00</td>\n",
              "      <td>0.00000</td>\n",
              "      <td>0.000000</td>\n",
              "      <td>0.000000</td>\n",
              "      <td>7.000000</td>\n",
              "      <td>0.000000</td>\n",
              "    </tr>\n",
              "    <tr>\n",
              "      <th>phevCity</th>\n",
              "      <td>37843.0</td>\n",
              "      <td>0.069313</td>\n",
              "      <td>1.966806</td>\n",
              "      <td>0.00</td>\n",
              "      <td>0.00000</td>\n",
              "      <td>0.000000</td>\n",
              "      <td>0.000000</td>\n",
              "      <td>97.000000</td>\n",
              "      <td>0.000000</td>\n",
              "    </tr>\n",
              "    <tr>\n",
              "      <th>phevHwy</th>\n",
              "      <td>37843.0</td>\n",
              "      <td>0.068203</td>\n",
              "      <td>1.871986</td>\n",
              "      <td>0.00</td>\n",
              "      <td>0.00000</td>\n",
              "      <td>0.000000</td>\n",
              "      <td>0.000000</td>\n",
              "      <td>79.000000</td>\n",
              "      <td>0.000000</td>\n",
              "    </tr>\n",
              "    <tr>\n",
              "      <th>phevComb</th>\n",
              "      <td>37843.0</td>\n",
              "      <td>0.068573</td>\n",
              "      <td>1.913647</td>\n",
              "      <td>0.00</td>\n",
              "      <td>0.00000</td>\n",
              "      <td>0.000000</td>\n",
              "      <td>0.000000</td>\n",
              "      <td>88.000000</td>\n",
              "      <td>0.000000</td>\n",
              "    </tr>\n",
              "  </tbody>\n",
              "</table>\n",
              "</div>\n",
              "      <button class=\"colab-df-convert\" onclick=\"convertToInteractive('df-834678c0-f464-4660-b3d3-8fa6d491ddcf')\"\n",
              "              title=\"Convert this dataframe to an interactive table.\"\n",
              "              style=\"display:none;\">\n",
              "        \n",
              "  <svg xmlns=\"http://www.w3.org/2000/svg\" height=\"24px\"viewBox=\"0 0 24 24\"\n",
              "       width=\"24px\">\n",
              "    <path d=\"M0 0h24v24H0V0z\" fill=\"none\"/>\n",
              "    <path d=\"M18.56 5.44l.94 2.06.94-2.06 2.06-.94-2.06-.94-.94-2.06-.94 2.06-2.06.94zm-11 1L8.5 8.5l.94-2.06 2.06-.94-2.06-.94L8.5 2.5l-.94 2.06-2.06.94zm10 10l.94 2.06.94-2.06 2.06-.94-2.06-.94-.94-2.06-.94 2.06-2.06.94z\"/><path d=\"M17.41 7.96l-1.37-1.37c-.4-.4-.92-.59-1.43-.59-.52 0-1.04.2-1.43.59L10.3 9.45l-7.72 7.72c-.78.78-.78 2.05 0 2.83L4 21.41c.39.39.9.59 1.41.59.51 0 1.02-.2 1.41-.59l7.78-7.78 2.81-2.81c.8-.78.8-2.07 0-2.86zM5.41 20L4 18.59l7.72-7.72 1.47 1.35L5.41 20z\"/>\n",
              "  </svg>\n",
              "      </button>\n",
              "      \n",
              "  <style>\n",
              "    .colab-df-container {\n",
              "      display:flex;\n",
              "      flex-wrap:wrap;\n",
              "      gap: 12px;\n",
              "    }\n",
              "\n",
              "    .colab-df-convert {\n",
              "      background-color: #E8F0FE;\n",
              "      border: none;\n",
              "      border-radius: 50%;\n",
              "      cursor: pointer;\n",
              "      display: none;\n",
              "      fill: #1967D2;\n",
              "      height: 32px;\n",
              "      padding: 0 0 0 0;\n",
              "      width: 32px;\n",
              "    }\n",
              "\n",
              "    .colab-df-convert:hover {\n",
              "      background-color: #E2EBFA;\n",
              "      box-shadow: 0px 1px 2px rgba(60, 64, 67, 0.3), 0px 1px 3px 1px rgba(60, 64, 67, 0.15);\n",
              "      fill: #174EA6;\n",
              "    }\n",
              "\n",
              "    [theme=dark] .colab-df-convert {\n",
              "      background-color: #3B4455;\n",
              "      fill: #D2E3FC;\n",
              "    }\n",
              "\n",
              "    [theme=dark] .colab-df-convert:hover {\n",
              "      background-color: #434B5C;\n",
              "      box-shadow: 0px 1px 3px 1px rgba(0, 0, 0, 0.15);\n",
              "      filter: drop-shadow(0px 1px 2px rgba(0, 0, 0, 0.3));\n",
              "      fill: #FFFFFF;\n",
              "    }\n",
              "  </style>\n",
              "\n",
              "      <script>\n",
              "        const buttonEl =\n",
              "          document.querySelector('#df-834678c0-f464-4660-b3d3-8fa6d491ddcf button.colab-df-convert');\n",
              "        buttonEl.style.display =\n",
              "          google.colab.kernel.accessAllowed ? 'block' : 'none';\n",
              "\n",
              "        async function convertToInteractive(key) {\n",
              "          const element = document.querySelector('#df-834678c0-f464-4660-b3d3-8fa6d491ddcf');\n",
              "          const dataTable =\n",
              "            await google.colab.kernel.invokeFunction('convertToInteractive',\n",
              "                                                     [key], {});\n",
              "          if (!dataTable) return;\n",
              "\n",
              "          const docLinkHtml = 'Like what you see? Visit the ' +\n",
              "            '<a target=\"_blank\" href=https://colab.research.google.com/notebooks/data_table.ipynb>data table notebook</a>'\n",
              "            + ' to learn more about interactive tables.';\n",
              "          element.innerHTML = '';\n",
              "          dataTable['output_type'] = 'display_data';\n",
              "          await google.colab.output.renderOutput(dataTable, element);\n",
              "          const docLink = document.createElement('div');\n",
              "          docLink.innerHTML = docLinkHtml;\n",
              "          element.appendChild(docLink);\n",
              "        }\n",
              "      </script>\n",
              "    </div>\n",
              "  </div>\n",
              "  "
            ]
          },
          "metadata": {},
          "execution_count": 7
        }
      ],
      "source": [
        "stats = data.describe().T\n",
        "stats['IQR'] = stats['75%'] - stats['25%']\n",
        "stats"
      ]
    },
    {
      "cell_type": "code",
      "execution_count": 7,
      "metadata": {
        "id": "JhFrOB01CZtC"
      },
      "outputs": [],
      "source": []
    },
    {
      "cell_type": "markdown",
      "metadata": {
        "id": "NkoTjnlbCZtC"
      },
      "source": [
        "# Visualizando outilers usando distribuição de variáveis\n",
        "    - Inter-quartile range rule\n",
        "    - 3 standard-deviation rule"
      ]
    },
    {
      "cell_type": "code",
      "execution_count": 8,
      "metadata": {
        "ExecuteTime": {
          "end_time": "2020-04-06T12:46:33.945563Z",
          "start_time": "2020-04-06T12:46:33.482775Z"
        },
        "id": "-cygPpfSCZtD"
      },
      "outputs": [],
      "source": [
        "import seaborn as sns\n",
        "import matplotlib.pyplot as plt"
      ]
    },
    {
      "cell_type": "markdown",
      "metadata": {
        "id": "yD8PgVEFCZtD"
      },
      "source": [
        "## Curva Gaussiana"
      ]
    },
    {
      "cell_type": "code",
      "execution_count": 9,
      "metadata": {
        "ExecuteTime": {
          "end_time": "2020-04-06T13:15:39.215673Z",
          "start_time": "2020-04-06T13:15:38.997722Z"
        },
        "colab": {
          "base_uri": "https://localhost:8080/",
          "height": 337
        },
        "id": "Bw2TRtJYCZtD",
        "outputId": "7c33cab7-9b6d-4810-d7dd-2483edf1dd87"
      },
      "outputs": [
        {
          "output_type": "stream",
          "name": "stderr",
          "text": [
            "/usr/local/lib/python3.7/dist-packages/seaborn/distributions.py:2619: FutureWarning: `distplot` is a deprecated function and will be removed in a future version. Please adapt your code to use either `displot` (a figure-level function with similar flexibility) or `histplot` (an axes-level function for histograms).\n",
            "  warnings.warn(msg, FutureWarning)\n"
          ]
        },
        {
          "output_type": "execute_result",
          "data": {
            "text/plain": [
              "0.99741"
            ]
          },
          "metadata": {},
          "execution_count": 9
        },
        {
          "output_type": "display_data",
          "data": {
            "text/plain": [
              "<Figure size 432x288 with 1 Axes>"
            ],
            "image/png": "[encoded data removed]"
          },
          "metadata": {
            "needs_background": "light"
          }
        }
      ],
      "source": [
        "N = 100000\n",
        "y = np.random.normal(size=N)\n",
        "sns.distplot(y)\n",
        "\n",
        "1 - len(y[(y > np.mean(y) + 3 * np.std(y)) | (y < np.mean(y) - 3 * np.std(y))]) / len(y)"
      ]
    },
    {
      "cell_type": "code",
      "execution_count": 9,
      "metadata": {
        "id": "JN30j-DSCZtD"
      },
      "outputs": [],
      "source": []
    },
    {
      "cell_type": "markdown",
      "metadata": {
        "id": "OWGuvq54CZtD"
      },
      "source": [
        "## Caso Prático"
      ]
    },
    {
      "cell_type": "code",
      "execution_count": 10,
      "metadata": {
        "ExecuteTime": {
          "end_time": "2020-04-06T12:46:47.095093Z",
          "start_time": "2020-04-06T12:46:47.090107Z"
        },
        "colab": {
          "base_uri": "https://localhost:8080/"
        },
        "id": "R4_sEsHLCZtE",
        "outputId": "5fdff540-3ddb-428f-ddd0-c4194b34666f"
      },
      "outputs": [
        {
          "output_type": "execute_result",
          "data": {
            "text/plain": [
              "0        15.695714\n",
              "1        29.964545\n",
              "2        12.207778\n",
              "3        29.964545\n",
              "4        17.347895\n",
              "           ...    \n",
              "37838    14.982273\n",
              "37839    14.330870\n",
              "37840    15.695714\n",
              "37841    15.695714\n",
              "37842    18.311667\n",
              "Name: barrels08, Length: 37843, dtype: float64"
            ]
          },
          "metadata": {},
          "execution_count": 10
        }
      ],
      "source": [
        "data.barrels08"
      ]
    },
    {
      "cell_type": "code",
      "execution_count": 11,
      "metadata": {
        "ExecuteTime": {
          "end_time": "2020-04-06T13:03:43.252129Z",
          "start_time": "2020-04-06T13:03:42.995542Z"
        },
        "colab": {
          "base_uri": "https://localhost:8080/",
          "height": 351
        },
        "id": "SXthortyCZtE",
        "outputId": "aaac617a-e72a-453d-f63f-8b79fd1b1602"
      },
      "outputs": [
        {
          "output_type": "stream",
          "name": "stderr",
          "text": [
            "/usr/local/lib/python3.7/dist-packages/seaborn/distributions.py:2619: FutureWarning: `distplot` is a deprecated function and will be removed in a future version. Please adapt your code to use either `displot` (a figure-level function with similar flexibility) or `histplot` (an axes-level function for histograms).\n",
            "  warnings.warn(msg, FutureWarning)\n"
          ]
        },
        {
          "output_type": "execute_result",
          "data": {
            "text/plain": [
              "<matplotlib.collections.LineCollection at 0x7f007c463c10>"
            ]
          },
          "metadata": {},
          "execution_count": 11
        },
        {
          "output_type": "display_data",
          "data": {
            "text/plain": [
              "<Figure size 432x288 with 1 Axes>"
            ],
            "image/png": "[encoded data removed]"
          },
          "metadata": {
            "needs_background": "light"
          }
        }
      ],
      "source": [
        "sns.distplot(data.barrels08)\n",
        "\n",
        "x = data.barrels08.mean()\n",
        "\n",
        "plt.vlines(x, 0, 0.13, color='gray')"
      ]
    },
    {
      "cell_type": "code",
      "execution_count": 12,
      "metadata": {
        "ExecuteTime": {
          "end_time": "2020-04-06T12:51:49.392498Z",
          "start_time": "2020-04-06T12:51:49.387483Z"
        },
        "id": "fjf8bX3dCZtE"
      },
      "outputs": [],
      "source": [
        "std = stats.loc['barrels08', 'std']\n",
        "mean = data.barrels08.mean()"
      ]
    },
    {
      "cell_type": "code",
      "execution_count": 13,
      "metadata": {
        "ExecuteTime": {
          "end_time": "2020-04-06T12:52:02.388116Z",
          "start_time": "2020-04-06T12:52:02.384099Z"
        },
        "colab": {
          "base_uri": "https://localhost:8080/"
        },
        "id": "pyhjtbv3CZtE",
        "outputId": "efcfff5c-899e-4e22-f552-ec57a4473eb2"
      },
      "outputs": [
        {
          "output_type": "execute_result",
          "data": {
            "text/plain": [
              "12.956556094935344"
            ]
          },
          "metadata": {},
          "execution_count": 13
        }
      ],
      "source": [
        "mean - std"
      ]
    },
    {
      "cell_type": "code",
      "execution_count": 14,
      "metadata": {
        "ExecuteTime": {
          "end_time": "2020-04-06T13:03:57.981589Z",
          "start_time": "2020-04-06T13:03:57.769985Z"
        },
        "colab": {
          "base_uri": "https://localhost:8080/",
          "height": 367
        },
        "id": "Sz0z7JoLCZtE",
        "outputId": "94824a7c-b8d6-4de3-fe53-ceccf32d8500"
      },
      "outputs": [
        {
          "output_type": "stream",
          "name": "stderr",
          "text": [
            "/usr/local/lib/python3.7/dist-packages/seaborn/distributions.py:2619: FutureWarning: `distplot` is a deprecated function and will be removed in a future version. Please adapt your code to use either `displot` (a figure-level function with similar flexibility) or `histplot` (an axes-level function for histograms).\n",
            "  warnings.warn(msg, FutureWarning)\n"
          ]
        },
        {
          "output_type": "execute_result",
          "data": {
            "text/plain": [
              "(0.0, 0.12)"
            ]
          },
          "metadata": {},
          "execution_count": 14
        },
        {
          "output_type": "display_data",
          "data": {
            "text/plain": [
              "<Figure size 432x288 with 1 Axes>"
            ],
            "image/png": "[encoded data removed]"
          },
          "metadata": {
            "needs_background": "light"
          }
        }
      ],
      "source": [
        "sns.distplot(data.barrels08)\n",
        "\n",
        "x = data.barrels08.mean()\n",
        "\n",
        "plt.title('Media + 1 desvio padrão')\n",
        "plt.vlines(x, 0, 0.13, color='gray')\n",
        "plt.vlines(mean + std, 0, 0.13, color='red')\n",
        "plt.vlines(mean - std, 0, 0.13, color='red')\n",
        "plt.ylim([0, 0.12])"
      ]
    },
    {
      "cell_type": "code",
      "execution_count": null,
      "metadata": {
        "id": "YrTyaECiCZtF"
      },
      "outputs": [],
      "source": [
        "# data.query(f'barrels08 > {mean - std} and barrels08 < {mean + std}')"
      ]
    },
    {
      "cell_type": "code",
      "execution_count": 15,
      "metadata": {
        "ExecuteTime": {
          "end_time": "2020-04-06T12:58:44.086709Z",
          "start_time": "2020-04-06T12:58:44.062745Z"
        },
        "scrolled": true,
        "colab": {
          "base_uri": "https://localhost:8080/"
        },
        "id": "lflGy3GZCZtF",
        "outputId": "193437c8-d05a-44c8-fd0b-0a36a99a7b5a"
      },
      "outputs": [
        {
          "output_type": "execute_result",
          "data": {
            "text/plain": [
              "0.7446027006315566"
            ]
          },
          "metadata": {},
          "execution_count": 15
        }
      ],
      "source": [
        "data.query(f'{mean - std} < barrels08 < {mean + std}').shape[0] / data.shape[0]"
      ]
    },
    {
      "cell_type": "code",
      "execution_count": 16,
      "metadata": {
        "ExecuteTime": {
          "end_time": "2020-04-06T13:04:04.824508Z",
          "start_time": "2020-04-06T13:04:04.624018Z"
        },
        "colab": {
          "base_uri": "https://localhost:8080/",
          "height": 367
        },
        "id": "YuQGVHc0CZtF",
        "outputId": "072ef3e8-f230-4ddd-8a68-45236ee59115"
      },
      "outputs": [
        {
          "output_type": "stream",
          "name": "stderr",
          "text": [
            "/usr/local/lib/python3.7/dist-packages/seaborn/distributions.py:2619: FutureWarning: `distplot` is a deprecated function and will be removed in a future version. Please adapt your code to use either `displot` (a figure-level function with similar flexibility) or `histplot` (an axes-level function for histograms).\n",
            "  warnings.warn(msg, FutureWarning)\n"
          ]
        },
        {
          "output_type": "execute_result",
          "data": {
            "text/plain": [
              "(0.0, 0.12)"
            ]
          },
          "metadata": {},
          "execution_count": 16
        },
        {
          "output_type": "display_data",
          "data": {
            "text/plain": [
              "<Figure size 432x288 with 1 Axes>"
            ],
            "image/png": "[encoded data removed]"
          },
          "metadata": {
            "needs_background": "light"
          }
        }
      ],
      "source": [
        "sns.distplot(data.barrels08)\n",
        "\n",
        "x = data.barrels08.median()\n",
        "plt.title('Media + 2 desvios padrões')\n",
        "plt.vlines(x, 0, 0.13, color='gray')\n",
        "plt.vlines(mean + 2 * std, 0, 0.13, color='red')\n",
        "plt.vlines(mean - 2 * std, 0, 0.13, color='red')\n",
        "plt.ylim([0, 0.12])"
      ]
    },
    {
      "cell_type": "code",
      "execution_count": 17,
      "metadata": {
        "ExecuteTime": {
          "end_time": "2020-04-06T13:02:28.678882Z",
          "start_time": "2020-04-06T13:02:28.647937Z"
        },
        "colab": {
          "base_uri": "https://localhost:8080/"
        },
        "id": "LwyD8XzACZtF",
        "outputId": "e6896482-3c3d-4be6-92fc-09fe69579460"
      },
      "outputs": [
        {
          "output_type": "execute_result",
          "data": {
            "text/plain": [
              "0.950743862801575"
            ]
          },
          "metadata": {},
          "execution_count": 17
        }
      ],
      "source": [
        "data.query(f'{mean - 2 * std} < barrels08 < {mean + 2 * std}').shape[0] / data.shape[0]"
      ]
    },
    {
      "cell_type": "code",
      "execution_count": 18,
      "metadata": {
        "ExecuteTime": {
          "end_time": "2020-04-06T13:03:32.001723Z",
          "start_time": "2020-04-06T13:03:31.997733Z"
        },
        "colab": {
          "base_uri": "https://localhost:8080/"
        },
        "id": "1rOK4bUSCZtF",
        "outputId": "8aa6f09d-eb39-4946-fc28-a2e258688931"
      },
      "outputs": [
        {
          "output_type": "execute_result",
          "data": {
            "text/plain": [
              "17.532506123093643"
            ]
          },
          "metadata": {},
          "execution_count": 18
        }
      ],
      "source": [
        "data.barrels08.mean()"
      ]
    },
    {
      "cell_type": "code",
      "execution_count": 19,
      "metadata": {
        "ExecuteTime": {
          "end_time": "2020-04-06T13:04:25.043710Z",
          "start_time": "2020-04-06T13:04:24.842221Z"
        },
        "colab": {
          "base_uri": "https://localhost:8080/",
          "height": 367
        },
        "id": "5ztvT1hOCZtG",
        "outputId": "3079cc9f-7df6-4f28-9b30-4e91f6e87dff"
      },
      "outputs": [
        {
          "output_type": "stream",
          "name": "stderr",
          "text": [
            "/usr/local/lib/python3.7/dist-packages/seaborn/distributions.py:2619: FutureWarning: `distplot` is a deprecated function and will be removed in a future version. Please adapt your code to use either `displot` (a figure-level function with similar flexibility) or `histplot` (an axes-level function for histograms).\n",
            "  warnings.warn(msg, FutureWarning)\n"
          ]
        },
        {
          "output_type": "execute_result",
          "data": {
            "text/plain": [
              "(0.0, 0.12)"
            ]
          },
          "metadata": {},
          "execution_count": 19
        },
        {
          "output_type": "display_data",
          "data": {
            "text/plain": [
              "<Figure size 432x288 with 1 Axes>"
            ],
            "image/png": "[encoded data removed]"
          },
          "metadata": {
            "needs_background": "light"
          }
        }
      ],
      "source": [
        "sns.distplot(data.barrels08)\n",
        "x = data.barrels08.median()\n",
        "plt.title('Media + 3 desvios padrões')\n",
        "plt.vlines(x, 0, 0.13, color='gray')\n",
        "plt.vlines(mean + 3 * std, 0, 0.13, color='red')\n",
        "plt.vlines(mean - 3 * std, 0, 0.13, color='red')\n",
        "plt.ylim([0, 0.12])"
      ]
    },
    {
      "cell_type": "code",
      "execution_count": 20,
      "metadata": {
        "ExecuteTime": {
          "end_time": "2020-04-06T13:04:40.768106Z",
          "start_time": "2020-04-06T13:04:40.739459Z"
        },
        "colab": {
          "base_uri": "https://localhost:8080/"
        },
        "id": "upUfAm8CCZtG",
        "outputId": "3c805c09-44ab-48b3-a096-9c8288fe1db8"
      },
      "outputs": [
        {
          "output_type": "execute_result",
          "data": {
            "text/plain": [
              "0.9890336389821103"
            ]
          },
          "metadata": {},
          "execution_count": 20
        }
      ],
      "source": [
        "data.query(f'{mean - 3 * std} < barrels08 < {mean + 3 * std}').shape[0] / data.shape[0]"
      ]
    },
    {
      "cell_type": "code",
      "execution_count": 21,
      "metadata": {
        "ExecuteTime": {
          "end_time": "2020-04-06T13:25:05.830652Z",
          "start_time": "2020-04-06T13:25:05.747903Z"
        },
        "colab": {
          "base_uri": "https://localhost:8080/",
          "height": 351
        },
        "id": "_Hn9AWuhCZtG",
        "outputId": "f9a58faf-804a-42d3-e76b-dfb54892d055"
      },
      "outputs": [
        {
          "output_type": "stream",
          "name": "stderr",
          "text": [
            "/usr/local/lib/python3.7/dist-packages/seaborn/_decorators.py:43: FutureWarning: Pass the following variable as a keyword arg: x. From version 0.12, the only valid positional argument will be `data`, and passing other arguments without an explicit keyword will result in an error or misinterpretation.\n",
            "  FutureWarning\n"
          ]
        },
        {
          "output_type": "execute_result",
          "data": {
            "text/plain": [
              "<matplotlib.axes._subplots.AxesSubplot at 0x7f007bb07050>"
            ]
          },
          "metadata": {},
          "execution_count": 21
        },
        {
          "output_type": "display_data",
          "data": {
            "text/plain": [
              "<Figure size 432x288 with 1 Axes>"
            ],
            "image/png": "[encoded data removed]"
          },
          "metadata": {
            "needs_background": "light"
          }
        }
      ],
      "source": [
        "sns.boxplot(data.barrels08)"
      ]
    },
    {
      "cell_type": "code",
      "execution_count": 22,
      "metadata": {
        "ExecuteTime": {
          "end_time": "2020-04-06T13:29:11.870612Z",
          "start_time": "2020-04-06T13:29:11.864627Z"
        },
        "id": "E4Iz-qsJCZtG"
      },
      "outputs": [],
      "source": [
        "iqr = stats.loc['barrels08', 'IQR']\n",
        "q3 = stats.loc['barrels08', '75%']\n",
        "q1 = stats.loc['barrels08', '25%']"
      ]
    },
    {
      "cell_type": "code",
      "execution_count": 23,
      "metadata": {
        "ExecuteTime": {
          "end_time": "2020-04-06T13:30:05.008928Z",
          "start_time": "2020-04-06T13:30:04.836390Z"
        },
        "colab": {
          "base_uri": "https://localhost:8080/",
          "height": 334
        },
        "id": "0_i6mZZ5CZtG",
        "outputId": "7c4f7de0-9f0c-45ef-c771-f7d73d7e0e12"
      },
      "outputs": [
        {
          "output_type": "stream",
          "name": "stderr",
          "text": [
            "/usr/local/lib/python3.7/dist-packages/seaborn/distributions.py:2619: FutureWarning: `distplot` is a deprecated function and will be removed in a future version. Please adapt your code to use either `displot` (a figure-level function with similar flexibility) or `histplot` (an axes-level function for histograms).\n",
            "  warnings.warn(msg, FutureWarning)\n"
          ]
        },
        {
          "output_type": "display_data",
          "data": {
            "text/plain": [
              "<Figure size 432x288 with 1 Axes>"
            ],
            "image/png": "[encoded data removed]"
          },
          "metadata": {
            "needs_background": "light"
          }
        }
      ],
      "source": [
        "sns.distplot(data.barrels08)\n",
        "plt.vlines(x=q3 + 1.5 * iqr, ymin=0, ymax=0.13)\n",
        "plt.vlines(x=q1 - 1.5 * iqr, ymin=0, ymax=0.13)\n",
        "plt.show()"
      ]
    },
    {
      "cell_type": "code",
      "execution_count": 24,
      "metadata": {
        "ExecuteTime": {
          "end_time": "2020-04-06T13:33:09.314559Z",
          "start_time": "2020-04-06T13:33:09.048272Z"
        },
        "colab": {
          "base_uri": "https://localhost:8080/",
          "height": 368
        },
        "id": "8RMlK_hgCZtH",
        "outputId": "345e2df5-24ee-44a5-d402-db23aef5739d"
      },
      "outputs": [
        {
          "output_type": "stream",
          "name": "stderr",
          "text": [
            "/usr/local/lib/python3.7/dist-packages/seaborn/distributions.py:2619: FutureWarning: `distplot` is a deprecated function and will be removed in a future version. Please adapt your code to use either `displot` (a figure-level function with similar flexibility) or `histplot` (an axes-level function for histograms).\n",
            "  warnings.warn(msg, FutureWarning)\n",
            "/usr/local/lib/python3.7/dist-packages/seaborn/distributions.py:2619: FutureWarning: `distplot` is a deprecated function and will be removed in a future version. Please adapt your code to use either `displot` (a figure-level function with similar flexibility) or `histplot` (an axes-level function for histograms).\n",
            "  warnings.warn(msg, FutureWarning)\n"
          ]
        },
        {
          "output_type": "display_data",
          "data": {
            "text/plain": [
              "<Figure size 432x288 with 1 Axes>"
            ],
            "image/png": "[encoded data removed]"
          },
          "metadata": {
            "needs_background": "light"
          }
        }
      ],
      "source": [
        "sns.distplot(data.barrels08)\n",
        "\n",
        "sns.distplot(data.barrels08)\n",
        "plt.vlines(x=(stats.loc['barrels08']['25%'] - stats.loc['barrels08']['IQR'] * 1.5 ), ymin=0, ymax=0.13, color='blue')\n",
        "plt.vlines(x=(stats.loc['barrels08']['75%'] + stats.loc['barrels08']['IQR'] * 1.5 ), ymin=0, ymax=0.13, color='blue')\n",
        "plt.vlines(x=(stats.loc['barrels08']['25%'] ), ymin=0, ymax=0.13, color='k')\n",
        "plt.vlines(x=(stats.loc['barrels08']['75%'] ), ymin=0, ymax=0.13, color='k')\n",
        "plt.vlines(x=(stats.loc['barrels08']['50%'] ), ymin=0, ymax=0.13, color='k')\n",
        "\n",
        "\n",
        "\n",
        "\n",
        "plt.vlines(x=(stats.loc['barrels08']['mean'] - stats.loc['barrels08']['std'] * 3 ), ymin=0, ymax=0.13, color='red')\n",
        "plt.vlines(x=(stats.loc['barrels08']['mean'] + stats.loc['barrels08']['std'] * 3 ), ymin=0, ymax=0.13, color='red')\n",
        "\n",
        "\n",
        "plt.show()"
      ]
    },
    {
      "cell_type": "code",
      "execution_count": 25,
      "metadata": {
        "ExecuteTime": {
          "end_time": "2020-04-06T13:34:42.961713Z",
          "start_time": "2020-04-06T13:34:42.952708Z"
        },
        "colab": {
          "base_uri": "https://localhost:8080/"
        },
        "id": "60r3bfCJCZtH",
        "outputId": "5c8e54d1-1a9d-4591-a17c-535a7e5af2e7"
      },
      "outputs": [
        {
          "output_type": "execute_result",
          "data": {
            "text/plain": [
              "count    37843.000000\n",
              "mean        17.532506\n",
              "std          4.575950\n",
              "min          0.060000\n",
              "25%         14.330870\n",
              "50%         17.347895\n",
              "75%         20.600625\n",
              "max         47.087143\n",
              "Name: barrels08, dtype: float64"
            ]
          },
          "metadata": {},
          "execution_count": 25
        }
      ],
      "source": [
        "data.barrels08.describe()"
      ]
    },
    {
      "cell_type": "markdown",
      "metadata": {
        "id": "dQII0yIhCZtH"
      },
      "source": [
        "# Distribuições Não Normais"
      ]
    },
    {
      "cell_type": "code",
      "execution_count": 26,
      "metadata": {
        "ExecuteTime": {
          "end_time": "2020-04-06T14:03:13.368086Z",
          "start_time": "2020-04-06T14:03:13.116745Z"
        },
        "id": "9d1KYPOoCZtH",
        "outputId": "b794f5bd-0bde-49f2-83ed-b0b29085c73e",
        "colab": {
          "base_uri": "https://localhost:8080/",
          "height": 351
        }
      },
      "outputs": [
        {
          "output_type": "stream",
          "name": "stderr",
          "text": [
            "/usr/local/lib/python3.7/dist-packages/seaborn/distributions.py:2619: FutureWarning: `distplot` is a deprecated function and will be removed in a future version. Please adapt your code to use either `displot` (a figure-level function with similar flexibility) or `histplot` (an axes-level function for histograms).\n",
            "  warnings.warn(msg, FutureWarning)\n"
          ]
        },
        {
          "output_type": "execute_result",
          "data": {
            "text/plain": [
              "<matplotlib.axes._subplots.AxesSubplot at 0x7f007edadb50>"
            ]
          },
          "metadata": {},
          "execution_count": 26
        },
        {
          "output_type": "display_data",
          "data": {
            "text/plain": [
              "<Figure size 432x288 with 1 Axes>"
            ],
            "image/png": "[encoded data removed]"
          },
          "metadata": {
            "needs_background": "light"
          }
        }
      ],
      "source": [
        "sns.distplot(data.pv4)"
      ]
    },
    {
      "cell_type": "code",
      "execution_count": 27,
      "metadata": {
        "ExecuteTime": {
          "end_time": "2020-04-06T14:05:15.664117Z",
          "start_time": "2020-04-06T14:05:15.558400Z"
        },
        "id": "UMsSqwfICZtH",
        "outputId": "6ba145ff-13fe-459d-dc90-bc5eac088493",
        "colab": {
          "base_uri": "https://localhost:8080/",
          "height": 351
        }
      },
      "outputs": [
        {
          "output_type": "stream",
          "name": "stderr",
          "text": [
            "/usr/local/lib/python3.7/dist-packages/seaborn/distributions.py:2619: FutureWarning: `distplot` is a deprecated function and will be removed in a future version. Please adapt your code to use either `displot` (a figure-level function with similar flexibility) or `kdeplot` (an axes-level function for kernel density plots).\n",
            "  warnings.warn(msg, FutureWarning)\n"
          ]
        },
        {
          "output_type": "execute_result",
          "data": {
            "text/plain": [
              "<matplotlib.axes._subplots.AxesSubplot at 0x7f007ed3ef10>"
            ]
          },
          "metadata": {},
          "execution_count": 27
        },
        {
          "output_type": "display_data",
          "data": {
            "text/plain": [
              "<Figure size 432x288 with 1 Axes>"
            ],
            "image/png": "[encoded data removed]"
          },
          "metadata": {
            "needs_background": "light"
          }
        }
      ],
      "source": [
        "sns.distplot(data.pv4, hist=False)"
      ]
    },
    {
      "cell_type": "code",
      "execution_count": null,
      "metadata": {
        "ExecuteTime": {
          "end_time": "2020-04-06T14:05:31.479459Z",
          "start_time": "2020-04-06T14:05:31.471480Z"
        },
        "id": "1g5Aw1vrCZtI"
      },
      "outputs": [],
      "source": [
        "data.pv4.describe()"
      ]
    },
    {
      "cell_type": "code",
      "execution_count": null,
      "metadata": {
        "ExecuteTime": {
          "end_time": "2020-04-06T14:08:16.410877Z",
          "start_time": "2020-04-06T14:08:16.305161Z"
        },
        "id": "0PbYTKTxCZtI"
      },
      "outputs": [],
      "source": [
        "# só funciona para distribuições normais\n",
        "sns.distplot(data.pv4, hist=False)\n",
        "plt.vlines(x=(stats.loc['pv4']['25%'] - stats.loc['pv4']['IQR'] * 1.5 ), ymin=0, ymax=0.13, color='red')\n",
        "plt.vlines(x=(stats.loc['pv4']['75%'] + stats.loc['pv4']['IQR'] * 1.5 ), ymin=0, ymax=0.13, color='red')\n",
        "plt.show() "
      ]
    },
    {
      "cell_type": "code",
      "execution_count": null,
      "metadata": {
        "ExecuteTime": {
          "end_time": "2020-04-06T14:08:54.227921Z",
          "start_time": "2020-04-06T14:08:54.124691Z"
        },
        "id": "c1OBfOv0CZtI"
      },
      "outputs": [],
      "source": [
        "# só funciona para distribuições normais\n",
        "sns.distplot(data.pv4, hist=False)\n",
        "plt.vlines(x=(stats.loc['pv4']['mean'] - stats.loc['pv4']['std'] * 3 ), ymin=0, ymax=0.13, color='blue')\n",
        "plt.vlines(x=(stats.loc['pv4']['mean'] + stats.loc['pv4']['std'] * 3 ), ymin=0, ymax=0.13, color='blue')\n",
        "plt.show()\n"
      ]
    },
    {
      "cell_type": "code",
      "execution_count": null,
      "metadata": {
        "ExecuteTime": {
          "end_time": "2020-04-06T14:10:20.924037Z",
          "start_time": "2020-04-06T14:10:20.739507Z"
        },
        "scrolled": true,
        "id": "aHd0YWlmCZtI"
      },
      "outputs": [],
      "source": [
        "data.describe().T"
      ]
    },
    {
      "cell_type": "code",
      "execution_count": null,
      "metadata": {
        "ExecuteTime": {
          "end_time": "2020-04-06T14:11:38.981811Z",
          "start_time": "2020-04-06T14:11:38.832214Z"
        },
        "scrolled": true,
        "id": "dSurRiCwCZtI"
      },
      "outputs": [],
      "source": [
        "data.fuelCostA08.plot(kind='hist')"
      ]
    },
    {
      "cell_type": "code",
      "execution_count": null,
      "metadata": {
        "ExecuteTime": {
          "end_time": "2020-04-06T14:12:16.647231Z",
          "start_time": "2020-04-06T14:12:16.641248Z"
        },
        "id": "7fexNk_rCZtI"
      },
      "outputs": [],
      "source": [
        "upper_limit = data.fuelCostA08.mean() + 3 * data.fuelCostA08.std()\n",
        "lower_limit = data.fuelCostA08.mean() - 3 * data.fuelCostA08.std()"
      ]
    },
    {
      "cell_type": "code",
      "execution_count": null,
      "metadata": {
        "ExecuteTime": {
          "end_time": "2020-04-06T14:12:44.968940Z",
          "start_time": "2020-04-06T14:12:44.831087Z"
        },
        "id": "S3gVp2v3CZtI"
      },
      "outputs": [],
      "source": [
        "data.fuelCostA08.plot(kind='hist')\n",
        "plt.vlines(upper_limit, 0, 36000)\n",
        "plt.ylim([0, 36000])"
      ]
    },
    {
      "cell_type": "code",
      "execution_count": null,
      "metadata": {
        "ExecuteTime": {
          "end_time": "2020-04-06T14:14:43.365390Z",
          "start_time": "2020-04-06T14:14:43.357412Z"
        },
        "id": "pf078yBgCZtJ"
      },
      "outputs": [],
      "source": [
        "data.fuelCostA08.describe()"
      ]
    },
    {
      "cell_type": "code",
      "execution_count": null,
      "metadata": {
        "ExecuteTime": {
          "end_time": "2020-04-06T14:14:14.286970Z",
          "start_time": "2020-04-06T14:14:14.144842Z"
        },
        "id": "Fe88Et_JCZtJ"
      },
      "outputs": [],
      "source": [
        "upper_limit = stats.loc['fuelCostA08', '75%'] + 1.5 * stats.loc['fuelCostA08', 'IQR']\n",
        "lower_limit = stats.loc['fuelCostA08', '25%'] - 1.5 * stats.loc['fuelCostA08', 'IQR']\n",
        "\n",
        "data.fuelCostA08.plot(kind='hist')\n",
        "plt.vlines(upper_limit, 0, 36000, color='red')\n",
        "plt.ylim([0, 36000])"
      ]
    },
    {
      "cell_type": "code",
      "execution_count": null,
      "metadata": {
        "ExecuteTime": {
          "end_time": "2020-04-06T14:15:25.790412Z",
          "start_time": "2020-04-06T14:15:25.695360Z"
        },
        "id": "niZbC4X6CZtJ"
      },
      "outputs": [],
      "source": [
        "sns.boxplot(data.fuelCostA08)"
      ]
    },
    {
      "cell_type": "code",
      "execution_count": null,
      "metadata": {
        "ExecuteTime": {
          "end_time": "2020-04-06T14:16:47.999633Z",
          "start_time": "2020-04-06T14:16:47.994670Z"
        },
        "id": "u38QsnOhCZtJ"
      },
      "outputs": [],
      "source": [
        "# por quê?\n",
        "stats.loc['pv4']"
      ]
    },
    {
      "cell_type": "code",
      "execution_count": null,
      "metadata": {
        "ExecuteTime": {
          "end_time": "2020-04-06T14:17:01.223088Z",
          "start_time": "2020-04-06T14:17:01.218101Z"
        },
        "id": "KyZMZUELCZtJ"
      },
      "outputs": [],
      "source": [
        "(data.pv4 != 0).sum()"
      ]
    },
    {
      "cell_type": "code",
      "execution_count": null,
      "metadata": {
        "ExecuteTime": {
          "end_time": "2020-04-06T14:17:04.777205Z",
          "start_time": "2020-04-06T14:17:04.772218Z"
        },
        "id": "XkoiXTdfCZtJ"
      },
      "outputs": [],
      "source": [
        "(data.pv4 != 0).mean()"
      ]
    },
    {
      "cell_type": "code",
      "execution_count": null,
      "metadata": {
        "ExecuteTime": {
          "end_time": "2020-04-06T14:17:27.410983Z",
          "start_time": "2020-04-06T14:17:27.405973Z"
        },
        "id": "AExGG6-4CZtJ"
      },
      "outputs": [],
      "source": [
        "(data.fuelCostA08 != 0).mean()"
      ]
    },
    {
      "cell_type": "code",
      "execution_count": null,
      "metadata": {
        "ExecuteTime": {
          "end_time": "2020-04-06T14:19:17.724398Z",
          "start_time": "2020-04-06T14:19:17.718415Z"
        },
        "id": "63Xo5LuNCZtK"
      },
      "outputs": [],
      "source": []
    },
    {
      "cell_type": "code",
      "execution_count": null,
      "metadata": {
        "ExecuteTime": {
          "end_time": "2020-04-06T14:24:06.121529Z",
          "start_time": "2020-04-06T14:24:06.116543Z"
        },
        "id": "PIBwAkPpCZtK"
      },
      "outputs": [],
      "source": [
        "data.pv4.quantile(q=0.95)"
      ]
    },
    {
      "cell_type": "code",
      "execution_count": null,
      "metadata": {
        "ExecuteTime": {
          "end_time": "2020-04-06T14:25:14.711922Z",
          "start_time": "2020-04-06T14:25:14.708928Z"
        },
        "id": "Qny6wI7CCZtK"
      },
      "outputs": [],
      "source": [
        "# sns.distplot(data.query('pv4 != 0').pv4)"
      ]
    },
    {
      "cell_type": "code",
      "execution_count": null,
      "metadata": {
        "ExecuteTime": {
          "end_time": "2020-04-06T14:25:18.686993Z",
          "start_time": "2020-04-06T14:25:18.683005Z"
        },
        "id": "_4jTq-ZjCZtN"
      },
      "outputs": [],
      "source": [
        "# sns.distplot(np.clip(data.pv4, data.pv4.quantile(q=0.70), data.pv4.max()), hist=False)"
      ]
    },
    {
      "cell_type": "markdown",
      "metadata": {
        "id": "VPdYM9aVCZtN"
      },
      "source": [
        "# Skewness\n",
        "\n",
        "O quão assimétrica é sua curva"
      ]
    },
    {
      "cell_type": "code",
      "execution_count": null,
      "metadata": {
        "ExecuteTime": {
          "end_time": "2020-04-06T14:28:10.315933Z",
          "start_time": "2020-04-06T14:28:10.311944Z"
        },
        "id": "17rBy8n3CZtN"
      },
      "outputs": [],
      "source": [
        "N = 10000"
      ]
    },
    {
      "cell_type": "code",
      "execution_count": null,
      "metadata": {
        "ExecuteTime": {
          "end_time": "2020-04-06T14:28:10.966204Z",
          "start_time": "2020-04-06T14:28:10.800636Z"
        },
        "id": "t7prDG8tCZtN"
      },
      "outputs": [],
      "source": [
        "uniform = np.random.randint(0, 100, size=N)\n",
        "sns.distplot(uniform)"
      ]
    },
    {
      "cell_type": "code",
      "execution_count": null,
      "metadata": {
        "ExecuteTime": {
          "end_time": "2020-04-06T14:28:28.324181Z",
          "start_time": "2020-04-06T14:28:28.210079Z"
        },
        "scrolled": true,
        "id": "XevzYn4sCZtN"
      },
      "outputs": [],
      "source": [
        "normal = np.random.normal(size=N)\n",
        "sns.distplot(normal, hist=False)"
      ]
    },
    {
      "cell_type": "code",
      "execution_count": null,
      "metadata": {
        "ExecuteTime": {
          "end_time": "2020-04-06T14:28:52.023573Z",
          "start_time": "2020-04-06T14:28:52.019585Z"
        },
        "id": "HA9_cc9_CZtN"
      },
      "outputs": [],
      "source": [
        "df = pd.DataFrame(normal, columns=['normal'])"
      ]
    },
    {
      "cell_type": "code",
      "execution_count": null,
      "metadata": {
        "ExecuteTime": {
          "end_time": "2020-04-06T14:28:53.081460Z",
          "start_time": "2020-04-06T14:28:53.073481Z"
        },
        "id": "Hiv_Er0iCZtO"
      },
      "outputs": [],
      "source": [
        "df"
      ]
    },
    {
      "cell_type": "code",
      "execution_count": null,
      "metadata": {
        "ExecuteTime": {
          "end_time": "2020-04-06T14:29:07.208213Z",
          "start_time": "2020-04-06T14:29:07.203226Z"
        },
        "id": "Sx5D9eYACZtO"
      },
      "outputs": [],
      "source": [
        "df.normal.skew()"
      ]
    },
    {
      "cell_type": "markdown",
      "metadata": {
        "id": "XRQd6rLDCZtO"
      },
      "source": [
        "## Assimétrica para direita"
      ]
    },
    {
      "cell_type": "code",
      "execution_count": null,
      "metadata": {
        "ExecuteTime": {
          "end_time": "2020-04-06T14:35:03.594806Z",
          "start_time": "2020-04-06T14:35:03.472623Z"
        },
        "id": "_kFUzzM4CZtO"
      },
      "outputs": [],
      "source": [
        "gamma = np.random.gamma(shape=0.5, size=N )\n",
        "sns.distplot(gamma, hist=False)\n",
        "\n",
        "plt.vlines(np.mean(gamma), 0, 1, color='red')\n",
        "plt.vlines(np.median(gamma), 0, 1, color='k')\n",
        "\n",
        "plt.ylim([0, 2])"
      ]
    },
    {
      "cell_type": "code",
      "execution_count": null,
      "metadata": {
        "ExecuteTime": {
          "end_time": "2020-04-06T14:35:09.958848Z",
          "start_time": "2020-04-06T14:35:09.954889Z"
        },
        "id": "Vnpy6Q0DCZtO"
      },
      "outputs": [],
      "source": [
        "df['gamma'] = gamma"
      ]
    },
    {
      "cell_type": "code",
      "execution_count": null,
      "metadata": {
        "ExecuteTime": {
          "end_time": "2020-04-06T14:35:10.560695Z",
          "start_time": "2020-04-06T14:35:10.554706Z"
        },
        "id": "mp05hSKzCZtO"
      },
      "outputs": [],
      "source": [
        "df.skew()"
      ]
    },
    {
      "cell_type": "markdown",
      "metadata": {
        "id": "2v7q6r8uCZtO"
      },
      "source": [
        "## Assimétrica para esquerda"
      ]
    },
    {
      "cell_type": "code",
      "execution_count": null,
      "metadata": {
        "ExecuteTime": {
          "end_time": "2020-04-06T14:38:56.203940Z",
          "start_time": "2020-04-06T14:38:56.079765Z"
        },
        "id": "jKGoUBpECZtO"
      },
      "outputs": [],
      "source": [
        "beta = np.random.beta(a=500, b=0.01, size=N )\n",
        "sns.distplot(beta, hist=False)"
      ]
    },
    {
      "cell_type": "code",
      "execution_count": null,
      "metadata": {
        "ExecuteTime": {
          "end_time": "2020-04-06T14:38:58.113097Z",
          "start_time": "2020-04-06T14:38:58.109108Z"
        },
        "id": "DcYdiIo0CZtP"
      },
      "outputs": [],
      "source": [
        "df['beta'] = beta"
      ]
    },
    {
      "cell_type": "code",
      "execution_count": null,
      "metadata": {
        "ExecuteTime": {
          "end_time": "2020-04-06T14:38:58.342501Z",
          "start_time": "2020-04-06T14:38:58.339492Z"
        },
        "id": "R-sy6Y24CZtP"
      },
      "outputs": [],
      "source": [
        "df['uniform'] = uniform"
      ]
    },
    {
      "cell_type": "code",
      "execution_count": null,
      "metadata": {
        "ExecuteTime": {
          "end_time": "2020-04-06T14:38:58.625764Z",
          "start_time": "2020-04-06T14:38:58.619780Z"
        },
        "id": "HikUgWW1CZtP"
      },
      "outputs": [],
      "source": [
        "df.skew()"
      ]
    }
  ],
  "metadata": {
    "kernelspec": {
      "display_name": "Python 3 (ipykernel)",
      "language": "python",
      "name": "python3"
    },
    "language_info": {
      "codemirror_mode": {
        "name": "ipython",
        "version": 3
      },
      "file_extension": ".py",
      "mimetype": "text/x-python",
      "name": "python",
      "nbconvert_exporter": "python",
      "pygments_lexer": "ipython3",
      "version": "3.9.12"
    },
    "toc": {
      "base_numbering": 1,
      "nav_menu": {},
      "number_sections": true,
      "sideBar": true,
      "skip_h1_title": false,
      "title_cell": "Table of Contents",
      "title_sidebar": "Contents",
      "toc_cell": false,
      "toc_position": {},
      "toc_section_display": true,
      "toc_window_display": false
    },
    "colab": {
      "provenance": [],
      "include_colab_link": true
    }
  },
  "nbformat": 4,
  "nbformat_minor": 0
}