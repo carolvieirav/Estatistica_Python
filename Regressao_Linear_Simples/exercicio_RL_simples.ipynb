{
  "cells": [
    {
      "cell_type": "markdown",
      "metadata": {
        "id": "view-in-github",
        "colab_type": "text"
      },
      "source": [
        "<a href=\"https://colab.research.google.com/github/carolvieirav/Estatistica_Python/blob/main/Regressao_Linear_Simples/exercicio_RL_simples.ipynb\" target=\"_parent\"><img src=\"https://colab.research.google.com/assets/colab-badge.svg\" alt=\"Open In Colab\"/></a>"
      ]
    },
    {
      "cell_type": "markdown",
      "metadata": {
        "id": "47_cdZOgHjpW"
      },
      "source": [
        "## Exercício\n",
        "Um professor desenvolveu uma teoria de que quanto mais jovens os alunos são, mais frequentemente eles se atrasam para a aula. Para testar a hipótese, o professor coletou alguns dados na tabela a seguir:\n",
        "\n",
        "| id |  idade | atrasos |\n",
        "|--------|-----|------------|\n",
        "| 1      | 17  | 10         |\n",
        "| 2      | 51  | 1          |\n",
        "| 3      | 27  | 5          |\n",
        "| 4      | 21  | 9         |\n",
        "| 5      | 36  |  4         |\n",
        "| 6      | 48  |  2         |\n",
        "| 7      | 19  |  9         |\n",
        "| 8      | 26  | 6          |\n",
        "| 9      | 54  |  0         |\n",
        "| 10     | 30  |  3         |"
      ]
    },
    {
      "cell_type": "markdown",
      "metadata": {
        "id": "sOrGfGWdHjpX"
      },
      "source": [
        "Use este comando para criar um dataframe com os dados fornecidos na tabela.\n",
        "~~~~\n",
        "student_data = pd.DataFrame({'X': [x_values], 'Y': [y_values]})\n",
        "~~~~"
      ]
    },
    {
      "cell_type": "code",
      "execution_count": null,
      "metadata": {
        "id": "8N0sUod-HjpX"
      },
      "outputs": [],
      "source": [
        "# seu código aqui. "
      ]
    },
    {
      "cell_type": "markdown",
      "metadata": {
        "id": "dKJLWFl7HjpY"
      },
      "source": [
        "Desenhe um diagrama de dispersão (gráfico de dispersão/scatter plot) para os dados"
      ]
    },
    {
      "cell_type": "code",
      "execution_count": null,
      "metadata": {
        "id": "YVUMscbkHjpZ"
      },
      "outputs": [],
      "source": [
        "# seu código aqui. "
      ]
    },
    {
      "cell_type": "markdown",
      "metadata": {
        "id": "n_8UjqPyHjpZ"
      },
      "source": [
        "Você vê uma tendência? Você pode fazer alguma hipótese sobre a relação entre idade e número de atrasos?"
      ]
    },
    {
      "cell_type": "code",
      "execution_count": null,
      "metadata": {
        "id": "x85xSYFoHjpa"
      },
      "outputs": [],
      "source": [
        "# sua resposta aqui"
      ]
    },
    {
      "cell_type": "markdown",
      "metadata": {
        "id": "L_BtTJaSHjpb"
      },
      "source": [
        "Calcule a covariância e a correlação das variáveis ​​em seu gráfico. Qual a diferença entre essas duas medidas? Compare seus valores. O que eles dizem a você neste caso? Adicione suas respostas como comentários após seu código."
      ]
    },
    {
      "cell_type": "code",
      "execution_count": null,
      "metadata": {
        "id": "0B3HKEH2Hjpb"
      },
      "outputs": [],
      "source": [
        "# sua resposta aqui"
      ]
    },
    {
      "cell_type": "markdown",
      "metadata": {
        "id": "rff-i487Hjpb"
      },
      "source": [
        "Construa um modelo de regressão para esses dados. Qual será a sua variável de resultado? Que tipo de regressão você está usando? Adicione suas respostas como comentários após seu código."
      ]
    },
    {
      "cell_type": "code",
      "execution_count": null,
      "metadata": {
        "id": "lcyi1AolHjpc"
      },
      "outputs": [],
      "source": [
        "# sua resposta aqui"
      ]
    },
    {
      "cell_type": "markdown",
      "metadata": {
        "id": "yykL69WWHjpc"
      },
      "source": [
        "Plote seu modelo de regressão em seu scatter plot."
      ]
    },
    {
      "cell_type": "code",
      "execution_count": null,
      "metadata": {
        "id": "t_Zoe4V-Hjpc"
      },
      "outputs": [],
      "source": [
        "# seu código aqui"
      ]
    },
    {
      "cell_type": "markdown",
      "metadata": {
        "id": "IyBVfxDDHjpd"
      },
      "source": [
        "Interprete os resultados do seu modelo. Que conclusões você pode tirar do seu modelo e quão confiante você está nessas conclusões? Podemos dizer que a idade é um bom preditor de atraso? Adicione suas respostas como comentários após seu código."
      ]
    },
    {
      "cell_type": "code",
      "execution_count": null,
      "metadata": {
        "id": "C8hAzneUHjpd"
      },
      "outputs": [],
      "source": [
        "# sua resposta aqui. "
      ]
    }
  ],
  "metadata": {
    "kernelspec": {
      "display_name": "Python 3",
      "language": "python",
      "name": "python3"
    },
    "language_info": {
      "codemirror_mode": {
        "name": "ipython",
        "version": 3
      },
      "file_extension": ".py",
      "mimetype": "text/x-python",
      "name": "python",
      "nbconvert_exporter": "python",
      "pygments_lexer": "ipython3",
      "version": "3.6.8"
    },
    "colab": {
      "provenance": [],
      "include_colab_link": true
    }
  },
  "nbformat": 4,
  "nbformat_minor": 0
}