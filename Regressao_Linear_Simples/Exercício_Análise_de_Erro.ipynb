{
  "nbformat": 4,
  "nbformat_minor": 0,
  "metadata": {
    "colab": {
      "provenance": [],
      "authorship_tag": "ABX9TyPD0g1DpMCpPxQbMmHcfalG",
      "include_colab_link": true
    },
    "kernelspec": {
      "name": "python3",
      "display_name": "Python 3"
    },
    "language_info": {
      "name": "python"
    }
  },
  "cells": [
    {
      "cell_type": "markdown",
      "metadata": {
        "id": "view-in-github",
        "colab_type": "text"
      },
      "source": [
        "<a href=\"https://colab.research.google.com/github/carolvieirav/Estatistica_Python/blob/main/Regressao_Linear_Simples/Exerc%C3%ADcio_An%C3%A1lise_de_Erro.ipynb\" target=\"_parent\"><img src=\"https://colab.research.google.com/assets/colab-badge.svg\" alt=\"Open In Colab\"/></a>"
      ]
    },
    {
      "cell_type": "code",
      "execution_count": null,
      "metadata": {
        "id": "IXZDrDzqhTDV"
      },
      "outputs": [],
      "source": []
    },
    {
      "cell_type": "markdown",
      "source": [
        "#Exercício"
      ],
      "metadata": {
        "id": "F0p1ZK64hwDP"
      }
    },
    {
      "cell_type": "markdown",
      "source": [
        "Estou desconfiado das últimas festas que dei: parece que quanto mais pessoas eu convido, mais pessoas não podem comparecer. Para saber se meu palpite é suportado por dados, decidi fazer uma análise. Coletei meus dados na tabela abaixo, onde X é o número de pessoas que convidei e Y é o número de pessoas que compareceram.\n",
        "\n",
        "|  X |  Y |\n",
        "|----|----|\n",
        "| 1  |  1 |\n",
        "| 3  |  2 |\n",
        "| 4  |  4 |\n",
        "| 6  |  4 |\n",
        "| 8  |  5 |\n",
        "| 9  |  7 |\n",
        "| 11 |  8 |\n",
        "| 14 |  13 |"
      ],
      "metadata": {
        "id": "QELdYciwhzyu"
      }
    },
    {
      "cell_type": "markdown",
      "source": [
        "Queremos saber se a relação modelada pelas duas variáveis é linear ou não e, portanto, se é apropriado modelá-la como uma regressão linear.\n",
        "**Primeiro, construa um dataframe com os dados:**"
      ],
      "metadata": {
        "id": "mzCT5i1CiF3n"
      }
    },
    {
      "cell_type": "code",
      "source": [
        "#seu codigo aqui"
      ],
      "metadata": {
        "id": "ebUfVf6XhzCe"
      },
      "execution_count": null,
      "outputs": []
    },
    {
      "cell_type": "markdown",
      "source": [
        "Execute um diagrama de dispersão com os dados e trace uma linha de regressão:"
      ],
      "metadata": {
        "id": "Y57Vr7xviWPe"
      }
    },
    {
      "cell_type": "code",
      "source": [
        "#seu codigo aqui"
      ],
      "metadata": {
        "id": "zkpWbB-wjBfA"
      },
      "execution_count": null,
      "outputs": []
    },
    {
      "cell_type": "markdown",
      "source": [
        "O que você vê? O que esse gráfico diz sobre a provável relação entre as variáveis? `Print` os resultados da sua regressão."
      ],
      "metadata": {
        "id": "qkHFuXuoi1xA"
      }
    },
    {
      "cell_type": "code",
      "source": [
        "#seu codigo aqui"
      ],
      "metadata": {
        "id": "Hip5xnaSiw2x"
      },
      "execution_count": null,
      "outputs": []
    }
  ]
}