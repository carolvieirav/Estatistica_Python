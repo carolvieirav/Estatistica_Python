{
  "cells": [
    {
      "cell_type": "markdown",
      "metadata": {
        "id": "view-in-github",
        "colab_type": "text"
      },
      "source": [
        "<a href=\"https://colab.research.google.com/github/carolvieirav/Estatistica_Python/blob/main/estatistica_descritiva.ipynb\" target=\"_parent\"><img src=\"https://colab.research.google.com/assets/colab-badge.svg\" alt=\"Open In Colab\"/></a>"
      ]
    },
    {
      "cell_type": "markdown",
      "metadata": {
        "id": "TTyRl7y2CZs9"
      },
      "source": [
        "# Revisão Rápida"
      ]
    },
    {
      "cell_type": "markdown",
      "metadata": {
        "id": "X9M1J9Q2CZs_"
      },
      "source": [
        "- Medidas de Tendência Central --> Sintetizar um dataset através de um único valor\n",
        "    - Moda, Mediana, Media\n",
        "        - Outlier: Media considera tudo e, por isso, é afetada por outliers (o outlier puxa a média pra perto dele)\n",
        "        - Outlier: Mediana considera o ponto do meio do dataset (o lado bom disso é que ela é menos afetada por outliers)\n",
        "                \n",
        "    - Medias geometrica, aritmetica e harmônica\n",
        "        - harmonica: uma média que penaliza valores muito baixos\n",
        "\n",
        "- Medidas de Dispersão\n",
        "    - Range, Desvio Padrão, Variância\n",
        "        - Variância: Informação contida numa variável\n",
        "\n",
        "- Distribuições\n",
        "    - Frequências (histograma)\n",
        "    - kde - Kernel Density Estimation\n",
        "        - Gaussian Distribution\n"
      ]
    },
    {
      "cell_type": "markdown",
      "metadata": {
        "id": "0c9_Rz8wCZs_"
      },
      "source": [
        "# Distribuição Gaussiana\n",
        "> Objetivos: Observar as propriedades da distribuição normal com dados reais."
      ]
    },
    {
      "cell_type": "code",
      "execution_count": null,
      "metadata": {
        "ExecuteTime": {
          "end_time": "2020-04-06T12:35:38.573709Z",
          "start_time": "2020-04-06T12:35:38.094942Z"
        },
        "id": "DE7bspdzCZtA"
      },
      "outputs": [],
      "source": [
        "import pandas as pd\n",
        "import numpy as np"
      ]
    },
    {
      "cell_type": "code",
      "execution_count": null,
      "metadata": {
        "ExecuteTime": {
          "end_time": "2020-04-06T12:35:56.871031Z",
          "start_time": "2020-04-06T12:35:56.443599Z"
        },
        "id": "cNwyVRIACZtB"
      },
      "outputs": [],
      "source": [
        "data = pd.read_csv('/content/vehicles_messy.csv', low_memory=False)"
      ]
    },
    {
      "cell_type": "code",
      "execution_count": null,
      "metadata": {
        "ExecuteTime": {
          "end_time": "2020-04-06T12:36:06.676276Z",
          "start_time": "2020-04-06T12:36:06.652339Z"
        },
        "colab": {
          "base_uri": "https://localhost:8080/",
          "height": 560
        },
        "id": "5xkhLDx4CZtB",
        "outputId": "6856041e-61ce-4dfd-85ae-0c4b47205686"
      },
      "outputs": [
        {
          "output_type": "execute_result",
          "data": {
            "text/plain": [
              "   barrels08  barrelsA08  charge120  charge240  city08  city08U  cityA08  \\\n",
              "0  15.695714         0.0        0.0        0.0      19      0.0        0   \n",
              "1  29.964545         0.0        0.0        0.0       9      0.0        0   \n",
              "2  12.207778         0.0        0.0        0.0      23      0.0        0   \n",
              "3  29.964545         0.0        0.0        0.0      10      0.0        0   \n",
              "4  17.347895         0.0        0.0        0.0      17      0.0        0   \n",
              "\n",
              "   cityA08U  cityCD  cityE  ...  mfrCode  c240Dscr  charge240b  c240bDscr  \\\n",
              "0       0.0     0.0    0.0  ...      NaN       NaN         0.0        NaN   \n",
              "1       0.0     0.0    0.0  ...      NaN       NaN         0.0        NaN   \n",
              "2       0.0     0.0    0.0  ...      NaN       NaN         0.0        NaN   \n",
              "3       0.0     0.0    0.0  ...      NaN       NaN         0.0        NaN   \n",
              "4       0.0     0.0    0.0  ...      NaN       NaN         0.0        NaN   \n",
              "\n",
              "                      createdOn                    modifiedOn  startStop  \\\n",
              "0  Tue Jan 01 00:00:00 EST 2013  Tue Jan 01 00:00:00 EST 2013        NaN   \n",
              "1  Tue Jan 01 00:00:00 EST 2013  Tue Jan 01 00:00:00 EST 2013        NaN   \n",
              "2  Tue Jan 01 00:00:00 EST 2013  Tue Jan 01 00:00:00 EST 2013        NaN   \n",
              "3  Tue Jan 01 00:00:00 EST 2013  Tue Jan 01 00:00:00 EST 2013        NaN   \n",
              "4  Tue Jan 01 00:00:00 EST 2013  Tue Jan 01 00:00:00 EST 2013        NaN   \n",
              "\n",
              "   phevCity  phevHwy  phevComb  \n",
              "0       0.0      0.0       0.0  \n",
              "1       0.0      0.0       0.0  \n",
              "2       0.0      0.0       0.0  \n",
              "3       0.0      0.0       0.0  \n",
              "4       0.0      0.0       0.0  \n",
              "\n",
              "[5 rows x 83 columns]"
            ],
            "text/html": [
              "\n",
              "  <div id=\"df-c12bb479-6764-4b9b-8334-e8a8f60f940c\">\n",
              "    <div class=\"colab-df-container\">\n",
              "      <div>\n",
              "<style scoped>\n",
              "    .dataframe tbody tr th:only-of-type {\n",
              "        vertical-align: middle;\n",
              "    }\n",
              "\n",
              "    .dataframe tbody tr th {\n",
              "        vertical-align: top;\n",
              "    }\n",
              "\n",
              "    .dataframe thead th {\n",
              "        text-align: right;\n",
              "    }\n",
              "</style>\n",
              "<table border=\"1\" class=\"dataframe\">\n",
              "  <thead>\n",
              "    <tr style=\"text-align: right;\">\n",
              "      <th></th>\n",
              "      <th>barrels08</th>\n",
              "      <th>barrelsA08</th>\n",
              "      <th>charge120</th>\n",
              "      <th>charge240</th>\n",
              "      <th>city08</th>\n",
              "      <th>city08U</th>\n",
              "      <th>cityA08</th>\n",
              "      <th>cityA08U</th>\n",
              "      <th>cityCD</th>\n",
              "      <th>cityE</th>\n",
              "      <th>...</th>\n",
              "      <th>mfrCode</th>\n",
              "      <th>c240Dscr</th>\n",
              "      <th>charge240b</th>\n",
              "      <th>c240bDscr</th>\n",
              "      <th>createdOn</th>\n",
              "      <th>modifiedOn</th>\n",
              "      <th>startStop</th>\n",
              "      <th>phevCity</th>\n",
              "      <th>phevHwy</th>\n",
              "      <th>phevComb</th>\n",
              "    </tr>\n",
              "  </thead>\n",
              "  <tbody>\n",
              "    <tr>\n",
              "      <th>0</th>\n",
              "      <td>15.695714</td>\n",
              "      <td>0.0</td>\n",
              "      <td>0.0</td>\n",
              "      <td>0.0</td>\n",
              "      <td>19</td>\n",
              "      <td>0.0</td>\n",
              "      <td>0</td>\n",
              "      <td>0.0</td>\n",
              "      <td>0.0</td>\n",
              "      <td>0.0</td>\n",
              "      <td>...</td>\n",
              "      <td>NaN</td>\n",
              "      <td>NaN</td>\n",
              "      <td>0.0</td>\n",
              "      <td>NaN</td>\n",
              "      <td>Tue Jan 01 00:00:00 EST 2013</td>\n",
              "      <td>Tue Jan 01 00:00:00 EST 2013</td>\n",
              "      <td>NaN</td>\n",
              "      <td>0.0</td>\n",
              "      <td>0.0</td>\n",
              "      <td>0.0</td>\n",
              "    </tr>\n",
              "    <tr>\n",
              "      <th>1</th>\n",
              "      <td>29.964545</td>\n",
              "      <td>0.0</td>\n",
              "      <td>0.0</td>\n",
              "      <td>0.0</td>\n",
              "      <td>9</td>\n",
              "      <td>0.0</td>\n",
              "      <td>0</td>\n",
              "      <td>0.0</td>\n",
              "      <td>0.0</td>\n",
              "      <td>0.0</td>\n",
              "      <td>...</td>\n",
              "      <td>NaN</td>\n",
              "      <td>NaN</td>\n",
              "      <td>0.0</td>\n",
              "      <td>NaN</td>\n",
              "      <td>Tue Jan 01 00:00:00 EST 2013</td>\n",
              "      <td>Tue Jan 01 00:00:00 EST 2013</td>\n",
              "      <td>NaN</td>\n",
              "      <td>0.0</td>\n",
              "      <td>0.0</td>\n",
              "      <td>0.0</td>\n",
              "    </tr>\n",
              "    <tr>\n",
              "      <th>2</th>\n",
              "      <td>12.207778</td>\n",
              "      <td>0.0</td>\n",
              "      <td>0.0</td>\n",
              "      <td>0.0</td>\n",
              "      <td>23</td>\n",
              "      <td>0.0</td>\n",
              "      <td>0</td>\n",
              "      <td>0.0</td>\n",
              "      <td>0.0</td>\n",
              "      <td>0.0</td>\n",
              "      <td>...</td>\n",
              "      <td>NaN</td>\n",
              "      <td>NaN</td>\n",
              "      <td>0.0</td>\n",
              "      <td>NaN</td>\n",
              "      <td>Tue Jan 01 00:00:00 EST 2013</td>\n",
              "      <td>Tue Jan 01 00:00:00 EST 2013</td>\n",
              "      <td>NaN</td>\n",
              "      <td>0.0</td>\n",
              "      <td>0.0</td>\n",
              "      <td>0.0</td>\n",
              "    </tr>\n",
              "    <tr>\n",
              "      <th>3</th>\n",
              "      <td>29.964545</td>\n",
              "      <td>0.0</td>\n",
              "      <td>0.0</td>\n",
              "      <td>0.0</td>\n",
              "      <td>10</td>\n",
              "      <td>0.0</td>\n",
              "      <td>0</td>\n",
              "      <td>0.0</td>\n",
              "      <td>0.0</td>\n",
              "      <td>0.0</td>\n",
              "      <td>...</td>\n",
              "      <td>NaN</td>\n",
              "      <td>NaN</td>\n",
              "      <td>0.0</td>\n",
              "      <td>NaN</td>\n",
              "      <td>Tue Jan 01 00:00:00 EST 2013</td>\n",
              "      <td>Tue Jan 01 00:00:00 EST 2013</td>\n",
              "      <td>NaN</td>\n",
              "      <td>0.0</td>\n",
              "      <td>0.0</td>\n",
              "      <td>0.0</td>\n",
              "    </tr>\n",
              "    <tr>\n",
              "      <th>4</th>\n",
              "      <td>17.347895</td>\n",
              "      <td>0.0</td>\n",
              "      <td>0.0</td>\n",
              "      <td>0.0</td>\n",
              "      <td>17</td>\n",
              "      <td>0.0</td>\n",
              "      <td>0</td>\n",
              "      <td>0.0</td>\n",
              "      <td>0.0</td>\n",
              "      <td>0.0</td>\n",
              "      <td>...</td>\n",
              "      <td>NaN</td>\n",
              "      <td>NaN</td>\n",
              "      <td>0.0</td>\n",
              "      <td>NaN</td>\n",
              "      <td>Tue Jan 01 00:00:00 EST 2013</td>\n",
              "      <td>Tue Jan 01 00:00:00 EST 2013</td>\n",
              "      <td>NaN</td>\n",
              "      <td>0.0</td>\n",
              "      <td>0.0</td>\n",
              "      <td>0.0</td>\n",
              "    </tr>\n",
              "  </tbody>\n",
              "</table>\n",
              "<p>5 rows × 83 columns</p>\n",
              "</div>\n",
              "      <button class=\"colab-df-convert\" onclick=\"convertToInteractive('df-c12bb479-6764-4b9b-8334-e8a8f60f940c')\"\n",
              "              title=\"Convert this dataframe to an interactive table.\"\n",
              "              style=\"display:none;\">\n",
              "        \n",
              "  <svg xmlns=\"http://www.w3.org/2000/svg\" height=\"24px\"viewBox=\"0 0 24 24\"\n",
              "       width=\"24px\">\n",
              "    <path d=\"M0 0h24v24H0V0z\" fill=\"none\"/>\n",
              "    <path d=\"M18.56 5.44l.94 2.06.94-2.06 2.06-.94-2.06-.94-.94-2.06-.94 2.06-2.06.94zm-11 1L8.5 8.5l.94-2.06 2.06-.94-2.06-.94L8.5 2.5l-.94 2.06-2.06.94zm10 10l.94 2.06.94-2.06 2.06-.94-2.06-.94-.94-2.06-.94 2.06-2.06.94z\"/><path d=\"M17.41 7.96l-1.37-1.37c-.4-.4-.92-.59-1.43-.59-.52 0-1.04.2-1.43.59L10.3 9.45l-7.72 7.72c-.78.78-.78 2.05 0 2.83L4 21.41c.39.39.9.59 1.41.59.51 0 1.02-.2 1.41-.59l7.78-7.78 2.81-2.81c.8-.78.8-2.07 0-2.86zM5.41 20L4 18.59l7.72-7.72 1.47 1.35L5.41 20z\"/>\n",
              "  </svg>\n",
              "      </button>\n",
              "      \n",
              "  <style>\n",
              "    .colab-df-container {\n",
              "      display:flex;\n",
              "      flex-wrap:wrap;\n",
              "      gap: 12px;\n",
              "    }\n",
              "\n",
              "    .colab-df-convert {\n",
              "      background-color: #E8F0FE;\n",
              "      border: none;\n",
              "      border-radius: 50%;\n",
              "      cursor: pointer;\n",
              "      display: none;\n",
              "      fill: #1967D2;\n",
              "      height: 32px;\n",
              "      padding: 0 0 0 0;\n",
              "      width: 32px;\n",
              "    }\n",
              "\n",
              "    .colab-df-convert:hover {\n",
              "      background-color: #E2EBFA;\n",
              "      box-shadow: 0px 1px 2px rgba(60, 64, 67, 0.3), 0px 1px 3px 1px rgba(60, 64, 67, 0.15);\n",
              "      fill: #174EA6;\n",
              "    }\n",
              "\n",
              "    [theme=dark] .colab-df-convert {\n",
              "      background-color: #3B4455;\n",
              "      fill: #D2E3FC;\n",
              "    }\n",
              "\n",
              "    [theme=dark] .colab-df-convert:hover {\n",
              "      background-color: #434B5C;\n",
              "      box-shadow: 0px 1px 3px 1px rgba(0, 0, 0, 0.15);\n",
              "      filter: drop-shadow(0px 1px 2px rgba(0, 0, 0, 0.3));\n",
              "      fill: #FFFFFF;\n",
              "    }\n",
              "  </style>\n",
              "\n",
              "      <script>\n",
              "        const buttonEl =\n",
              "          document.querySelector('#df-c12bb479-6764-4b9b-8334-e8a8f60f940c button.colab-df-convert');\n",
              "        buttonEl.style.display =\n",
              "          google.colab.kernel.accessAllowed ? 'block' : 'none';\n",
              "\n",
              "        async function convertToInteractive(key) {\n",
              "          const element = document.querySelector('#df-c12bb479-6764-4b9b-8334-e8a8f60f940c');\n",
              "          const dataTable =\n",
              "            await google.colab.kernel.invokeFunction('convertToInteractive',\n",
              "                                                     [key], {});\n",
              "          if (!dataTable) return;\n",
              "\n",
              "          const docLinkHtml = 'Like what you see? Visit the ' +\n",
              "            '<a target=\"_blank\" href=https://colab.research.google.com/notebooks/data_table.ipynb>data table notebook</a>'\n",
              "            + ' to learn more about interactive tables.';\n",
              "          element.innerHTML = '';\n",
              "          dataTable['output_type'] = 'display_data';\n",
              "          await google.colab.output.renderOutput(dataTable, element);\n",
              "          const docLink = document.createElement('div');\n",
              "          docLink.innerHTML = docLinkHtml;\n",
              "          element.appendChild(docLink);\n",
              "        }\n",
              "      </script>\n",
              "    </div>\n",
              "  </div>\n",
              "  "
            ]
          },
          "metadata": {},
          "execution_count": 3
        }
      ],
      "source": [
        "data.head()"
      ]
    },
    {
      "cell_type": "code",
      "execution_count": null,
      "metadata": {
        "ExecuteTime": {
          "end_time": "2020-04-06T12:36:15.035797Z",
          "start_time": "2020-04-06T12:36:15.031780Z"
        },
        "colab": {
          "base_uri": "https://localhost:8080/"
        },
        "id": "ux0HlXv1CZtB",
        "outputId": "44452854-f78e-41e5-dd0a-12d8402ba50a"
      },
      "outputs": [
        {
          "output_type": "execute_result",
          "data": {
            "text/plain": [
              "(25009, 83)"
            ]
          },
          "metadata": {},
          "execution_count": 4
        }
      ],
      "source": [
        "data.shape"
      ]
    },
    {
      "cell_type": "code",
      "execution_count": null,
      "metadata": {
        "ExecuteTime": {
          "end_time": "2020-04-06T12:36:47.880187Z",
          "start_time": "2020-04-06T12:36:47.695681Z"
        },
        "colab": {
          "base_uri": "https://localhost:8080/",
          "height": 394
        },
        "id": "BVauPZ1VCZtB",
        "outputId": "162647f3-b093-4333-83bd-32503e1b0e5b"
      },
      "outputs": [
        {
          "output_type": "execute_result",
          "data": {
            "text/plain": [
              "          barrels08    barrelsA08  charge120     charge240        city08  \\\n",
              "count  25009.000000  25009.000000    25009.0  25009.000000  25009.000000   \n",
              "mean      17.796690      0.226162        0.0      0.003979     17.379543   \n",
              "std        4.353395      1.182291        0.0      0.168479      4.932743   \n",
              "min        0.060000      0.000000        0.0      0.000000      6.000000   \n",
              "25%       14.982273      0.000000        0.0      0.000000     14.000000   \n",
              "50%       17.347895      0.000000        0.0      0.000000     17.000000   \n",
              "75%       20.600625      0.000000        0.0      0.000000     19.000000   \n",
              "max       47.087143      8.323333        0.0     12.000000    126.000000   \n",
              "\n",
              "            city08U       cityA08      cityA08U        cityCD         cityE  \\\n",
              "count  25009.000000  25009.000000  25009.000000  25009.000000  25009.000000   \n",
              "mean       1.488663      0.421368      0.127983      0.000014      0.080359   \n",
              "std        5.479459      2.442064      1.583376      0.002213      2.201278   \n",
              "min        0.000000      0.000000      0.000000      0.000000      0.000000   \n",
              "25%        0.000000      0.000000      0.000000      0.000000      0.000000   \n",
              "50%        0.000000      0.000000      0.000000      0.000000      0.000000   \n",
              "75%        0.000000      0.000000      0.000000      0.000000      0.000000   \n",
              "max      126.400000    101.000000    101.430000      0.350000    122.000000   \n",
              "\n",
              "       ...      UHighway     UHighwayA          year  youSaveSpend  c240Dscr  \\\n",
              "count  ...  25008.000000  25008.000000  25008.000000  25008.000000       0.0   \n",
              "mean   ...     32.788330      0.775079   2000.068258  -2810.670585       NaN   \n",
              "std    ...      8.403612      4.403584      8.875407   2492.857875       NaN   \n",
              "min    ...      0.000000      0.000000   1984.000000 -22250.000000       NaN   \n",
              "25%    ...     26.923100      0.000000   1994.000000  -4250.000000       NaN   \n",
              "50%    ...     32.369600      0.000000   2002.000000  -2500.000000       NaN   \n",
              "75%    ...     37.300000      0.000000   2007.000000  -1250.000000       NaN   \n",
              "max    ...    141.400000    146.414000   2013.000000   3750.000000       NaN   \n",
              "\n",
              "       charge240b  c240bDscr      phevCity       phevHwy      phevComb  \n",
              "count     25008.0        0.0  25008.000000  25008.000000  25008.000000  \n",
              "mean          0.0        NaN      0.010837      0.010996      0.010917  \n",
              "std           0.0        NaN      0.781276      0.792303      0.787139  \n",
              "min           0.0        NaN      0.000000      0.000000      0.000000  \n",
              "25%           0.0        NaN      0.000000      0.000000      0.000000  \n",
              "50%           0.0        NaN      0.000000      0.000000      0.000000  \n",
              "75%           0.0        NaN      0.000000      0.000000      0.000000  \n",
              "max           0.0        NaN     63.000000     62.000000     62.000000  \n",
              "\n",
              "[8 rows x 61 columns]"
            ],
            "text/html": [
              "\n",
              "  <div id=\"df-b86cd194-f7ad-4c20-9db3-6089dd0fc231\">\n",
              "    <div class=\"colab-df-container\">\n",
              "      <div>\n",
              "<style scoped>\n",
              "    .dataframe tbody tr th:only-of-type {\n",
              "        vertical-align: middle;\n",
              "    }\n",
              "\n",
              "    .dataframe tbody tr th {\n",
              "        vertical-align: top;\n",
              "    }\n",
              "\n",
              "    .dataframe thead th {\n",
              "        text-align: right;\n",
              "    }\n",
              "</style>\n",
              "<table border=\"1\" class=\"dataframe\">\n",
              "  <thead>\n",
              "    <tr style=\"text-align: right;\">\n",
              "      <th></th>\n",
              "      <th>barrels08</th>\n",
              "      <th>barrelsA08</th>\n",
              "      <th>charge120</th>\n",
              "      <th>charge240</th>\n",
              "      <th>city08</th>\n",
              "      <th>city08U</th>\n",
              "      <th>cityA08</th>\n",
              "      <th>cityA08U</th>\n",
              "      <th>cityCD</th>\n",
              "      <th>cityE</th>\n",
              "      <th>...</th>\n",
              "      <th>UHighway</th>\n",
              "      <th>UHighwayA</th>\n",
              "      <th>year</th>\n",
              "      <th>youSaveSpend</th>\n",
              "      <th>c240Dscr</th>\n",
              "      <th>charge240b</th>\n",
              "      <th>c240bDscr</th>\n",
              "      <th>phevCity</th>\n",
              "      <th>phevHwy</th>\n",
              "      <th>phevComb</th>\n",
              "    </tr>\n",
              "  </thead>\n",
              "  <tbody>\n",
              "    <tr>\n",
              "      <th>count</th>\n",
              "      <td>25009.000000</td>\n",
              "      <td>25009.000000</td>\n",
              "      <td>25009.0</td>\n",
              "      <td>25009.000000</td>\n",
              "      <td>25009.000000</td>\n",
              "      <td>25009.000000</td>\n",
              "      <td>25009.000000</td>\n",
              "      <td>25009.000000</td>\n",
              "      <td>25009.000000</td>\n",
              "      <td>25009.000000</td>\n",
              "      <td>...</td>\n",
              "      <td>25008.000000</td>\n",
              "      <td>25008.000000</td>\n",
              "      <td>25008.000000</td>\n",
              "      <td>25008.000000</td>\n",
              "      <td>0.0</td>\n",
              "      <td>25008.0</td>\n",
              "      <td>0.0</td>\n",
              "      <td>25008.000000</td>\n",
              "      <td>25008.000000</td>\n",
              "      <td>25008.000000</td>\n",
              "    </tr>\n",
              "    <tr>\n",
              "      <th>mean</th>\n",
              "      <td>17.796690</td>\n",
              "      <td>0.226162</td>\n",
              "      <td>0.0</td>\n",
              "      <td>0.003979</td>\n",
              "      <td>17.379543</td>\n",
              "      <td>1.488663</td>\n",
              "      <td>0.421368</td>\n",
              "      <td>0.127983</td>\n",
              "      <td>0.000014</td>\n",
              "      <td>0.080359</td>\n",
              "      <td>...</td>\n",
              "      <td>32.788330</td>\n",
              "      <td>0.775079</td>\n",
              "      <td>2000.068258</td>\n",
              "      <td>-2810.670585</td>\n",
              "      <td>NaN</td>\n",
              "      <td>0.0</td>\n",
              "      <td>NaN</td>\n",
              "      <td>0.010837</td>\n",
              "      <td>0.010996</td>\n",
              "      <td>0.010917</td>\n",
              "    </tr>\n",
              "    <tr>\n",
              "      <th>std</th>\n",
              "      <td>4.353395</td>\n",
              "      <td>1.182291</td>\n",
              "      <td>0.0</td>\n",
              "      <td>0.168479</td>\n",
              "      <td>4.932743</td>\n",
              "      <td>5.479459</td>\n",
              "      <td>2.442064</td>\n",
              "      <td>1.583376</td>\n",
              "      <td>0.002213</td>\n",
              "      <td>2.201278</td>\n",
              "      <td>...</td>\n",
              "      <td>8.403612</td>\n",
              "      <td>4.403584</td>\n",
              "      <td>8.875407</td>\n",
              "      <td>2492.857875</td>\n",
              "      <td>NaN</td>\n",
              "      <td>0.0</td>\n",
              "      <td>NaN</td>\n",
              "      <td>0.781276</td>\n",
              "      <td>0.792303</td>\n",
              "      <td>0.787139</td>\n",
              "    </tr>\n",
              "    <tr>\n",
              "      <th>min</th>\n",
              "      <td>0.060000</td>\n",
              "      <td>0.000000</td>\n",
              "      <td>0.0</td>\n",
              "      <td>0.000000</td>\n",
              "      <td>6.000000</td>\n",
              "      <td>0.000000</td>\n",
              "      <td>0.000000</td>\n",
              "      <td>0.000000</td>\n",
              "      <td>0.000000</td>\n",
              "      <td>0.000000</td>\n",
              "      <td>...</td>\n",
              "      <td>0.000000</td>\n",
              "      <td>0.000000</td>\n",
              "      <td>1984.000000</td>\n",
              "      <td>-22250.000000</td>\n",
              "      <td>NaN</td>\n",
              "      <td>0.0</td>\n",
              "      <td>NaN</td>\n",
              "      <td>0.000000</td>\n",
              "      <td>0.000000</td>\n",
              "      <td>0.000000</td>\n",
              "    </tr>\n",
              "    <tr>\n",
              "      <th>25%</th>\n",
              "      <td>14.982273</td>\n",
              "      <td>0.000000</td>\n",
              "      <td>0.0</td>\n",
              "      <td>0.000000</td>\n",
              "      <td>14.000000</td>\n",
              "      <td>0.000000</td>\n",
              "      <td>0.000000</td>\n",
              "      <td>0.000000</td>\n",
              "      <td>0.000000</td>\n",
              "      <td>0.000000</td>\n",
              "      <td>...</td>\n",
              "      <td>26.923100</td>\n",
              "      <td>0.000000</td>\n",
              "      <td>1994.000000</td>\n",
              "      <td>-4250.000000</td>\n",
              "      <td>NaN</td>\n",
              "      <td>0.0</td>\n",
              "      <td>NaN</td>\n",
              "      <td>0.000000</td>\n",
              "      <td>0.000000</td>\n",
              "      <td>0.000000</td>\n",
              "    </tr>\n",
              "    <tr>\n",
              "      <th>50%</th>\n",
              "      <td>17.347895</td>\n",
              "      <td>0.000000</td>\n",
              "      <td>0.0</td>\n",
              "      <td>0.000000</td>\n",
              "      <td>17.000000</td>\n",
              "      <td>0.000000</td>\n",
              "      <td>0.000000</td>\n",
              "      <td>0.000000</td>\n",
              "      <td>0.000000</td>\n",
              "      <td>0.000000</td>\n",
              "      <td>...</td>\n",
              "      <td>32.369600</td>\n",
              "      <td>0.000000</td>\n",
              "      <td>2002.000000</td>\n",
              "      <td>-2500.000000</td>\n",
              "      <td>NaN</td>\n",
              "      <td>0.0</td>\n",
              "      <td>NaN</td>\n",
              "      <td>0.000000</td>\n",
              "      <td>0.000000</td>\n",
              "      <td>0.000000</td>\n",
              "    </tr>\n",
              "    <tr>\n",
              "      <th>75%</th>\n",
              "      <td>20.600625</td>\n",
              "      <td>0.000000</td>\n",
              "      <td>0.0</td>\n",
              "      <td>0.000000</td>\n",
              "      <td>19.000000</td>\n",
              "      <td>0.000000</td>\n",
              "      <td>0.000000</td>\n",
              "      <td>0.000000</td>\n",
              "      <td>0.000000</td>\n",
              "      <td>0.000000</td>\n",
              "      <td>...</td>\n",
              "      <td>37.300000</td>\n",
              "      <td>0.000000</td>\n",
              "      <td>2007.000000</td>\n",
              "      <td>-1250.000000</td>\n",
              "      <td>NaN</td>\n",
              "      <td>0.0</td>\n",
              "      <td>NaN</td>\n",
              "      <td>0.000000</td>\n",
              "      <td>0.000000</td>\n",
              "      <td>0.000000</td>\n",
              "    </tr>\n",
              "    <tr>\n",
              "      <th>max</th>\n",
              "      <td>47.087143</td>\n",
              "      <td>8.323333</td>\n",
              "      <td>0.0</td>\n",
              "      <td>12.000000</td>\n",
              "      <td>126.000000</td>\n",
              "      <td>126.400000</td>\n",
              "      <td>101.000000</td>\n",
              "      <td>101.430000</td>\n",
              "      <td>0.350000</td>\n",
              "      <td>122.000000</td>\n",
              "      <td>...</td>\n",
              "      <td>141.400000</td>\n",
              "      <td>146.414000</td>\n",
              "      <td>2013.000000</td>\n",
              "      <td>3750.000000</td>\n",
              "      <td>NaN</td>\n",
              "      <td>0.0</td>\n",
              "      <td>NaN</td>\n",
              "      <td>63.000000</td>\n",
              "      <td>62.000000</td>\n",
              "      <td>62.000000</td>\n",
              "    </tr>\n",
              "  </tbody>\n",
              "</table>\n",
              "<p>8 rows × 61 columns</p>\n",
              "</div>\n",
              "      <button class=\"colab-df-convert\" onclick=\"convertToInteractive('df-b86cd194-f7ad-4c20-9db3-6089dd0fc231')\"\n",
              "              title=\"Convert this dataframe to an interactive table.\"\n",
              "              style=\"display:none;\">\n",
              "        \n",
              "  <svg xmlns=\"http://www.w3.org/2000/svg\" height=\"24px\"viewBox=\"0 0 24 24\"\n",
              "       width=\"24px\">\n",
              "    <path d=\"M0 0h24v24H0V0z\" fill=\"none\"/>\n",
              "    <path d=\"M18.56 5.44l.94 2.06.94-2.06 2.06-.94-2.06-.94-.94-2.06-.94 2.06-2.06.94zm-11 1L8.5 8.5l.94-2.06 2.06-.94-2.06-.94L8.5 2.5l-.94 2.06-2.06.94zm10 10l.94 2.06.94-2.06 2.06-.94-2.06-.94-.94-2.06-.94 2.06-2.06.94z\"/><path d=\"M17.41 7.96l-1.37-1.37c-.4-.4-.92-.59-1.43-.59-.52 0-1.04.2-1.43.59L10.3 9.45l-7.72 7.72c-.78.78-.78 2.05 0 2.83L4 21.41c.39.39.9.59 1.41.59.51 0 1.02-.2 1.41-.59l7.78-7.78 2.81-2.81c.8-.78.8-2.07 0-2.86zM5.41 20L4 18.59l7.72-7.72 1.47 1.35L5.41 20z\"/>\n",
              "  </svg>\n",
              "      </button>\n",
              "      \n",
              "  <style>\n",
              "    .colab-df-container {\n",
              "      display:flex;\n",
              "      flex-wrap:wrap;\n",
              "      gap: 12px;\n",
              "    }\n",
              "\n",
              "    .colab-df-convert {\n",
              "      background-color: #E8F0FE;\n",
              "      border: none;\n",
              "      border-radius: 50%;\n",
              "      cursor: pointer;\n",
              "      display: none;\n",
              "      fill: #1967D2;\n",
              "      height: 32px;\n",
              "      padding: 0 0 0 0;\n",
              "      width: 32px;\n",
              "    }\n",
              "\n",
              "    .colab-df-convert:hover {\n",
              "      background-color: #E2EBFA;\n",
              "      box-shadow: 0px 1px 2px rgba(60, 64, 67, 0.3), 0px 1px 3px 1px rgba(60, 64, 67, 0.15);\n",
              "      fill: #174EA6;\n",
              "    }\n",
              "\n",
              "    [theme=dark] .colab-df-convert {\n",
              "      background-color: #3B4455;\n",
              "      fill: #D2E3FC;\n",
              "    }\n",
              "\n",
              "    [theme=dark] .colab-df-convert:hover {\n",
              "      background-color: #434B5C;\n",
              "      box-shadow: 0px 1px 3px 1px rgba(0, 0, 0, 0.15);\n",
              "      filter: drop-shadow(0px 1px 2px rgba(0, 0, 0, 0.3));\n",
              "      fill: #FFFFFF;\n",
              "    }\n",
              "  </style>\n",
              "\n",
              "      <script>\n",
              "        const buttonEl =\n",
              "          document.querySelector('#df-b86cd194-f7ad-4c20-9db3-6089dd0fc231 button.colab-df-convert');\n",
              "        buttonEl.style.display =\n",
              "          google.colab.kernel.accessAllowed ? 'block' : 'none';\n",
              "\n",
              "        async function convertToInteractive(key) {\n",
              "          const element = document.querySelector('#df-b86cd194-f7ad-4c20-9db3-6089dd0fc231');\n",
              "          const dataTable =\n",
              "            await google.colab.kernel.invokeFunction('convertToInteractive',\n",
              "                                                     [key], {});\n",
              "          if (!dataTable) return;\n",
              "\n",
              "          const docLinkHtml = 'Like what you see? Visit the ' +\n",
              "            '<a target=\"_blank\" href=https://colab.research.google.com/notebooks/data_table.ipynb>data table notebook</a>'\n",
              "            + ' to learn more about interactive tables.';\n",
              "          element.innerHTML = '';\n",
              "          dataTable['output_type'] = 'display_data';\n",
              "          await google.colab.output.renderOutput(dataTable, element);\n",
              "          const docLink = document.createElement('div');\n",
              "          docLink.innerHTML = docLinkHtml;\n",
              "          element.appendChild(docLink);\n",
              "        }\n",
              "      </script>\n",
              "    </div>\n",
              "  </div>\n",
              "  "
            ]
          },
          "metadata": {},
          "execution_count": 5
        }
      ],
      "source": [
        "data.describe()"
      ]
    },
    {
      "cell_type": "markdown",
      "metadata": {
        "id": "SdWZXdx1CZtC"
      },
      "source": [
        "# Outliers (!)\n"
      ]
    },
    {
      "cell_type": "code",
      "execution_count": null,
      "metadata": {
        "ExecuteTime": {
          "end_time": "2020-04-06T12:36:57.215210Z",
          "start_time": "2020-04-06T12:36:57.039680Z"
        },
        "scrolled": true,
        "colab": {
          "base_uri": "https://localhost:8080/",
          "height": 424
        },
        "id": "ZDsqAs04CZtC",
        "outputId": "f1e5e3a3-e299-4ade-d600-00db79672a47"
      },
      "outputs": [
        {
          "output_type": "execute_result",
          "data": {
            "text/plain": [
              "              count       mean       std   min        25%        50%  \\\n",
              "barrels08   25009.0  17.796690  4.353395  0.06  14.982273  17.347895   \n",
              "barrelsA08  25009.0   0.226162  1.182291  0.00   0.000000   0.000000   \n",
              "charge120   25009.0   0.000000  0.000000  0.00   0.000000   0.000000   \n",
              "charge240   25009.0   0.003979  0.168479  0.00   0.000000   0.000000   \n",
              "city08      25009.0  17.379543  4.932743  6.00  14.000000  17.000000   \n",
              "...             ...        ...       ...   ...        ...        ...   \n",
              "charge240b  25008.0   0.000000  0.000000  0.00   0.000000   0.000000   \n",
              "c240bDscr       0.0        NaN       NaN   NaN        NaN        NaN   \n",
              "phevCity    25008.0   0.010837  0.781276  0.00   0.000000   0.000000   \n",
              "phevHwy     25008.0   0.010996  0.792303  0.00   0.000000   0.000000   \n",
              "phevComb    25008.0   0.010917  0.787139  0.00   0.000000   0.000000   \n",
              "\n",
              "                  75%         max  \n",
              "barrels08   20.600625   47.087143  \n",
              "barrelsA08   0.000000    8.323333  \n",
              "charge120    0.000000    0.000000  \n",
              "charge240    0.000000   12.000000  \n",
              "city08      19.000000  126.000000  \n",
              "...               ...         ...  \n",
              "charge240b   0.000000    0.000000  \n",
              "c240bDscr         NaN         NaN  \n",
              "phevCity     0.000000   63.000000  \n",
              "phevHwy      0.000000   62.000000  \n",
              "phevComb     0.000000   62.000000  \n",
              "\n",
              "[61 rows x 8 columns]"
            ],
            "text/html": [
              "\n",
              "  <div id=\"df-68423e3f-90d8-4bbf-bcd5-02e9b8f9f3e9\">\n",
              "    <div class=\"colab-df-container\">\n",
              "      <div>\n",
              "<style scoped>\n",
              "    .dataframe tbody tr th:only-of-type {\n",
              "        vertical-align: middle;\n",
              "    }\n",
              "\n",
              "    .dataframe tbody tr th {\n",
              "        vertical-align: top;\n",
              "    }\n",
              "\n",
              "    .dataframe thead th {\n",
              "        text-align: right;\n",
              "    }\n",
              "</style>\n",
              "<table border=\"1\" class=\"dataframe\">\n",
              "  <thead>\n",
              "    <tr style=\"text-align: right;\">\n",
              "      <th></th>\n",
              "      <th>count</th>\n",
              "      <th>mean</th>\n",
              "      <th>std</th>\n",
              "      <th>min</th>\n",
              "      <th>25%</th>\n",
              "      <th>50%</th>\n",
              "      <th>75%</th>\n",
              "      <th>max</th>\n",
              "    </tr>\n",
              "  </thead>\n",
              "  <tbody>\n",
              "    <tr>\n",
              "      <th>barrels08</th>\n",
              "      <td>25009.0</td>\n",
              "      <td>17.796690</td>\n",
              "      <td>4.353395</td>\n",
              "      <td>0.06</td>\n",
              "      <td>14.982273</td>\n",
              "      <td>17.347895</td>\n",
              "      <td>20.600625</td>\n",
              "      <td>47.087143</td>\n",
              "    </tr>\n",
              "    <tr>\n",
              "      <th>barrelsA08</th>\n",
              "      <td>25009.0</td>\n",
              "      <td>0.226162</td>\n",
              "      <td>1.182291</td>\n",
              "      <td>0.00</td>\n",
              "      <td>0.000000</td>\n",
              "      <td>0.000000</td>\n",
              "      <td>0.000000</td>\n",
              "      <td>8.323333</td>\n",
              "    </tr>\n",
              "    <tr>\n",
              "      <th>charge120</th>\n",
              "      <td>25009.0</td>\n",
              "      <td>0.000000</td>\n",
              "      <td>0.000000</td>\n",
              "      <td>0.00</td>\n",
              "      <td>0.000000</td>\n",
              "      <td>0.000000</td>\n",
              "      <td>0.000000</td>\n",
              "      <td>0.000000</td>\n",
              "    </tr>\n",
              "    <tr>\n",
              "      <th>charge240</th>\n",
              "      <td>25009.0</td>\n",
              "      <td>0.003979</td>\n",
              "      <td>0.168479</td>\n",
              "      <td>0.00</td>\n",
              "      <td>0.000000</td>\n",
              "      <td>0.000000</td>\n",
              "      <td>0.000000</td>\n",
              "      <td>12.000000</td>\n",
              "    </tr>\n",
              "    <tr>\n",
              "      <th>city08</th>\n",
              "      <td>25009.0</td>\n",
              "      <td>17.379543</td>\n",
              "      <td>4.932743</td>\n",
              "      <td>6.00</td>\n",
              "      <td>14.000000</td>\n",
              "      <td>17.000000</td>\n",
              "      <td>19.000000</td>\n",
              "      <td>126.000000</td>\n",
              "    </tr>\n",
              "    <tr>\n",
              "      <th>...</th>\n",
              "      <td>...</td>\n",
              "      <td>...</td>\n",
              "      <td>...</td>\n",
              "      <td>...</td>\n",
              "      <td>...</td>\n",
              "      <td>...</td>\n",
              "      <td>...</td>\n",
              "      <td>...</td>\n",
              "    </tr>\n",
              "    <tr>\n",
              "      <th>charge240b</th>\n",
              "      <td>25008.0</td>\n",
              "      <td>0.000000</td>\n",
              "      <td>0.000000</td>\n",
              "      <td>0.00</td>\n",
              "      <td>0.000000</td>\n",
              "      <td>0.000000</td>\n",
              "      <td>0.000000</td>\n",
              "      <td>0.000000</td>\n",
              "    </tr>\n",
              "    <tr>\n",
              "      <th>c240bDscr</th>\n",
              "      <td>0.0</td>\n",
              "      <td>NaN</td>\n",
              "      <td>NaN</td>\n",
              "      <td>NaN</td>\n",
              "      <td>NaN</td>\n",
              "      <td>NaN</td>\n",
              "      <td>NaN</td>\n",
              "      <td>NaN</td>\n",
              "    </tr>\n",
              "    <tr>\n",
              "      <th>phevCity</th>\n",
              "      <td>25008.0</td>\n",
              "      <td>0.010837</td>\n",
              "      <td>0.781276</td>\n",
              "      <td>0.00</td>\n",
              "      <td>0.000000</td>\n",
              "      <td>0.000000</td>\n",
              "      <td>0.000000</td>\n",
              "      <td>63.000000</td>\n",
              "    </tr>\n",
              "    <tr>\n",
              "      <th>phevHwy</th>\n",
              "      <td>25008.0</td>\n",
              "      <td>0.010996</td>\n",
              "      <td>0.792303</td>\n",
              "      <td>0.00</td>\n",
              "      <td>0.000000</td>\n",
              "      <td>0.000000</td>\n",
              "      <td>0.000000</td>\n",
              "      <td>62.000000</td>\n",
              "    </tr>\n",
              "    <tr>\n",
              "      <th>phevComb</th>\n",
              "      <td>25008.0</td>\n",
              "      <td>0.010917</td>\n",
              "      <td>0.787139</td>\n",
              "      <td>0.00</td>\n",
              "      <td>0.000000</td>\n",
              "      <td>0.000000</td>\n",
              "      <td>0.000000</td>\n",
              "      <td>62.000000</td>\n",
              "    </tr>\n",
              "  </tbody>\n",
              "</table>\n",
              "<p>61 rows × 8 columns</p>\n",
              "</div>\n",
              "      <button class=\"colab-df-convert\" onclick=\"convertToInteractive('df-68423e3f-90d8-4bbf-bcd5-02e9b8f9f3e9')\"\n",
              "              title=\"Convert this dataframe to an interactive table.\"\n",
              "              style=\"display:none;\">\n",
              "        \n",
              "  <svg xmlns=\"http://www.w3.org/2000/svg\" height=\"24px\"viewBox=\"0 0 24 24\"\n",
              "       width=\"24px\">\n",
              "    <path d=\"M0 0h24v24H0V0z\" fill=\"none\"/>\n",
              "    <path d=\"M18.56 5.44l.94 2.06.94-2.06 2.06-.94-2.06-.94-.94-2.06-.94 2.06-2.06.94zm-11 1L8.5 8.5l.94-2.06 2.06-.94-2.06-.94L8.5 2.5l-.94 2.06-2.06.94zm10 10l.94 2.06.94-2.06 2.06-.94-2.06-.94-.94-2.06-.94 2.06-2.06.94z\"/><path d=\"M17.41 7.96l-1.37-1.37c-.4-.4-.92-.59-1.43-.59-.52 0-1.04.2-1.43.59L10.3 9.45l-7.72 7.72c-.78.78-.78 2.05 0 2.83L4 21.41c.39.39.9.59 1.41.59.51 0 1.02-.2 1.41-.59l7.78-7.78 2.81-2.81c.8-.78.8-2.07 0-2.86zM5.41 20L4 18.59l7.72-7.72 1.47 1.35L5.41 20z\"/>\n",
              "  </svg>\n",
              "      </button>\n",
              "      \n",
              "  <style>\n",
              "    .colab-df-container {\n",
              "      display:flex;\n",
              "      flex-wrap:wrap;\n",
              "      gap: 12px;\n",
              "    }\n",
              "\n",
              "    .colab-df-convert {\n",
              "      background-color: #E8F0FE;\n",
              "      border: none;\n",
              "      border-radius: 50%;\n",
              "      cursor: pointer;\n",
              "      display: none;\n",
              "      fill: #1967D2;\n",
              "      height: 32px;\n",
              "      padding: 0 0 0 0;\n",
              "      width: 32px;\n",
              "    }\n",
              "\n",
              "    .colab-df-convert:hover {\n",
              "      background-color: #E2EBFA;\n",
              "      box-shadow: 0px 1px 2px rgba(60, 64, 67, 0.3), 0px 1px 3px 1px rgba(60, 64, 67, 0.15);\n",
              "      fill: #174EA6;\n",
              "    }\n",
              "\n",
              "    [theme=dark] .colab-df-convert {\n",
              "      background-color: #3B4455;\n",
              "      fill: #D2E3FC;\n",
              "    }\n",
              "\n",
              "    [theme=dark] .colab-df-convert:hover {\n",
              "      background-color: #434B5C;\n",
              "      box-shadow: 0px 1px 3px 1px rgba(0, 0, 0, 0.15);\n",
              "      filter: drop-shadow(0px 1px 2px rgba(0, 0, 0, 0.3));\n",
              "      fill: #FFFFFF;\n",
              "    }\n",
              "  </style>\n",
              "\n",
              "      <script>\n",
              "        const buttonEl =\n",
              "          document.querySelector('#df-68423e3f-90d8-4bbf-bcd5-02e9b8f9f3e9 button.colab-df-convert');\n",
              "        buttonEl.style.display =\n",
              "          google.colab.kernel.accessAllowed ? 'block' : 'none';\n",
              "\n",
              "        async function convertToInteractive(key) {\n",
              "          const element = document.querySelector('#df-68423e3f-90d8-4bbf-bcd5-02e9b8f9f3e9');\n",
              "          const dataTable =\n",
              "            await google.colab.kernel.invokeFunction('convertToInteractive',\n",
              "                                                     [key], {});\n",
              "          if (!dataTable) return;\n",
              "\n",
              "          const docLinkHtml = 'Like what you see? Visit the ' +\n",
              "            '<a target=\"_blank\" href=https://colab.research.google.com/notebooks/data_table.ipynb>data table notebook</a>'\n",
              "            + ' to learn more about interactive tables.';\n",
              "          element.innerHTML = '';\n",
              "          dataTable['output_type'] = 'display_data';\n",
              "          await google.colab.output.renderOutput(dataTable, element);\n",
              "          const docLink = document.createElement('div');\n",
              "          docLink.innerHTML = docLinkHtml;\n",
              "          element.appendChild(docLink);\n",
              "        }\n",
              "      </script>\n",
              "    </div>\n",
              "  </div>\n",
              "  "
            ]
          },
          "metadata": {},
          "execution_count": 12
        }
      ],
      "source": [
        "data.describe().transpose()"
      ]
    },
    {
      "cell_type": "code",
      "execution_count": null,
      "metadata": {
        "ExecuteTime": {
          "end_time": "2020-04-06T12:45:56.354155Z",
          "start_time": "2020-04-06T12:45:56.164662Z"
        },
        "scrolled": true,
        "colab": {
          "base_uri": "https://localhost:8080/",
          "height": 424
        },
        "id": "sfsZeltKCZtC",
        "outputId": "a53edddd-cc26-4c78-f6ea-f6fd51e24f82"
      },
      "outputs": [
        {
          "output_type": "execute_result",
          "data": {
            "text/plain": [
              "              count       mean       std   min        25%        50%  \\\n",
              "barrels08   25009.0  17.796690  4.353395  0.06  14.982273  17.347895   \n",
              "barrelsA08  25009.0   0.226162  1.182291  0.00   0.000000   0.000000   \n",
              "charge120   25009.0   0.000000  0.000000  0.00   0.000000   0.000000   \n",
              "charge240   25009.0   0.003979  0.168479  0.00   0.000000   0.000000   \n",
              "city08      25009.0  17.379543  4.932743  6.00  14.000000  17.000000   \n",
              "...             ...        ...       ...   ...        ...        ...   \n",
              "charge240b  25008.0   0.000000  0.000000  0.00   0.000000   0.000000   \n",
              "c240bDscr       0.0        NaN       NaN   NaN        NaN        NaN   \n",
              "phevCity    25008.0   0.010837  0.781276  0.00   0.000000   0.000000   \n",
              "phevHwy     25008.0   0.010996  0.792303  0.00   0.000000   0.000000   \n",
              "phevComb    25008.0   0.010917  0.787139  0.00   0.000000   0.000000   \n",
              "\n",
              "                  75%         max       IQR  \n",
              "barrels08   20.600625   47.087143  5.618352  \n",
              "barrelsA08   0.000000    8.323333  0.000000  \n",
              "charge120    0.000000    0.000000  0.000000  \n",
              "charge240    0.000000   12.000000  0.000000  \n",
              "city08      19.000000  126.000000  5.000000  \n",
              "...               ...         ...       ...  \n",
              "charge240b   0.000000    0.000000  0.000000  \n",
              "c240bDscr         NaN         NaN       NaN  \n",
              "phevCity     0.000000   63.000000  0.000000  \n",
              "phevHwy      0.000000   62.000000  0.000000  \n",
              "phevComb     0.000000   62.000000  0.000000  \n",
              "\n",
              "[61 rows x 9 columns]"
            ],
            "text/html": [
              "\n",
              "  <div id=\"df-05e68d36-ccb4-46b5-bd8e-7fc218233675\">\n",
              "    <div class=\"colab-df-container\">\n",
              "      <div>\n",
              "<style scoped>\n",
              "    .dataframe tbody tr th:only-of-type {\n",
              "        vertical-align: middle;\n",
              "    }\n",
              "\n",
              "    .dataframe tbody tr th {\n",
              "        vertical-align: top;\n",
              "    }\n",
              "\n",
              "    .dataframe thead th {\n",
              "        text-align: right;\n",
              "    }\n",
              "</style>\n",
              "<table border=\"1\" class=\"dataframe\">\n",
              "  <thead>\n",
              "    <tr style=\"text-align: right;\">\n",
              "      <th></th>\n",
              "      <th>count</th>\n",
              "      <th>mean</th>\n",
              "      <th>std</th>\n",
              "      <th>min</th>\n",
              "      <th>25%</th>\n",
              "      <th>50%</th>\n",
              "      <th>75%</th>\n",
              "      <th>max</th>\n",
              "      <th>IQR</th>\n",
              "    </tr>\n",
              "  </thead>\n",
              "  <tbody>\n",
              "    <tr>\n",
              "      <th>barrels08</th>\n",
              "      <td>25009.0</td>\n",
              "      <td>17.796690</td>\n",
              "      <td>4.353395</td>\n",
              "      <td>0.06</td>\n",
              "      <td>14.982273</td>\n",
              "      <td>17.347895</td>\n",
              "      <td>20.600625</td>\n",
              "      <td>47.087143</td>\n",
              "      <td>5.618352</td>\n",
              "    </tr>\n",
              "    <tr>\n",
              "      <th>barrelsA08</th>\n",
              "      <td>25009.0</td>\n",
              "      <td>0.226162</td>\n",
              "      <td>1.182291</td>\n",
              "      <td>0.00</td>\n",
              "      <td>0.000000</td>\n",
              "      <td>0.000000</td>\n",
              "      <td>0.000000</td>\n",
              "      <td>8.323333</td>\n",
              "      <td>0.000000</td>\n",
              "    </tr>\n",
              "    <tr>\n",
              "      <th>charge120</th>\n",
              "      <td>25009.0</td>\n",
              "      <td>0.000000</td>\n",
              "      <td>0.000000</td>\n",
              "      <td>0.00</td>\n",
              "      <td>0.000000</td>\n",
              "      <td>0.000000</td>\n",
              "      <td>0.000000</td>\n",
              "      <td>0.000000</td>\n",
              "      <td>0.000000</td>\n",
              "    </tr>\n",
              "    <tr>\n",
              "      <th>charge240</th>\n",
              "      <td>25009.0</td>\n",
              "      <td>0.003979</td>\n",
              "      <td>0.168479</td>\n",
              "      <td>0.00</td>\n",
              "      <td>0.000000</td>\n",
              "      <td>0.000000</td>\n",
              "      <td>0.000000</td>\n",
              "      <td>12.000000</td>\n",
              "      <td>0.000000</td>\n",
              "    </tr>\n",
              "    <tr>\n",
              "      <th>city08</th>\n",
              "      <td>25009.0</td>\n",
              "      <td>17.379543</td>\n",
              "      <td>4.932743</td>\n",
              "      <td>6.00</td>\n",
              "      <td>14.000000</td>\n",
              "      <td>17.000000</td>\n",
              "      <td>19.000000</td>\n",
              "      <td>126.000000</td>\n",
              "      <td>5.000000</td>\n",
              "    </tr>\n",
              "    <tr>\n",
              "      <th>...</th>\n",
              "      <td>...</td>\n",
              "      <td>...</td>\n",
              "      <td>...</td>\n",
              "      <td>...</td>\n",
              "      <td>...</td>\n",
              "      <td>...</td>\n",
              "      <td>...</td>\n",
              "      <td>...</td>\n",
              "      <td>...</td>\n",
              "    </tr>\n",
              "    <tr>\n",
              "      <th>charge240b</th>\n",
              "      <td>25008.0</td>\n",
              "      <td>0.000000</td>\n",
              "      <td>0.000000</td>\n",
              "      <td>0.00</td>\n",
              "      <td>0.000000</td>\n",
              "      <td>0.000000</td>\n",
              "      <td>0.000000</td>\n",
              "      <td>0.000000</td>\n",
              "      <td>0.000000</td>\n",
              "    </tr>\n",
              "    <tr>\n",
              "      <th>c240bDscr</th>\n",
              "      <td>0.0</td>\n",
              "      <td>NaN</td>\n",
              "      <td>NaN</td>\n",
              "      <td>NaN</td>\n",
              "      <td>NaN</td>\n",
              "      <td>NaN</td>\n",
              "      <td>NaN</td>\n",
              "      <td>NaN</td>\n",
              "      <td>NaN</td>\n",
              "    </tr>\n",
              "    <tr>\n",
              "      <th>phevCity</th>\n",
              "      <td>25008.0</td>\n",
              "      <td>0.010837</td>\n",
              "      <td>0.781276</td>\n",
              "      <td>0.00</td>\n",
              "      <td>0.000000</td>\n",
              "      <td>0.000000</td>\n",
              "      <td>0.000000</td>\n",
              "      <td>63.000000</td>\n",
              "      <td>0.000000</td>\n",
              "    </tr>\n",
              "    <tr>\n",
              "      <th>phevHwy</th>\n",
              "      <td>25008.0</td>\n",
              "      <td>0.010996</td>\n",
              "      <td>0.792303</td>\n",
              "      <td>0.00</td>\n",
              "      <td>0.000000</td>\n",
              "      <td>0.000000</td>\n",
              "      <td>0.000000</td>\n",
              "      <td>62.000000</td>\n",
              "      <td>0.000000</td>\n",
              "    </tr>\n",
              "    <tr>\n",
              "      <th>phevComb</th>\n",
              "      <td>25008.0</td>\n",
              "      <td>0.010917</td>\n",
              "      <td>0.787139</td>\n",
              "      <td>0.00</td>\n",
              "      <td>0.000000</td>\n",
              "      <td>0.000000</td>\n",
              "      <td>0.000000</td>\n",
              "      <td>62.000000</td>\n",
              "      <td>0.000000</td>\n",
              "    </tr>\n",
              "  </tbody>\n",
              "</table>\n",
              "<p>61 rows × 9 columns</p>\n",
              "</div>\n",
              "      <button class=\"colab-df-convert\" onclick=\"convertToInteractive('df-05e68d36-ccb4-46b5-bd8e-7fc218233675')\"\n",
              "              title=\"Convert this dataframe to an interactive table.\"\n",
              "              style=\"display:none;\">\n",
              "        \n",
              "  <svg xmlns=\"http://www.w3.org/2000/svg\" height=\"24px\"viewBox=\"0 0 24 24\"\n",
              "       width=\"24px\">\n",
              "    <path d=\"M0 0h24v24H0V0z\" fill=\"none\"/>\n",
              "    <path d=\"M18.56 5.44l.94 2.06.94-2.06 2.06-.94-2.06-.94-.94-2.06-.94 2.06-2.06.94zm-11 1L8.5 8.5l.94-2.06 2.06-.94-2.06-.94L8.5 2.5l-.94 2.06-2.06.94zm10 10l.94 2.06.94-2.06 2.06-.94-2.06-.94-.94-2.06-.94 2.06-2.06.94z\"/><path d=\"M17.41 7.96l-1.37-1.37c-.4-.4-.92-.59-1.43-.59-.52 0-1.04.2-1.43.59L10.3 9.45l-7.72 7.72c-.78.78-.78 2.05 0 2.83L4 21.41c.39.39.9.59 1.41.59.51 0 1.02-.2 1.41-.59l7.78-7.78 2.81-2.81c.8-.78.8-2.07 0-2.86zM5.41 20L4 18.59l7.72-7.72 1.47 1.35L5.41 20z\"/>\n",
              "  </svg>\n",
              "      </button>\n",
              "      \n",
              "  <style>\n",
              "    .colab-df-container {\n",
              "      display:flex;\n",
              "      flex-wrap:wrap;\n",
              "      gap: 12px;\n",
              "    }\n",
              "\n",
              "    .colab-df-convert {\n",
              "      background-color: #E8F0FE;\n",
              "      border: none;\n",
              "      border-radius: 50%;\n",
              "      cursor: pointer;\n",
              "      display: none;\n",
              "      fill: #1967D2;\n",
              "      height: 32px;\n",
              "      padding: 0 0 0 0;\n",
              "      width: 32px;\n",
              "    }\n",
              "\n",
              "    .colab-df-convert:hover {\n",
              "      background-color: #E2EBFA;\n",
              "      box-shadow: 0px 1px 2px rgba(60, 64, 67, 0.3), 0px 1px 3px 1px rgba(60, 64, 67, 0.15);\n",
              "      fill: #174EA6;\n",
              "    }\n",
              "\n",
              "    [theme=dark] .colab-df-convert {\n",
              "      background-color: #3B4455;\n",
              "      fill: #D2E3FC;\n",
              "    }\n",
              "\n",
              "    [theme=dark] .colab-df-convert:hover {\n",
              "      background-color: #434B5C;\n",
              "      box-shadow: 0px 1px 3px 1px rgba(0, 0, 0, 0.15);\n",
              "      filter: drop-shadow(0px 1px 2px rgba(0, 0, 0, 0.3));\n",
              "      fill: #FFFFFF;\n",
              "    }\n",
              "  </style>\n",
              "\n",
              "      <script>\n",
              "        const buttonEl =\n",
              "          document.querySelector('#df-05e68d36-ccb4-46b5-bd8e-7fc218233675 button.colab-df-convert');\n",
              "        buttonEl.style.display =\n",
              "          google.colab.kernel.accessAllowed ? 'block' : 'none';\n",
              "\n",
              "        async function convertToInteractive(key) {\n",
              "          const element = document.querySelector('#df-05e68d36-ccb4-46b5-bd8e-7fc218233675');\n",
              "          const dataTable =\n",
              "            await google.colab.kernel.invokeFunction('convertToInteractive',\n",
              "                                                     [key], {});\n",
              "          if (!dataTable) return;\n",
              "\n",
              "          const docLinkHtml = 'Like what you see? Visit the ' +\n",
              "            '<a target=\"_blank\" href=https://colab.research.google.com/notebooks/data_table.ipynb>data table notebook</a>'\n",
              "            + ' to learn more about interactive tables.';\n",
              "          element.innerHTML = '';\n",
              "          dataTable['output_type'] = 'display_data';\n",
              "          await google.colab.output.renderOutput(dataTable, element);\n",
              "          const docLink = document.createElement('div');\n",
              "          docLink.innerHTML = docLinkHtml;\n",
              "          element.appendChild(docLink);\n",
              "        }\n",
              "      </script>\n",
              "    </div>\n",
              "  </div>\n",
              "  "
            ]
          },
          "metadata": {},
          "execution_count": 13
        }
      ],
      "source": [
        "stats = data.describe().T\n",
        "stats['IQR'] = stats['75%'] - stats['25%']\n",
        "stats"
      ]
    },
    {
      "cell_type": "code",
      "execution_count": null,
      "metadata": {
        "id": "JhFrOB01CZtC"
      },
      "outputs": [],
      "source": []
    },
    {
      "cell_type": "markdown",
      "metadata": {
        "id": "NkoTjnlbCZtC"
      },
      "source": [
        "# Visualizando outilers usando distribuição de variáveis\n",
        "    - Inter-quartile range rule\n",
        "    - 3 standard-deviation rule"
      ]
    },
    {
      "cell_type": "code",
      "execution_count": null,
      "metadata": {
        "ExecuteTime": {
          "end_time": "2020-04-06T12:46:33.945563Z",
          "start_time": "2020-04-06T12:46:33.482775Z"
        },
        "id": "-cygPpfSCZtD"
      },
      "outputs": [],
      "source": [
        "import seaborn as sns\n",
        "import matplotlib.pyplot as plt"
      ]
    },
    {
      "cell_type": "markdown",
      "metadata": {
        "id": "yD8PgVEFCZtD"
      },
      "source": [
        "## Curva Gaussiana"
      ]
    },
    {
      "cell_type": "code",
      "execution_count": null,
      "metadata": {
        "ExecuteTime": {
          "end_time": "2020-04-06T13:15:39.215673Z",
          "start_time": "2020-04-06T13:15:38.997722Z"
        },
        "colab": {
          "base_uri": "https://localhost:8080/",
          "height": 337
        },
        "id": "Bw2TRtJYCZtD",
        "outputId": "f6139478-7d7c-4a0f-8c7c-8ddfa815c553"
      },
      "outputs": [
        {
          "output_type": "stream",
          "name": "stderr",
          "text": [
            "/usr/local/lib/python3.7/dist-packages/seaborn/distributions.py:2619: FutureWarning: `distplot` is a deprecated function and will be removed in a future version. Please adapt your code to use either `displot` (a figure-level function with similar flexibility) or `histplot` (an axes-level function for histograms).\n",
            "  warnings.warn(msg, FutureWarning)\n"
          ]
        },
        {
          "output_type": "execute_result",
          "data": {
            "text/plain": [
              "0.9972"
            ]
          },
          "metadata": {},
          "execution_count": 7
        },
        {
          "output_type": "display_data",
          "data": {
            "text/plain": [
              "<Figure size 432x288 with 1 Axes>"
            ],
            "image/png": "[encoded data removed]"
          },
          "metadata": {
            "needs_background": "light"
          }
        }
      ],
      "source": [
        "N = 100000\n",
        "y = np.random.normal(size=N)\n",
        "sns.distplot(y)\n",
        "\n",
        "1 - len(y[(y > np.mean(y) + 3 * np.std(y)) | (y < np.mean(y) - 3 * np.std(y))]) / len(y)"
      ]
    },
    {
      "cell_type": "code",
      "execution_count": null,
      "metadata": {
        "id": "JN30j-DSCZtD"
      },
      "outputs": [],
      "source": []
    },
    {
      "cell_type": "markdown",
      "metadata": {
        "id": "OWGuvq54CZtD"
      },
      "source": [
        "## Caso Prático"
      ]
    },
    {
      "cell_type": "code",
      "execution_count": null,
      "metadata": {
        "ExecuteTime": {
          "end_time": "2020-04-06T12:46:47.095093Z",
          "start_time": "2020-04-06T12:46:47.090107Z"
        },
        "colab": {
          "base_uri": "https://localhost:8080/"
        },
        "id": "R4_sEsHLCZtE",
        "outputId": "b70b8622-f0d1-47a2-9df7-441fca17b819"
      },
      "outputs": [
        {
          "output_type": "execute_result",
          "data": {
            "text/plain": [
              "0        15.695714\n",
              "1        29.964545\n",
              "2        12.207778\n",
              "3        29.964545\n",
              "4        17.347895\n",
              "           ...    \n",
              "25004    17.347895\n",
              "25005    21.974000\n",
              "25006    21.974000\n",
              "25007    23.543571\n",
              "25008    21.974000\n",
              "Name: barrels08, Length: 25009, dtype: float64"
            ]
          },
          "metadata": {},
          "execution_count": 11
        }
      ],
      "source": [
        "data.barrels08"
      ]
    },
    {
      "cell_type": "code",
      "execution_count": null,
      "metadata": {
        "ExecuteTime": {
          "end_time": "2020-04-06T13:03:43.252129Z",
          "start_time": "2020-04-06T13:03:42.995542Z"
        },
        "colab": {
          "base_uri": "https://localhost:8080/",
          "height": 351
        },
        "id": "SXthortyCZtE",
        "outputId": "8305be7d-a342-4178-a6ab-86ff184211cd"
      },
      "outputs": [
        {
          "output_type": "stream",
          "name": "stderr",
          "text": [
            "/usr/local/lib/python3.7/dist-packages/seaborn/distributions.py:2619: FutureWarning: `distplot` is a deprecated function and will be removed in a future version. Please adapt your code to use either `displot` (a figure-level function with similar flexibility) or `histplot` (an axes-level function for histograms).\n",
            "  warnings.warn(msg, FutureWarning)\n"
          ]
        },
        {
          "output_type": "execute_result",
          "data": {
            "text/plain": [
              "<matplotlib.collections.LineCollection at 0x7fc30827ecd0>"
            ]
          },
          "metadata": {},
          "execution_count": 9
        },
        {
          "output_type": "display_data",
          "data": {
            "text/plain": [
              "<Figure size 432x288 with 1 Axes>"
            ],
            "image/png": "[encoded data removed]"
          },
          "metadata": {
            "needs_background": "light"
          }
        }
      ],
      "source": [
        "sns.distplot(data.barrels08)\n",
        "\n",
        "x = data.barrels08.mean()\n",
        "\n",
        "plt.vlines(x, 0, 0.13, color='gray')"
      ]
    },
    {
      "cell_type": "code",
      "execution_count": null,
      "metadata": {
        "ExecuteTime": {
          "end_time": "2020-04-06T12:51:49.392498Z",
          "start_time": "2020-04-06T12:51:49.387483Z"
        },
        "id": "fjf8bX3dCZtE"
      },
      "outputs": [],
      "source": [
        "std = stats.loc['barrels08', 'std']\n",
        "mean = data.barrels08.mean()"
      ]
    },
    {
      "cell_type": "code",
      "execution_count": null,
      "metadata": {
        "ExecuteTime": {
          "end_time": "2020-04-06T12:52:02.388116Z",
          "start_time": "2020-04-06T12:52:02.384099Z"
        },
        "colab": {
          "base_uri": "https://localhost:8080/"
        },
        "id": "pyhjtbv3CZtE",
        "outputId": "cc477871-e375-46af-e52c-efe6b935d416"
      },
      "outputs": [
        {
          "output_type": "execute_result",
          "data": {
            "text/plain": [
              "13.443295235960445"
            ]
          },
          "metadata": {},
          "execution_count": 15
        }
      ],
      "source": [
        "mean - std"
      ]
    },
    {
      "cell_type": "code",
      "execution_count": null,
      "metadata": {
        "ExecuteTime": {
          "end_time": "2020-04-06T13:03:57.981589Z",
          "start_time": "2020-04-06T13:03:57.769985Z"
        },
        "colab": {
          "base_uri": "https://localhost:8080/",
          "height": 367
        },
        "id": "Sz0z7JoLCZtE",
        "outputId": "170ed4bf-f626-4234-a39a-0868046d474c"
      },
      "outputs": [
        {
          "output_type": "stream",
          "name": "stderr",
          "text": [
            "/usr/local/lib/python3.7/dist-packages/seaborn/distributions.py:2619: FutureWarning: `distplot` is a deprecated function and will be removed in a future version. Please adapt your code to use either `displot` (a figure-level function with similar flexibility) or `histplot` (an axes-level function for histograms).\n",
            "  warnings.warn(msg, FutureWarning)\n"
          ]
        },
        {
          "output_type": "execute_result",
          "data": {
            "text/plain": [
              "(0.0, 0.12)"
            ]
          },
          "metadata": {},
          "execution_count": 16
        },
        {
          "output_type": "display_data",
          "data": {
            "text/plain": [
              "<Figure size 432x288 with 1 Axes>"
            ],
            "image/png": "[encoded data removed]"
          },
          "metadata": {
            "needs_background": "light"
          }
        }
      ],
      "source": [
        "sns.distplot(data.barrels08)\n",
        "\n",
        "x = data.barrels08.mean()\n",
        "\n",
        "plt.title('Media + 1 desvio padrão')\n",
        "plt.vlines(x, 0, 0.13, color='gray')\n",
        "plt.vlines(mean + std, 0, 0.13, color='red')\n",
        "plt.vlines(mean - std, 0, 0.13, color='red')\n",
        "plt.ylim([0, 0.12])"
      ]
    },
    {
      "cell_type": "code",
      "execution_count": null,
      "metadata": {
        "id": "YrTyaECiCZtF"
      },
      "outputs": [],
      "source": [
        "# data.query(f'barrels08 > {mean - std} and barrels08 < {mean + std}')"
      ]
    },
    {
      "cell_type": "code",
      "execution_count": null,
      "metadata": {
        "ExecuteTime": {
          "end_time": "2020-04-06T12:58:44.086709Z",
          "start_time": "2020-04-06T12:58:44.062745Z"
        },
        "scrolled": true,
        "colab": {
          "base_uri": "https://localhost:8080/"
        },
        "id": "lflGy3GZCZtF",
        "outputId": "2fe0a03b-dcd7-4363-d311-497794336a21"
      },
      "outputs": [
        {
          "output_type": "execute_result",
          "data": {
            "text/plain": [
              "0.7399736095005798"
            ]
          },
          "metadata": {},
          "execution_count": 18
        }
      ],
      "source": [
        "data.query(f'{mean - std} < barrels08 < {mean + std}').shape[0] / data.shape[0]"
      ]
    },
    {
      "cell_type": "code",
      "execution_count": null,
      "metadata": {
        "ExecuteTime": {
          "end_time": "2020-04-06T13:04:04.824508Z",
          "start_time": "2020-04-06T13:04:04.624018Z"
        },
        "colab": {
          "base_uri": "https://localhost:8080/",
          "height": 367
        },
        "id": "YuQGVHc0CZtF",
        "outputId": "9a5fc0be-5b42-42f2-eebd-832f7b072b73"
      },
      "outputs": [
        {
          "output_type": "stream",
          "name": "stderr",
          "text": [
            "/usr/local/lib/python3.7/dist-packages/seaborn/distributions.py:2619: FutureWarning: `distplot` is a deprecated function and will be removed in a future version. Please adapt your code to use either `displot` (a figure-level function with similar flexibility) or `histplot` (an axes-level function for histograms).\n",
            "  warnings.warn(msg, FutureWarning)\n"
          ]
        },
        {
          "output_type": "execute_result",
          "data": {
            "text/plain": [
              "(0.0, 0.12)"
            ]
          },
          "metadata": {},
          "execution_count": 19
        },
        {
          "output_type": "display_data",
          "data": {
            "text/plain": [
              "<Figure size 432x288 with 1 Axes>"
            ],
            "image/png": "[encoded data removed]"
          },
          "metadata": {
            "needs_background": "light"
          }
        }
      ],
      "source": [
        "sns.distplot(data.barrels08)\n",
        "\n",
        "x = data.barrels08.median()\n",
        "plt.title('Media + 2 desvios padrões')\n",
        "plt.vlines(x, 0, 0.13, color='gray')\n",
        "plt.vlines(mean + 2 * std, 0, 0.13, color='red')\n",
        "plt.vlines(mean - 2 * std, 0, 0.13, color='red')\n",
        "plt.ylim([0, 0.12])"
      ]
    },
    {
      "cell_type": "code",
      "execution_count": null,
      "metadata": {
        "ExecuteTime": {
          "end_time": "2020-04-06T13:02:28.678882Z",
          "start_time": "2020-04-06T13:02:28.647937Z"
        },
        "colab": {
          "base_uri": "https://localhost:8080/"
        },
        "id": "LwyD8XzACZtF",
        "outputId": "aee4026e-e0a3-4666-cf33-cdd36f1fc40d"
      },
      "outputs": [
        {
          "output_type": "execute_result",
          "data": {
            "text/plain": [
              "0.9562957335359271"
            ]
          },
          "metadata": {},
          "execution_count": 20
        }
      ],
      "source": [
        "data.query(f'{mean - 2 * std} < barrels08 < {mean + 2 * std}').shape[0] / data.shape[0]"
      ]
    },
    {
      "cell_type": "code",
      "execution_count": null,
      "metadata": {
        "ExecuteTime": {
          "end_time": "2020-04-06T13:03:32.001723Z",
          "start_time": "2020-04-06T13:03:31.997733Z"
        },
        "colab": {
          "base_uri": "https://localhost:8080/"
        },
        "id": "1rOK4bUSCZtF",
        "outputId": "0ff74c89-def6-428a-9766-0091e780771c"
      },
      "outputs": [
        {
          "output_type": "execute_result",
          "data": {
            "text/plain": [
              "17.796689747473174"
            ]
          },
          "metadata": {},
          "execution_count": 21
        }
      ],
      "source": [
        "data.barrels08.mean()"
      ]
    },
    {
      "cell_type": "code",
      "execution_count": null,
      "metadata": {
        "ExecuteTime": {
          "end_time": "2020-04-06T13:04:25.043710Z",
          "start_time": "2020-04-06T13:04:24.842221Z"
        },
        "colab": {
          "base_uri": "https://localhost:8080/",
          "height": 367
        },
        "id": "5ztvT1hOCZtG",
        "outputId": "03889721-c9d8-4ccb-83af-55dc9e11f2b1"
      },
      "outputs": [
        {
          "output_type": "stream",
          "name": "stderr",
          "text": [
            "/usr/local/lib/python3.7/dist-packages/seaborn/distributions.py:2619: FutureWarning: `distplot` is a deprecated function and will be removed in a future version. Please adapt your code to use either `displot` (a figure-level function with similar flexibility) or `histplot` (an axes-level function for histograms).\n",
            "  warnings.warn(msg, FutureWarning)\n"
          ]
        },
        {
          "output_type": "execute_result",
          "data": {
            "text/plain": [
              "(0.0, 0.12)"
            ]
          },
          "metadata": {},
          "execution_count": 22
        },
        {
          "output_type": "display_data",
          "data": {
            "text/plain": [
              "<Figure size 432x288 with 1 Axes>"
            ],
            "image/png": "[encoded data removed]"
          },
          "metadata": {
            "needs_background": "light"
          }
        }
      ],
      "source": [
        "sns.distplot(data.barrels08)\n",
        "x = data.barrels08.median()\n",
        "plt.title('Media + 3 desvios padrões')\n",
        "plt.vlines(x, 0, 0.13, color='gray')\n",
        "plt.vlines(mean + 3 * std, 0, 0.13, color='red')\n",
        "plt.vlines(mean - 3 * std, 0, 0.13, color='red')\n",
        "plt.ylim([0, 0.12])"
      ]
    },
    {
      "cell_type": "code",
      "execution_count": null,
      "metadata": {
        "ExecuteTime": {
          "end_time": "2020-04-06T13:04:40.768106Z",
          "start_time": "2020-04-06T13:04:40.739459Z"
        },
        "colab": {
          "base_uri": "https://localhost:8080/"
        },
        "id": "upUfAm8CCZtG",
        "outputId": "24e73ad8-c2ec-4a93-a59e-45a43ffdf1d5"
      },
      "outputs": [
        {
          "output_type": "execute_result",
          "data": {
            "text/plain": [
              "0.9913231236754768"
            ]
          },
          "metadata": {},
          "execution_count": 23
        }
      ],
      "source": [
        "data.query(f'{mean - 3 * std} < barrels08 < {mean + 3 * std}').shape[0] / data.shape[0]"
      ]
    },
    {
      "cell_type": "code",
      "execution_count": null,
      "metadata": {
        "ExecuteTime": {
          "end_time": "2020-04-06T13:25:05.830652Z",
          "start_time": "2020-04-06T13:25:05.747903Z"
        },
        "colab": {
          "base_uri": "https://localhost:8080/",
          "height": 351
        },
        "id": "_Hn9AWuhCZtG",
        "outputId": "79508fe4-14d0-432b-99d0-8c64588082a7"
      },
      "outputs": [
        {
          "output_type": "stream",
          "name": "stderr",
          "text": [
            "/usr/local/lib/python3.7/dist-packages/seaborn/_decorators.py:43: FutureWarning: Pass the following variable as a keyword arg: x. From version 0.12, the only valid positional argument will be `data`, and passing other arguments without an explicit keyword will result in an error or misinterpretation.\n",
            "  FutureWarning\n"
          ]
        },
        {
          "output_type": "execute_result",
          "data": {
            "text/plain": [
              "<matplotlib.axes._subplots.AxesSubplot at 0x7fc307c911d0>"
            ]
          },
          "metadata": {},
          "execution_count": 24
        },
        {
          "output_type": "display_data",
          "data": {
            "text/plain": [
              "<Figure size 432x288 with 1 Axes>"
            ],
            "image/png": "[encoded data removed]"
          },
          "metadata": {
            "needs_background": "light"
          }
        }
      ],
      "source": [
        "sns.boxplot(data.barrels08)"
      ]
    },
    {
      "cell_type": "code",
      "execution_count": null,
      "metadata": {
        "ExecuteTime": {
          "end_time": "2020-04-06T13:29:11.870612Z",
          "start_time": "2020-04-06T13:29:11.864627Z"
        },
        "id": "E4Iz-qsJCZtG"
      },
      "outputs": [],
      "source": [
        "iqr = stats.loc['barrels08', 'IQR']\n",
        "q3 = stats.loc['barrels08', '75%']\n",
        "q1 = stats.loc['barrels08', '25%']"
      ]
    },
    {
      "cell_type": "code",
      "execution_count": null,
      "metadata": {
        "ExecuteTime": {
          "end_time": "2020-04-06T13:30:05.008928Z",
          "start_time": "2020-04-06T13:30:04.836390Z"
        },
        "colab": {
          "base_uri": "https://localhost:8080/",
          "height": 334
        },
        "id": "0_i6mZZ5CZtG",
        "outputId": "3931e5d0-39e4-47a7-bab4-9d752411896e"
      },
      "outputs": [
        {
          "output_type": "stream",
          "name": "stderr",
          "text": [
            "/usr/local/lib/python3.7/dist-packages/seaborn/distributions.py:2619: FutureWarning: `distplot` is a deprecated function and will be removed in a future version. Please adapt your code to use either `displot` (a figure-level function with similar flexibility) or `histplot` (an axes-level function for histograms).\n",
            "  warnings.warn(msg, FutureWarning)\n"
          ]
        },
        {
          "output_type": "display_data",
          "data": {
            "text/plain": [
              "<Figure size 432x288 with 1 Axes>"
            ],
            "image/png": "[encoded data removed]"
          },
          "metadata": {
            "needs_background": "light"
          }
        }
      ],
      "source": [
        "sns.distplot(data.barrels08)\n",
        "plt.vlines(x=q3 + 1.5 * iqr, ymin=0, ymax=0.13)\n",
        "plt.vlines(x=q1 - 1.5 * iqr, ymin=0, ymax=0.13)\n",
        "plt.show()"
      ]
    },
    {
      "cell_type": "code",
      "execution_count": null,
      "metadata": {
        "ExecuteTime": {
          "end_time": "2020-04-06T13:33:09.314559Z",
          "start_time": "2020-04-06T13:33:09.048272Z"
        },
        "colab": {
          "base_uri": "https://localhost:8080/",
          "height": 368
        },
        "id": "8RMlK_hgCZtH",
        "outputId": "deea3254-3cc8-4a45-ddac-1f866ad7b053"
      },
      "outputs": [
        {
          "output_type": "stream",
          "name": "stderr",
          "text": [
            "/usr/local/lib/python3.7/dist-packages/seaborn/distributions.py:2619: FutureWarning: `distplot` is a deprecated function and will be removed in a future version. Please adapt your code to use either `displot` (a figure-level function with similar flexibility) or `histplot` (an axes-level function for histograms).\n",
            "  warnings.warn(msg, FutureWarning)\n",
            "/usr/local/lib/python3.7/dist-packages/seaborn/distributions.py:2619: FutureWarning: `distplot` is a deprecated function and will be removed in a future version. Please adapt your code to use either `displot` (a figure-level function with similar flexibility) or `histplot` (an axes-level function for histograms).\n",
            "  warnings.warn(msg, FutureWarning)\n"
          ]
        },
        {
          "output_type": "display_data",
          "data": {
            "text/plain": [
              "<Figure size 432x288 with 1 Axes>"
            ],
            "image/png": "[encoded data removed]"
          },
          "metadata": {
            "needs_background": "light"
          }
        }
      ],
      "source": [
        "sns.distplot(data.barrels08)\n",
        "\n",
        "sns.distplot(data.barrels08)\n",
        "plt.vlines(x=(stats.loc['barrels08']['25%'] - stats.loc['barrels08']['IQR'] * 1.5 ), ymin=0, ymax=0.13, color='blue')\n",
        "plt.vlines(x=(stats.loc['barrels08']['75%'] + stats.loc['barrels08']['IQR'] * 1.5 ), ymin=0, ymax=0.13, color='blue')\n",
        "plt.vlines(x=(stats.loc['barrels08']['25%'] ), ymin=0, ymax=0.13, color='k')\n",
        "plt.vlines(x=(stats.loc['barrels08']['75%'] ), ymin=0, ymax=0.13, color='k')\n",
        "plt.vlines(x=(stats.loc['barrels08']['50%'] ), ymin=0, ymax=0.13, color='k')\n",
        "\n",
        "\n",
        "\n",
        "\n",
        "plt.vlines(x=(stats.loc['barrels08']['mean'] - stats.loc['barrels08']['std'] * 3 ), ymin=0, ymax=0.13, color='red')\n",
        "plt.vlines(x=(stats.loc['barrels08']['mean'] + stats.loc['barrels08']['std'] * 3 ), ymin=0, ymax=0.13, color='red')\n",
        "\n",
        "\n",
        "plt.show()"
      ]
    },
    {
      "cell_type": "code",
      "execution_count": null,
      "metadata": {
        "ExecuteTime": {
          "end_time": "2020-04-06T13:34:42.961713Z",
          "start_time": "2020-04-06T13:34:42.952708Z"
        },
        "colab": {
          "base_uri": "https://localhost:8080/"
        },
        "id": "60r3bfCJCZtH",
        "outputId": "e007caa2-680d-4fca-e318-9a3e4c413b06"
      },
      "outputs": [
        {
          "output_type": "execute_result",
          "data": {
            "text/plain": [
              "count    25009.000000\n",
              "mean        17.796690\n",
              "std          4.353395\n",
              "min          0.060000\n",
              "25%         14.982273\n",
              "50%         17.347895\n",
              "75%         20.600625\n",
              "max         47.087143\n",
              "Name: barrels08, dtype: float64"
            ]
          },
          "metadata": {},
          "execution_count": 28
        }
      ],
      "source": [
        "data.barrels08.describe()"
      ]
    },
    {
      "cell_type": "markdown",
      "metadata": {
        "id": "dQII0yIhCZtH"
      },
      "source": [
        "# Distribuições Não Normais"
      ]
    },
    {
      "cell_type": "code",
      "execution_count": null,
      "metadata": {
        "ExecuteTime": {
          "end_time": "2020-04-06T14:03:13.368086Z",
          "start_time": "2020-04-06T14:03:13.116745Z"
        },
        "id": "9d1KYPOoCZtH"
      },
      "outputs": [],
      "source": [
        "sns.distplot(data.pv4)"
      ]
    },
    {
      "cell_type": "code",
      "execution_count": null,
      "metadata": {
        "ExecuteTime": {
          "end_time": "2020-04-06T14:05:15.664117Z",
          "start_time": "2020-04-06T14:05:15.558400Z"
        },
        "id": "UMsSqwfICZtH"
      },
      "outputs": [],
      "source": [
        "sns.distplot(data.pv4, hist=False)"
      ]
    },
    {
      "cell_type": "code",
      "execution_count": null,
      "metadata": {
        "ExecuteTime": {
          "end_time": "2020-04-06T14:05:31.479459Z",
          "start_time": "2020-04-06T14:05:31.471480Z"
        },
        "id": "1g5Aw1vrCZtI"
      },
      "outputs": [],
      "source": [
        "data.pv4.describe()"
      ]
    },
    {
      "cell_type": "code",
      "execution_count": null,
      "metadata": {
        "ExecuteTime": {
          "end_time": "2020-04-06T14:08:16.410877Z",
          "start_time": "2020-04-06T14:08:16.305161Z"
        },
        "id": "0PbYTKTxCZtI"
      },
      "outputs": [],
      "source": [
        "# só funciona para distribuições normais\n",
        "sns.distplot(data.pv4, hist=False)\n",
        "plt.vlines(x=(stats.loc['pv4']['25%'] - stats.loc['pv4']['IQR'] * 1.5 ), ymin=0, ymax=0.13, color='red')\n",
        "plt.vlines(x=(stats.loc['pv4']['75%'] + stats.loc['pv4']['IQR'] * 1.5 ), ymin=0, ymax=0.13, color='red')\n",
        "plt.show() "
      ]
    },
    {
      "cell_type": "code",
      "execution_count": null,
      "metadata": {
        "ExecuteTime": {
          "end_time": "2020-04-06T14:08:54.227921Z",
          "start_time": "2020-04-06T14:08:54.124691Z"
        },
        "id": "c1OBfOv0CZtI"
      },
      "outputs": [],
      "source": [
        "# só funciona para distribuições normais\n",
        "sns.distplot(data.pv4, hist=False)\n",
        "plt.vlines(x=(stats.loc['pv4']['mean'] - stats.loc['pv4']['std'] * 3 ), ymin=0, ymax=0.13, color='blue')\n",
        "plt.vlines(x=(stats.loc['pv4']['mean'] + stats.loc['pv4']['std'] * 3 ), ymin=0, ymax=0.13, color='blue')\n",
        "plt.show()\n"
      ]
    },
    {
      "cell_type": "code",
      "execution_count": null,
      "metadata": {
        "ExecuteTime": {
          "end_time": "2020-04-06T14:10:20.924037Z",
          "start_time": "2020-04-06T14:10:20.739507Z"
        },
        "scrolled": true,
        "id": "aHd0YWlmCZtI"
      },
      "outputs": [],
      "source": [
        "data.describe().T"
      ]
    },
    {
      "cell_type": "code",
      "execution_count": null,
      "metadata": {
        "ExecuteTime": {
          "end_time": "2020-04-06T14:11:38.981811Z",
          "start_time": "2020-04-06T14:11:38.832214Z"
        },
        "scrolled": true,
        "id": "dSurRiCwCZtI"
      },
      "outputs": [],
      "source": [
        "data.fuelCostA08.plot(kind='hist')"
      ]
    },
    {
      "cell_type": "code",
      "execution_count": null,
      "metadata": {
        "ExecuteTime": {
          "end_time": "2020-04-06T14:12:16.647231Z",
          "start_time": "2020-04-06T14:12:16.641248Z"
        },
        "id": "7fexNk_rCZtI"
      },
      "outputs": [],
      "source": [
        "upper_limit = data.fuelCostA08.mean() + 3 * data.fuelCostA08.std()\n",
        "lower_limit = data.fuelCostA08.mean() - 3 * data.fuelCostA08.std()"
      ]
    },
    {
      "cell_type": "code",
      "execution_count": null,
      "metadata": {
        "ExecuteTime": {
          "end_time": "2020-04-06T14:12:44.968940Z",
          "start_time": "2020-04-06T14:12:44.831087Z"
        },
        "id": "S3gVp2v3CZtI"
      },
      "outputs": [],
      "source": [
        "data.fuelCostA08.plot(kind='hist')\n",
        "plt.vlines(upper_limit, 0, 36000)\n",
        "plt.ylim([0, 36000])"
      ]
    },
    {
      "cell_type": "code",
      "execution_count": null,
      "metadata": {
        "ExecuteTime": {
          "end_time": "2020-04-06T14:14:43.365390Z",
          "start_time": "2020-04-06T14:14:43.357412Z"
        },
        "id": "pf078yBgCZtJ"
      },
      "outputs": [],
      "source": [
        "data.fuelCostA08.describe()"
      ]
    },
    {
      "cell_type": "code",
      "execution_count": null,
      "metadata": {
        "ExecuteTime": {
          "end_time": "2020-04-06T14:14:14.286970Z",
          "start_time": "2020-04-06T14:14:14.144842Z"
        },
        "id": "Fe88Et_JCZtJ"
      },
      "outputs": [],
      "source": [
        "upper_limit = stats.loc['fuelCostA08', '75%'] + 1.5 * stats.loc['fuelCostA08', 'IQR']\n",
        "lower_limit = stats.loc['fuelCostA08', '25%'] - 1.5 * stats.loc['fuelCostA08', 'IQR']\n",
        "\n",
        "data.fuelCostA08.plot(kind='hist')\n",
        "plt.vlines(upper_limit, 0, 36000, color='red')\n",
        "plt.ylim([0, 36000])"
      ]
    },
    {
      "cell_type": "code",
      "execution_count": null,
      "metadata": {
        "ExecuteTime": {
          "end_time": "2020-04-06T14:15:25.790412Z",
          "start_time": "2020-04-06T14:15:25.695360Z"
        },
        "id": "niZbC4X6CZtJ"
      },
      "outputs": [],
      "source": [
        "sns.boxplot(data.fuelCostA08)"
      ]
    },
    {
      "cell_type": "code",
      "execution_count": null,
      "metadata": {
        "ExecuteTime": {
          "end_time": "2020-04-06T14:16:47.999633Z",
          "start_time": "2020-04-06T14:16:47.994670Z"
        },
        "id": "u38QsnOhCZtJ"
      },
      "outputs": [],
      "source": [
        "# por quê?\n",
        "stats.loc['pv4']"
      ]
    },
    {
      "cell_type": "code",
      "execution_count": null,
      "metadata": {
        "ExecuteTime": {
          "end_time": "2020-04-06T14:17:01.223088Z",
          "start_time": "2020-04-06T14:17:01.218101Z"
        },
        "id": "KyZMZUELCZtJ"
      },
      "outputs": [],
      "source": [
        "(data.pv4 != 0).sum()"
      ]
    },
    {
      "cell_type": "code",
      "execution_count": null,
      "metadata": {
        "ExecuteTime": {
          "end_time": "2020-04-06T14:17:04.777205Z",
          "start_time": "2020-04-06T14:17:04.772218Z"
        },
        "id": "XkoiXTdfCZtJ"
      },
      "outputs": [],
      "source": [
        "(data.pv4 != 0).mean()"
      ]
    },
    {
      "cell_type": "code",
      "execution_count": null,
      "metadata": {
        "ExecuteTime": {
          "end_time": "2020-04-06T14:17:27.410983Z",
          "start_time": "2020-04-06T14:17:27.405973Z"
        },
        "id": "AExGG6-4CZtJ"
      },
      "outputs": [],
      "source": [
        "(data.fuelCostA08 != 0).mean()"
      ]
    },
    {
      "cell_type": "code",
      "execution_count": null,
      "metadata": {
        "ExecuteTime": {
          "end_time": "2020-04-06T14:19:17.724398Z",
          "start_time": "2020-04-06T14:19:17.718415Z"
        },
        "id": "63Xo5LuNCZtK"
      },
      "outputs": [],
      "source": []
    },
    {
      "cell_type": "code",
      "execution_count": null,
      "metadata": {
        "ExecuteTime": {
          "end_time": "2020-04-06T14:24:06.121529Z",
          "start_time": "2020-04-06T14:24:06.116543Z"
        },
        "id": "PIBwAkPpCZtK"
      },
      "outputs": [],
      "source": [
        "data.pv4.quantile(q=0.95)"
      ]
    },
    {
      "cell_type": "code",
      "execution_count": null,
      "metadata": {
        "ExecuteTime": {
          "end_time": "2020-04-06T14:25:14.711922Z",
          "start_time": "2020-04-06T14:25:14.708928Z"
        },
        "id": "Qny6wI7CCZtK"
      },
      "outputs": [],
      "source": [
        "# sns.distplot(data.query('pv4 != 0').pv4)"
      ]
    },
    {
      "cell_type": "code",
      "execution_count": null,
      "metadata": {
        "ExecuteTime": {
          "end_time": "2020-04-06T14:25:18.686993Z",
          "start_time": "2020-04-06T14:25:18.683005Z"
        },
        "id": "_4jTq-ZjCZtN"
      },
      "outputs": [],
      "source": [
        "# sns.distplot(np.clip(data.pv4, data.pv4.quantile(q=0.70), data.pv4.max()), hist=False)"
      ]
    },
    {
      "cell_type": "markdown",
      "metadata": {
        "id": "VPdYM9aVCZtN"
      },
      "source": [
        "# Skewness\n",
        "\n",
        "O quão assimétrica é sua curva"
      ]
    },
    {
      "cell_type": "code",
      "execution_count": null,
      "metadata": {
        "ExecuteTime": {
          "end_time": "2020-04-06T14:28:10.315933Z",
          "start_time": "2020-04-06T14:28:10.311944Z"
        },
        "id": "17rBy8n3CZtN"
      },
      "outputs": [],
      "source": [
        "N = 10000"
      ]
    },
    {
      "cell_type": "code",
      "execution_count": null,
      "metadata": {
        "ExecuteTime": {
          "end_time": "2020-04-06T14:28:10.966204Z",
          "start_time": "2020-04-06T14:28:10.800636Z"
        },
        "id": "t7prDG8tCZtN"
      },
      "outputs": [],
      "source": [
        "uniform = np.random.randint(0, 100, size=N)\n",
        "sns.distplot(uniform)"
      ]
    },
    {
      "cell_type": "code",
      "execution_count": null,
      "metadata": {
        "ExecuteTime": {
          "end_time": "2020-04-06T14:28:28.324181Z",
          "start_time": "2020-04-06T14:28:28.210079Z"
        },
        "scrolled": true,
        "id": "XevzYn4sCZtN"
      },
      "outputs": [],
      "source": [
        "normal = np.random.normal(size=N)\n",
        "sns.distplot(normal, hist=False)"
      ]
    },
    {
      "cell_type": "code",
      "execution_count": null,
      "metadata": {
        "ExecuteTime": {
          "end_time": "2020-04-06T14:28:52.023573Z",
          "start_time": "2020-04-06T14:28:52.019585Z"
        },
        "id": "HA9_cc9_CZtN"
      },
      "outputs": [],
      "source": [
        "df = pd.DataFrame(normal, columns=['normal'])"
      ]
    },
    {
      "cell_type": "code",
      "execution_count": null,
      "metadata": {
        "ExecuteTime": {
          "end_time": "2020-04-06T14:28:53.081460Z",
          "start_time": "2020-04-06T14:28:53.073481Z"
        },
        "id": "Hiv_Er0iCZtO"
      },
      "outputs": [],
      "source": [
        "df"
      ]
    },
    {
      "cell_type": "code",
      "execution_count": null,
      "metadata": {
        "ExecuteTime": {
          "end_time": "2020-04-06T14:29:07.208213Z",
          "start_time": "2020-04-06T14:29:07.203226Z"
        },
        "id": "Sx5D9eYACZtO"
      },
      "outputs": [],
      "source": [
        "df.normal.skew()"
      ]
    },
    {
      "cell_type": "markdown",
      "metadata": {
        "id": "XRQd6rLDCZtO"
      },
      "source": [
        "## Assimétrica para direita"
      ]
    },
    {
      "cell_type": "code",
      "execution_count": null,
      "metadata": {
        "ExecuteTime": {
          "end_time": "2020-04-06T14:35:03.594806Z",
          "start_time": "2020-04-06T14:35:03.472623Z"
        },
        "id": "_kFUzzM4CZtO"
      },
      "outputs": [],
      "source": [
        "gamma = np.random.gamma(shape=0.5, size=N )\n",
        "sns.distplot(gamma, hist=False)\n",
        "\n",
        "plt.vlines(np.mean(gamma), 0, 1, color='red')\n",
        "plt.vlines(np.median(gamma), 0, 1, color='k')\n",
        "\n",
        "plt.ylim([0, 2])"
      ]
    },
    {
      "cell_type": "code",
      "execution_count": null,
      "metadata": {
        "ExecuteTime": {
          "end_time": "2020-04-06T14:35:09.958848Z",
          "start_time": "2020-04-06T14:35:09.954889Z"
        },
        "id": "Vnpy6Q0DCZtO"
      },
      "outputs": [],
      "source": [
        "df['gamma'] = gamma"
      ]
    },
    {
      "cell_type": "code",
      "execution_count": null,
      "metadata": {
        "ExecuteTime": {
          "end_time": "2020-04-06T14:35:10.560695Z",
          "start_time": "2020-04-06T14:35:10.554706Z"
        },
        "id": "mp05hSKzCZtO"
      },
      "outputs": [],
      "source": [
        "df.skew()"
      ]
    },
    {
      "cell_type": "markdown",
      "metadata": {
        "id": "2v7q6r8uCZtO"
      },
      "source": [
        "## Assimétrica para esquerda"
      ]
    },
    {
      "cell_type": "code",
      "execution_count": null,
      "metadata": {
        "ExecuteTime": {
          "end_time": "2020-04-06T14:38:56.203940Z",
          "start_time": "2020-04-06T14:38:56.079765Z"
        },
        "id": "jKGoUBpECZtO"
      },
      "outputs": [],
      "source": [
        "beta = np.random.beta(a=500, b=0.01, size=N )\n",
        "sns.distplot(beta, hist=False)"
      ]
    },
    {
      "cell_type": "code",
      "execution_count": null,
      "metadata": {
        "ExecuteTime": {
          "end_time": "2020-04-06T14:38:58.113097Z",
          "start_time": "2020-04-06T14:38:58.109108Z"
        },
        "id": "DcYdiIo0CZtP"
      },
      "outputs": [],
      "source": [
        "df['beta'] = beta"
      ]
    },
    {
      "cell_type": "code",
      "execution_count": null,
      "metadata": {
        "ExecuteTime": {
          "end_time": "2020-04-06T14:38:58.342501Z",
          "start_time": "2020-04-06T14:38:58.339492Z"
        },
        "id": "R-sy6Y24CZtP"
      },
      "outputs": [],
      "source": [
        "df['uniform'] = uniform"
      ]
    },
    {
      "cell_type": "code",
      "execution_count": null,
      "metadata": {
        "ExecuteTime": {
          "end_time": "2020-04-06T14:38:58.625764Z",
          "start_time": "2020-04-06T14:38:58.619780Z"
        },
        "id": "HikUgWW1CZtP"
      },
      "outputs": [],
      "source": [
        "df.skew()"
      ]
    },
    {
      "cell_type": "code",
      "execution_count": null,
      "metadata": {
        "ExecuteTime": {
          "end_time": "2020-04-06T14:40:05.787812Z",
          "start_time": "2020-04-06T14:40:05.782798Z"
        },
        "id": "ZKJuUv0aCZtP"
      },
      "outputs": [],
      "source": [
        "df.kurtosis()"
      ]
    },
    {
      "cell_type": "code",
      "execution_count": null,
      "metadata": {
        "ExecuteTime": {
          "end_time": "2020-04-06T14:42:25.094048Z",
          "start_time": "2020-04-06T14:42:25.090059Z"
        },
        "id": "pRGMyBDbCZtP"
      },
      "outputs": [],
      "source": [
        "from scipy.stats import kurtosis"
      ]
    },
    {
      "cell_type": "code",
      "execution_count": null,
      "metadata": {
        "ExecuteTime": {
          "end_time": "2020-04-06T14:44:27.677933Z",
          "start_time": "2020-04-06T14:44:27.672918Z"
        },
        "id": "aoGqu2rbCZtP"
      },
      "outputs": [],
      "source": [
        "kurtosis(df.gamma, fisher=True)"
      ]
    },
    {
      "cell_type": "code",
      "execution_count": null,
      "metadata": {
        "ExecuteTime": {
          "end_time": "2020-04-06T12:20:31.459582Z",
          "start_time": "2020-04-06T12:20:31.451603Z"
        },
        "id": "oU5WBb71CZtP"
      },
      "outputs": [],
      "source": [
        "data.barrels08.describe()"
      ]
    },
    {
      "cell_type": "code",
      "execution_count": null,
      "metadata": {
        "ExecuteTime": {
          "end_time": "2020-04-06T12:20:33.302377Z",
          "start_time": "2020-04-06T12:20:33.294428Z"
        },
        "id": "aGGNv4CXCZtQ"
      },
      "outputs": [],
      "source": [
        "data.pv4.describe()"
      ]
    }
  ],
  "metadata": {
    "kernelspec": {
      "display_name": "Python 3 (ipykernel)",
      "language": "python",
      "name": "python3"
    },
    "language_info": {
      "codemirror_mode": {
        "name": "ipython",
        "version": 3
      },
      "file_extension": ".py",
      "mimetype": "text/x-python",
      "name": "python",
      "nbconvert_exporter": "python",
      "pygments_lexer": "ipython3",
      "version": "3.9.12"
    },
    "toc": {
      "base_numbering": 1,
      "nav_menu": {},
      "number_sections": true,
      "sideBar": true,
      "skip_h1_title": false,
      "title_cell": "Table of Contents",
      "title_sidebar": "Contents",
      "toc_cell": false,
      "toc_position": {},
      "toc_section_display": true,
      "toc_window_display": false
    },
    "colab": {
      "provenance": [],
      "include_colab_link": true
    }
  },
  "nbformat": 4,
  "nbformat_minor": 0
}