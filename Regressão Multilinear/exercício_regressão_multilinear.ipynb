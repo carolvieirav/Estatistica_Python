{
  "cells": [
    {
      "cell_type": "markdown",
      "metadata": {
        "id": "view-in-github",
        "colab_type": "text"
      },
      "source": [
        "<a href=\"https://colab.research.google.com/github/carolvieirav/Estatistica_Python/blob/main/Regress%C3%A3o%20Multilinear/exerc%C3%ADcio_regress%C3%A3o_multilinear.ipynb\" target=\"_parent\"><img src=\"https://colab.research.google.com/assets/colab-badge.svg\" alt=\"Open In Colab\"/></a>"
      ]
    },
    {
      "cell_type": "markdown",
      "metadata": {
        "id": "WKtsAaEJlO4d"
      },
      "source": [
        "## Exercício\n",
        "Para esse exercício vamos usar o dataset veículos.csv. \n",
        "\n",
        "Esse conjunto de dados inclui variáveis ​​relacionadas às características do veículo, incluindo o modelo, marca e padrões de eficiência energética, bem como as emissões de CO2 de cada carro. \n",
        "\n",
        "O objetivo deste exercício é prever as emissões de CO2 dos veículos com base em várias variáveis ​​independentes."
      ]
    },
    {
      "cell_type": "code",
      "execution_count": null,
      "metadata": {
        "id": "DCVzIHnLlO4d"
      },
      "outputs": [],
      "source": [
        "# Importe as bibliotecas aqui"
      ]
    },
    {
      "cell_type": "markdown",
      "metadata": {
        "id": "q3koII7ClO4d"
      },
      "source": [
        "Vamos usar as seguinte variáveis: Year, Cylinders, Fuel Barrels/Year, Combined MPG, e Fuel Cost/Year. Usaremos 'CO2 Emission Grams/Mile' como a nossa variável de resultado. \n",
        "\n",
        "Calcule as correlações entre cada uma dessas variáveis e o outcome. \n",
        "\n",
        "Qual variável você acha que é mais importante pra determinar a emissão de CO2? \n",
        "\n",
        "Adicione suas respostas como comentários após seu código."
      ]
    },
    {
      "cell_type": "code",
      "execution_count": null,
      "metadata": {
        "id": "0YIgUY6_lO4e"
      },
      "outputs": [],
      "source": [
        "# sua resposta aqui"
      ]
    },
    {
      "cell_type": "markdown",
      "metadata": {
        "id": "GlitR0-jlO4e"
      },
      "source": [
        "Construa um modelo de regressão para esses dados. Que tipo de regressão você está usando? Adicione suas respostas como comentários após seu código."
      ]
    },
    {
      "cell_type": "code",
      "execution_count": null,
      "metadata": {
        "id": "Dd0yGltylO4f"
      },
      "outputs": [],
      "source": [
        "# sua resposta aqui"
      ]
    },
    {
      "cell_type": "markdown",
      "metadata": {
        "id": "VNn-0x6OlO4f"
      },
      "source": [
        "Print o resumo da regressão e interprete os resultados. Quais são as variáveis ​​mais importantes em seu modelo e por quê? Que conclusões você pode tirar do seu modelo e quão confiante você está nessas conclusões? Adicione suas respostas como comentários após seu código."
      ]
    },
    {
      "cell_type": "code",
      "execution_count": null,
      "metadata": {
        "id": "zKmADda9lO4g"
      },
      "outputs": [],
      "source": [
        "# sua resposta aqui"
      ]
    }
  ],
  "metadata": {
    "kernelspec": {
      "display_name": "Python 3",
      "language": "python",
      "name": "python3"
    },
    "language_info": {
      "codemirror_mode": {
        "name": "ipython",
        "version": 3
      },
      "file_extension": ".py",
      "mimetype": "text/x-python",
      "name": "python",
      "nbconvert_exporter": "python",
      "pygments_lexer": "ipython3",
      "version": "3.6.8"
    },
    "colab": {
      "provenance": [],
      "include_colab_link": true
    }
  },
  "nbformat": 4,
  "nbformat_minor": 0
}