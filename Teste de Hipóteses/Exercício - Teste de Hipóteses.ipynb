{
  "nbformat": 4,
  "nbformat_minor": 0,
  "metadata": {
    "kernelspec": {
      "display_name": "Python 3",
      "language": "python",
      "name": "python3"
    },
    "language_info": {
      "codemirror_mode": {
        "name": "ipython",
        "version": 3
      },
      "file_extension": ".py",
      "mimetype": "text/x-python",
      "name": "python",
      "nbconvert_exporter": "python",
      "pygments_lexer": "ipython3",
      "version": "3.6.6"
    },
    "colab": {
      "provenance": [],
      "include_colab_link": true
    }
  },
  "cells": [
    {
      "cell_type": "markdown",
      "metadata": {
        "id": "view-in-github",
        "colab_type": "text"
      },
      "source": [
        "<a href=\"https://colab.research.google.com/github/carolvieirav/Estatistica_Python/blob/main/Teste%20de%20Hip%C3%B3teses/Exerc%C3%ADcio%20-%20Teste%20de%20Hip%C3%B3teses.ipynb\" target=\"_parent\"><img src=\"https://colab.research.google.com/assets/colab-badge.svg\" alt=\"Open In Colab\"/></a>"
      ]
    },
    {
      "cell_type": "code",
      "metadata": {
        "id": "acGsudRIzRcI"
      },
      "source": [
        "# import numpy and pandas\n"
      ],
      "execution_count": null,
      "outputs": []
    },
    {
      "cell_type": "markdown",
      "metadata": {
        "id": "fMjz0xQkzRcL"
      },
      "source": [
        "# Exercício \n",
        "\n",
        "Neste desafio, usaremos o conjunto de dados Pokemon. Antes de aplicar métodos estatísticos a esses dados, vamos primeiro examinar os dados.\n",
        "\n",
        "Para carregar os dados, execute o código abaixo."
      ]
    },
    {
      "cell_type": "code",
      "source": [],
      "metadata": {
        "id": "aYsUmeZbCb1j"
      },
      "execution_count": null,
      "outputs": []
    },
    {
      "cell_type": "code",
      "metadata": {
        "id": "eMyR7LtEzRcM"
      },
      "source": [
        "# Execute este código:\n",
        "\n",
        "pokemon = pd.read_csv('/content/pokemon.csv')"
      ],
      "execution_count": null,
      "outputs": []
    },
    {
      "cell_type": "markdown",
      "metadata": {
        "id": "vvADiMwSzRcO"
      },
      "source": [
        "Vamos começar olhando para a função `head` na célula abaixo.\n",
        "\n",
        "\n"
      ]
    },
    {
      "cell_type": "code",
      "metadata": {
        "id": "MMCxr6ZqzRcO"
      },
      "source": [
        "# Seu código aqui:\n"
      ],
      "execution_count": null,
      "outputs": []
    },
    {
      "cell_type": "markdown",
      "metadata": {
        "id": "5J8MHzT0zRcQ"
      },
      "source": [
        "A primeira coisa que gostaríamos de fazer é comparar o Pokémon lendário com o Pokémon normal. Para fazer isso, devemos examinar os dados mais a fundo. Qual é a contagem de Pokémons lendários vs. não lendários?"
      ]
    },
    {
      "cell_type": "code",
      "metadata": {
        "id": "-igB59cEzRcR"
      },
      "source": [
        "# Seu código aqui:\n",
        "\n"
      ],
      "execution_count": null,
      "outputs": []
    },
    {
      "cell_type": "markdown",
      "metadata": {
        "id": "SsdvmwgQzRcT"
      },
      "source": [
        "Calcule a média e o desvio padrão do total de pontos para Pokémon lendários e não lendários."
      ]
    },
    {
      "cell_type": "code",
      "metadata": {
        "id": "Ydc0G8ZhzRcT"
      },
      "source": [
        "# Seu código aqui:\n",
        "\n"
      ],
      "execution_count": null,
      "outputs": []
    },
    {
      "cell_type": "markdown",
      "metadata": {
        "id": "rO5b4J91zRcV"
      },
      "source": [
        "O cálculo da média pode nos dar uma pista sobre o resultado do teste estatístico; No entanto, certamente não prova se existe uma diferença significativa entre os dois grupos.\n",
        "\n",
        "Na célula abaixo, use a função `ttest_ind` em `scipy.stats` para comparar o total de pontos para Pokémon lendários e não lendários. Como não temos informações sobre a população, suponha que as variâncias não sejam iguais."
      ]
    },
    {
      "cell_type": "code",
      "metadata": {
        "id": "HQRQvxpOzRcW"
      },
      "source": [
        "# Seu código aqui:\n",
        "\n"
      ],
      "execution_count": null,
      "outputs": []
    },
    {
      "cell_type": "markdown",
      "metadata": {
        "id": "1qZ1uT4vzRcZ"
      },
      "source": [
        "O que você conclui deste teste? Escreva suas conclusões abaixo."
      ]
    },
    {
      "cell_type": "code",
      "metadata": {
        "id": "3h6WdXvNzRcZ"
      },
      "source": [
        "# Suas conclusões aqui:\n",
        "\n"
      ],
      "execution_count": null,
      "outputs": []
    },
    {
      "cell_type": "markdown",
      "metadata": {
        "id": "fEtn-g-XzRcb"
      },
      "source": [
        "Que tal tentarmos comparar os diferentes tipos de pokemon? Na célula abaixo, liste os tipos de Pokémon da coluna `Type 1` e a contagem de cada tipo."
      ]
    },
    {
      "cell_type": "code",
      "metadata": {
        "id": "B4zuEjNXzRcc"
      },
      "source": [
        "# Seu código aqui:\n",
        "\n"
      ],
      "execution_count": null,
      "outputs": []
    },
    {
      "cell_type": "markdown",
      "metadata": {
        "id": "trcIMzu7zRcd"
      },
      "source": [
        "Como a água é o maior grupo de Pokémon, compare a média e o desvio padrão dos Pokémon da água com todos os outros Pokémon."
      ]
    },
    {
      "cell_type": "code",
      "metadata": {
        "id": "IhH6JDLYzRce"
      },
      "source": [
        "# Seu código aqui:\n",
        "\n"
      ],
      "execution_count": null,
      "outputs": []
    },
    {
      "cell_type": "markdown",
      "metadata": {
        "id": "5NHMwWofzRcg"
      },
      "source": [
        "Realize um teste de hipótese comparando a média do total de pontos para Pokémon aquáticos com todos os Pokémon não aquáticos. Suponha que as variâncias sejam iguais."
      ]
    },
    {
      "cell_type": "code",
      "metadata": {
        "id": "UB2kieyxzRcg"
      },
      "source": [
        "# Seu código aqui:\n",
        "\n"
      ],
      "execution_count": null,
      "outputs": []
    },
    {
      "cell_type": "markdown",
      "metadata": {
        "id": "xCzeGzwdzRcj"
      },
      "source": [
        "Escreva suas conclusões aqui"
      ]
    },
    {
      "cell_type": "code",
      "metadata": {
        "id": "cWFRRPzbzRcj"
      },
      "source": [
        "# Suas conclusões aqui\n",
        "\n"
      ],
      "execution_count": null,
      "outputs": []
    }
  ]
}