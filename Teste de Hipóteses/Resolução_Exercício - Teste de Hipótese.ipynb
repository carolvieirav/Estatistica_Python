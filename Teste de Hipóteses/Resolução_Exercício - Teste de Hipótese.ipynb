{
  "nbformat": 4,
  "nbformat_minor": 0,
  "metadata": {
    "kernelspec": {
      "display_name": "Python 3",
      "language": "python",
      "name": "python3"
    },
    "language_info": {
      "codemirror_mode": {
        "name": "ipython",
        "version": 3
      },
      "file_extension": ".py",
      "mimetype": "text/x-python",
      "name": "python",
      "nbconvert_exporter": "python",
      "pygments_lexer": "ipython3",
      "version": "3.6.6"
    },
    "colab": {
      "provenance": [],
      "include_colab_link": true
    }
  },
  "cells": [
    {
      "cell_type": "markdown",
      "metadata": {
        "id": "view-in-github",
        "colab_type": "text"
      },
      "source": [
        "<a href=\"https://colab.research.google.com/github/carolvieirav/Estatistica_Python/blob/main/Teste%20de%20Hip%C3%B3teses/Resolu%C3%A7%C3%A3o_Exerc%C3%ADcio%20-%20Teste%20de%20Hip%C3%B3tese.ipynb\" target=\"_parent\"><img src=\"https://colab.research.google.com/assets/colab-badge.svg\" alt=\"Open In Colab\"/></a>"
      ]
    },
    {
      "cell_type": "code",
      "metadata": {
        "id": "acGsudRIzRcI"
      },
      "source": [
        "# import numpy and pandas\n",
        "import numpy as np\n",
        "import pandas as pd"
      ],
      "execution_count": 1,
      "outputs": []
    },
    {
      "cell_type": "markdown",
      "metadata": {
        "id": "fMjz0xQkzRcL"
      },
      "source": [
        "# Exercício \n",
        "\n",
        "Neste desafio, usaremos o conjunto de dados Pokemon. Antes de aplicar métodos estatísticos a esses dados, vamos primeiro examinar os dados.\n",
        "\n",
        "Para carregar os dados, execute o código abaixo."
      ]
    },
    {
      "cell_type": "code",
      "metadata": {
        "id": "eMyR7LtEzRcM"
      },
      "source": [
        "# Execute este código:\n",
        "\n",
        "pokemon = pd.read_csv('/content/pokemon.csv')"
      ],
      "execution_count": 2,
      "outputs": []
    },
    {
      "cell_type": "markdown",
      "metadata": {
        "id": "vvADiMwSzRcO"
      },
      "source": [
        "Vamos começar olhando para a função `head` na célula abaixo.\n",
        "\n",
        "\n"
      ]
    },
    {
      "cell_type": "code",
      "metadata": {
        "id": "MMCxr6ZqzRcO",
        "outputId": "11ca04c0-f0b3-4fc9-8ebe-3ece37e1c5f2",
        "colab": {
          "base_uri": "https://localhost:8080/",
          "height": 206
        }
      },
      "source": [
        "# Seu código aqui:\n",
        "pokemon.head()"
      ],
      "execution_count": 3,
      "outputs": [
        {
          "output_type": "execute_result",
          "data": {
            "text/plain": [
              "   #                   Name Type 1  Type 2  Total  HP  Attack  Defense  \\\n",
              "0  1              Bulbasaur  Grass  Poison    318  45      49       49   \n",
              "1  2                Ivysaur  Grass  Poison    405  60      62       63   \n",
              "2  3               Venusaur  Grass  Poison    525  80      82       83   \n",
              "3  3  VenusaurMega Venusaur  Grass  Poison    625  80     100      123   \n",
              "4  4             Charmander   Fire     NaN    309  39      52       43   \n",
              "\n",
              "   Sp. Atk  Sp. Def  Speed  Generation  Legendary  \n",
              "0       65       65     45           1      False  \n",
              "1       80       80     60           1      False  \n",
              "2      100      100     80           1      False  \n",
              "3      122      120     80           1      False  \n",
              "4       60       50     65           1      False  "
            ],
            "text/html": [
              "\n",
              "  <div id=\"df-9d7dd0aa-cff8-4541-b08f-0454c153b150\">\n",
              "    <div class=\"colab-df-container\">\n",
              "      <div>\n",
              "<style scoped>\n",
              "    .dataframe tbody tr th:only-of-type {\n",
              "        vertical-align: middle;\n",
              "    }\n",
              "\n",
              "    .dataframe tbody tr th {\n",
              "        vertical-align: top;\n",
              "    }\n",
              "\n",
              "    .dataframe thead th {\n",
              "        text-align: right;\n",
              "    }\n",
              "</style>\n",
              "<table border=\"1\" class=\"dataframe\">\n",
              "  <thead>\n",
              "    <tr style=\"text-align: right;\">\n",
              "      <th></th>\n",
              "      <th>#</th>\n",
              "      <th>Name</th>\n",
              "      <th>Type 1</th>\n",
              "      <th>Type 2</th>\n",
              "      <th>Total</th>\n",
              "      <th>HP</th>\n",
              "      <th>Attack</th>\n",
              "      <th>Defense</th>\n",
              "      <th>Sp. Atk</th>\n",
              "      <th>Sp. Def</th>\n",
              "      <th>Speed</th>\n",
              "      <th>Generation</th>\n",
              "      <th>Legendary</th>\n",
              "    </tr>\n",
              "  </thead>\n",
              "  <tbody>\n",
              "    <tr>\n",
              "      <th>0</th>\n",
              "      <td>1</td>\n",
              "      <td>Bulbasaur</td>\n",
              "      <td>Grass</td>\n",
              "      <td>Poison</td>\n",
              "      <td>318</td>\n",
              "      <td>45</td>\n",
              "      <td>49</td>\n",
              "      <td>49</td>\n",
              "      <td>65</td>\n",
              "      <td>65</td>\n",
              "      <td>45</td>\n",
              "      <td>1</td>\n",
              "      <td>False</td>\n",
              "    </tr>\n",
              "    <tr>\n",
              "      <th>1</th>\n",
              "      <td>2</td>\n",
              "      <td>Ivysaur</td>\n",
              "      <td>Grass</td>\n",
              "      <td>Poison</td>\n",
              "      <td>405</td>\n",
              "      <td>60</td>\n",
              "      <td>62</td>\n",
              "      <td>63</td>\n",
              "      <td>80</td>\n",
              "      <td>80</td>\n",
              "      <td>60</td>\n",
              "      <td>1</td>\n",
              "      <td>False</td>\n",
              "    </tr>\n",
              "    <tr>\n",
              "      <th>2</th>\n",
              "      <td>3</td>\n",
              "      <td>Venusaur</td>\n",
              "      <td>Grass</td>\n",
              "      <td>Poison</td>\n",
              "      <td>525</td>\n",
              "      <td>80</td>\n",
              "      <td>82</td>\n",
              "      <td>83</td>\n",
              "      <td>100</td>\n",
              "      <td>100</td>\n",
              "      <td>80</td>\n",
              "      <td>1</td>\n",
              "      <td>False</td>\n",
              "    </tr>\n",
              "    <tr>\n",
              "      <th>3</th>\n",
              "      <td>3</td>\n",
              "      <td>VenusaurMega Venusaur</td>\n",
              "      <td>Grass</td>\n",
              "      <td>Poison</td>\n",
              "      <td>625</td>\n",
              "      <td>80</td>\n",
              "      <td>100</td>\n",
              "      <td>123</td>\n",
              "      <td>122</td>\n",
              "      <td>120</td>\n",
              "      <td>80</td>\n",
              "      <td>1</td>\n",
              "      <td>False</td>\n",
              "    </tr>\n",
              "    <tr>\n",
              "      <th>4</th>\n",
              "      <td>4</td>\n",
              "      <td>Charmander</td>\n",
              "      <td>Fire</td>\n",
              "      <td>NaN</td>\n",
              "      <td>309</td>\n",
              "      <td>39</td>\n",
              "      <td>52</td>\n",
              "      <td>43</td>\n",
              "      <td>60</td>\n",
              "      <td>50</td>\n",
              "      <td>65</td>\n",
              "      <td>1</td>\n",
              "      <td>False</td>\n",
              "    </tr>\n",
              "  </tbody>\n",
              "</table>\n",
              "</div>\n",
              "      <button class=\"colab-df-convert\" onclick=\"convertToInteractive('df-9d7dd0aa-cff8-4541-b08f-0454c153b150')\"\n",
              "              title=\"Convert this dataframe to an interactive table.\"\n",
              "              style=\"display:none;\">\n",
              "        \n",
              "  <svg xmlns=\"http://www.w3.org/2000/svg\" height=\"24px\"viewBox=\"0 0 24 24\"\n",
              "       width=\"24px\">\n",
              "    <path d=\"M0 0h24v24H0V0z\" fill=\"none\"/>\n",
              "    <path d=\"M18.56 5.44l.94 2.06.94-2.06 2.06-.94-2.06-.94-.94-2.06-.94 2.06-2.06.94zm-11 1L8.5 8.5l.94-2.06 2.06-.94-2.06-.94L8.5 2.5l-.94 2.06-2.06.94zm10 10l.94 2.06.94-2.06 2.06-.94-2.06-.94-.94-2.06-.94 2.06-2.06.94z\"/><path d=\"M17.41 7.96l-1.37-1.37c-.4-.4-.92-.59-1.43-.59-.52 0-1.04.2-1.43.59L10.3 9.45l-7.72 7.72c-.78.78-.78 2.05 0 2.83L4 21.41c.39.39.9.59 1.41.59.51 0 1.02-.2 1.41-.59l7.78-7.78 2.81-2.81c.8-.78.8-2.07 0-2.86zM5.41 20L4 18.59l7.72-7.72 1.47 1.35L5.41 20z\"/>\n",
              "  </svg>\n",
              "      </button>\n",
              "      \n",
              "  <style>\n",
              "    .colab-df-container {\n",
              "      display:flex;\n",
              "      flex-wrap:wrap;\n",
              "      gap: 12px;\n",
              "    }\n",
              "\n",
              "    .colab-df-convert {\n",
              "      background-color: #E8F0FE;\n",
              "      border: none;\n",
              "      border-radius: 50%;\n",
              "      cursor: pointer;\n",
              "      display: none;\n",
              "      fill: #1967D2;\n",
              "      height: 32px;\n",
              "      padding: 0 0 0 0;\n",
              "      width: 32px;\n",
              "    }\n",
              "\n",
              "    .colab-df-convert:hover {\n",
              "      background-color: #E2EBFA;\n",
              "      box-shadow: 0px 1px 2px rgba(60, 64, 67, 0.3), 0px 1px 3px 1px rgba(60, 64, 67, 0.15);\n",
              "      fill: #174EA6;\n",
              "    }\n",
              "\n",
              "    [theme=dark] .colab-df-convert {\n",
              "      background-color: #3B4455;\n",
              "      fill: #D2E3FC;\n",
              "    }\n",
              "\n",
              "    [theme=dark] .colab-df-convert:hover {\n",
              "      background-color: #434B5C;\n",
              "      box-shadow: 0px 1px 3px 1px rgba(0, 0, 0, 0.15);\n",
              "      filter: drop-shadow(0px 1px 2px rgba(0, 0, 0, 0.3));\n",
              "      fill: #FFFFFF;\n",
              "    }\n",
              "  </style>\n",
              "\n",
              "      <script>\n",
              "        const buttonEl =\n",
              "          document.querySelector('#df-9d7dd0aa-cff8-4541-b08f-0454c153b150 button.colab-df-convert');\n",
              "        buttonEl.style.display =\n",
              "          google.colab.kernel.accessAllowed ? 'block' : 'none';\n",
              "\n",
              "        async function convertToInteractive(key) {\n",
              "          const element = document.querySelector('#df-9d7dd0aa-cff8-4541-b08f-0454c153b150');\n",
              "          const dataTable =\n",
              "            await google.colab.kernel.invokeFunction('convertToInteractive',\n",
              "                                                     [key], {});\n",
              "          if (!dataTable) return;\n",
              "\n",
              "          const docLinkHtml = 'Like what you see? Visit the ' +\n",
              "            '<a target=\"_blank\" href=https://colab.research.google.com/notebooks/data_table.ipynb>data table notebook</a>'\n",
              "            + ' to learn more about interactive tables.';\n",
              "          element.innerHTML = '';\n",
              "          dataTable['output_type'] = 'display_data';\n",
              "          await google.colab.output.renderOutput(dataTable, element);\n",
              "          const docLink = document.createElement('div');\n",
              "          docLink.innerHTML = docLinkHtml;\n",
              "          element.appendChild(docLink);\n",
              "        }\n",
              "      </script>\n",
              "    </div>\n",
              "  </div>\n",
              "  "
            ]
          },
          "metadata": {},
          "execution_count": 3
        }
      ]
    },
    {
      "cell_type": "markdown",
      "metadata": {
        "id": "5J8MHzT0zRcQ"
      },
      "source": [
        "A primeira coisa que gostaríamos de fazer é comparar o Pokémon lendário com o Pokémon normal. Para fazer isso, devemos examinar os dados mais a fundo. Qual é a contagem de Pokémons lendários vs. não lendários?"
      ]
    },
    {
      "cell_type": "code",
      "source": [
        "#usando .groupby() e .count()\n",
        "\n",
        "pokemon.groupby('Legendary')['Total'].count()"
      ],
      "metadata": {
        "id": "A-V7PEfN3bUz",
        "outputId": "387e3a6e-ca4c-4870-c4ce-4acea8369f7e",
        "colab": {
          "base_uri": "https://localhost:8080/"
        }
      },
      "execution_count": 25,
      "outputs": [
        {
          "output_type": "execute_result",
          "data": {
            "text/plain": [
              "Legendary\n",
              "False    735\n",
              "True      65\n",
              "Name: Total, dtype: int64"
            ]
          },
          "metadata": {},
          "execution_count": 25
        }
      ]
    },
    {
      "cell_type": "code",
      "metadata": {
        "id": "-igB59cEzRcR",
        "outputId": "778d2a90-a352-44b0-8b18-a262f1cc29c1",
        "colab": {
          "base_uri": "https://localhost:8080/"
        }
      },
      "source": [
        "# usando o método .value_counts()\n",
        "pokemon.Legendary.value_counts()"
      ],
      "execution_count": 24,
      "outputs": [
        {
          "output_type": "execute_result",
          "data": {
            "text/plain": [
              "False    735\n",
              "True      65\n",
              "Name: Legendary, dtype: int64"
            ]
          },
          "metadata": {},
          "execution_count": 24
        }
      ]
    },
    {
      "cell_type": "markdown",
      "metadata": {
        "id": "SsdvmwgQzRcT"
      },
      "source": [
        "Calcule a média e o desvio padrão do total de pontos para Pokémon lendários e não lendários."
      ]
    },
    {
      "cell_type": "code",
      "metadata": {
        "id": "Ydc0G8ZhzRcT",
        "outputId": "1678d235-871c-4f12-d682-6a63b008d85d",
        "colab": {
          "base_uri": "https://localhost:8080/"
        }
      },
      "source": [
        "# Seu código aqui:\n",
        "pokemon.groupby('Legendary')['Total'].mean()"
      ],
      "execution_count": 29,
      "outputs": [
        {
          "output_type": "execute_result",
          "data": {
            "text/plain": [
              "Legendary\n",
              "False    417.213605\n",
              "True     637.384615\n",
              "Name: Total, dtype: float64"
            ]
          },
          "metadata": {},
          "execution_count": 29
        }
      ]
    },
    {
      "cell_type": "code",
      "source": [
        "pokemon.groupby('Legendary')['Total'].std()"
      ],
      "metadata": {
        "id": "HOcgpJxY6Cyw",
        "outputId": "fd2ffb78-0699-4dfe-c42d-632fb9a40d5a",
        "colab": {
          "base_uri": "https://localhost:8080/"
        }
      },
      "execution_count": 30,
      "outputs": [
        {
          "output_type": "execute_result",
          "data": {
            "text/plain": [
              "Legendary\n",
              "False    106.760417\n",
              "True      60.937389\n",
              "Name: Total, dtype: float64"
            ]
          },
          "metadata": {},
          "execution_count": 30
        }
      ]
    },
    {
      "cell_type": "markdown",
      "metadata": {
        "id": "rO5b4J91zRcV"
      },
      "source": [
        "O cálculo da média pode nos dar uma pista sobre o resultado do teste estatístico; No entanto, certamente não prova se existe uma diferença significativa entre os dois grupos.\n",
        "\n",
        "Na célula abaixo, use a função `ttest_ind` em `scipy.stats` para comparar o total de pontos para Pokémon lendários e não lendários. Como não temos informações sobre a população, suponha que as variâncias não sejam iguais."
      ]
    },
    {
      "cell_type": "code",
      "metadata": {
        "id": "HQRQvxpOzRcW"
      },
      "source": [
        "# Seu código aqui:\n",
        "from scipy.stats import ttest_ind"
      ],
      "execution_count": 31,
      "outputs": []
    },
    {
      "cell_type": "code",
      "source": [
        "# primeiro separo as amostras\n",
        "sample_01 = pokemon[pokemon['Legendary'] == True]['Total']\n",
        "sample_02 = pokemon[pokemon['Legendary'] == False]['Total']"
      ],
      "metadata": {
        "id": "Xpp_AS4-6pKw"
      },
      "execution_count": 34,
      "outputs": []
    },
    {
      "cell_type": "code",
      "source": [
        "ttest_ind(sample_01, sample_02, equal_var=False)"
      ],
      "metadata": {
        "id": "q4tYZV_A7Aa7",
        "outputId": "54a47c09-24a2-464b-a371-e85437253627",
        "colab": {
          "base_uri": "https://localhost:8080/"
        }
      },
      "execution_count": 36,
      "outputs": [
        {
          "output_type": "execute_result",
          "data": {
            "text/plain": [
              "Ttest_indResult(statistic=25.8335743895517, pvalue=9.357954335957446e-47)"
            ]
          },
          "metadata": {},
          "execution_count": 36
        }
      ]
    },
    {
      "cell_type": "markdown",
      "metadata": {
        "id": "1qZ1uT4vzRcZ"
      },
      "source": [
        "O que você conclui deste teste? Escreva suas conclusões abaixo."
      ]
    },
    {
      "cell_type": "code",
      "metadata": {
        "id": "3h6WdXvNzRcZ"
      },
      "source": [
        "# Suas conclusões aqui:\n",
        "\n"
      ],
      "execution_count": null,
      "outputs": []
    },
    {
      "cell_type": "markdown",
      "metadata": {
        "id": "fEtn-g-XzRcb"
      },
      "source": [
        "Que tal tentarmos comparar os diferentes tipos de pokemon? Na célula abaixo, liste os tipos de Pokémon da coluna `Type 1` e a contagem de cada tipo."
      ]
    },
    {
      "cell_type": "code",
      "metadata": {
        "id": "B4zuEjNXzRcc",
        "outputId": "5448d490-d618-4b11-f259-9e7c2312b2a0",
        "colab": {
          "base_uri": "https://localhost:8080/"
        }
      },
      "source": [
        "# Seu código aqui:\n",
        "pokemon['Type 1'].value_counts()"
      ],
      "execution_count": 37,
      "outputs": [
        {
          "output_type": "execute_result",
          "data": {
            "text/plain": [
              "Water       112\n",
              "Normal       98\n",
              "Grass        70\n",
              "Bug          69\n",
              "Psychic      57\n",
              "Fire         52\n",
              "Electric     44\n",
              "Rock         44\n",
              "Dragon       32\n",
              "Ground       32\n",
              "Ghost        32\n",
              "Dark         31\n",
              "Poison       28\n",
              "Steel        27\n",
              "Fighting     27\n",
              "Ice          24\n",
              "Fairy        17\n",
              "Flying        4\n",
              "Name: Type 1, dtype: int64"
            ]
          },
          "metadata": {},
          "execution_count": 37
        }
      ]
    },
    {
      "cell_type": "code",
      "source": [
        "pokemon.groupby('Type 1')['Total'].count()"
      ],
      "metadata": {
        "id": "RAAtIR929BCP",
        "outputId": "17b33913-359e-4a08-84e6-19d89703f115",
        "colab": {
          "base_uri": "https://localhost:8080/"
        }
      },
      "execution_count": 47,
      "outputs": [
        {
          "output_type": "execute_result",
          "data": {
            "text/plain": [
              "Type 1\n",
              "Bug          69\n",
              "Dark         31\n",
              "Dragon       32\n",
              "Electric     44\n",
              "Fairy        17\n",
              "Fighting     27\n",
              "Fire         52\n",
              "Flying        4\n",
              "Ghost        32\n",
              "Grass        70\n",
              "Ground       32\n",
              "Ice          24\n",
              "Normal       98\n",
              "Poison       28\n",
              "Psychic      57\n",
              "Rock         44\n",
              "Steel        27\n",
              "Water       112\n",
              "Name: Total, dtype: int64"
            ]
          },
          "metadata": {},
          "execution_count": 47
        }
      ]
    },
    {
      "cell_type": "code",
      "source": [],
      "metadata": {
        "id": "thAp4m1R9BDR"
      },
      "execution_count": null,
      "outputs": []
    },
    {
      "cell_type": "markdown",
      "metadata": {
        "id": "trcIMzu7zRcd"
      },
      "source": [
        "Como a água é o maior grupo de Pokémon, compare a média e o desvio padrão dos Pokémon da água com todos os outros Pokémon."
      ]
    },
    {
      "cell_type": "code",
      "metadata": {
        "id": "IhH6JDLYzRce",
        "outputId": "8c3fc77b-3f39-4448-cf1a-3a2f75a90ac6",
        "colab": {
          "base_uri": "https://localhost:8080/"
        }
      },
      "source": [
        "# Seu código aqui:\n",
        "pokemon.groupby(pokemon['Type 1'] == 'Water')['Total'].mean()"
      ],
      "execution_count": 40,
      "outputs": [
        {
          "output_type": "execute_result",
          "data": {
            "text/plain": [
              "Type 1\n",
              "False    435.859012\n",
              "True     430.455357\n",
              "Name: Total, dtype: float64"
            ]
          },
          "metadata": {},
          "execution_count": 40
        }
      ]
    },
    {
      "cell_type": "code",
      "source": [
        "pokemon.groupby(pokemon['Type 1'] == 'Water')['Total'].std()"
      ],
      "metadata": {
        "id": "Va7mLCwc7yMG",
        "outputId": "2f6e5bc2-c5b8-4823-c671-355914c11974",
        "colab": {
          "base_uri": "https://localhost:8080/"
        }
      },
      "execution_count": 41,
      "outputs": [
        {
          "output_type": "execute_result",
          "data": {
            "text/plain": [
              "Type 1\n",
              "False    121.091682\n",
              "True     113.188266\n",
              "Name: Total, dtype: float64"
            ]
          },
          "metadata": {},
          "execution_count": 41
        }
      ]
    },
    {
      "cell_type": "markdown",
      "metadata": {
        "id": "5NHMwWofzRcg"
      },
      "source": [
        "Realize um teste de hipótese comparando a média do total de pontos para Pokémon aquáticos com todos os Pokémon não aquáticos. Suponha que as variâncias sejam iguais."
      ]
    },
    {
      "cell_type": "code",
      "metadata": {
        "id": "UB2kieyxzRcg"
      },
      "source": [
        "# Seu código aqui:\n",
        "sample_01 = pokemon[pokemon['Type 1'] == 'Water']['Total']\n",
        "sample_02 = pokemon[pokemon['Type 1'] != 'Water']['Total']"
      ],
      "execution_count": 43,
      "outputs": []
    },
    {
      "cell_type": "code",
      "source": [
        "ttest_ind(sample_01, sample_02, equal_var=True)"
      ],
      "metadata": {
        "id": "ANhwLfvr8XcE",
        "outputId": "fb72a91d-5fb2-4d33-e0af-adb203375d1f",
        "colab": {
          "base_uri": "https://localhost:8080/"
        }
      },
      "execution_count": 45,
      "outputs": [
        {
          "output_type": "execute_result",
          "data": {
            "text/plain": [
              "Ttest_indResult(statistic=-0.4418547448849676, pvalue=0.6587140317488793)"
            ]
          },
          "metadata": {},
          "execution_count": 45
        }
      ]
    },
    {
      "cell_type": "markdown",
      "metadata": {
        "id": "xCzeGzwdzRcj"
      },
      "source": [
        "Escreva suas conclusões aqui"
      ]
    },
    {
      "cell_type": "code",
      "metadata": {
        "id": "cWFRRPzbzRcj"
      },
      "source": [
        "# Suas conclusões aqui\n",
        "\n"
      ],
      "execution_count": null,
      "outputs": []
    }
  ]
}