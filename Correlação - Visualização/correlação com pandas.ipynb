{
  "nbformat": 4,
  "nbformat_minor": 0,
  "metadata": {
    "colab": {
      "provenance": [],
      "authorship_tag": "ABX9TyMbdqQdKkcDYBD2VN9oNyB2",
      "include_colab_link": true
    },
    "kernelspec": {
      "name": "python3",
      "display_name": "Python 3"
    },
    "language_info": {
      "name": "python"
    }
  },
  "cells": [
    {
      "cell_type": "markdown",
      "metadata": {
        "id": "view-in-github",
        "colab_type": "text"
      },
      "source": [
        "<a href=\"https://colab.research.google.com/github/carolvieirav/Estatistica_Python/blob/main/Correla%C3%A7%C3%A3o%20-%20Visualiza%C3%A7%C3%A3o/correla%C3%A7%C3%A3o%20com%20pandas.ipynb\" target=\"_parent\"><img src=\"https://colab.research.google.com/assets/colab-badge.svg\" alt=\"Open In Colab\"/></a>"
      ]
    },
    {
      "cell_type": "markdown",
      "source": [
        "# Correlação com Pandas"
      ],
      "metadata": {
        "id": "BPdxefpbJdtm"
      }
    },
    {
      "cell_type": "markdown",
      "source": [
        "Pandas nos permite calcular a correlação entre duas colunas, bem como uma matriz de correlação. \n",
        "\n",
        "Também podemos explorar outros tipos de relacionamentos entre colunas além da correlação linear. "
      ],
      "metadata": {
        "id": "buWNeoopICVX"
      }
    },
    {
      "cell_type": "markdown",
      "source": [
        "Para calcular a correlação linear entre duas colunas, usamos a função `corr`. Nós o aplicamos a uma coluna e passamos a outra coluna como argumento para a função.\n",
        "\n",
        "Vamos calcular a correlação entre o MPG da cidade e o MPG da rodovia."
      ],
      "metadata": {
        "id": "is3CEKXUIREE"
      }
    },
    {
      "cell_type": "code",
      "source": [
        "import numpy as np\n",
        "import pandas as pd\n",
        "\n",
        "vehicles = pd.read_csv('vehicles.csv')\n",
        "vehicles['City MPG'].corr(vehicles['Highway MPG'])"
      ],
      "metadata": {
        "id": "FmLnygUmIG9v"
      },
      "execution_count": null,
      "outputs": []
    },
    {
      "cell_type": "markdown",
      "source": [
        "Correlação mais próxima de 1 significa uma forte relação linear positiva entre as duas variáveis. \n",
        "\n",
        "Aqui a correlação é superior a 92%. Isso indica uma forte relação linear entre MPG cidade e rodovia."
      ],
      "metadata": {
        "id": "B_-BB91_I-MQ"
      }
    },
    {
      "cell_type": "markdown",
      "source": [
        "### Matrix de Correlação"
      ],
      "metadata": {
        "id": "2RXjje0HJGiu"
      }
    },
    {
      "cell_type": "markdown",
      "source": [
        "Em vez de calcular a correlação para cada par de colunas, podemos calcular todas as correlações de uma só vez. Observe que no nosso caso nem todas as correlações serão significativas. Por exemplo, a coluna do ano pode conter um valor numérico, mas é ordinal. Portanto, correlacionar ano com valores como MPG ou custo de combustível por ano não tem significado real."
      ],
      "metadata": {
        "id": "p6ha6IqAJYIt"
      }
    },
    {
      "cell_type": "code",
      "source": [
        "vehicles.corr()"
      ],
      "metadata": {
        "id": "FG4C2P6JJMOW"
      },
      "execution_count": null,
      "outputs": []
    },
    {
      "cell_type": "markdown",
      "source": [
        "A diagonal de uma matriz de correlação é sempre 1, pois cada variável tem uma correlação perfeita consigo mesma. Podemos ver algumas relações interessantes. Por exemplo, o deslocamento do motor tem mais de 90% de correlação com o número de cilindros. O custo do combustível por ano tem uma forte correlação negativa com o MPG combinado. Todos os grupos de MPG têm uma forte correlação entre si."
      ],
      "metadata": {
        "id": "va-uNgipJ1Gd"
      }
    },
    {
      "cell_type": "markdown",
      "source": [
        "## Outros tipos de correlações"
      ],
      "metadata": {
        "id": "7ERQ5zcHJ3al"
      }
    },
    {
      "cell_type": "markdown",
      "source": [
        "A função pandas `.corr` permite três tipos de correlação.\n",
        "\n",
        "A primeira que exploramos é chamada de correlação de Pearson. \n",
        "Este tipo mede a correlação linear. \n",
        "No entanto, podemos examinar os dois outros tipos de correlação também."
      ],
      "metadata": {
        "id": "NiYD-tRsKECE"
      }
    },
    {
      "cell_type": "markdown",
      "source": [
        "### Correlação Spearman"
      ],
      "metadata": {
        "id": "rqkJiE8XKXHO"
      }
    },
    {
      "cell_type": "markdown",
      "source": [
        "A correlação de Spearman é uma medida não paramétrica de correlação. A correlação de Spearman mede relações entre variáveis ​​que não são necessariamente lineares. Estamos apenas analisando se os dados estão se movendo na mesma direção ou na direção oposta.\n",
        "\n",
        "Podemos medir a correlação de Spearman classificando os dados em cada coluna do maior para o menor e, em seguida, calcular a correlação de Pearson dessas classificações. As classificações dos dados são lineares. Portanto, com dados não lineares faz sentido realizar essa transformação.\n",
        "\n",
        "Aqui está um exemplo de correlação de Spearman em nosso conjunto de dados de veículos:"
      ],
      "metadata": {
        "id": "dP6HKvBdKk5f"
      }
    },
    {
      "cell_type": "code",
      "source": [
        "vehicles.corr(method='spearman')\n",
        " \t             "
      ],
      "metadata": {
        "id": "llEAPu7_KmIp"
      },
      "execution_count": null,
      "outputs": []
    },
    {
      "cell_type": "markdown",
      "source": [
        "### Kendall's Tau"
      ],
      "metadata": {
        "id": "IGQPDMXTKqD2"
      }
    },
    {
      "cell_type": "markdown",
      "source": [
        "O Kendall's Tau também é uma medida não paramétrica de correlação. É mais usado do que o coeficiente de correlação de Spearman.\n",
        "\n",
        "Aqui está um exemplo do coeficiente Tau de Kendall entre cidade e rodovia MPG:"
      ],
      "metadata": {
        "id": "TGYbxvcaKtZu"
      }
    },
    {
      "cell_type": "code",
      "source": [
        "vehicles['City MPG'].corr(vehicles['Highway MPG'], method=\"kendall\")"
      ],
      "metadata": {
        "id": "nPRx7z83K7of"
      },
      "execution_count": null,
      "outputs": []
    }
  ]
}