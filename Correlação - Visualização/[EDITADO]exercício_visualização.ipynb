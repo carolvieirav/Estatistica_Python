{
  "cells": [
    {
      "cell_type": "markdown",
      "metadata": {
        "id": "view-in-github",
        "colab_type": "text"
      },
      "source": [
        "<a href=\"https://colab.research.google.com/github/carolvieirav/Estatistica_Python/blob/main/Correla%C3%A7%C3%A3o%20-%20Visualiza%C3%A7%C3%A3o/%5BEDITADO%5Dexerc%C3%ADcio_visualiza%C3%A7%C3%A3o.ipynb\" target=\"_parent\"><img src=\"https://colab.research.google.com/assets/colab-badge.svg\" alt=\"Open In Colab\"/></a>"
      ]
    },
    {
      "cell_type": "markdown",
      "metadata": {
        "id": "IDajsaA66_XV"
      },
      "source": [
        "# Exercício"
      ]
    },
    {
      "cell_type": "markdown",
      "metadata": {
        "id": "RDV1Nk366_XW"
      },
      "source": [
        "https://www.kaggle.com/mustafaali96/weight-height"
      ]
    },
    {
      "cell_type": "markdown",
      "metadata": {
        "id": "fkvI5riG6_XW"
      },
      "source": [
        "Variáveis usadas:\n",
        "* Height\n",
        "* Weight\n",
        "* Gender\n",
        "\n",
        "\n",
        "* **Money (csv compartilhado em aula não possui a variável Money, por isso este exercício foi editado)**"
      ]
    },
    {
      "cell_type": "code",
      "execution_count": null,
      "metadata": {
        "ExecuteTime": {
          "end_time": "2020-07-07T13:59:38.362862Z",
          "start_time": "2020-07-07T13:59:38.357860Z"
        },
        "id": "XReTo0-96_XY"
      },
      "outputs": [],
      "source": [
        "# importe as bibliotecas"
      ]
    },
    {
      "cell_type": "markdown",
      "metadata": {
        "id": "1TkZPHRk6_Xb"
      },
      "source": [
        "### Leia o dataset `weight-height.csv`.\n",
        "\n",
        "Examine as primeiras linhas do dataset"
      ]
    },
    {
      "cell_type": "code",
      "execution_count": null,
      "metadata": {
        "ExecuteTime": {
          "end_time": "2020-07-07T13:59:38.416830Z",
          "start_time": "2020-07-07T13:59:38.372852Z"
        },
        "id": "DxmxwuGY6_Xb"
      },
      "outputs": [],
      "source": [
        "# seu código aqui\n"
      ]
    },
    {
      "cell_type": "markdown",
      "metadata": {
        "id": "5dT2rAyw6_Xe"
      },
      "source": [
        "Use o método **Describe** para descrever seus dados\n",
        "\n"
      ]
    },
    {
      "cell_type": "code",
      "execution_count": null,
      "metadata": {
        "ExecuteTime": {
          "end_time": "2020-07-07T13:59:38.457739Z",
          "start_time": "2020-07-07T13:59:38.423823Z"
        },
        "id": "2s8i42qY6_Xe"
      },
      "outputs": [],
      "source": [
        "# seu código aqui\n"
      ]
    },
    {
      "cell_type": "markdown",
      "metadata": {
        "id": "QMuYYMkC6_Xg"
      },
      "source": [
        "O que você consegue observar? Compare a média e a mediana pra cada variável do dataset"
      ]
    },
    {
      "cell_type": "code",
      "execution_count": null,
      "metadata": {
        "ExecuteTime": {
          "end_time": "2020-07-07T13:59:38.466734Z",
          "start_time": "2020-07-07T13:59:38.459738Z"
        },
        "id": "KTT7N4Xv6_Xh"
      },
      "outputs": [],
      "source": [
        "# seu código aqui\n"
      ]
    },
    {
      "cell_type": "markdown",
      "metadata": {
        "id": "97z21EZ56_Xj"
      },
      "source": [
        "Consegue imaginar qual tipo de distribuição cada variável terá?\n",
        "\n",
        "Tente prever qual categoria cada variável terá (antes de plotar o gráfico)!\n",
        "- assimétrica para esquerda\n",
        "- assimétrica para direita\n",
        "- Gaussiana\n",
        "\n",
        "dica: Lembre-se do efeito do outlier nos valores da média e mediana"
      ]
    },
    {
      "cell_type": "code",
      "execution_count": null,
      "metadata": {
        "ExecuteTime": {
          "end_time": "2020-07-07T13:59:38.487721Z",
          "start_time": "2020-07-07T13:59:38.468733Z"
        },
        "id": "e6Pm83sN6_Xj"
      },
      "outputs": [],
      "source": [
        "# sua resposta aqui"
      ]
    },
    {
      "cell_type": "markdown",
      "metadata": {
        "id": "O0RTnQXc6_YY"
      },
      "source": [
        "Use scatterplot para checar a relação entre Height e Weight"
      ]
    },
    {
      "cell_type": "code",
      "execution_count": null,
      "metadata": {
        "ExecuteTime": {
          "end_time": "2020-07-07T13:59:43.124699Z",
          "start_time": "2020-07-07T13:59:42.532463Z"
        },
        "id": "SigXKLfC6_YY"
      },
      "outputs": [],
      "source": [
        "# seu código aqui"
      ]
    },
    {
      "cell_type": "markdown",
      "metadata": {
        "id": "59aT_5lW6_Ya"
      },
      "source": [
        "Execute o mesmo gráfico mas mude a cor(hue) pelo gênero"
      ]
    },
    {
      "cell_type": "code",
      "source": [
        "# seu código aqui"
      ],
      "metadata": {
        "id": "NXoBJ0dEUNVQ"
      },
      "execution_count": null,
      "outputs": []
    },
    {
      "cell_type": "markdown",
      "metadata": {
        "id": "dvqrbq6M6_Yc"
      },
      "source": [
        "Quais insights plotar o hue pela variável gênero trouxe? "
      ]
    },
    {
      "cell_type": "code",
      "execution_count": null,
      "metadata": {
        "ExecuteTime": {
          "end_time": "2020-07-07T13:59:44.628304Z",
          "start_time": "2020-07-07T13:59:44.623304Z"
        },
        "id": "JAAdWKOo6_Yc"
      },
      "outputs": [],
      "source": [
        "# seu código aqui"
      ]
    },
    {
      "cell_type": "markdown",
      "metadata": {
        "id": "BG61NYRy6_Ye"
      },
      "source": [
        "Crie a variável chamada `gender_groupby` para agrupar por 'Gender'. \n"
      ]
    },
    {
      "cell_type": "code",
      "execution_count": null,
      "metadata": {
        "ExecuteTime": {
          "end_time": "2020-07-07T13:59:44.655285Z",
          "start_time": "2020-07-07T13:59:44.632299Z"
        },
        "id": "T1-ve0L86_Ye"
      },
      "outputs": [],
      "source": [
        "# seu código aqui"
      ]
    },
    {
      "cell_type": "markdown",
      "metadata": {
        "id": "QgBhuRB_6_Yh"
      },
      "source": [
        "Execute  `gender_groupby.head()`para checar os grupos obtidos.\n"
      ]
    },
    {
      "cell_type": "code",
      "execution_count": null,
      "metadata": {
        "ExecuteTime": {
          "end_time": "2020-07-07T13:59:44.689265Z",
          "start_time": "2020-07-07T13:59:44.658283Z"
        },
        "id": "ry9aSDKm6_Yh"
      },
      "outputs": [],
      "source": [
        "# seu código aqui"
      ]
    },
    {
      "cell_type": "markdown",
      "metadata": {
        "id": "Fw0jkp5D6_Yj"
      },
      "source": [
        "Execute gender_groupby.describe() para checar a estatísticas de cada grupo. \n",
        "\n"
      ]
    },
    {
      "cell_type": "code",
      "execution_count": null,
      "metadata": {
        "ExecuteTime": {
          "end_time": "2020-07-07T13:59:44.768220Z",
          "start_time": "2020-07-07T13:59:44.692264Z"
        },
        "id": "2BqS-oLr6_Yk"
      },
      "outputs": [],
      "source": [
        "# seu código aqui"
      ]
    },
    {
      "cell_type": "markdown",
      "metadata": {
        "id": "rdqDmgC36_Yl"
      },
      "source": [
        "Os resultados acima devem fornecer algumas informações sobre o efeito do gênero em seu conjunto de dados, tanto visual quanto numericamente."
      ]
    },
    {
      "cell_type": "markdown",
      "metadata": {
        "id": "3JUuAPkq6_Ym"
      },
      "source": [
        "### Verificando a distribuição de suas variáveis ​​para cada Gênero.\n"
      ]
    },
    {
      "cell_type": "markdown",
      "metadata": {
        "id": "7VbGftCN6_Ym"
      },
      "source": [
        "Primeiro, plote a distribuição da variável `Height` novamente."
      ]
    },
    {
      "cell_type": "code",
      "execution_count": null,
      "metadata": {
        "ExecuteTime": {
          "end_time": "2020-07-07T13:59:45.226957Z",
          "start_time": "2020-07-07T13:59:44.772222Z"
        },
        "id": "agy8521H6_Yn",
        "scrolled": true
      },
      "outputs": [],
      "source": [
        "# seu código aqui"
      ]
    },
    {
      "cell_type": "markdown",
      "metadata": {
        "id": "iHH6KpQr6_Yp"
      },
      "source": [
        "Agora, filtre seu conjunto de dados para cada gênero. Crie um dataframe chamado `men` e outro chamado `women` e plote a distribuição `Height` para cada um deles no mesmo gráfico."
      ]
    },
    {
      "cell_type": "code",
      "execution_count": null,
      "metadata": {
        "ExecuteTime": {
          "end_time": "2020-07-07T13:59:45.245944Z",
          "start_time": "2020-07-07T13:59:45.230951Z"
        },
        "id": "gS71p7-K6_Yp"
      },
      "outputs": [],
      "source": [
        "# seu código aqui"
      ]
    },
    {
      "cell_type": "markdown",
      "metadata": {
        "id": "cagOUAyG6_Yr"
      },
      "source": [
        "Que insights você pode observar a partir disso? Qual é o impacto de `Gender` em `Height`"
      ]
    },
    {
      "cell_type": "code",
      "execution_count": null,
      "metadata": {
        "id": "i5H3RXJr6_Yr"
      },
      "outputs": [],
      "source": [
        "# sua resposta aqui"
      ]
    },
    {
      "cell_type": "markdown",
      "metadata": {
        "id": "OKn0Zyrc6_Yw"
      },
      "source": [
        "### Boxplot "
      ]
    },
    {
      "cell_type": "markdown",
      "metadata": {
        "id": "8Em89WIn6_Yw"
      },
      "source": [
        "Gender vs Height\n",
        "\n",
        "Plote o boxplot considerando o eixo x como `Gender` e o eixo y como `Height`"
      ]
    },
    {
      "cell_type": "code",
      "execution_count": null,
      "metadata": {
        "ExecuteTime": {
          "end_time": "2020-07-07T13:59:46.925739Z",
          "start_time": "2020-07-07T13:59:46.618908Z"
        },
        "id": "gw4HbUh36_Yx"
      },
      "outputs": [],
      "source": [
        "# seu código aqui"
      ]
    },
    {
      "cell_type": "markdown",
      "metadata": {
        "id": "GLOqMlrT6_Y0"
      },
      "source": [
        "Das conclusões dos exercícios anteriores, você esperava que os bloxplots fossem como os acima?"
      ]
    },
    {
      "cell_type": "code",
      "execution_count": null,
      "metadata": {
        "ExecuteTime": {
          "end_time": "2020-07-07T13:59:47.307534Z",
          "start_time": "2020-07-07T13:59:47.302537Z"
        },
        "id": "Xi7kF5v_6_Y1"
      },
      "outputs": [],
      "source": [
        "# sua resposta aqui"
      ]
    }
  ],
  "metadata": {
    "colab": {
      "collapsed_sections": [],
      "provenance": [],
      "include_colab_link": true
    },
    "hide_input": false,
    "kernelspec": {
      "display_name": "Python 3",
      "language": "python",
      "name": "python3"
    },
    "language_info": {
      "codemirror_mode": {
        "name": "ipython",
        "version": 3
      },
      "file_extension": ".py",
      "mimetype": "text/x-python",
      "name": "python",
      "nbconvert_exporter": "python",
      "pygments_lexer": "ipython3",
      "version": "3.7.4"
    },
    "toc": {
      "base_numbering": 1,
      "nav_menu": {},
      "number_sections": true,
      "sideBar": true,
      "skip_h1_title": false,
      "title_cell": "Table of Contents",
      "title_sidebar": "Contents",
      "toc_cell": false,
      "toc_position": {},
      "toc_section_display": true,
      "toc_window_display": false
    },
    "varInspector": {
      "cols": {
        "lenName": 16,
        "lenType": 16,
        "lenVar": 40
      },
      "kernels_config": {
        "python": {
          "delete_cmd_postfix": "",
          "delete_cmd_prefix": "del ",
          "library": "var_list.py",
          "varRefreshCmd": "print(var_dic_list())"
        },
        "r": {
          "delete_cmd_postfix": ") ",
          "delete_cmd_prefix": "rm(",
          "library": "var_list.r",
          "varRefreshCmd": "cat(var_dic_list()) "
        }
      },
      "types_to_exclude": [
        "module",
        "function",
        "builtin_function_or_method",
        "instance",
        "_Feature"
      ],
      "window_display": false
    }
  },
  "nbformat": 4,
  "nbformat_minor": 0
}