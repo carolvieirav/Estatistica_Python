{
  "nbformat": 4,
  "nbformat_minor": 0,
  "metadata": {
    "colab": {
      "provenance": [],
      "authorship_tag": "ABX9TyM1Ta4Lu1FENN8evL/+Uez8",
      "include_colab_link": true
    },
    "kernelspec": {
      "name": "python3",
      "display_name": "Python 3"
    },
    "language_info": {
      "name": "python"
    }
  },
  "cells": [
    {
      "cell_type": "markdown",
      "metadata": {
        "id": "view-in-github",
        "colab_type": "text"
      },
      "source": [
        "<a href=\"https://colab.research.google.com/github/carolvieirav/Estatistica_Python/blob/main/Regress%C3%A3o%20Log%C3%ADstica/Avalia%C3%A7%C3%A3o_de_Regress%C3%A3o_Logistica.ipynb\" target=\"_parent\"><img src=\"https://colab.research.google.com/assets/colab-badge.svg\" alt=\"Open In Colab\"/></a>"
      ]
    },
    {
      "cell_type": "code",
      "execution_count": 22,
      "metadata": {
        "id": "_Ja2Ni8oFqxW"
      },
      "outputs": [],
      "source": [
        "import numpy as np\n",
        "import seaborn as sns\n",
        "import matplotlib.pyplot as plt\n",
        "import pandas as pd\n",
        "\n",
        "from sklearn.datasets import make_classification"
      ]
    },
    {
      "cell_type": "code",
      "source": [
        "X, y = make_classification(n_samples=2000, #linhas\n",
        "                           n_features=2, #colunas\n",
        "                           n_informative=2, # número de variáveis explicativas\n",
        "                           n_redundant=0, # variaveis que não agregam valores novos\n",
        "                           weights=[0.95, 0.05], #proporção de amostras pra cada classe\n",
        "                           random_state=42) "
      ],
      "metadata": {
        "id": "TxXDEPEEGn2V"
      },
      "execution_count": 23,
      "outputs": []
    },
    {
      "cell_type": "code",
      "source": [
        "X = pd.DataFrame(X, columns=['feature_1', 'feature_2'])\n",
        "y = pd.Series(y, name='target')\n",
        "\n",
        "X.head()"
      ],
      "metadata": {
        "colab": {
          "base_uri": "https://localhost:8080/",
          "height": 206
        },
        "id": "t-Lz-qFXNafH",
        "outputId": "ff439411-9da3-4316-e3a5-eb99e03efe61"
      },
      "execution_count": 24,
      "outputs": [
        {
          "output_type": "execute_result",
          "data": {
            "text/plain": [
              "   feature_1  feature_2\n",
              "0   0.800062  -0.957489\n",
              "1  -0.528184   1.238881\n",
              "2   0.154512   1.217520\n",
              "3  -1.719618   1.059892\n",
              "4  -0.735827  -0.245366"
            ],
            "text/html": [
              "\n",
              "  <div id=\"df-2cb3b7e8-9fa8-4327-9d22-02528aa8e3c7\">\n",
              "    <div class=\"colab-df-container\">\n",
              "      <div>\n",
              "<style scoped>\n",
              "    .dataframe tbody tr th:only-of-type {\n",
              "        vertical-align: middle;\n",
              "    }\n",
              "\n",
              "    .dataframe tbody tr th {\n",
              "        vertical-align: top;\n",
              "    }\n",
              "\n",
              "    .dataframe thead th {\n",
              "        text-align: right;\n",
              "    }\n",
              "</style>\n",
              "<table border=\"1\" class=\"dataframe\">\n",
              "  <thead>\n",
              "    <tr style=\"text-align: right;\">\n",
              "      <th></th>\n",
              "      <th>feature_1</th>\n",
              "      <th>feature_2</th>\n",
              "    </tr>\n",
              "  </thead>\n",
              "  <tbody>\n",
              "    <tr>\n",
              "      <th>0</th>\n",
              "      <td>0.800062</td>\n",
              "      <td>-0.957489</td>\n",
              "    </tr>\n",
              "    <tr>\n",
              "      <th>1</th>\n",
              "      <td>-0.528184</td>\n",
              "      <td>1.238881</td>\n",
              "    </tr>\n",
              "    <tr>\n",
              "      <th>2</th>\n",
              "      <td>0.154512</td>\n",
              "      <td>1.217520</td>\n",
              "    </tr>\n",
              "    <tr>\n",
              "      <th>3</th>\n",
              "      <td>-1.719618</td>\n",
              "      <td>1.059892</td>\n",
              "    </tr>\n",
              "    <tr>\n",
              "      <th>4</th>\n",
              "      <td>-0.735827</td>\n",
              "      <td>-0.245366</td>\n",
              "    </tr>\n",
              "  </tbody>\n",
              "</table>\n",
              "</div>\n",
              "      <button class=\"colab-df-convert\" onclick=\"convertToInteractive('df-2cb3b7e8-9fa8-4327-9d22-02528aa8e3c7')\"\n",
              "              title=\"Convert this dataframe to an interactive table.\"\n",
              "              style=\"display:none;\">\n",
              "        \n",
              "  <svg xmlns=\"http://www.w3.org/2000/svg\" height=\"24px\"viewBox=\"0 0 24 24\"\n",
              "       width=\"24px\">\n",
              "    <path d=\"M0 0h24v24H0V0z\" fill=\"none\"/>\n",
              "    <path d=\"M18.56 5.44l.94 2.06.94-2.06 2.06-.94-2.06-.94-.94-2.06-.94 2.06-2.06.94zm-11 1L8.5 8.5l.94-2.06 2.06-.94-2.06-.94L8.5 2.5l-.94 2.06-2.06.94zm10 10l.94 2.06.94-2.06 2.06-.94-2.06-.94-.94-2.06-.94 2.06-2.06.94z\"/><path d=\"M17.41 7.96l-1.37-1.37c-.4-.4-.92-.59-1.43-.59-.52 0-1.04.2-1.43.59L10.3 9.45l-7.72 7.72c-.78.78-.78 2.05 0 2.83L4 21.41c.39.39.9.59 1.41.59.51 0 1.02-.2 1.41-.59l7.78-7.78 2.81-2.81c.8-.78.8-2.07 0-2.86zM5.41 20L4 18.59l7.72-7.72 1.47 1.35L5.41 20z\"/>\n",
              "  </svg>\n",
              "      </button>\n",
              "      \n",
              "  <style>\n",
              "    .colab-df-container {\n",
              "      display:flex;\n",
              "      flex-wrap:wrap;\n",
              "      gap: 12px;\n",
              "    }\n",
              "\n",
              "    .colab-df-convert {\n",
              "      background-color: #E8F0FE;\n",
              "      border: none;\n",
              "      border-radius: 50%;\n",
              "      cursor: pointer;\n",
              "      display: none;\n",
              "      fill: #1967D2;\n",
              "      height: 32px;\n",
              "      padding: 0 0 0 0;\n",
              "      width: 32px;\n",
              "    }\n",
              "\n",
              "    .colab-df-convert:hover {\n",
              "      background-color: #E2EBFA;\n",
              "      box-shadow: 0px 1px 2px rgba(60, 64, 67, 0.3), 0px 1px 3px 1px rgba(60, 64, 67, 0.15);\n",
              "      fill: #174EA6;\n",
              "    }\n",
              "\n",
              "    [theme=dark] .colab-df-convert {\n",
              "      background-color: #3B4455;\n",
              "      fill: #D2E3FC;\n",
              "    }\n",
              "\n",
              "    [theme=dark] .colab-df-convert:hover {\n",
              "      background-color: #434B5C;\n",
              "      box-shadow: 0px 1px 3px 1px rgba(0, 0, 0, 0.15);\n",
              "      filter: drop-shadow(0px 1px 2px rgba(0, 0, 0, 0.3));\n",
              "      fill: #FFFFFF;\n",
              "    }\n",
              "  </style>\n",
              "\n",
              "      <script>\n",
              "        const buttonEl =\n",
              "          document.querySelector('#df-2cb3b7e8-9fa8-4327-9d22-02528aa8e3c7 button.colab-df-convert');\n",
              "        buttonEl.style.display =\n",
              "          google.colab.kernel.accessAllowed ? 'block' : 'none';\n",
              "\n",
              "        async function convertToInteractive(key) {\n",
              "          const element = document.querySelector('#df-2cb3b7e8-9fa8-4327-9d22-02528aa8e3c7');\n",
              "          const dataTable =\n",
              "            await google.colab.kernel.invokeFunction('convertToInteractive',\n",
              "                                                     [key], {});\n",
              "          if (!dataTable) return;\n",
              "\n",
              "          const docLinkHtml = 'Like what you see? Visit the ' +\n",
              "            '<a target=\"_blank\" href=https://colab.research.google.com/notebooks/data_table.ipynb>data table notebook</a>'\n",
              "            + ' to learn more about interactive tables.';\n",
              "          element.innerHTML = '';\n",
              "          dataTable['output_type'] = 'display_data';\n",
              "          await google.colab.output.renderOutput(dataTable, element);\n",
              "          const docLink = document.createElement('div');\n",
              "          docLink.innerHTML = docLinkHtml;\n",
              "          element.appendChild(docLink);\n",
              "        }\n",
              "      </script>\n",
              "    </div>\n",
              "  </div>\n",
              "  "
            ]
          },
          "metadata": {},
          "execution_count": 24
        }
      ]
    },
    {
      "cell_type": "code",
      "source": [
        "sns.scatterplot(X['feature_1'], X['feature_2'], hue=y,  palette='tab10')"
      ],
      "metadata": {
        "colab": {
          "base_uri": "https://localhost:8080/",
          "height": 352
        },
        "id": "wg3xTYfpN6Aq",
        "outputId": "f6417e4b-8b3e-485e-d7ec-66fe8156159d"
      },
      "execution_count": 25,
      "outputs": [
        {
          "output_type": "stream",
          "name": "stderr",
          "text": [
            "/usr/local/lib/python3.7/dist-packages/seaborn/_decorators.py:43: FutureWarning: Pass the following variables as keyword args: x, y. From version 0.12, the only valid positional argument will be `data`, and passing other arguments without an explicit keyword will result in an error or misinterpretation.\n",
            "  FutureWarning\n"
          ]
        },
        {
          "output_type": "execute_result",
          "data": {
            "text/plain": [
              "<matplotlib.axes._subplots.AxesSubplot at 0x7f26cf8d17d0>"
            ]
          },
          "metadata": {},
          "execution_count": 25
        },
        {
          "output_type": "display_data",
          "data": {
            "text/plain": [
              "<Figure size 432x288 with 1 Axes>"
            ],
            "image/png": "[encoded data removed]"
          },
          "metadata": {
            "needs_background": "light"
          }
        }
      ]
    },
    {
      "cell_type": "code",
      "source": [
        "from sklearn.linear_model import LogisticRegression"
      ],
      "metadata": {
        "id": "aGJFVsnQOKBJ"
      },
      "execution_count": 26,
      "outputs": []
    },
    {
      "cell_type": "code",
      "source": [
        "model = LogisticRegression()\n",
        "model.fit(X, y)"
      ],
      "metadata": {
        "colab": {
          "base_uri": "https://localhost:8080/"
        },
        "id": "EI_ojZ57Ocl0",
        "outputId": "139518db-5c92-4f77-cefe-86e3c129b86b"
      },
      "execution_count": 27,
      "outputs": [
        {
          "output_type": "execute_result",
          "data": {
            "text/plain": [
              "LogisticRegression()"
            ]
          },
          "metadata": {},
          "execution_count": 27
        }
      ]
    },
    {
      "cell_type": "code",
      "source": [
        "model.coef_"
      ],
      "metadata": {
        "colab": {
          "base_uri": "https://localhost:8080/"
        },
        "id": "aUVogdE9OgIm",
        "outputId": "de1e6263-173a-43f8-e3ce-83df09cae4af"
      },
      "execution_count": 28,
      "outputs": [
        {
          "output_type": "execute_result",
          "data": {
            "text/plain": [
              "array([[ 2.4144839 , -0.30307802]])"
            ]
          },
          "metadata": {},
          "execution_count": 28
        }
      ]
    },
    {
      "cell_type": "code",
      "source": [
        "model.score(X, y)"
      ],
      "metadata": {
        "colab": {
          "base_uri": "https://localhost:8080/"
        },
        "id": "KG_hxLLCOlGF",
        "outputId": "1888f78b-1c28-4737-ff1c-8760f2eb2ab9"
      },
      "execution_count": 29,
      "outputs": [
        {
          "output_type": "execute_result",
          "data": {
            "text/plain": [
              "0.9635"
            ]
          },
          "metadata": {},
          "execution_count": 29
        }
      ]
    },
    {
      "cell_type": "code",
      "source": [
        "from sklearn.model_selection import train_test_split\n",
        "\n",
        "X_train, X_test, y_train, y_test = train_test_split(X, y, test_size=0.2, random_state=42)\n",
        "X_train.head()"
      ],
      "metadata": {
        "colab": {
          "base_uri": "https://localhost:8080/",
          "height": 206
        },
        "id": "6s1yHsOwQjQj",
        "outputId": "ffd3912e-04a5-4f4c-c237-4123eca4879b"
      },
      "execution_count": 30,
      "outputs": [
        {
          "output_type": "execute_result",
          "data": {
            "text/plain": [
              "     feature_1  feature_2\n",
              "968  -1.195228  -0.680139\n",
              "240   0.692116   1.801912\n",
              "819  -0.023314   1.200287\n",
              "692  -1.020177   1.243738\n",
              "420  -1.233674   0.416807"
            ],
            "text/html": [
              "\n",
              "  <div id=\"df-97edcb18-cd39-414f-aae6-1b84ed433801\">\n",
              "    <div class=\"colab-df-container\">\n",
              "      <div>\n",
              "<style scoped>\n",
              "    .dataframe tbody tr th:only-of-type {\n",
              "        vertical-align: middle;\n",
              "    }\n",
              "\n",
              "    .dataframe tbody tr th {\n",
              "        vertical-align: top;\n",
              "    }\n",
              "\n",
              "    .dataframe thead th {\n",
              "        text-align: right;\n",
              "    }\n",
              "</style>\n",
              "<table border=\"1\" class=\"dataframe\">\n",
              "  <thead>\n",
              "    <tr style=\"text-align: right;\">\n",
              "      <th></th>\n",
              "      <th>feature_1</th>\n",
              "      <th>feature_2</th>\n",
              "    </tr>\n",
              "  </thead>\n",
              "  <tbody>\n",
              "    <tr>\n",
              "      <th>968</th>\n",
              "      <td>-1.195228</td>\n",
              "      <td>-0.680139</td>\n",
              "    </tr>\n",
              "    <tr>\n",
              "      <th>240</th>\n",
              "      <td>0.692116</td>\n",
              "      <td>1.801912</td>\n",
              "    </tr>\n",
              "    <tr>\n",
              "      <th>819</th>\n",
              "      <td>-0.023314</td>\n",
              "      <td>1.200287</td>\n",
              "    </tr>\n",
              "    <tr>\n",
              "      <th>692</th>\n",
              "      <td>-1.020177</td>\n",
              "      <td>1.243738</td>\n",
              "    </tr>\n",
              "    <tr>\n",
              "      <th>420</th>\n",
              "      <td>-1.233674</td>\n",
              "      <td>0.416807</td>\n",
              "    </tr>\n",
              "  </tbody>\n",
              "</table>\n",
              "</div>\n",
              "      <button class=\"colab-df-convert\" onclick=\"convertToInteractive('df-97edcb18-cd39-414f-aae6-1b84ed433801')\"\n",
              "              title=\"Convert this dataframe to an interactive table.\"\n",
              "              style=\"display:none;\">\n",
              "        \n",
              "  <svg xmlns=\"http://www.w3.org/2000/svg\" height=\"24px\"viewBox=\"0 0 24 24\"\n",
              "       width=\"24px\">\n",
              "    <path d=\"M0 0h24v24H0V0z\" fill=\"none\"/>\n",
              "    <path d=\"M18.56 5.44l.94 2.06.94-2.06 2.06-.94-2.06-.94-.94-2.06-.94 2.06-2.06.94zm-11 1L8.5 8.5l.94-2.06 2.06-.94-2.06-.94L8.5 2.5l-.94 2.06-2.06.94zm10 10l.94 2.06.94-2.06 2.06-.94-2.06-.94-.94-2.06-.94 2.06-2.06.94z\"/><path d=\"M17.41 7.96l-1.37-1.37c-.4-.4-.92-.59-1.43-.59-.52 0-1.04.2-1.43.59L10.3 9.45l-7.72 7.72c-.78.78-.78 2.05 0 2.83L4 21.41c.39.39.9.59 1.41.59.51 0 1.02-.2 1.41-.59l7.78-7.78 2.81-2.81c.8-.78.8-2.07 0-2.86zM5.41 20L4 18.59l7.72-7.72 1.47 1.35L5.41 20z\"/>\n",
              "  </svg>\n",
              "      </button>\n",
              "      \n",
              "  <style>\n",
              "    .colab-df-container {\n",
              "      display:flex;\n",
              "      flex-wrap:wrap;\n",
              "      gap: 12px;\n",
              "    }\n",
              "\n",
              "    .colab-df-convert {\n",
              "      background-color: #E8F0FE;\n",
              "      border: none;\n",
              "      border-radius: 50%;\n",
              "      cursor: pointer;\n",
              "      display: none;\n",
              "      fill: #1967D2;\n",
              "      height: 32px;\n",
              "      padding: 0 0 0 0;\n",
              "      width: 32px;\n",
              "    }\n",
              "\n",
              "    .colab-df-convert:hover {\n",
              "      background-color: #E2EBFA;\n",
              "      box-shadow: 0px 1px 2px rgba(60, 64, 67, 0.3), 0px 1px 3px 1px rgba(60, 64, 67, 0.15);\n",
              "      fill: #174EA6;\n",
              "    }\n",
              "\n",
              "    [theme=dark] .colab-df-convert {\n",
              "      background-color: #3B4455;\n",
              "      fill: #D2E3FC;\n",
              "    }\n",
              "\n",
              "    [theme=dark] .colab-df-convert:hover {\n",
              "      background-color: #434B5C;\n",
              "      box-shadow: 0px 1px 3px 1px rgba(0, 0, 0, 0.15);\n",
              "      filter: drop-shadow(0px 1px 2px rgba(0, 0, 0, 0.3));\n",
              "      fill: #FFFFFF;\n",
              "    }\n",
              "  </style>\n",
              "\n",
              "      <script>\n",
              "        const buttonEl =\n",
              "          document.querySelector('#df-97edcb18-cd39-414f-aae6-1b84ed433801 button.colab-df-convert');\n",
              "        buttonEl.style.display =\n",
              "          google.colab.kernel.accessAllowed ? 'block' : 'none';\n",
              "\n",
              "        async function convertToInteractive(key) {\n",
              "          const element = document.querySelector('#df-97edcb18-cd39-414f-aae6-1b84ed433801');\n",
              "          const dataTable =\n",
              "            await google.colab.kernel.invokeFunction('convertToInteractive',\n",
              "                                                     [key], {});\n",
              "          if (!dataTable) return;\n",
              "\n",
              "          const docLinkHtml = 'Like what you see? Visit the ' +\n",
              "            '<a target=\"_blank\" href=https://colab.research.google.com/notebooks/data_table.ipynb>data table notebook</a>'\n",
              "            + ' to learn more about interactive tables.';\n",
              "          element.innerHTML = '';\n",
              "          dataTable['output_type'] = 'display_data';\n",
              "          await google.colab.output.renderOutput(dataTable, element);\n",
              "          const docLink = document.createElement('div');\n",
              "          docLink.innerHTML = docLinkHtml;\n",
              "          element.appendChild(docLink);\n",
              "        }\n",
              "      </script>\n",
              "    </div>\n",
              "  </div>\n",
              "  "
            ]
          },
          "metadata": {},
          "execution_count": 30
        }
      ]
    },
    {
      "cell_type": "code",
      "source": [
        "model.fit(X_train, y_train)"
      ],
      "metadata": {
        "colab": {
          "base_uri": "https://localhost:8080/"
        },
        "id": "qTdBwg7PQ700",
        "outputId": "604d72f4-0f58-42f3-f409-c72a541e2529"
      },
      "execution_count": 31,
      "outputs": [
        {
          "output_type": "execute_result",
          "data": {
            "text/plain": [
              "LogisticRegression()"
            ]
          },
          "metadata": {},
          "execution_count": 31
        }
      ]
    },
    {
      "cell_type": "code",
      "source": [
        "model.score(X_test, y_test)"
      ],
      "metadata": {
        "colab": {
          "base_uri": "https://localhost:8080/"
        },
        "id": "dZtKov8ZRDNB",
        "outputId": "ef21604e-b57f-4920-e044-76fa98580f06"
      },
      "execution_count": 32,
      "outputs": [
        {
          "output_type": "execute_result",
          "data": {
            "text/plain": [
              "0.96"
            ]
          },
          "metadata": {},
          "execution_count": 32
        }
      ]
    },
    {
      "cell_type": "code",
      "source": [
        "y_test.value_counts(normalize=True)"
      ],
      "metadata": {
        "colab": {
          "base_uri": "https://localhost:8080/"
        },
        "id": "iZj278dLRM-F",
        "outputId": "d3d9ba82-c3a2-4491-b069-d9760628dc95"
      },
      "execution_count": 33,
      "outputs": [
        {
          "output_type": "execute_result",
          "data": {
            "text/plain": [
              "0    0.9325\n",
              "1    0.0675\n",
              "Name: target, dtype: float64"
            ]
          },
          "metadata": {},
          "execution_count": 33
        }
      ]
    },
    {
      "cell_type": "code",
      "source": [
        "sns.countplot(y_test)"
      ],
      "metadata": {
        "colab": {
          "base_uri": "https://localhost:8080/",
          "height": 351
        },
        "id": "vA3pAl4sRjIU",
        "outputId": "2878c0f8-4c12-4fe3-c607-1166ee47a2d6"
      },
      "execution_count": 34,
      "outputs": [
        {
          "output_type": "stream",
          "name": "stderr",
          "text": [
            "/usr/local/lib/python3.7/dist-packages/seaborn/_decorators.py:43: FutureWarning: Pass the following variable as a keyword arg: x. From version 0.12, the only valid positional argument will be `data`, and passing other arguments without an explicit keyword will result in an error or misinterpretation.\n",
            "  FutureWarning\n"
          ]
        },
        {
          "output_type": "execute_result",
          "data": {
            "text/plain": [
              "<matplotlib.axes._subplots.AxesSubplot at 0x7f26cf855890>"
            ]
          },
          "metadata": {},
          "execution_count": 34
        },
        {
          "output_type": "display_data",
          "data": {
            "text/plain": [
              "<Figure size 432x288 with 1 Axes>"
            ],
            "image/png": "[encoded data removed]"
          },
          "metadata": {
            "needs_background": "light"
          }
        }
      ]
    },
    {
      "cell_type": "code",
      "source": [],
      "metadata": {
        "id": "9RTQq13VRp0z"
      },
      "execution_count": 34,
      "outputs": []
    },
    {
      "cell_type": "markdown",
      "source": [
        "# Matriz de Confusão"
      ],
      "metadata": {
        "id": "UuSRc0FwSEl5"
      }
    },
    {
      "cell_type": "code",
      "source": [
        "from sklearn.metrics import plot_confusion_matrix, confusion_matrix"
      ],
      "metadata": {
        "id": "CfLAJSYgSHjI"
      },
      "execution_count": 35,
      "outputs": []
    },
    {
      "cell_type": "code",
      "source": [
        "confusion_matrix(y_test, model.predict(X_test))"
      ],
      "metadata": {
        "colab": {
          "base_uri": "https://localhost:8080/"
        },
        "id": "JyQGqqiLSOPj",
        "outputId": "2e64fb4d-7fd2-4961-9a17-361458407d98"
      },
      "execution_count": 36,
      "outputs": [
        {
          "output_type": "execute_result",
          "data": {
            "text/plain": [
              "array([[373,   0],\n",
              "       [ 16,  11]])"
            ]
          },
          "metadata": {},
          "execution_count": 36
        }
      ]
    },
    {
      "cell_type": "code",
      "source": [
        "plot_confusion_matrix(model, X_test, y_test, values_format='.0f')"
      ],
      "metadata": {
        "colab": {
          "base_uri": "https://localhost:8080/",
          "height": 351
        },
        "id": "FNEpMBDSSa6d",
        "outputId": "8b8eefd4-e166-440c-bf9d-15331e99778f"
      },
      "execution_count": 37,
      "outputs": [
        {
          "output_type": "stream",
          "name": "stderr",
          "text": [
            "/usr/local/lib/python3.7/dist-packages/sklearn/utils/deprecation.py:87: FutureWarning: Function plot_confusion_matrix is deprecated; Function `plot_confusion_matrix` is deprecated in 1.0 and will be removed in 1.2. Use one of the class methods: ConfusionMatrixDisplay.from_predictions or ConfusionMatrixDisplay.from_estimator.\n",
            "  warnings.warn(msg, category=FutureWarning)\n"
          ]
        },
        {
          "output_type": "execute_result",
          "data": {
            "text/plain": [
              "<sklearn.metrics._plot.confusion_matrix.ConfusionMatrixDisplay at 0x7f26cf81bad0>"
            ]
          },
          "metadata": {},
          "execution_count": 37
        },
        {
          "output_type": "display_data",
          "data": {
            "text/plain": [
              "<Figure size 432x288 with 2 Axes>"
            ],
            "image/png": "[encoded data removed]"
          },
          "metadata": {
            "needs_background": "light"
          }
        }
      ]
    },
    {
      "cell_type": "code",
      "source": [
        "plot_confusion_matrix(model, X, y, values_format='.3f', normalize='true')"
      ],
      "metadata": {
        "colab": {
          "base_uri": "https://localhost:8080/",
          "height": 351
        },
        "id": "aheEI1u-Smpy",
        "outputId": "4b12ad3c-69cb-4306-d7ee-9e6248383efa"
      },
      "execution_count": 38,
      "outputs": [
        {
          "output_type": "stream",
          "name": "stderr",
          "text": [
            "/usr/local/lib/python3.7/dist-packages/sklearn/utils/deprecation.py:87: FutureWarning: Function plot_confusion_matrix is deprecated; Function `plot_confusion_matrix` is deprecated in 1.0 and will be removed in 1.2. Use one of the class methods: ConfusionMatrixDisplay.from_predictions or ConfusionMatrixDisplay.from_estimator.\n",
            "  warnings.warn(msg, category=FutureWarning)\n"
          ]
        },
        {
          "output_type": "execute_result",
          "data": {
            "text/plain": [
              "<sklearn.metrics._plot.confusion_matrix.ConfusionMatrixDisplay at 0x7f26cf809950>"
            ]
          },
          "metadata": {},
          "execution_count": 38
        },
        {
          "output_type": "display_data",
          "data": {
            "text/plain": [
              "<Figure size 432x288 with 2 Axes>"
            ],
            "image/png": "[encoded data removed]"
          },
          "metadata": {
            "needs_background": "light"
          }
        }
      ]
    },
    {
      "cell_type": "markdown",
      "source": [
        "![image.png](data:image/png;base64,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)"
      ],
      "metadata": {
        "id": "_aszC9cJTvFH"
      }
    },
    {
      "cell_type": "code",
      "source": [],
      "metadata": {
        "id": "E3Pokg-TTm4B"
      },
      "execution_count": null,
      "outputs": []
    },
    {
      "cell_type": "markdown",
      "source": [
        "# Precisão - Taxa de acerto\n",
        "\n",
        "# Recall - Taxa de captura"
      ],
      "metadata": {
        "id": "9g1rS8s8ZAHA"
      }
    },
    {
      "cell_type": "code",
      "source": [
        "from sklearn.metrics import precision_score, recall_score"
      ],
      "metadata": {
        "id": "PJbm7_83ZDFs"
      },
      "execution_count": 39,
      "outputs": []
    },
    {
      "cell_type": "code",
      "source": [
        "precision_score(y_test, model.predict(X_test))"
      ],
      "metadata": {
        "colab": {
          "base_uri": "https://localhost:8080/"
        },
        "id": "bQIQDXtHalkW",
        "outputId": "db8fd3c2-c76f-47a7-d3c8-a89a64bcac97"
      },
      "execution_count": 40,
      "outputs": [
        {
          "output_type": "execute_result",
          "data": {
            "text/plain": [
              "1.0"
            ]
          },
          "metadata": {},
          "execution_count": 40
        }
      ]
    },
    {
      "cell_type": "code",
      "source": [
        "recall_score(y_test, model.predict(X_test))"
      ],
      "metadata": {
        "colab": {
          "base_uri": "https://localhost:8080/"
        },
        "id": "fiK0AFc7atj1",
        "outputId": "57d2c77b-eaa5-47ef-f264-710089ee2bb3"
      },
      "execution_count": 41,
      "outputs": [
        {
          "output_type": "execute_result",
          "data": {
            "text/plain": [
              "0.4074074074074074"
            ]
          },
          "metadata": {},
          "execution_count": 41
        }
      ]
    },
    {
      "cell_type": "markdown",
      "source": [
        "**F1 - Score**"
      ],
      "metadata": {
        "id": "bO1YGuS_bD2H"
      }
    },
    {
      "cell_type": "markdown",
      "source": [],
      "metadata": {
        "id": "U2WkkxdtcWv9"
      }
    },
    {
      "cell_type": "markdown",
      "source": [
        "$$F_1 = \\frac{1}{\\frac{1}{\\text{precisão}} + \\frac{1}{\\text{recall}}}$$"
      ],
      "metadata": {
        "id": "ZK1DmhbTcWxK"
      }
    },
    {
      "cell_type": "code",
      "source": [
        "from sklearn.metrics import f1_score"
      ],
      "metadata": {
        "id": "guUeSEL6cXXX"
      },
      "execution_count": 42,
      "outputs": []
    },
    {
      "cell_type": "code",
      "source": [
        "f1_score(y, model.predict(X))"
      ],
      "metadata": {
        "colab": {
          "base_uri": "https://localhost:8080/"
        },
        "id": "eQ9KOtWgcvj4",
        "outputId": "5e71f8b4-0ad9-4c0a-fc2e-82d00781f3ee"
      },
      "execution_count": 44,
      "outputs": [
        {
          "output_type": "execute_result",
          "data": {
            "text/plain": [
              "0.5365853658536585"
            ]
          },
          "metadata": {},
          "execution_count": 44
        }
      ]
    },
    {
      "cell_type": "markdown",
      "source": [
        "# Threshold"
      ],
      "metadata": {
        "id": "_J-43XdodRg_"
      }
    },
    {
      "cell_type": "code",
      "source": [
        "model.predict_proba(X)"
      ],
      "metadata": {
        "colab": {
          "base_uri": "https://localhost:8080/"
        },
        "id": "zw0NYQ_1c4xf",
        "outputId": "7bf9b6bb-de53-47eb-d942-93346b013b7a"
      },
      "execution_count": 45,
      "outputs": [
        {
          "output_type": "execute_result",
          "data": {
            "text/plain": [
              "array([[6.29339747e-01, 3.70660253e-01],\n",
              "       [9.88690428e-01, 1.13095718e-02],\n",
              "       [9.40147187e-01, 5.98528127e-02],\n",
              "       ...,\n",
              "       [9.99960413e-01, 3.95869159e-05],\n",
              "       [9.98746960e-01, 1.25303963e-03],\n",
              "       [9.86843213e-01, 1.31567870e-02]])"
            ]
          },
          "metadata": {},
          "execution_count": 45
        }
      ]
    },
    {
      "cell_type": "code",
      "source": [
        "model.predict_proba(X)[:,1] > 0.5"
      ],
      "metadata": {
        "colab": {
          "base_uri": "https://localhost:8080/"
        },
        "id": "sm-7F2-Jdp1t",
        "outputId": "f5d6b102-c721-4ae8-b261-110cb08dfe0b"
      },
      "execution_count": 46,
      "outputs": [
        {
          "output_type": "execute_result",
          "data": {
            "text/plain": [
              "array([3.70660253e-01, 1.13095718e-02, 5.98528127e-02, ...,\n",
              "       3.95869159e-05, 1.25303963e-03, 1.31567870e-02])"
            ]
          },
          "metadata": {},
          "execution_count": 46
        }
      ]
    },
    {
      "cell_type": "code",
      "source": [
        "y_pred = model.predict_proba(X)[:,1] > 0.2"
      ],
      "metadata": {
        "id": "O-hAj0a0eakv"
      },
      "execution_count": 52,
      "outputs": []
    },
    {
      "cell_type": "code",
      "source": [
        "precision_score(y, y_pred)"
      ],
      "metadata": {
        "colab": {
          "base_uri": "https://localhost:8080/"
        },
        "id": "_I_twGK-eal1",
        "outputId": "040c8d3e-c49e-43a4-e0c7-3b601d978828"
      },
      "execution_count": 53,
      "outputs": [
        {
          "output_type": "execute_result",
          "data": {
            "text/plain": [
              "0.5214285714285715"
            ]
          },
          "metadata": {},
          "execution_count": 53
        }
      ]
    },
    {
      "cell_type": "code",
      "source": [
        "recall_score(y, y_pred)"
      ],
      "metadata": {
        "colab": {
          "base_uri": "https://localhost:8080/"
        },
        "id": "0D1t9ci4fAmI",
        "outputId": "2d4375e4-6ec9-498e-90a3-552d5d181eb2"
      },
      "execution_count": 54,
      "outputs": [
        {
          "output_type": "execute_result",
          "data": {
            "text/plain": [
              "0.6759259259259259"
            ]
          },
          "metadata": {},
          "execution_count": 54
        }
      ]
    },
    {
      "cell_type": "code",
      "source": [],
      "metadata": {
        "id": "DXZfmGMqfSPq"
      },
      "execution_count": null,
      "outputs": []
    }
  ]
}