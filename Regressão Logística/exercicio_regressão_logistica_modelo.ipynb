{
  "cells": [
    {
      "cell_type": "markdown",
      "metadata": {
        "id": "view-in-github",
        "colab_type": "text"
      },
      "source": [
        "<a href=\"https://colab.research.google.com/github/carolvieirav/Estatistica_Python/blob/main/Regress%C3%A3o%20Log%C3%ADstica/exercicio_regress%C3%A3o_logistica_modelo.ipynb\" target=\"_parent\"><img src=\"https://colab.research.google.com/assets/colab-badge.svg\" alt=\"Open In Colab\"/></a>"
      ]
    },
    {
      "cell_type": "markdown",
      "source": [
        "# Exercício"
      ],
      "metadata": {
        "id": "xU1kXM8fow61"
      }
    },
    {
      "cell_type": "markdown",
      "metadata": {
        "id": "MGUm2xXpbuj4"
      },
      "source": [
        "Leia o dataset do `titanic.csv` como **df**"
      ]
    },
    {
      "cell_type": "code",
      "execution_count": 1,
      "metadata": {
        "ExecuteTime": {
          "end_time": "2020-07-21T17:10:12.280698Z",
          "start_time": "2020-07-21T17:10:10.197897Z"
        },
        "id": "nfuCtLPpbuj7"
      },
      "outputs": [],
      "source": [
        "#seu código aqui"
      ]
    },
    {
      "cell_type": "markdown",
      "source": [
        "# Train e Test\n",
        "\n",
        "https://scikit-learn.org/stable/modules/generated/sklearn.model_selection.train_test_split.html\n",
        "\n",
        "importe a função que separa o dataframe entre treino e teste:\n",
        "\n",
        "`from sklearn.model_selection import train_test_split`"
      ],
      "metadata": {
        "id": "oH5o2gM9pMI9"
      }
    },
    {
      "cell_type": "code",
      "source": [
        "#seu código aqui"
      ],
      "metadata": {
        "id": "WHZEhTtxq6nl"
      },
      "execution_count": null,
      "outputs": []
    },
    {
      "cell_type": "markdown",
      "source": [
        "Agora execute a divisão do dataframe:\n",
        "\n",
        "`train, test = train_test_split(df, train_size=0.8)`"
      ],
      "metadata": {
        "id": "Td5astLLrDrU"
      }
    },
    {
      "cell_type": "code",
      "source": [],
      "metadata": {
        "id": "-4xr6jocrGwE"
      },
      "execution_count": null,
      "outputs": []
    },
    {
      "cell_type": "markdown",
      "source": [
        "\n",
        "Você separou o dataset original em train e test. Na verdade, você escondeu parte dos dados para analisar os erros mais tarde."
      ],
      "metadata": {
        "id": "hh0Cv28Mq-Jc"
      }
    },
    {
      "cell_type": "markdown",
      "source": [],
      "metadata": {
        "id": "6ckWNWLvrcyV"
      }
    },
    {
      "cell_type": "markdown",
      "source": [
        "# Primeiro Passo:\n",
        "\n",
        "Você selecionará duas variáveis ​​para criar as variáveis ​​preditivas para o seu problema - armazene as colunas `Sexo` e a `Idade` em dataframes chamados `X_train` e `X_test`.\n",
        "\n",
        "Também armazene a variável `Survived` em pandas series chamados `y_train` e `y_test`. Esta é a sua variável de destino."
      ],
      "metadata": {
        "id": "zD2sbn6PrczY"
      }
    },
    {
      "cell_type": "code",
      "source": [],
      "metadata": {
        "id": "Jx8hFzDMsKp1"
      },
      "execution_count": null,
      "outputs": []
    },
    {
      "cell_type": "code",
      "source": [],
      "metadata": {
        "id": "RYRb4lEdsH8M"
      },
      "execution_count": null,
      "outputs": []
    },
    {
      "cell_type": "markdown",
      "source": [
        "**Regressão Logistica para Classificação**\n",
        "\n",
        "https://scikit-learn.org/stable/modules/generated/sklearn.linear_model.LogisticRegression.html"
      ],
      "metadata": {
        "id": "d4UtSLTasM28"
      }
    },
    {
      "cell_type": "markdown",
      "metadata": {
        "id": "HROAofH9bukB"
      },
      "source": [
        "## Use seu modelo de regressão logística para gerar uma previsão para seus dados de teste.\n",
        "\n",
        "Crie uma variável chamada `y_pred` para colocar os resultados do modelo. Tente entender o que exatamente o método `.predict()` está fazendo."
      ]
    },
    {
      "cell_type": "code",
      "execution_count": null,
      "metadata": {
        "ExecuteTime": {
          "end_time": "2020-07-21T17:10:15.019160Z",
          "start_time": "2020-07-21T17:10:14.981181Z"
        },
        "id": "aINUu0IXbukB"
      },
      "outputs": [],
      "source": [
        "#seu código aqui"
      ]
    },
    {
      "cell_type": "markdown",
      "metadata": {
        "id": "bkgEG_s1bukC"
      },
      "source": [
        "## Avaliando os resultados\n",
        "\n",
        "Use o método do seu modelo chamado `score` para avaliar os resultados em seu conjunto de teste."
      ]
    },
    {
      "cell_type": "code",
      "execution_count": 8,
      "metadata": {
        "ExecuteTime": {
          "end_time": "2020-07-21T17:10:15.057135Z",
          "start_time": "2020-07-21T17:10:15.035150Z"
        },
        "id": "WeRuEEUNbukC"
      },
      "outputs": [],
      "source": [
        "#seu código aqui"
      ]
    },
    {
      "cell_type": "markdown",
      "metadata": {
        "id": "tY2pyLS3bukC"
      },
      "source": [
        "## Para pensar:\n",
        "\n",
        "- O que o método `.score()` calcula?\n",
        "- Essa métrica é apropriada para este caso de uso? Por quê?"
      ]
    },
    {
      "cell_type": "code",
      "source": [],
      "metadata": {
        "id": "Y-rBTuWUofy5"
      },
      "execution_count": null,
      "outputs": []
    },
    {
      "cell_type": "markdown",
      "source": [
        "Amanhã vamos fazer a segunda parte desse exercício para avaliarmos o modelo com métricas mais apropriadas.\n",
        "\n",
        "---\n",
        "\n"
      ],
      "metadata": {
        "id": "mQv3VLUnogxW"
      }
    },
    {
      "cell_type": "code",
      "source": [],
      "metadata": {
        "id": "KtG9YlnlsgSv"
      },
      "execution_count": null,
      "outputs": []
    }
  ],
  "metadata": {
    "hide_input": false,
    "kernelspec": {
      "display_name": "Python 3",
      "language": "python",
      "name": "python3"
    },
    "language_info": {
      "codemirror_mode": {
        "name": "ipython",
        "version": 3
      },
      "file_extension": ".py",
      "mimetype": "text/x-python",
      "name": "python",
      "nbconvert_exporter": "python",
      "pygments_lexer": "ipython3",
      "version": "3.7.4"
    },
    "toc": {
      "base_numbering": 1,
      "nav_menu": {},
      "number_sections": true,
      "sideBar": true,
      "skip_h1_title": false,
      "title_cell": "Table of Contents",
      "title_sidebar": "Contents",
      "toc_cell": false,
      "toc_position": {},
      "toc_section_display": true,
      "toc_window_display": false
    },
    "varInspector": {
      "cols": {
        "lenName": 16,
        "lenType": 16,
        "lenVar": 40
      },
      "kernels_config": {
        "python": {
          "delete_cmd_postfix": "",
          "delete_cmd_prefix": "del ",
          "library": "var_list.py",
          "varRefreshCmd": "print(var_dic_list())"
        },
        "r": {
          "delete_cmd_postfix": ") ",
          "delete_cmd_prefix": "rm(",
          "library": "var_list.r",
          "varRefreshCmd": "cat(var_dic_list()) "
        }
      },
      "types_to_exclude": [
        "module",
        "function",
        "builtin_function_or_method",
        "instance",
        "_Feature"
      ],
      "window_display": false
    },
    "colab": {
      "provenance": [],
      "include_colab_link": true
    }
  },
  "nbformat": 4,
  "nbformat_minor": 0
}