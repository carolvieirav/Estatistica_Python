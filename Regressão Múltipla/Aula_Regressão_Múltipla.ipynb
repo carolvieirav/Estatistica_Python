{
  "nbformat": 4,
  "nbformat_minor": 0,
  "metadata": {
    "colab": {
      "provenance": [],
      "authorship_tag": "ABX9TyODQq1UPC07LNfVgD6+Zjx5",
      "include_colab_link": true
    },
    "kernelspec": {
      "name": "python3",
      "display_name": "Python 3"
    },
    "language_info": {
      "name": "python"
    }
  },
  "cells": [
    {
      "cell_type": "markdown",
      "metadata": {
        "id": "view-in-github",
        "colab_type": "text"
      },
      "source": [
        "<a href=\"https://colab.research.google.com/github/carolvieirav/Estatistica_Python/blob/main/Regress%C3%A3o%20M%C3%BAltipla/Aula_Regress%C3%A3o_M%C3%BAltipla.ipynb\" target=\"_parent\"><img src=\"https://colab.research.google.com/assets/colab-badge.svg\" alt=\"Open In Colab\"/></a>"
      ]
    },
    {
      "cell_type": "code",
      "execution_count": 4,
      "metadata": {
        "id": "uwBBVocCi2f3"
      },
      "outputs": [],
      "source": [
        "import numpy as np\n",
        "import pandas as pd\n",
        "import matplotlib.pyplot as plt\n",
        "from sklearn.linear_model import LinearRegression\n",
        "import seaborn as sns"
      ]
    },
    {
      "cell_type": "code",
      "source": [
        "df = pd.read_csv('/content/advertising.csv')"
      ],
      "metadata": {
        "id": "BEeLiYyC1ozj"
      },
      "execution_count": 2,
      "outputs": []
    },
    {
      "cell_type": "code",
      "source": [
        "sns.regplot(df['TV'], df['Sales'])"
      ],
      "metadata": {
        "colab": {
          "base_uri": "https://localhost:8080/",
          "height": 354
        },
        "id": "nyXlp8Bg1zB-",
        "outputId": "dd6c9ec5-05f6-4358-9d30-6774234902dd"
      },
      "execution_count": 5,
      "outputs": [
        {
          "output_type": "stream",
          "name": "stderr",
          "text": [
            "/usr/local/lib/python3.7/dist-packages/seaborn/_decorators.py:43: FutureWarning: Pass the following variables as keyword args: x, y. From version 0.12, the only valid positional argument will be `data`, and passing other arguments without an explicit keyword will result in an error or misinterpretation.\n",
            "  FutureWarning\n"
          ]
        },
        {
          "output_type": "execute_result",
          "data": {
            "text/plain": [
              "<matplotlib.axes._subplots.AxesSubplot at 0x7f0c98d3a450>"
            ]
          },
          "metadata": {},
          "execution_count": 5
        },
        {
          "output_type": "display_data",
          "data": {
            "text/plain": [
              "<Figure size 432x288 with 1 Axes>"
            ],
            "image/png": "[encoded data removed]"
          },
          "metadata": {
            "needs_background": "light"
          }
        }
      ]
    },
    {
      "cell_type": "code",
      "source": [
        "X = df[['TV']]\n",
        "y = df['Sales']"
      ],
      "metadata": {
        "id": "mTF-VV6C17XG"
      },
      "execution_count": 6,
      "outputs": []
    },
    {
      "cell_type": "code",
      "source": [
        "model = LinearRegression()"
      ],
      "metadata": {
        "id": "dMfTsWgP2LFr"
      },
      "execution_count": 7,
      "outputs": []
    },
    {
      "cell_type": "code",
      "source": [
        "model.fit(X, y)"
      ],
      "metadata": {
        "colab": {
          "base_uri": "https://localhost:8080/"
        },
        "id": "UlcSkEDB2P4m",
        "outputId": "89d904b1-ec84-40b8-873f-86ba833a1b03"
      },
      "execution_count": 8,
      "outputs": [
        {
          "output_type": "execute_result",
          "data": {
            "text/plain": [
              "LinearRegression()"
            ]
          },
          "metadata": {},
          "execution_count": 8
        }
      ]
    },
    {
      "cell_type": "code",
      "source": [
        "model.coef_"
      ],
      "metadata": {
        "colab": {
          "base_uri": "https://localhost:8080/"
        },
        "id": "G074xTTl2WB9",
        "outputId": "f5b116e8-2bcd-46f6-869d-f61df75ac364"
      },
      "execution_count": 9,
      "outputs": [
        {
          "output_type": "execute_result",
          "data": {
            "text/plain": [
              "array([0.05546477])"
            ]
          },
          "metadata": {},
          "execution_count": 9
        }
      ]
    },
    {
      "cell_type": "code",
      "source": [
        "model.intercept_"
      ],
      "metadata": {
        "colab": {
          "base_uri": "https://localhost:8080/"
        },
        "id": "4hBb-Y522ewG",
        "outputId": "69ab3ccf-263b-4773-f279-2dd2fb3e31dc"
      },
      "execution_count": 10,
      "outputs": [
        {
          "output_type": "execute_result",
          "data": {
            "text/plain": [
              "6.974821488229891"
            ]
          },
          "metadata": {},
          "execution_count": 10
        }
      ]
    },
    {
      "cell_type": "code",
      "source": [
        "y_pred = model.predict(df[['TV']])"
      ],
      "metadata": {
        "id": "hGNoLkFh2mhY"
      },
      "execution_count": 11,
      "outputs": []
    },
    {
      "cell_type": "code",
      "source": [
        "y - y_pred"
      ],
      "metadata": {
        "colab": {
          "base_uri": "https://localhost:8080/"
        },
        "id": "CTMh-TMk25V2",
        "outputId": "0ee8b45b-91e9-476c-811b-2b678ef5ab15"
      },
      "execution_count": 12,
      "outputs": [
        {
          "output_type": "execute_result",
          "data": {
            "text/plain": [
              "0      2.362735\n",
              "1      0.956996\n",
              "2      4.071184\n",
              "3      1.122266\n",
              "4      0.897148\n",
              "         ...   \n",
              "195   -1.493576\n",
              "196    1.800397\n",
              "197   -1.992086\n",
              "198    2.795370\n",
              "199   -1.448195\n",
              "Name: Sales, Length: 200, dtype: float64"
            ]
          },
          "metadata": {},
          "execution_count": 12
        }
      ]
    },
    {
      "cell_type": "code",
      "source": [],
      "metadata": {
        "id": "leRtIndQ3Ed7"
      },
      "execution_count": null,
      "outputs": []
    },
    {
      "cell_type": "markdown",
      "source": [
        "Soma dos Resíduos ao Quadrado - MSE"
      ],
      "metadata": {
        "id": "In9_ZIFE3S2I"
      }
    },
    {
      "cell_type": "code",
      "source": [
        "mse = mean_squared_error(y, y_pred)"
      ],
      "metadata": {
        "id": "GRExJMrT3ryM"
      },
      "execution_count": 15,
      "outputs": []
    },
    {
      "cell_type": "code",
      "source": [
        "np.sqrt(mse)"
      ],
      "metadata": {
        "colab": {
          "base_uri": "https://localhost:8080/"
        },
        "id": "pXHaXvEv33M0",
        "outputId": "83d61522-10bf-4525-fdb4-0088285d7e26"
      },
      "execution_count": 16,
      "outputs": [
        {
          "output_type": "execute_result",
          "data": {
            "text/plain": [
              "2.2842381438447106"
            ]
          },
          "metadata": {},
          "execution_count": 16
        }
      ]
    },
    {
      "cell_type": "code",
      "source": [
        "# Root Mean Squared Error"
      ],
      "metadata": {
        "id": "4Ax0hd657UvZ"
      },
      "execution_count": null,
      "outputs": []
    },
    {
      "cell_type": "code",
      "source": [
        "1 - 0.1 "
      ],
      "metadata": {
        "colab": {
          "base_uri": "https://localhost:8080/"
        },
        "id": "0HEE7tcI4eQG",
        "outputId": "094edcf8-447f-46d9-ad99-1e60e890a54d"
      },
      "execution_count": 17,
      "outputs": [
        {
          "output_type": "execute_result",
          "data": {
            "text/plain": [
              "0.9"
            ]
          },
          "metadata": {},
          "execution_count": 17
        }
      ]
    },
    {
      "cell_type": "code",
      "source": [
        "from sklearn.metrics import r2_score"
      ],
      "metadata": {
        "id": "ScM5otmi5Zz4"
      },
      "execution_count": 18,
      "outputs": []
    },
    {
      "cell_type": "code",
      "source": [
        "r2_score(y, y_pred)"
      ],
      "metadata": {
        "colab": {
          "base_uri": "https://localhost:8080/"
        },
        "id": "SZMwdH6V5mpN",
        "outputId": "04e6469c-b41e-46bf-83bf-94e316101ffb"
      },
      "execution_count": 22,
      "outputs": [
        {
          "output_type": "execute_result",
          "data": {
            "text/plain": [
              "0.8121757029987414"
            ]
          },
          "metadata": {},
          "execution_count": 22
        }
      ]
    },
    {
      "cell_type": "code",
      "source": [
        "model.score(X, y)"
      ],
      "metadata": {
        "colab": {
          "base_uri": "https://localhost:8080/"
        },
        "id": "VbRXbePK5psC",
        "outputId": "43ce239b-af5f-41f7-f3e6-80daa74e92d5"
      },
      "execution_count": 20,
      "outputs": [
        {
          "output_type": "execute_result",
          "data": {
            "text/plain": [
              "0.8121757029987414"
            ]
          },
          "metadata": {},
          "execution_count": 20
        }
      ]
    },
    {
      "cell_type": "code",
      "source": [
        "df.head()"
      ],
      "metadata": {
        "colab": {
          "base_uri": "https://localhost:8080/",
          "height": 206
        },
        "id": "hwmTFpbj53Jq",
        "outputId": "d5460305-2a13-4608-a081-e5a7614eadd0"
      },
      "execution_count": 23,
      "outputs": [
        {
          "output_type": "execute_result",
          "data": {
            "text/plain": [
              "      TV  Radio  Newspaper  Sales\n",
              "0  230.1   37.8       69.2   22.1\n",
              "1   44.5   39.3       45.1   10.4\n",
              "2   17.2   45.9       69.3   12.0\n",
              "3  151.5   41.3       58.5   16.5\n",
              "4  180.8   10.8       58.4   17.9"
            ],
            "text/html": [
              "\n",
              "  <div id=\"df-07e36e77-984e-4954-90ab-71ff7ddb5d9d\">\n",
              "    <div class=\"colab-df-container\">\n",
              "      <div>\n",
              "<style scoped>\n",
              "    .dataframe tbody tr th:only-of-type {\n",
              "        vertical-align: middle;\n",
              "    }\n",
              "\n",
              "    .dataframe tbody tr th {\n",
              "        vertical-align: top;\n",
              "    }\n",
              "\n",
              "    .dataframe thead th {\n",
              "        text-align: right;\n",
              "    }\n",
              "</style>\n",
              "<table border=\"1\" class=\"dataframe\">\n",
              "  <thead>\n",
              "    <tr style=\"text-align: right;\">\n",
              "      <th></th>\n",
              "      <th>TV</th>\n",
              "      <th>Radio</th>\n",
              "      <th>Newspaper</th>\n",
              "      <th>Sales</th>\n",
              "    </tr>\n",
              "  </thead>\n",
              "  <tbody>\n",
              "    <tr>\n",
              "      <th>0</th>\n",
              "      <td>230.1</td>\n",
              "      <td>37.8</td>\n",
              "      <td>69.2</td>\n",
              "      <td>22.1</td>\n",
              "    </tr>\n",
              "    <tr>\n",
              "      <th>1</th>\n",
              "      <td>44.5</td>\n",
              "      <td>39.3</td>\n",
              "      <td>45.1</td>\n",
              "      <td>10.4</td>\n",
              "    </tr>\n",
              "    <tr>\n",
              "      <th>2</th>\n",
              "      <td>17.2</td>\n",
              "      <td>45.9</td>\n",
              "      <td>69.3</td>\n",
              "      <td>12.0</td>\n",
              "    </tr>\n",
              "    <tr>\n",
              "      <th>3</th>\n",
              "      <td>151.5</td>\n",
              "      <td>41.3</td>\n",
              "      <td>58.5</td>\n",
              "      <td>16.5</td>\n",
              "    </tr>\n",
              "    <tr>\n",
              "      <th>4</th>\n",
              "      <td>180.8</td>\n",
              "      <td>10.8</td>\n",
              "      <td>58.4</td>\n",
              "      <td>17.9</td>\n",
              "    </tr>\n",
              "  </tbody>\n",
              "</table>\n",
              "</div>\n",
              "      <button class=\"colab-df-convert\" onclick=\"convertToInteractive('df-07e36e77-984e-4954-90ab-71ff7ddb5d9d')\"\n",
              "              title=\"Convert this dataframe to an interactive table.\"\n",
              "              style=\"display:none;\">\n",
              "        \n",
              "  <svg xmlns=\"http://www.w3.org/2000/svg\" height=\"24px\"viewBox=\"0 0 24 24\"\n",
              "       width=\"24px\">\n",
              "    <path d=\"M0 0h24v24H0V0z\" fill=\"none\"/>\n",
              "    <path d=\"M18.56 5.44l.94 2.06.94-2.06 2.06-.94-2.06-.94-.94-2.06-.94 2.06-2.06.94zm-11 1L8.5 8.5l.94-2.06 2.06-.94-2.06-.94L8.5 2.5l-.94 2.06-2.06.94zm10 10l.94 2.06.94-2.06 2.06-.94-2.06-.94-.94-2.06-.94 2.06-2.06.94z\"/><path d=\"M17.41 7.96l-1.37-1.37c-.4-.4-.92-.59-1.43-.59-.52 0-1.04.2-1.43.59L10.3 9.45l-7.72 7.72c-.78.78-.78 2.05 0 2.83L4 21.41c.39.39.9.59 1.41.59.51 0 1.02-.2 1.41-.59l7.78-7.78 2.81-2.81c.8-.78.8-2.07 0-2.86zM5.41 20L4 18.59l7.72-7.72 1.47 1.35L5.41 20z\"/>\n",
              "  </svg>\n",
              "      </button>\n",
              "      \n",
              "  <style>\n",
              "    .colab-df-container {\n",
              "      display:flex;\n",
              "      flex-wrap:wrap;\n",
              "      gap: 12px;\n",
              "    }\n",
              "\n",
              "    .colab-df-convert {\n",
              "      background-color: #E8F0FE;\n",
              "      border: none;\n",
              "      border-radius: 50%;\n",
              "      cursor: pointer;\n",
              "      display: none;\n",
              "      fill: #1967D2;\n",
              "      height: 32px;\n",
              "      padding: 0 0 0 0;\n",
              "      width: 32px;\n",
              "    }\n",
              "\n",
              "    .colab-df-convert:hover {\n",
              "      background-color: #E2EBFA;\n",
              "      box-shadow: 0px 1px 2px rgba(60, 64, 67, 0.3), 0px 1px 3px 1px rgba(60, 64, 67, 0.15);\n",
              "      fill: #174EA6;\n",
              "    }\n",
              "\n",
              "    [theme=dark] .colab-df-convert {\n",
              "      background-color: #3B4455;\n",
              "      fill: #D2E3FC;\n",
              "    }\n",
              "\n",
              "    [theme=dark] .colab-df-convert:hover {\n",
              "      background-color: #434B5C;\n",
              "      box-shadow: 0px 1px 3px 1px rgba(0, 0, 0, 0.15);\n",
              "      filter: drop-shadow(0px 1px 2px rgba(0, 0, 0, 0.3));\n",
              "      fill: #FFFFFF;\n",
              "    }\n",
              "  </style>\n",
              "\n",
              "      <script>\n",
              "        const buttonEl =\n",
              "          document.querySelector('#df-07e36e77-984e-4954-90ab-71ff7ddb5d9d button.colab-df-convert');\n",
              "        buttonEl.style.display =\n",
              "          google.colab.kernel.accessAllowed ? 'block' : 'none';\n",
              "\n",
              "        async function convertToInteractive(key) {\n",
              "          const element = document.querySelector('#df-07e36e77-984e-4954-90ab-71ff7ddb5d9d');\n",
              "          const dataTable =\n",
              "            await google.colab.kernel.invokeFunction('convertToInteractive',\n",
              "                                                     [key], {});\n",
              "          if (!dataTable) return;\n",
              "\n",
              "          const docLinkHtml = 'Like what you see? Visit the ' +\n",
              "            '<a target=\"_blank\" href=https://colab.research.google.com/notebooks/data_table.ipynb>data table notebook</a>'\n",
              "            + ' to learn more about interactive tables.';\n",
              "          element.innerHTML = '';\n",
              "          dataTable['output_type'] = 'display_data';\n",
              "          await google.colab.output.renderOutput(dataTable, element);\n",
              "          const docLink = document.createElement('div');\n",
              "          docLink.innerHTML = docLinkHtml;\n",
              "          element.appendChild(docLink);\n",
              "        }\n",
              "      </script>\n",
              "    </div>\n",
              "  </div>\n",
              "  "
            ]
          },
          "metadata": {},
          "execution_count": 23
        }
      ]
    },
    {
      "cell_type": "code",
      "source": [],
      "metadata": {
        "id": "c3HbXtLS_r4R"
      },
      "execution_count": null,
      "outputs": []
    },
    {
      "cell_type": "markdown",
      "source": [
        "# Influência de Newspaper em Sales"
      ],
      "metadata": {
        "id": "oeRHoLmY_sXA"
      }
    },
    {
      "cell_type": "code",
      "source": [
        "sns.regplot(df['Newspaper'], df['Sales'])"
      ],
      "metadata": {
        "colab": {
          "base_uri": "https://localhost:8080/",
          "height": 354
        },
        "id": "jMxZ-Mme7tX4",
        "outputId": "057a514f-ffc9-42ac-f079-cec373d9c95e"
      },
      "execution_count": 24,
      "outputs": [
        {
          "output_type": "stream",
          "name": "stderr",
          "text": [
            "/usr/local/lib/python3.7/dist-packages/seaborn/_decorators.py:43: FutureWarning: Pass the following variables as keyword args: x, y. From version 0.12, the only valid positional argument will be `data`, and passing other arguments without an explicit keyword will result in an error or misinterpretation.\n",
            "  FutureWarning\n"
          ]
        },
        {
          "output_type": "execute_result",
          "data": {
            "text/plain": [
              "<matplotlib.axes._subplots.AxesSubplot at 0x7f0c9831b8d0>"
            ]
          },
          "metadata": {},
          "execution_count": 24
        },
        {
          "output_type": "display_data",
          "data": {
            "text/plain": [
              "<Figure size 432x288 with 1 Axes>"
            ],
            "image/png": "[encoded data removed]"
          },
          "metadata": {
            "needs_background": "light"
          }
        }
      ]
    },
    {
      "cell_type": "code",
      "source": [
        "model = LinearRegression()"
      ],
      "metadata": {
        "id": "P3n52buA8I4R"
      },
      "execution_count": 44,
      "outputs": []
    },
    {
      "cell_type": "code",
      "source": [
        "X = df[['Newspaper']]\n",
        "y = df['Sales']"
      ],
      "metadata": {
        "id": "-FYz4AJmA6KU"
      },
      "execution_count": 45,
      "outputs": []
    },
    {
      "cell_type": "code",
      "source": [
        "model.fit(X, y)"
      ],
      "metadata": {
        "colab": {
          "base_uri": "https://localhost:8080/"
        },
        "id": "eZsoj9AY8cE_",
        "outputId": "ba1859e9-8861-47bb-84c0-a7062ca34b45"
      },
      "execution_count": 46,
      "outputs": [
        {
          "output_type": "execute_result",
          "data": {
            "text/plain": [
              "LinearRegression()"
            ]
          },
          "metadata": {},
          "execution_count": 46
        }
      ]
    },
    {
      "cell_type": "code",
      "source": [
        "model.coef_"
      ],
      "metadata": {
        "colab": {
          "base_uri": "https://localhost:8080/"
        },
        "id": "zrxMi69G9LZY",
        "outputId": "6c685081-ddbc-4514-e4dc-2b57991970b4"
      },
      "execution_count": 47,
      "outputs": [
        {
          "output_type": "execute_result",
          "data": {
            "text/plain": [
              "array([0.038324])"
            ]
          },
          "metadata": {},
          "execution_count": 47
        }
      ]
    },
    {
      "cell_type": "code",
      "source": [
        "model.intercept_"
      ],
      "metadata": {
        "colab": {
          "base_uri": "https://localhost:8080/"
        },
        "id": "j1zdh4y39Lar",
        "outputId": "394f5491-6f2c-48e5-c941-93385f2e429b"
      },
      "execution_count": 48,
      "outputs": [
        {
          "output_type": "execute_result",
          "data": {
            "text/plain": [
              "13.959548653554414"
            ]
          },
          "metadata": {},
          "execution_count": 48
        }
      ]
    },
    {
      "cell_type": "code",
      "source": [
        "y_pred = model.predict(X)"
      ],
      "metadata": {
        "id": "y-zmGI1x-LeA"
      },
      "execution_count": 49,
      "outputs": []
    },
    {
      "cell_type": "code",
      "source": [
        "from sklearn.metrics import  mean_squared_error"
      ],
      "metadata": {
        "id": "ITjyx7Mb3WX1"
      },
      "execution_count": 13,
      "outputs": []
    },
    {
      "cell_type": "code",
      "source": [
        "mse = mean_squared_error(y, y_pred)"
      ],
      "metadata": {
        "id": "Y9l9H2IaPPjJ"
      },
      "execution_count": 51,
      "outputs": []
    },
    {
      "cell_type": "code",
      "source": [
        "np.sqrt(mse)"
      ],
      "metadata": {
        "colab": {
          "base_uri": "https://localhost:8080/"
        },
        "id": "GwyH5DWUPbLs",
        "outputId": "32916f32-6830-41ab-d925-5c751fe28178"
      },
      "execution_count": 52,
      "outputs": [
        {
          "output_type": "execute_result",
          "data": {
            "text/plain": [
              "5.204495431601131"
            ]
          },
          "metadata": {},
          "execution_count": 52
        }
      ]
    },
    {
      "cell_type": "code",
      "source": [
        "model.score(X, y)"
      ],
      "metadata": {
        "colab": {
          "base_uri": "https://localhost:8080/"
        },
        "id": "yU6aXGrxPknO",
        "outputId": "a18d488a-d77f-429f-833f-f23c9a59550a"
      },
      "execution_count": 53,
      "outputs": [
        {
          "output_type": "execute_result",
          "data": {
            "text/plain": [
              "0.024951369862864836"
            ]
          },
          "metadata": {},
          "execution_count": 53
        }
      ]
    },
    {
      "cell_type": "markdown",
      "source": [
        "# Regressão Múltipla"
      ],
      "metadata": {
        "id": "O0CVPV0ZQwg6"
      }
    },
    {
      "cell_type": "code",
      "source": [
        "X = df[['TV', 'Radio']]"
      ],
      "metadata": {
        "id": "OQjpiSd6Qj1J"
      },
      "execution_count": 54,
      "outputs": []
    },
    {
      "cell_type": "code",
      "source": [
        "type(X)"
      ],
      "metadata": {
        "colab": {
          "base_uri": "https://localhost:8080/"
        },
        "id": "J96p_JwVRBad",
        "outputId": "9ab13067-db19-4263-fc4a-06b3e64fbba5"
      },
      "execution_count": 55,
      "outputs": [
        {
          "output_type": "execute_result",
          "data": {
            "text/plain": [
              "pandas.core.frame.DataFrame"
            ]
          },
          "metadata": {},
          "execution_count": 55
        }
      ]
    },
    {
      "cell_type": "code",
      "source": [
        "X"
      ],
      "metadata": {
        "colab": {
          "base_uri": "https://localhost:8080/",
          "height": 423
        },
        "id": "nHBYlMdwREEu",
        "outputId": "5dd27d84-aab2-40b8-88a7-e520c143d67f"
      },
      "execution_count": 56,
      "outputs": [
        {
          "output_type": "execute_result",
          "data": {
            "text/plain": [
              "        TV  Radio\n",
              "0    230.1   37.8\n",
              "1     44.5   39.3\n",
              "2     17.2   45.9\n",
              "3    151.5   41.3\n",
              "4    180.8   10.8\n",
              "..     ...    ...\n",
              "195   38.2    3.7\n",
              "196   94.2    4.9\n",
              "197  177.0    9.3\n",
              "198  283.6   42.0\n",
              "199  232.1    8.6\n",
              "\n",
              "[200 rows x 2 columns]"
            ],
            "text/html": [
              "\n",
              "  <div id=\"df-cd0dd28c-1e6c-4c5a-97c5-4b04cb0a61f1\">\n",
              "    <div class=\"colab-df-container\">\n",
              "      <div>\n",
              "<style scoped>\n",
              "    .dataframe tbody tr th:only-of-type {\n",
              "        vertical-align: middle;\n",
              "    }\n",
              "\n",
              "    .dataframe tbody tr th {\n",
              "        vertical-align: top;\n",
              "    }\n",
              "\n",
              "    .dataframe thead th {\n",
              "        text-align: right;\n",
              "    }\n",
              "</style>\n",
              "<table border=\"1\" class=\"dataframe\">\n",
              "  <thead>\n",
              "    <tr style=\"text-align: right;\">\n",
              "      <th></th>\n",
              "      <th>TV</th>\n",
              "      <th>Radio</th>\n",
              "    </tr>\n",
              "  </thead>\n",
              "  <tbody>\n",
              "    <tr>\n",
              "      <th>0</th>\n",
              "      <td>230.1</td>\n",
              "      <td>37.8</td>\n",
              "    </tr>\n",
              "    <tr>\n",
              "      <th>1</th>\n",
              "      <td>44.5</td>\n",
              "      <td>39.3</td>\n",
              "    </tr>\n",
              "    <tr>\n",
              "      <th>2</th>\n",
              "      <td>17.2</td>\n",
              "      <td>45.9</td>\n",
              "    </tr>\n",
              "    <tr>\n",
              "      <th>3</th>\n",
              "      <td>151.5</td>\n",
              "      <td>41.3</td>\n",
              "    </tr>\n",
              "    <tr>\n",
              "      <th>4</th>\n",
              "      <td>180.8</td>\n",
              "      <td>10.8</td>\n",
              "    </tr>\n",
              "    <tr>\n",
              "      <th>...</th>\n",
              "      <td>...</td>\n",
              "      <td>...</td>\n",
              "    </tr>\n",
              "    <tr>\n",
              "      <th>195</th>\n",
              "      <td>38.2</td>\n",
              "      <td>3.7</td>\n",
              "    </tr>\n",
              "    <tr>\n",
              "      <th>196</th>\n",
              "      <td>94.2</td>\n",
              "      <td>4.9</td>\n",
              "    </tr>\n",
              "    <tr>\n",
              "      <th>197</th>\n",
              "      <td>177.0</td>\n",
              "      <td>9.3</td>\n",
              "    </tr>\n",
              "    <tr>\n",
              "      <th>198</th>\n",
              "      <td>283.6</td>\n",
              "      <td>42.0</td>\n",
              "    </tr>\n",
              "    <tr>\n",
              "      <th>199</th>\n",
              "      <td>232.1</td>\n",
              "      <td>8.6</td>\n",
              "    </tr>\n",
              "  </tbody>\n",
              "</table>\n",
              "<p>200 rows × 2 columns</p>\n",
              "</div>\n",
              "      <button class=\"colab-df-convert\" onclick=\"convertToInteractive('df-cd0dd28c-1e6c-4c5a-97c5-4b04cb0a61f1')\"\n",
              "              title=\"Convert this dataframe to an interactive table.\"\n",
              "              style=\"display:none;\">\n",
              "        \n",
              "  <svg xmlns=\"http://www.w3.org/2000/svg\" height=\"24px\"viewBox=\"0 0 24 24\"\n",
              "       width=\"24px\">\n",
              "    <path d=\"M0 0h24v24H0V0z\" fill=\"none\"/>\n",
              "    <path d=\"M18.56 5.44l.94 2.06.94-2.06 2.06-.94-2.06-.94-.94-2.06-.94 2.06-2.06.94zm-11 1L8.5 8.5l.94-2.06 2.06-.94-2.06-.94L8.5 2.5l-.94 2.06-2.06.94zm10 10l.94 2.06.94-2.06 2.06-.94-2.06-.94-.94-2.06-.94 2.06-2.06.94z\"/><path d=\"M17.41 7.96l-1.37-1.37c-.4-.4-.92-.59-1.43-.59-.52 0-1.04.2-1.43.59L10.3 9.45l-7.72 7.72c-.78.78-.78 2.05 0 2.83L4 21.41c.39.39.9.59 1.41.59.51 0 1.02-.2 1.41-.59l7.78-7.78 2.81-2.81c.8-.78.8-2.07 0-2.86zM5.41 20L4 18.59l7.72-7.72 1.47 1.35L5.41 20z\"/>\n",
              "  </svg>\n",
              "      </button>\n",
              "      \n",
              "  <style>\n",
              "    .colab-df-container {\n",
              "      display:flex;\n",
              "      flex-wrap:wrap;\n",
              "      gap: 12px;\n",
              "    }\n",
              "\n",
              "    .colab-df-convert {\n",
              "      background-color: #E8F0FE;\n",
              "      border: none;\n",
              "      border-radius: 50%;\n",
              "      cursor: pointer;\n",
              "      display: none;\n",
              "      fill: #1967D2;\n",
              "      height: 32px;\n",
              "      padding: 0 0 0 0;\n",
              "      width: 32px;\n",
              "    }\n",
              "\n",
              "    .colab-df-convert:hover {\n",
              "      background-color: #E2EBFA;\n",
              "      box-shadow: 0px 1px 2px rgba(60, 64, 67, 0.3), 0px 1px 3px 1px rgba(60, 64, 67, 0.15);\n",
              "      fill: #174EA6;\n",
              "    }\n",
              "\n",
              "    [theme=dark] .colab-df-convert {\n",
              "      background-color: #3B4455;\n",
              "      fill: #D2E3FC;\n",
              "    }\n",
              "\n",
              "    [theme=dark] .colab-df-convert:hover {\n",
              "      background-color: #434B5C;\n",
              "      box-shadow: 0px 1px 3px 1px rgba(0, 0, 0, 0.15);\n",
              "      filter: drop-shadow(0px 1px 2px rgba(0, 0, 0, 0.3));\n",
              "      fill: #FFFFFF;\n",
              "    }\n",
              "  </style>\n",
              "\n",
              "      <script>\n",
              "        const buttonEl =\n",
              "          document.querySelector('#df-cd0dd28c-1e6c-4c5a-97c5-4b04cb0a61f1 button.colab-df-convert');\n",
              "        buttonEl.style.display =\n",
              "          google.colab.kernel.accessAllowed ? 'block' : 'none';\n",
              "\n",
              "        async function convertToInteractive(key) {\n",
              "          const element = document.querySelector('#df-cd0dd28c-1e6c-4c5a-97c5-4b04cb0a61f1');\n",
              "          const dataTable =\n",
              "            await google.colab.kernel.invokeFunction('convertToInteractive',\n",
              "                                                     [key], {});\n",
              "          if (!dataTable) return;\n",
              "\n",
              "          const docLinkHtml = 'Like what you see? Visit the ' +\n",
              "            '<a target=\"_blank\" href=https://colab.research.google.com/notebooks/data_table.ipynb>data table notebook</a>'\n",
              "            + ' to learn more about interactive tables.';\n",
              "          element.innerHTML = '';\n",
              "          dataTable['output_type'] = 'display_data';\n",
              "          await google.colab.output.renderOutput(dataTable, element);\n",
              "          const docLink = document.createElement('div');\n",
              "          docLink.innerHTML = docLinkHtml;\n",
              "          element.appendChild(docLink);\n",
              "        }\n",
              "      </script>\n",
              "    </div>\n",
              "  </div>\n",
              "  "
            ]
          },
          "metadata": {},
          "execution_count": 56
        }
      ]
    },
    {
      "cell_type": "code",
      "source": [
        "y = df['Sales']"
      ],
      "metadata": {
        "id": "1ZxJ222HRFj0"
      },
      "execution_count": 57,
      "outputs": []
    },
    {
      "cell_type": "code",
      "source": [
        "model = LinearRegression()"
      ],
      "metadata": {
        "id": "yqgyaQVnRTLy"
      },
      "execution_count": 58,
      "outputs": []
    },
    {
      "cell_type": "code",
      "source": [
        "model.fit(X, y)"
      ],
      "metadata": {
        "colab": {
          "base_uri": "https://localhost:8080/"
        },
        "id": "hUWDYgz8RanT",
        "outputId": "dd3283dd-9711-4598-f093-806078a1ae74"
      },
      "execution_count": 59,
      "outputs": [
        {
          "output_type": "execute_result",
          "data": {
            "text/plain": [
              "LinearRegression()"
            ]
          },
          "metadata": {},
          "execution_count": 59
        }
      ]
    },
    {
      "cell_type": "code",
      "source": [],
      "metadata": {
        "id": "Fxk0rx_pRhpZ"
      },
      "execution_count": null,
      "outputs": []
    },
    {
      "cell_type": "markdown",
      "source": [
        "![image.png](data:image/png;base64,iVBORw0KGgoAAAANSUhEUgAABUAAAAVACAIAAAAGZGVsAAAgAElEQVR4nOzd25Nd2X0f9nVc/gNScRzZsCzREkDZFCmLpmRZgBNbcVKpwZAczAyA4ZAcUn4BpCSqGaeiNz/yJaVUNPBFNvBikTOcC+aGIYeDUjmObMuALFEUY1uWRAGSrFiGZStO5T/oPOzTu/fZ67LX3ufSZ3d/Pg8SpvvstdY5DQL4rt+6LA4ODgIAAACw3/7IcQ8AAAAAGCbAAwAAwAwI8AAAADADAjwAAADMgAAPAAAAMyDAAwAAwAwI8AAAADADAjwAAADMgAAPAAAAMyDAAwAAwAwI8AAAADADAjwAAADMgAAPAAAAMyDAAwAAwAwI8AAAADADAjwAAADMgAAPAAAAMyDAAwAAwAwI8AAAADADAjwAAADMgAAPAAAAMyDAAwAAwAwI8AAAADADAjwAAADMgAAPAAAAMyDAAwAAwAwI8AAAADADAjwAAADMgAAPAAAAMyDAAwAAwAwI8AAAADADAjwAAADMgAAPAAAAMyDAAwAAwAwI8AAAADADAjwAAADMgAAPAAAAMyDAAwAAwAwI8AAAADADAjwAAADMgAAPAAAAMyDAAwAAwAwI8AAAADADAjwAAADMgAAPAAAAMyDAAwAAwAwI8AAAADADAjwAAADMgAAPAAAAMyDAAwAAwAwI8AAAADADAjwAAADMgAAPAAAAMyDAAwAAwAwI8AAAADADAjwAAADMgAAPAAAAMyDAAwAAwAwI8AAAADADAjwAAADMgAAPAAAAMyDAAwAAwAwI8AAAADADAjwAAADMgAAPAAAAMyDAA0CVu9cXSdfvbq2LDTZ9rB7evX79xsPUd3rv+EL6VdNtu30A2CkBHgBq3L1zK/2NW1+QCrMe3r1x/cLi3MVbv3bcIwGAE0CAB4AK2fwewv3bX5PgYw/v3rh+4dzFF27dP+6RAMBJIcADwKCHN76Qze8SfNLdn5LdAWDDBHgAGPLwa7dXouj5a9dWvi/BT/XYzYOue8+fnVf7ALBTAjwADIjy+9WfvCTBAwC7JsADQFmc3x8/+5gEDwDsmgAPAEWp/B7C9AT/8O6N6xcudK42u3D97sPys2Oul6u6OO1hfxCLCxcuXL9RGsfDGxfidh92W2laOOz/4uqhAfdfOJcafu01bw/v3rh+/cLKiBeLCxcuXLh+48bdwoc31P7q99tvR59P897y/XTH2R1m97neJ3hS7ggEYKcOAIC8By+eX/mL8/yLD5pvvL+a4I++UWjr/WurjXWevvb+g6jJa+9nBtF+o3q0nTG8mBvD0UCGWz7/YvrNXOsdD5DSGX3vHac+w/5bSg868+EPtb/6/fMvPij9jAZ+xoWBnn/xQfT97M8QALJU4AGgIF1/DyFRg3/hp4o11Yc3Lpy7mD2X/f6ti+cufCF3W/rZx6+uhL9bd9Jd9Ud77W+untr28MaFcxdfKJ4Nf//WxXPZQnjH7c+n3sy1S5cGnxzj7vUL58rjDSGEcP/WC1WDHvLrP1X6GYVwP9vN3euLwkDvv3Duwo0Haw8PgFNPgAeAvHx+jxN8NlaHEMLDG58fDKL372dfESX4L6RyZJTfLz3W/c+712vCcAjh/gvnhhZ4J8d6/sWffCz+6nR3r5fSdH9EL3x+3Qh//9Zwd6l5moc3LlwsXDO4fG5g5gQAhgnwAJBVyu9jEnwivp+/9mK7Vn1oWXsI4ezzf3Ols9Se+3J+v3u9FzLPX3v/wdEIegvHb10cv0f7/NXHz7YXtxUWr9+sTPl376wO+NqLDzor2B9EYx5aA1Gr86NJ/WSin/Ldn0r8cPMfLQBMJsADQE45v9cn+H47IVx7/97N5x87bOzsY8/fizbA9/U6ixN8r5deObyXhs+/+ODezcfOHo3g5r3eHu3SeoK2lZUN8xu+Zf3hb63sKDj/4k8+f7bTwdmzj9289/61EM6fv3btxRfff//Bg+qpgYLzLz7o/GjOPvb8vYEfzMMbX+hV36+9f+/m86WPFgAmEuABIKNfWe3n99oEH+X3a+8nkuZjPzmQ8gYSfD+/rw62l9/7m+NDiIv8gwn+/ItfvPnYRjN7yf0XPh8fBP/YzYODe/du3nz++cceO7uJoSQ+mOiH/Gu/1RlG1Q/37PNfFOEB2AABHgDS+iu44/xemeAf/Hov4l1KFor7+9wjvYi/umJ8VH4//6FzqQ7OfWhlACtBNZaaBNik6PO4/8LFc8u72a7fuDt0994kyQ+m97Gs2tQPFwAqCPAAkFST36sSfG8peC49h3D2gx8uD6lwGH0vv/fCdX8I3VvZO3pn3N3/9dLB6dm3sTG50Hv//q1bL1y8eO5c/6b19X34gyPnJDb3wwWAYQI8AKTU5feRZ9EPKJZ6Qygk+N5q/0wZeKxiCX501h3v7PP3Bk+Au3//1gsXzy0WF65vLsb3h7GR7D34wwWAQQI8ACT083uuaL1YRBeIpa9424zMPvX+DvfN5Pei7RfgQwghPHbz3oP3X6w4x732/vqiHb0pAJhIgAeAWJTfx+gdL1dfwO3vp07pVfxv3bnbH23FbezdS90KNnys/ERnH3v+5r3m3rgXr50vRflN3SO3FTU/XAAoE+ABILJWfk9f0t75bm5reX8/dVqc4O+uPJda638iNmCfPfvY8zfv3WvugH/w/oupNL/G/oWJg+p9smv+cAGgSIAHgL4183s/wfe3yVffFp/WO4z+1he+0H0uvVe/twG7PMOwNx4+fHj37o3r1y9cuLBYWR5/9uzZx55//ua9ewf9G9YHTs7fvA3/cAGgRIAHgJ4ov197f2ix+fu9k+xWE3L//LJbF69HKe/hjc+/UBnxekfZ3b8/mN+j0+/uv/D5eL/43evNFW3NHW3HnfDvXl+cO3fu4sUXbt26f/9+7fL4HRyt17PhHy4AFAjwALAqzu/DZ8JFZ9GvJPj+0XMh3LrYvf3s4d3rF86NSHhxe+1Qc3ezR4/cf+Fc5+D2hw9vXL9w8VZzRVtzR9v6R8KtdHf7a01nDx9WXuAeH+9/cXFh5ca4h3dvXO8F42M4hS7zwz18kw/H/nABIE+AB4Cuhze+MD6/DyX4/rL3EMLy9rPm/vWLt0YGvKi74aGmhnA0gnMv9IeQnQuo0y9M31++3XPnLn6+bv3+Yzf76xraRg4/tv6g1xzzRMkf7rlzh5/s6B8uAOQI8ADQEe9VrryTbSDB11xpHs5fq7gvLdNdCENDrRrC4UhefHBzvavo+ov2p3jsZn+Le8n6Y57q7PP3ormGvmvXhl4BAIMEeAA4Mjm/pxJ8b9f2YzfvPSjcaH7+xQf3fvJDdX2FVNm34vq4x27eezAY4s9fe//BBi6QO/v838z0lD2pPdVI3TXwGxrzdI/dLHyw56+9/+DmpZ2OB4CTSYAHgNYa+T1VFI9OJD/7/M17Dx68v3L/2fnz1158/8GD0Zeu90vcmeProsceu3nv8Er11efbgdx8bDNJ+LGb9/pXt58/f/7atRcvjdmo3lwDv7w2bjUin9/8mKdrPtjV99sMbx9GB8DJsDg4ODjuMQAAnHB3ry8udk5XOP/i8S4ZAGCW/uhxDwAAYL4e3rhw7nY4/+EPf/hDly598Ny5c2fPyuUAbIkADwCwlvv379+/fz/cairsyeJ673LCyg0PALDCHngAgMni4/bvv/D56yv31T+8e/3CxdXLCT/8QfkdgPHsgQcAWMPDGxfOvTDqrncb4AGYRgUeAGANZ5//4ojr6kM4/+IXpXcAJhHgAQDWcvb5e4Vr4LuO/cJ6AGbNEnoAgM14ePfGT925/Wu/Fu7f766pP3/+/Ic/fPXSTz7+mBPqAViHAA8AAAAzYAk9AAAAzIAADwAAADMgwAMAAMAMCPAAAAAwAwI8AAAAzIAADwAAADMgwAMAAMAMCPAAAAAwAwI8AAAAzIAADwAAADMgwAMAAMAMCPAAAAAwAwI8AAAAzIAADwAAADMgwAMAAMAMCPAAAAAwAwI8AAAAzIAADwAAADMgwAMAAMAMCPAAAAAwAwI8AAAAzIAADwAAADMgwAMAAMAMCPAAAAAwAwI8AAAAzIAADwAAADMgwAMAAMAMCPAAAAAwAwI8AAAAzIAADwAAADMgwAMAAMAMCPAAAAAwAwI8AAAAzIAADwAAADMgwAMAAMAMCPAAAAAwAwI8AAAAzIAADwAAADMgwAMAAMAMCPAAAAAwAwI8AAAAzIAADwAAADMgwAMAAMAMCPAAAAAwAwI8AAAAzIAADwAAADMgwAMAAMAMCPAAAAAwAwI8AAAAzIAADwAAADMgwAMAAMAMCPAAAAAwAwI8AAAAzIAADwAAADMgwAMAAMAMCPAAAAAwAwI8AAAAzIAADwAAADMgwAMAAMAMCPAAAAAwAwI8AAAAzIAADwAAADMgwAMAAMAMCPAAAAAwAwI8AAAAzIAADwAAADMgwAMAAMAMCPAAAAAwAwI8AAAAzIAADwAAADMgwAMAAMAMCPAAAAAwAwI8AAAAzIAADwAAADMgwAMAAMAMCPAAAAAwAwI8AAAAzIAADwAAADMgwAMAAMAMCPAAAAAwAwI8AAAAzIAADwAAADMgwAMAAMAMCPAAAAAwAwI8AAAAzIAADwAAADMgwAMAAMAMCPAAAAAwAwI8AAAAzIAADwAAADMgwAMAAMAMCPAAAMBeWywWxz0E2AuLg4OD4x4DAABwwq0fwiUX+KPHPQAAAGA2FMPhGKnAAwDA6XJcIXyd6NGMWXjhlFOBBwCA+TnGSvgxpujFQgGSU83/AAAA4NjMsRh+XNrPao6Dh41QgQcAgLUI4btxcHBgBz6nnAo8AACEIIfPhM3wnGYq8AAAnBxC+ClhMzynkwAPAMB+OZ3Hs1HJQnpOMxNXAABshWI422MhPaeTCjwAAFlCOPvMQnpOG7/jAQBOOCvSOZHcKscppAIPADAPiuHQZTM8p5AKPADA7gjhsFk2w3OqqMADAIxjRTrsG5vhOSUEeADglFIMhxPAQnpOFTNVAMCMCeFAsJCeU0MFHgA4fnI4sD4L6Tnx/BYHADZDCAeOkVvlOA1U4AGAI45nA2bKZnhOAxV4ADiBFMOB08lmeE42FXgA2FNCOMA0NsNzUgnwALBFVqQD7JKF9JxspqYAYJhiOMCMWEjPSaUCD8BpIYQDnCoW0nPy+D0NwMzI4QAMcqscJ5IKPADHQAgHYKtshudEUoEHYCLHswGw52yG54RRgQc47RTDATjZbIbnxBDgAU4CIRwAYhbSc8KYiwLYF1akA8A2WEjPiaECD7BhiuEAsIcspOcE8JsYIEEIB4CTxK1ynAwq8MCJZUU6ANCwGZ6TQQUe2HeK4QDARtgMz9ypwAO7IIQDAHvCZnjmS4AHRpDDAYD5spCeuTP5BKeOEA4AnGYW0jNfKvAwS45nAwBYh4X0zJEAD8dJMRwAYMcspGe+TDvBuoRwAIDZsZCeOVKBh7Wsn979tQEAcFwspGde/H6FdY3K8P4XBwCwJ9p/xfkXGnOhAg+b0ftzP5fq46/7CwMA4FjYDM/sqMDDuuo3UNX/DeF/mAAAu2EzPDOiAg+7E//FUF+oTz4OAMBG2AzPLAjwcJySf09I9QAAO2MhPTNingnWtZtlV5bfAwBsj4X0zIIKPMxDfa1eoR4AYBoL6dlzfoPCuvZqvtaddgAA07hVjv2nAg8nik31AADT2AzP/lOBh3XtVQW+nk31AACxmf7TjlNCBR5OKZvqAQBybIZnPwnwwBE31QMAp5yF9OwzE0uwrlO4zspReQDAyXYK/4HHLAjwsAH+iA821QMAJ4gT6dlPAjxsgACfI9UDADMlw7OH7IEHtsimegBgpmyGZw+pwMMGqMCvyaZ6AGA/+Wcee0UFHjh+9XfaJb/u71QAYKvcKseeEOCBPeWmegDg2FlIz14xkwQbYG3VMbL8HgDYNv/YY0+owAPztuby+1wLAAA9FtJz7PwWhA0wKTsL7rQDACZzqxz7QAUeOC1sqgcAJrMZnn2gAg8boAJ/kthUDwDk+Fcfx0sFHmCFTfUAQJnN8BwXAR5gmJvqAYBgIT3HzdQRbIDFVLQclQcAJ55/+3FcBHjYDH+Ok2NTPQCcME6k57gI8LAZAjyjSPUAMGsyPMfCHniAY2BTPQDMRvLM2hBshWf3VOBhM1Tg2RKb6gHgOBX/Im6+569gdkaAh80Q4NkZy+8BYEcq/s6V4dklS+gBZsZN9QCwC66LY/8I8AAngU31AHAsms3wi4WlzeyCAA9wYtWneoV6AFiTDM8OCPAAp0v8bwvL7wFgHQcHB81fmjI82ybAA5x2NtUDwJraDA9bJcADkGBTPQCM0mR4RXi2SoAHoJZN9QDM0bTaeP1fWmrv7IwAD8BabKoHYIITE3pPyNtgJgR4ADbMpnqAmToxoTo28W+Wig+k2/IJ/gDZE3ZowMY0f2T73xTUq/+Hjv9lAafWCc6E8/izvfz5r74F/xpk21TgATg2NtUDMyVUnyIHB9kM77Ni5wR4APaLTfXANEI129J+/s3vMT8Ojo8AD8C+s6ke5kuoBtggAR6AWXJTPUwmVAPMlAAPwMlhUz3zJVQDMEiAB+CEs6meyYRqAPaKAA/AqWNT/awJ1QCcWgI8AIRgU/16hGoA2AEBHgCyZr2pXqgGjpO702ELBHgAGGfNTfUnlVANHCn86bdYyPAwmQAPAOsatfx+l4Rq4BgM/uknw8NUAjwAbEUh1cvVwIm1B3OX29K8NX+Ac6z+yHEPAE6O5l/k+1BzAwDYa/69BJMI8AAAADADAjwAAADMgAAPAAAAMyDAAwAArMsxpeyAAA8AAAAzIMADAAC7pUwNkwjwnHyLxcLVbgAAuyCZwzb90eMeAOzIYrGwJQkAYOsODgaued//f5Kp/bCvVOABAICNKkR06R3WoAIPAABsWhvUmzy8/7m9MZjeF4vZvBdOIgEeAABgeu3dcUvsjADPKWIbPADAunJhtfyvrORTM/2H2WERXm5n9+yBBwAA6hQi64Q0O9sA7JIjjosKPGzSwcFB8we6Uj8AcNJM2B9+0reU/+j/9w+aX/zsf/bXj3cknBICPAAAMKSy4Ny+bPAyuZkT3TkWAjwAALBp9el9tkV40Z3dsweeE663PcluJQAA1tdN75//T//gGEfCqaICDwAAUKtbDhLd2TEBHgAAOO2adZqVS/l7uf2Lf8xaenZEgOdUaA6HP+5RAACwX/rbLYcyvH9QcrzsgQcAAE6d+C73z/+//yAUI/rn/5+f3fKgYIAAz6mjFA8AsEd2ewT94lD7lc/9p2Us/+J/vlwJvwhh0Ynrhdz+xT/215v18wfzPEif2bGEHgAAGDL/e91zVZwv/bEfDcmV8//Fj+aaije9L7fQi/FsmQo8AABQYRvpdPuJt1ByPxrFtgcBG7IwS8TJ1s6Gdv/U3upve/OvQIE/IoDZG1WHL9ftt/yHYc3Gyc/94Re/+Mc/X9vgyoPLWYAv/fGjQr0/3tk2S+g5yfxDGQBgw9p/WdUk+eY1vUd2nts/959+tlknv/LFP/xiCKE+vXcedJQdx0aA5ySLo7swDwCwI7vdNl+ot3fTe5PbYabsgYcNa+YInHUPAJxqu6qaxFvcQ6ZI/rk//KL0ztypwAMAAFPtdnl8K1ks+dwf/myzI727L32zoT239V3xht0Q4AEAgHnI5fYQwpf++I92Q3XY2mr5Xi+wS06h57TY5YF2Ds8Dcvz5AJwcNQfUbegQu3Ju7339uf/4xZf+y8+HYoD/0uHZdfVDiUfQdtRW4P3xzrapwAMAAHsqcaR8ahF747n/OFBy/9L4M+eTBjuCLRHgOS2amdHFwqoTAIB9F+f2ttw9mNvj8nsytz/3H7700rd9rnY8qY5g9wR4AABgXySje+7F5USdy+0r3Y1ZRQ/HToAHAACOWSG3NxX15LcKeum9l9u7Pvcfv/ilqIv+s9W1etgqAR4AAE6i3MVm29hOuMYdcrnoHuf2UIzu6dfnc3v3wZfydfiaFmBnBHgAADhxCteSLxY7u629oJDb4yj+2f/wpZfzNfBEiX586l4cdtRsjC/vkO/26HwldkmABwCAk6WQ3tsXrBk7N11yz+X2Qjtjc/7Rg9Fryh2VO4VdEuABAOAEGUzvG+xiTF+LxaIX99sqdy8Vx3G6ieWFXfGVCXyd6N7rt3KyADZLgAcAgNNnchF+/OL8Xsm9Wd/+0rd9rhenB7P0JnP7H3zp5T9RFb/jlD4q88NmCfCwee6cBwBOpurF+U1oT/5LaGxuT1onutc8+PK3fe6lYo9NsPePPXZMgAcAACrULZhPbHE/LLmP7XBy9Xswtzfl925rbV/93P4HL738J54rd7ecrRDm2T4BHgAA2JiDwxPd2+vTmzjdpNtFCJ/9g2VGzgXj5N7yyQvXyyX33D72z/7BS2Eot8PuCfAAAMDmvfRtn4ujcy+9J2vgvdcPFsCTz9Ysle89tRzbane9cXYfUXJn9wR4ANgdZ2QAp1OhoJ3L7TXNZp7NRvfkwXXJvl46HO3yD+vDjl6uGRZsjQDPKeLfzQAASzv851Ahjadr4N0X1BXqQwif/fcvvfwns7X6OLpXzhH0HITwXLEj2CoBHgAATpCDg41fBV84Uj4nuRy9ES+Jr8nShdxeeirO7Y9eevlMYlQvVe94f+lPPqcOz3ER4AEA4GQZzPB15ff4PPn1ddN7fQ28X6hPhfamKt6un09G91z79ekdjpcADwAAJ04hw1ek93Wie/tkk4qfOzyFbtSC9eTBdeVi++GDI3J7Y0J6P+i8TdglAR4AAE6iNqg3aXxS1b17aPyiehV989Qyuq/G4yZOJxextx31W6vI7elhDEX3oPbO3AjwAABwHNaokG9cXHJvQngvTg9m+KaVRAh/9FI4DO1Neu+tn0888u9eevlPVVwgF50nV5Pb2x4nzg3AMRHgAQBg5wpr1BeLXWb4ZHR/+U88l6uEPxfCS5kz2J/79y+F8XE6Gd3LjywfnBrdN8KtRhwLAR4AAHZrcIf59jN8oeTeS9RxJfy5f/9SN8MfXavW+eIuc/tn/t1LX66p1Ufr9rvrAmAWBHgAANihLRztPqbzRO/JkntlnA5Rop5QBl8nulc9mIzuMEMCPGzFwcHBYrFYLBaWVwEAU2y6CJ8ouR/eiF6O7k35vXuS3MuHF6F3xzehDL6p3N70G2fyOLdXDnJQ/Xl+sFkCPAAAnFiLxaIXNdtz4Hv5djBOx0G6US6Dt710X1Rf3h/VV6/HsQ/C/hPgAQDgpEkvlX/00oTc3uil9898/X8NZ86ETjU7LoMX7oob6Csqkk9eKl9Zqx/FDfAcIwEeAABOiGRub41N1NOCdCJF//5LIYTw7QO9Jy+Nq6+cd/utD/wvj1wM/9l/91LYxCJ8mEaA53SxNR0AOHly9fblr1YT9TJOh/DlTKKeXAAPUXpv+1oZWKe13E3vn/n9l3LDayV3s0+o1ddsaJ+85h82S4AHAIC5iqN7e05bvPm8G6ebeJw8r26sOEgnc3tNR4MPJrsLI7e4r9Tqf/+lEMJnQ3h5zHyBUhDHRYAHAID9U4yIydxebq+cjXuJerBKH0L48p9ankVf2UU43D2e62ul8W9/Lqy+qXRu/7cvf/lPf7bcafbZ1X4/+/svhSjGt8X5wtn1zc9CpGc3BHgAANihg4PJV8Enl8q3KTdbCY9C+Mvffpi9/9RKlX6RqtInz4Fb6WUoRTftfDk5tiG53F7zbPLxyn5D6rC6yvkC2B4BHgAAdmsww6+Wc8fm9lCMqYW14gchFOJprgrdZNpCIb1yYIM9xrl92XW0+iAe6qf/7cuvjMnevU+8fsoAtkqABwCAnStk+MP0Xs7tYVIxfHCn98vf/txnf3+45L78VaavOLdX5ufkiv116u1N11XPfvtzIYT+poB/+3L3PTafrdXyHCMBHgAAjkObA5ug3omFiS3unWReSNTlYvj6uXMwSyeje03LiVr9mKJ3suTe/c9XMp/M4Fn3sFcEeAAA2AvJ3N77yuCq8pUXp6rKg17+9ucmLCDvJeHJ+fnT//fLr3zHuH3m3c+kcr4g13UY2TXsmAAPAADHaZmWV9N7r6jek0zUbfk9WVWelk4n7P2uidDZEdZJfiaTS/25fu17Zw8J8AAAcDwKJff63N7Tr4RPyu2DZfBmeN3RbCo/N/0WZij6j49aaR9/OJUPHnZtAzzHS4CHbTk4OFgsFovFwh/0AEBXeal8HFPLcTodaw+j6ZebPFydVMvWjNDd/Lxuvf33vvzKd35m8NnkyXmjulaFZ68I8AAAsCPJg+Ubydze/CJZlC7n9ta06B73mBje7305DEXodfJzLrfXPJvsuj63xwOonC+AbRPgAQBg63rRvRfOe2G1HDWTWbocL5e9VI+23FfNg2vm5/4HskZuf/b3vvxqXfZ+5Ts+O+Ejgl0S4Dl1rGwHAHYmLrk3OTa5JD4Zcdti+IQsPfY498ZnDrfNl1P0K9/5mbj7yfk5/YFU5/Zc17XPfsdnQwjdfxoeda3wzj4R4AEAYPOS0f2V7/hsnFRrStODWbrXTtzLs7/35cV3fqamfNF7dnLJvTI/Jz6Q3eZ2mBEBHgAANqZQcu/FxXJpelpFOpnbV4a3WmeOtaOvTNGLEMKf7r+v7n++Gk0uZIf6b7786gfWKndPnjJoeg/r9Q47IMADAMAGVJbc25CZTLbrrCTPddTr7jOHR9Mn3sLIFN17wzX5ORueq8W7/dcpuSe7XoTw6foBwQ4J8AAAMF0itx8eKVdO1D3TKtKVafaV7/zMK82vUvl5cdjdsyE0PRamDEbl57jfL6/22H1xuevkKX310T2sfsKjpgxgfwjwAAAwRe5OuF7UTIbMth5eWRMud5HrJffijfRY7rTc70EIn57aaQjh2X/zyqsfGK6RJ3cojIruX/7Oz4RmuuE7PxNCcAQyx06ABwCAEQp3uXdNWE9eU5Eeexv5mreXp3N7RX4e7GGbwUEAACAASURBVPeVD3wml+ELub3cZiuO7hNK7slj9uF4CfAAADCsNrcPhdvJ2bJf2P83r4QQmr5ykwVj03s7ZZDL7cMtNJXqUb2uSr7Nfi+Zd536bKtq9eVhrH+6HmyKAA8AAFn1ub35xZhsOSW3hzFBurJg3SuGD0bo+D3W3PSe6zeZjeuL7bneR7UQQnj1A58Z90AI4fC3h6X17IwADwAACWOje860cLvjvuIUXT9NkHiwuujd63ds6n4lM0/x6d58SmauJFdXP3r9Bz7TvkxKZx8I8LBFBwcHi8VisVj4Ex8A5mJTuT1E+XZl0Xu+/F6fpdtK+PpBerCvRO8Va90rfep3X3ntz4weamGDwCsf+PSn8+OxHp75EuABAGAzub3dbj0h3E5eSb6RIF0ToXubyfvVicPvFpJzst/6F3cHMFgb6WX4fLG9M4BJu+VhlwR4AABOr8rcPq1EHGoWvaeCZbm75Kls6xTAB8U9FvLzK+NjcPNmywsNKnvPtDBlgwDsIQGe08jKdgAgju7Jw8ZrSsSlyvBqXbpdP5/L7c0vkoF2q7m9ssdmZmEH/37KHR0/aibllQ98+tXOf65zrJ1/NLInBHgAAE6RVG5f3jTWDdW93J4rEQ+sKu/orujupffBOYJEkP6dV177ruEV75WB9dnffSWspuJkdG9+scEg+2z0xgu5fXov4+c4bJJnbwnwAACcCrnV8r3QOLbkvnzqd155dShR9wrCuY7ayYJkL6PGthiZtwu5vR3bq2Fban4Q0zYyVBr7ccHuCfAAAJxkhZJ7V2WNNxeqB9N7YyUf/plPxyXoXEe96N6U32vW2E8OpesUvWs8m1kMv+1+Y8nPbTmMbc4XwAQCPAAAJ1DhdLpuYPvU77z62nc9W9nm6oMbyJmvdjJ8Os3W9RKl/WWZvHlrz/7uK68Wg2i36w3m58LcwSL0s/Ge5PbG7gcDlQR4AABOlNqS+++8Gg4jbnk1e/Rg/8Wvfdf0heWv/plPxzMN03J76ET3sPrW2mmCJsm3PXYD9sZT66d+95V2aqTXb3fA9RMoEwweW7CbYcCmCPAAsFMuwoAtiXN7e9Jbr+Q+2NQ6xfB1PPPbr77+3RNjZOX7mjbRsObO82S/NQNecwCLELqfZnm+A2ZBgAcAYN5yq+V757RPi+6FUD14DnylgxA+9duvhhCajgozBXGPk+cjnvntV0MI4fCtjVqDUC9+fGxmTrbwbAivTtr4MG0MsD8EeAAAZqmwy72rkNbaRebJ3N78IhmqNxXdKyW7q0yhpfQ+5qmxqwPiXe4hNebcFobBATz7O6+WM3zzmyN3OkB6GPf+t3Dhfym0CcdOgAcAYE4qc3tjQoG6EG7jIP3Mw1dfP7uBvdOvffezIYTXQgidVd/J3D4YpJN7uY/eVPnZfNo/nMgYV/0O7Y+g7pFR0w2FDN/7LVJbcj9zpjeS5jE7ntgfAjwAAPuuPrQ/8/Cwcp7P1QMRt6Mtvyeje9vLp37n1cqAWuPV70ocaxetCEiMNn5fg5X2RnkNQqym+r3+UvmawT972Esznom5vWIwsCcEeNgup1UBwGSjiu1tdA/dXN1Rn9t7uum920vXYKYd5eAwi9YNL8rtD197/eyn6rvr5tXKzF9f/d7UAHIzF83b73518rKI3lH5z/z2q+UFC7B7AjwAAPslmdtzS8dzibprbMSd1lHh2vMJJkf3EELz1gottG/wtboee+G56bd9tnnXn2o/n4rwPHkyZaCFit8Mmx0G7JgAzymlMA4A+yaX20MIr3/3s71QXYhqbfk9l29DJuKOze1tmbftaIMZ/rXvfvZTUZI8Ct7f1fs0XgsVXv/uZ5Ov630Or0WfQ7s5P/WRvlqT2I+amrrOv9TCyDFkh6Hezt4T4AEAOGZxdM/m9gevvX6uanH4qIibOxZubEX3mYevtYN7bcwi9slqont6YiLzScbpvfXqdx3l/9wnk9y8cNR454dS/6PMtjDypxOSuT0/jNx8R6v5fasaxC4J8AAAHI/cFvfkavlnHrwWQmiyVjK5Jbc9J/NtW37P9dJ2lBR3VEjRG6nJJ8aZ77Hw7o4ef5B+vJDeGwfdpfIV2sC8skc903vS5H0TyWGsNDJmGLAnBHgAAHZtsVgcpJJtE+i7ma0mZY1K1EdPRbX9o2+lpgnqJwh6Jmf4THatXS2/8lT77g4nJuIZisH0PspgZl5+yMUj6/qPb6jkXvns8qemwM4+EeABANiRtuTei0TJQvxg0IoT9dUHr90uVc4T35o2QVDuqOmraXdT4a+mx/iL2ygyv3b22cEifG+pfAhHEwcF2Y0Mkxbbp4cxRvPbUnxnrwjwAABsV2+pfDcRJS48/yf/ewghnDkTt9MWxpOJOoRwe/mClag2NtkO9pLrqNDdZNN6HBVWFyE0h7etmfUT6yDqhlHI7euPYUI73fHY386+EeABANiWeJd7k4fi3H71H//07b/6N2ra7Ia0q8VsFifbq7/1+u0PPjO2l8GOkn2t6ZkHr10d2ePV33rt9gfHDWPCne2rY0gk/3W2uCefLRx8kBvD2GHAXAjwAABsWPZ0ugevLaK10Ff/8U+HEJr0viy/hxAePWqL8Mnl03GibmvUydy+fM0HnwnFlDjYS+LBVHev100TTJOM7uNaWH2zV6tXuR8OoFOjDiGEsKiePkh+zpsqtodJsxjLBjtnzk9etA/bJsADALAxcXRvsmWTqbqhqMntZXGIGlsJb6P7Bntp96JP6KtSL9DmexxT6z73qbBaqa6ZnqhUHslr5z4Vmmr/6kc9enF7PrSHD35qcBj91jIRXemefSbAAwCwrkJuj8uhg9H99b/yP/cf+dbrt78nXdNOHu02MbfneynbYHQPdQEymVSbj7r3+DYqySu9H/58k703A+h9qX4jw0o78ZEEI9cdtOOJv1h/0h4cLwEeAICJkkvluyX31a+/HkIIjx7Fj7Tr55PRPYTQ5Oqrmbp0v4uMdv18MrrnepncXaV2PHH0TfW4VoX56rdeD4czFJPL78/UjSG9JeG3Xg/FjQwVLaS2PzRzB53feMl5hOR4JkwlwDES4AEAGK2+5H7lW6+/UVfW7qb3qz//08mD6EMq1tZ3EXrL+L81nMAnV/gny/RYm7dz0xODNrXxO9dI5YdWn9snj2erPz7YKgEetu7g4GCxWCwWCzeRADB3udPpkieHXfnW6yGEJlonI1Py2PmrP99fYN8WxpPRvdxFOKz39nuZFN0HZwraviYExHRun7qqv318VO+3h649Hyy/r8yPtD+Riip3Orev8fbldk4kAZ7TS64GgHqJkntn2Xk3vV8phsbcXXH93B6V37v5ttzF8vUjc/vgNEHIzxSsswz79rlPxWOqD94huVth6PHe9fJdi3yGL6T33hgKUTlePz95yUBB/5j94uSOU+uYEQEeAICsQm6PS6Nxrm4TbznixlX3cJioB7tIPJjpa0LVfWAyItXRld98/Y0/W5vnex9uPMLltEL+yLqesSX35LPt6F//nmdCPrcvbxbotlBd4n6t03u39WfWiO7ZYxfG6B6Vr8bDHhLgAQBIKJfcuwZDdS/oXvk/X2x//cZ/80L/xT+SKNEXuijMEVz5zcPKeT5R108TlCcjen098/M//XrqjRRUZu9kbh81axBW03uu39vf80zyG9NuWe8qxOLXv+eZboYvzF90R9Ib54Tc3lTsrbBn/wnwAAAcqS+5X/mN22/8uavJRpIbxa/85u0QQnj06HYU2sOP/I0QlaOPHhxfdW/jdDhM1L2YuqnyfrejFWfOPPOt118v7t9+5luvLz++im3eudze/CL5HlceP+xipWC+3kL95QAOJw4GY3Pz0Q0WtXsZvnIkYeRZhis99tbbr3fuAGyVAA8AQAi5O+FSYebKb9wOITTpvRd64wTV5vbmArk4vce9Nu23XSRl5ggqEnjq7RQ6SvZV01EIoZDhFyGUulzVP9i/rveQmacIa0f3+gGEEG5/8KiSP3lJeiG0h1A1A9IbUvzFq996PXnHIewVAR4A4FSLc3sTud/4s1fDagJsc3UsV/k8Su8hhNX0nqy3X/lHL7bH11VOEIRinmxL07lpiFxHyb4Gg2vcXfuRdbNrbq1BK71AYL3cfuU3bzc/08nG5vZ4AKFuAP2F9JkLDsYaONew+V2aubwQ9oQADwBwSiWj+xt/9moc8+Lo3obeRMrt1OdDqErvV/7Ri2FIfo5gdNW9MBNR7qtSurvVIn+bG5cHxWXOFwiTZg1WHx94sz3TxtCun1/nQP7yMAZD+6g7AhLTGYfRvenaCXbsJwEeAOB0yeX2cFh1P/r6mKDbffEy3v/m7fKa5HRuf/QonDkzOEEQygvsUye6Db6dEEX3lc0CQ3X+Cd2FEJ5pgvf4hf09/VmDKLeXy++FXd+Vhfd0yb2xRuV/WrF9eEhra/53JOezYwI8AMDJl9zf3upFu8u/cfvN3Ol0qa+Xk2p8zny9ZJzujqSXLSuD9O3ku/ueZ7qfUWX8jnusfDDkat29hf1jZw3GBNRcaB81d7D80DpROTeGUQv4x85fdG01t8PxEuABAE6scm7vuXwYHZv03guicZrKJdW2/J4LbM2YkuX3N/5aIu1XVc6jNJubhkin9xBCCAchLDbdXc7YVf3l3jezTj6eO8hfTbf+9MGWRNcElGYTRh3mB/tAgAcAOGmSuT1X0rxcrp9nQunw6vpOer/cZPVUOD96ffTd0pl5hwkzGaSbXySnIQrpvXEQHQ7fq4Tnekx2N2jd3L5GmXrCAJJjCMed20t3Fo7RndSwMJ69JcADAJwcif3th7u4e0kvl9vbIBonw8u//kYI4c0PXUk+mJ4dGDqdLs7tl/+PG2/+t8+Xn1o+uxomyzMRoSK91/dV093Rs9WLF3qPFGYNVjfnF6dgUusg1pw4aBtZc/og5+phy4UN8NvI7bD/BHgAgNmrz+2NwfDZfarJ7Y0mvQ+urj9qPzrErl0/n4zuIYQmvScT5rT3Ung26fafu3q12ObGe8y2sMYG+5CK7ld+43YYGlV3dUP6qr/RRfur4fDnvljjKvhlaxvN2/FGhi1NScCmCPCcagcHB4vFYrFYbHuh1M46AuC0qV8tX66fJ/dvd6N7LBd1avJtN703uX3g9YU5gpTCOoJKo3rsrZ9PP7urte5xbh+7Pz9EcwdjQ3tuJFd+4/bVoaUQudmTwn0E9Z/t+usR4HgJ8AAA8xPn9m4+L9fPe0E0jna53N6W38fODoQQ3vxrL8QzDYPRPdlRoZfBx6c9OLnkXr/MPtdCxUEAh7MGqWhavz8/7nql5tD57tXVeYqx99U1LeQyfJzeS7m9mtzOiSHAAwDMSTm6x1/PyZVky0+FsbMDqYPrCrm9XT9fniMob+DvPzi+Ttv2WD9ZkO20woTL+VYeT5Xc1+n9Sj5gh/wWg8IMQvzJty00HVVW3cufSeVUwuAtidZLss8EeACAeehF9zbQ9kJmuX6eTC9P/+s3QghvfW9mdX0qxA7m/OwEQaHqfuZM8/9zcwSj+hpb/V55tmKyINnv+rl97KzBymn/6/Xedj142l8vw685g1AeVdhQyX2d3w+wPwR4AIC9Vl9yDyNzdZPbG0167z1eX9XPzQ4kSplNjb2N8WfOJDsq9LXSb2oyIjcTsSlrzhcsQqIi3b7Z5DGBXWNP8uutn1/+ZurtEeh81GOrz4MzCG/8uavLkwtHvqnK3N5MNyxCuCK3cwoI8AAAeyp5QF2I4u7Tv/ZGCOGtD4+on3eje+UjYXzVvRAF38hfFHcl38vgIoLQzkSsEdtyA8id81dZME/+LGsmKRrrnMCfa6G+99jtw1g+OJLc0ffZQxBHrkFo75zrpffBixLru4D9IcADAOyXOLfnlrg30T0cpvdeFTeWy+1t+T1+cPLswJtTy+BvfOhKIcOHKEiXJyO6j4y6w6wwWRCij3rUMvuwfm4fvzm/ZlfChA3/65/SVx7ShNaU3DnZBHgAgH2RjO5vfe+VXnRvc3tPOYANBt3u490uerMDub667efSe/P2BlN0L8NPWERw9OxqxhvM8L25gzfzS81H9bt8vNk4cLjVP/FU/pz/MGbWIDuANUru60svARg/a7Dx3N5t0Al27DkBHgDgmOWWyoeo6p6M7snyeJzABxsvdNFKluhz7be6b29sDbzfXTG3t+vnC2vsF997JTeGK5nK9pq5fWVbfj69t/qX2I1M3fX3Aq5pMDNPm0TInQKwqcUI5QZhzwnwAADHoBDac+JoHSfn3Gt6W8RrGu8+Pri6PpmrR7/Djjc+dKX7eM00QWtwjf3iMEa+0WTF9t3Vned/1FFxmX1/W37h8rz1Zg2WjRzHeX6VIwnrTSJsdvd+ss11JgJglwR4AIDdqc/tT/+rTgn9IyvRoia395SD3ODjudX1OfGbfPofHsbX/y57fF1hYL1pgvIS/eWzdWvsF6Gf20dNFoRRe/Kj8nv9Of+9R9rqd2HuIHmzQK7B9Q2vPhhps7l9D/cUwAQCPADA1iVz+9P/6o1eMg+rub3RvKZwmFwhUadfn58aGHhw6jTBUXofI7vVPx8ID0K4XLPG/rDc2ivyL1+T2vO/MoBpe/I76X3aToT+MPLbBKoez5X96/J8d4n75JG0KyAS36rbR7DtQwRh3wjwAABblDiX7jC3d8NznNt7eumuef24+F2cGsg9FSomCJJV1qd/7kYI4a3/fkS9vcbg4fZvfu+VcoYPmXv4hruelNt7ZfDyToRpm+3Xz+3d6YMrv/7GG3UZfs0ZhJqBTU7aG18OAHtCgOe0Ozg4WCwWi8Vi24eO7qwjYP/5A+E0SOb2EMJbH7lSU3VvFV7ci9/LL8ar60dODbSOfneuvuByvM3+e6OZiEePwmF6n1Z+j0f49L9+Y/LVdBOO62ulE29q9cSoRip7HxhGPjDH6+frxzCY4RchhLqNAzXL+CfsIyi1ttFphZzmf+D+DGf3BHgAgE3K7XLv5b2n/+WbIYS3vu9yzYvDUA7PFs/HTA10X/9mPp2++eEryXc4PFMwZvd74vHq9N4W4Sfk9sKhfSGePZmUDEdF93Wu0Mu1kDvpsBubCxl+wkEDNaMK61XId5Pb4dgJ8AAAG5AouWcievP19lu93FsZ3dvye6LkPnJqIO6ikN4bB50Ul87tZ84sR/gPb0zL7ZfH7wnvSizpH1Mz76+xH5qbqBrA0E6EcrU8TNsnP2mzQKPdmv5GfF7ARpfKr5+0R5wjCDMnwAMArCUZ3d/6vsu9CN3m9qRctqwvvHfbX2dqYDC91w8vRFX3p3/uxuUQ3ixujF9+mqk9/2HM2HojTO44OBpn3akBK02lUuI6a/VDPrdXPr7+AMqDmTCDUGrtX78RJtfb116YkGzKknj2nwAPADBFLreHqPqdjO5txk7k6n/xZgjhrT9fvbp+C1MDgw4y17ynK/w/t7IN/vLP3Uhm+NwNexOGWv/IhFMD+i2sd0Vfa51qeXIYlS306v+5W+WmzQIk25y2YT47sLVzO8yIAA8AMELhIvfkqvX6dN3k9uXX/3y/hF6f2ydPDYw1rcLfuPyv3mhL/YlL41d3GYxaFJAUl9+TWw9y+w4STeV3a/dq/qWmJl0K2Mura24W6Mrulh9fdU8vBNho0t7gcgCn0zMjAjwAwLBCbu9pc3gyJ6dD/r8YXUIvzwuEMVMD5Y4GJacJauYI0ifhRRsBNr6muXxqQGX5vZf3Bq/oKw8g98pRY0gOo14305Y3GpTr57EJuX3jqwA2OKEAx0uABwDISub2ZEDthfBlTl6tJJcf6T0b4oPry0vrx08NxF2MUq7wlzeQ9x/MzEdMS++XM0sDesl5cBIk2chKC2ss1G/HUFP2X2lqQ7l9e/MIy6Y2vhBgPLmdk0eABwBISGxxP8zt3Qg9UDzPZ7PBaJ18cW9eINdLeWpgcrJqJFa8V7yXsesI3vq+y9s7TyzuN1d+n5bbC3cE9Aaw7HdqQC3fUJAe2yZy++D2gaNhVKTlaQfvFZYDpBvM/7ZvXu8EO2ZBgAcAOJLM7SGEt/785cGqeytZJH/q/3qr+cXb3/905VPTZgfGVt3jBfZJ6RXvU6N7GFkAH+XNj1y5nDwCoLrH3HTDqGr5OgX/QjthwjF7uXmESVM5G1sCsLkD80sNrndYI+wbAR4AIIT8Lvdepn3qm2+FEN7+aG0Ib3N7o0nv5X3yIROM2/J7HCObXuqnBpJdJF+Wzu13/1Y4c6bQV+EIvVxHy2+NXE+e8+ZHrqzcW14+SjB/7F/32cFN8tNOK8i2NuZmu/oWuo2Ua/Xl1iYH47Hl8ckNTmsN9pwADwCcanFuz4XhJrqHw/ReLlz3cntP+Yy3+sJ7t5fe1ECuo8Ga+eV/+eab33c5FC51u/u3yi2EiiL/4C6A9R2EcLnuOL3lGD4yvWA+rdofr5/f5Fb5tfP2OjMI8fr5wjHv64TtwdMEC0OCORLgAYBTKhnd3/7+p3vRvc3tSeXV8j3JCnm3/cmF/ZpRhWJ675b3e5/LU+//7eXwLv7E8ktR+b2yyJ/oN7WaILeUYKzkZEGh68KL0y1MPYG/307lVvli0F3zmL3BwUwzUB5vzxesXguw/sIEmDUBHsLBwcFisVgsFg4vATgNcrk9RAE7Gd3bjD1qaX2hnt9reVphvy2/Jx4pDqynl2nb6B4O03tv8fzY3D64CyB0lxKsfV/9QWodwbTc3ovQAyfwj5oFWHurfGIwFYE2zsy5C/bC1PUR9eXx4aa2kNu7w/OPQOZCgIfdMVMAcIwKF7kPFsbLekvr42XtE5odVdhPPhUX9gv76kd0dJjeJxT5jzrtTRMMva+u5qc47e/R5HH9owrmhY396wwjbCq3b6j+nxtM5fH7lU+9+ZErIbrzb3BsYdKGgpU284v5Yf8J8ADACVeI7l1PHibed1LF6riCXY7iYycFNlXYHxxY3MXRg/kgXarwD52un+sx2V1yJ3/Ib8gflAx75Wv5alseGd0n5/bB4v+EwRw1vomj8qet3r+cP0svl9snjK0nXhSwzpWKsHsCPABwMiWWyn/zrTgJP7kad5v03iuqx+3EX2xf2cuxTfvJSYGyQmE/7iU3qtApv5drs8k4/VYTpw+/1Z9cGH+EXq6jpFFH0MWWP/7V2Lx+6q7ZIFB4vG1kSql8qP7fXgEwqpGw2dy+xk9tG7l9U0cDwJ4Q4AGAE6W0VL6Top8s18/zebt+aX2vpF+O/ZXt56rcY6vuNSfnhTYD944GqEjgya34g/vwC3X+0NmQ/1Z7ll61zVTLqxsp5PblCyZsle8E0Wn19mlH5R+9uBN6N7KVoKd+LcAuj/SDfSPAAwAnQTK350JjLr0n6+RP/urbIYR3/sJTyUcGS/o1jzQKCT95MHu5tl+5dqCyvB+/Jn594Qi9XEdJiTr/o0dHfVWn94MQLufvqw/VBfOxp+K/tV7NvzyYbmtvZgrdva9uaqt8rqkJ7eRaC1uqt6+3lAP2igAPAMxYeX/7Ssm9mMPjGNy8vqdcuE5G97b8Xq4/1xfeu70ka/tjq/q5jlZamBC81+t0pcd8CB9Q92Autze/yG3LP3p86hV69YOJW8ul9xDCmx+5cjmztXvaqJb/G1ttMNfU4DL+Xeb2ygfHni7c/LHjTGKOhQAPAMxPMrfnInobxZtvxQE4+eKu5sHyeXKj1uT3hjT4+gldhBCe/Obb73w03X73kXR5/2vL9ervPP4TIYRlDXw1D9cfobeROn/ukTWtcyR+HN2rQmP1Vvlc8b+Q3pcv+MiV7v9CJi65X28fQb+1LdTGN3ueH8yCAA8AzEkc3dvc3gvDySjeKqyWz0kk5F99u76kX2h/QmE/FGv7T37z7RBCk94HK+G9iLisKj6+ulL94k88/f7fDo8ehTNn1rx1L+4x1O2Q35Q1j9ZLtjBt/IXc3vwiWfwfTO+tgSL50CbzlaaKmxHKtrFhPm5WbueUEOABgBmoz+2hWEUPUbR+8htvv/OxUpm6pv0JVf2wicJ+78Emtw8qlPcLKfStiz8RL3sYLPKHYp2/fof85Np7Lu4272Uwt/cidGGT/1jrVP5rHESb4QfFuf3opzY+vW88t09eEVBzOD/MhQAPAOy13Gr5XOm7XEVfeeU3Vl7ZezDZfvI15cPkBseTLOznBpDrKI7uyfJ7ubyfS+/J3F7oJamXwCtzbzrzV9e6C8XqgzF3yw/m9vauvlGNhC3k9gnKRwBMbHPUhvniBvjNruSHuRPgAYB9lCi5f+PtEEJTLe+G20u/8k7zizs/8GTcTqJ+vprbmwbLm9LHrsbvDjX7VLGwH2/XT3e0Rsk9DKX3ZL598mt/p6bHXKfrH6dXadHuBcg7CGFCHxNK7on8XxGP4/XzGz9KPVlyn9jURk/yCxu6ESDbeGd+wVl0zIsADwDsl2R0f+djT8V5uI3u4TC9Nxn47b/wVDp8fiMbd3Pl7jC0AD7X/nJe4L2/0+wbL3c0Ybt+KKb3tjA+trzf6n2AydxeWeSPX9PTWz//9vc/nUtUT3/zreb/vjW0WGDNTFZY7V9vY1vlt3MFWjch53L7jk/gD9tZDnDUeOrQO5gXAR5CCOHg4GCxWCwWC7OwAMcll9tDVMru5vaeJpfWp/dkkfzSNw5L+h+rKunnGh9+qjg18OQ338ptpx+M3434Fr1e+4Mt1Nfbw8hD/hKPH2bmwt/Eb3306WSGr18M32/w+59+uhMOp53P11s/n14qP3mrfHw539TT/ja4hj/3HiefRLjV3L7sIlrV73J45kiABwCOU+Ei93S6TqX35OL55pXpdfXF3L5s82NHJf0wMre3y/InFPaPGhmI36n5iNR5cqM6qjdY5G+HOiq7Ds6jdzN8utr/tb8dzpwZlXKTuT05gTIwtrqt8hOuyttU/j9qcHNL5SeP7ajN7Zznt/HVAbAPBHjYKaV+gFYhundd+vo7IYQ7iQ9JegAAIABJREFUP5jI4SGVzy/9yjvLS8s73y1sSu/l9p5SAh9ZdS8X9nN9VcTvcYf5Fcr7reYHU1N+z91vXyOO35V/NaZP0W+nS0ael94LzO3ChPaWvsp2unFxWqbdyLr91iKEsKE1/KEut9ec5JdrLUw9F6CycbmdE0OABwB2Ks7tl37lnUQO/3oiVxfOqyusqw/58+Ry6T2Zscun5eV6ufTVv9uNlL3C/vLBupvwQqf8Xr68bWzV/clffTvUrXV/5/H/qbK7XPk9c4nd2yGEMHQjXaN7gPw61f7VAYx+cM1T+o7aiXJ7eXqlcARA0gYq5PEy/k20s2xtm/X2wqF3zesVVJgdAR4A2IVkvb2J7t08nMztTfm9sCR+xLr6w/azJf0ouvcaX56WlzrKfuWpZmrgcC1A0uSb8HrpvTsNsX55P1l+r8/tOYXCb+VZ+pO7HmgqFUcL5ffJuT0+q69yMLHBDL8oDn4wM+9gGf86G+aHG9+Dy/lgSwR4AGCLCrk9RBk7md5bvRc/8fU77/7gpfY/32lydRPyP/k/9ntcbXk5I1DMveWS/rLTSYX95N74wvREyMTvuJc1y/vprqPofukb7+SmCXqd5kJa+WSBPZS9h2/MKX1HraVK7t3/rFm9X7gn7+lvvjXtY10nt8fr5zd7mF+P3M6pJcADAFtR2OKei6npF0el8ie+fqf7n23SXoQQxswILNsvrpbvv/iw/J68067yfSUvsQ+rN+ElX7x8pLhpv/RgcYRP/erb7fV7T37t7yRy+1f/bgghnDmTnCZIKu+QL5zGN9bk9fPJR9r8XMjto/pdqZZ3QvLErfKHrfXuzHt6ajbe1Bl+ja3m9mQXhdxes2ce5kWABwA2Kc7tT/zyMm+/+xcvFb6eLJKvvH41tzfl97ZwHc8W5NJ723IvuvdK+gXd9B5H/VxhvP+y8qb9TF23kN4ry/uF4P3U4U74XnpfRvcwfD7ctHP4ls/WbYAv64bbda+CX+N8vq7CWve3P/p0fbJNnPY/dBRCsoWnitfmTTgLoGtTu+V70ksD1Ns5lQR4AGADkvX2JqL3cnvoRPcQpffk1vRedO/qr6vP9FiWK+nnekm+rHnN4FHz3UPy48cnrK7vyZX36586erzN7Y0zZ0L1Kv34Nckex0bQsl7EbdYUFF7/VGrhes/k3N4MZnASIc7wvfXzpTP/pqrJ7ZWH8CeHd/SuV7/bXSMw/Ua99XJ7d4rBCXbMkQAPAExXzu3l6N6VO1IuZNJ7XCp/4s7PLL/VzAi8+3d7LxhV0g/5wFxOxeXN4YOJury6Pll+ryzvV67Pz/VSM+C26/otEtPS+1PFLfTd91jI8G00nZzb4/XzvTS72SUAIcrtzaf31DffWufS+2kl98JJfoUVB2999Omadf65rfjrHHqXXNgPcyTAAwCjla9wzxXA4/SefOUTv3QnhPDuDyW+lcjtbZuZ897XLOn3lPfGJ3p59CiE8O4T/8Oo7moq5xOW5XdNC96Dq/TD0EL9dOQ+PNL/qRDezpwLONxIpsc27b+9mrfTuT11usGgNU9TTy6k77a5br09XcPfWG7vLqMYvN+ukOE3e/T9SqfRwv6NHIAPx0KABwBqpevt+bz9xC+9G0J494ee6H29kNuXLzhsrUnaya3pyWJ+W36/80T/IPqjB+tK+iG/e7+Vze0pKxX16Jz8MDQ7UFicf+nr7xSWMISK9flxL7F32n5XG3mybtYgcRj+NxK59KlvvF3O8L3fgpUF/7b3XG5ffvdjT4X1rsdbeXbMAfXpgU2N7tnj9+rycLx+fnA5QKhI70nbyO3bmwuAYyfAAwDDEkfTHeb2OLo3ub3RpvcnfvnOYG6P5U6Vyy3Fb/TSe2GKIdlFrvF4TfvKU5nc3pTf11yZHzK5ffmt5la8Mevza17f7bqwGvydH3jyyXz5fUKpv5Dh29+FlQX/suQMwqB1DurLttmbBajI7Ufr5zs2e91dssH1bw3oFuF7SbuQsafvmd90bm/+MLR/nuMiwMPSwcHBYrFYLBb+RAbo6kX3ytweq0/vo4r5YxtvY3Z9bl9W9TMnyT3xS3dyUwNdiQeHyvu5B0Pd9XjZZ1O5PVl+b6cMBv9e7Gb4oy+WD8MvhuenDpeyN13Hub1SecX+BppaL7f3W1tvAf+mjs2PW142mInuE7bi948b3EK9fbPnI8L+EOABgITcavlcWE2m9zhvf/KfvxtCCI8efeWpH0+9vmpSID7EvjfIeD980/LYBfldyejeazmW3P3enrcXVmcHyt2FTG5Plt/jx0dF3261v35Wu+10cqk/rF7RN9hCofyeKzgX0nu8fr5wmV/5tMKxmlEtBzCmxJ2okOc/jcH185tdxj9oS7l9+MHmggAFG+ZJgIddU+oH9lwc3T/5z9/9yl96IqwG7E/+4rshhK/8cKIknqyTL6N7CCGEJr0nN703CtMB5YviRi3IL1f1l48kJwgqTDhvr5HI3nX19uSzyxbKJ+cflt/Tq/SLu+tb73S6LhTMC+X3OLpf+pV3QvWB9stG1jsVP9fIsqnVYwg2W36vVKgqTx7PjnP7mibndjgZBHgAYKkX3dvc3vzfo6//4jJdt+m9kIS7uT1WWC2ffSRK1O0463tpu+hOCpR7CanoHpff0/fbnTmTHlhxcX6jnN7b8ntuiX55ff5KU6vpvX7WIHZQfbJdSOb2oTP50u0MrtivW53eXz4w5lK9wmAKnqoovydz+1Fin7S/PXd/3rTd8rsR3YEnt3PqCPAAcNrl7oTL5fZYroidTO9tszVbxwtdxI0/8c7PdP9z7C79MGYvfeLZ5Mr8Oz8Tf7FnA9m700K8v6Cw6T22Tm7vSu6K778mFd1D9Zl8G1mxnxxGKOb2cvm9O5jF2lfBJ3P72AX88fr5OLpvfMP8oMr187mL6wYfTB7yByeAAA8Ap1T5LveeOL0nF8/H6+rf/UtPhBCeyNfhe/X8Xsauqeo3MwJteq+v6rfl90JULqT3tqNoZX7p0Pujx+PF+XH2zm96Twx1aBt/WM3t6Wz5g08+uaEMX+i9l5k3NWswasV+PIwwtd4e8kv3BzP8U7mxRdF98tg6bQ7n9sO0X5uQJ6j5c2dybocTT4AHgFOnJrp/4v5XQghfPf/J+FtxdE8W55MxO/dUL71PWY3/ZOK4uMaoNfltL+Vl+ZmODg+Wb5bW/3LnOL3DX7x7KXWsXU32Hpnb2/J7stheuhZuQxm+pggfR/fB8vua5/OFzGb7sfvkl02lVpv3xlO4Fe+p3v3zqYPT49w+bQd+/6a66Rvms4v5nwrh7TWW32/8DrxC+84hYr4EeAA4LSpL7k1074o3vfe+3tW8po3Byy57q/Hf+nvJrgvnyeXSezJmN+1/5enEQfe5XtJV/bpb7gbX2GeP3GsW2Ec75Nvyeza0H14HMOXw/F++c2docf6mMnxuDPUl994N8/12xkT35W/FjyXW2ydv0Utqw3Nuy/3RKzvF/zaoN0m+suq+Zsl9s/feVS7mf+pX3y5n+Oan0F3ZXsjt44eZMHZtP+w5AR4AjsEuL6SYnNub8vsnf/Hdwmr5nEL5+pO/+G7vGPZy+8nvJrv45Ft/bxmGO+13y+81G+mT8pfnZRP+E3d+pryJ/Wh7/KNHyVPu4vTeq/Cnh5rcxt/J+YPpPTQpa/wxcrF1onuuhRDCE1+/kzxxIPls8nL1sUX7nm42XqepsdvvhxvMXZ5XF4bj9fO53F5opJDhn/rVt9vz9tKL5Et34E3J8/2r7Pf7iD6oIcADwMk0aot7nN5bufxc/+JPvPn3w5kz8Wr8mnmBXj0/FJbi9yYFnm5uqitdFFeu6hcuvW8MXFm3ulT+k28fLTpobtFLPDLyCL14z3zhBTWSv2PWP4ktDB000Cocqh86p/036b0yOXdDcuE8v3IoTR4aNzm6r5PbC+vnN3KF3rKputyeG8xTh19pkvxT0QviXD1hkEkDx/XD/AnwAHDSrLnFvdH7Vpvw27J897vp3N488uhRt7Vp9fxlL8nV8sUHEyX3/PX10bPj9sYn0343ty8ff+rHQ3Q6/ajb5nuL51PPvlu+3L4r93vliXd+Jpw50/R16et37lRUvBONrA6ysvzey5zdW/omPN6YFrYn5/b48LxkaA+rGfudzNnyT6ayffay+vUWF4RNr+RftrnR9fyJ9uV2Tg0BHgBOiDi3f+L+V+KIHhfbu18pv76X3ku5PWNUem9f3MvMyfe18mC0+z0+MC8uv6cnCDJV+m7AjqN7nNuT4gPtBu+0P3o2ldsPx5O+3L6rlNvbLjq33E/O8DWSW/1zuT1Xft9Ubs/d0Fa5br+nkNujV2ZL5e987Mlehq85PC+08whDOTbd2iZye7L9TeXq3DH4yU0TcGII8AAwb8l6exNxuyk3t8W9UIrPRfFC+Tr5yFcv/1j/ZW/+/RBCcl19Wa/9/kKA1Kl102r7g6vrQ34jeiG9t+X3ZHQPxcPzGvWX5KUf/4uX4t8u3dBecOkwUVcm+UtD5fdRuT0nvdi+bsV+6KyfL+T2UePp6t+W9yvvhB/on7HfDGBwk8I7H3sy/sEdtbPBI/S3Vm+ftp6/clt+yF8WGLfmCHpmTYCHI7s8UwpgTYXcHvIL4GO5CJ0L/MmX5RrJ1vM76+prbpjvDaZmIcDRgXapxrtpOfHs0Ml2iZJ79cr8sFp4r63Vj7/cfuWLyR3yxdzeXMvXi69NCXrNXfHp3D504kB3ANlN8r0pg+ryey+9J0N7zcb7aasAxn6YGzyBr9vm2HQdb4Df3qr+kFskXxHa4YQR4AFgZgpb3OsL6Ylofe+rIYSvXvjE5DZ7++QHX98zdkF+IS3nrqk7ejZzEl45gddcZZ8M5MlT6xLb41Pl99StdbX19lC4wa6u6n7UzmrVfTDDx+X3XG5fvqyzXH9Qf5P8yLP64haW7axRbF//dvpBB/mND0nx+vnBq++mKa3nn7Q0INHFanqX2znNBHgAmIfEFvd7X21+0UvdH/9nXw2PHr139XrcSDqNR+3kNpkX5gJKS/GbBfO9py7/WMifaTfYXeKVjx7Fa/V74r6m742vWZlfl9uTkkX+wQp/W36Pc/vgIXwr7RyW3+Nd3+30weKHnshl+EtRou6l9/IB/onxpBbt72dur1+9nxvPWO80QT0fxbeU25ONb6rl9KF3dbm92bngBDtOKgEejoG1+kC99FL5TLX84/9sGcXb9F7K1Ye5PTZqS3zykU/c+2o8vFgvkU5ckL9q7D3zpeEVS+5xF204z10Ul03vZ84U7q7rrg6oKb/3AmR8CV9l+b0Xm+OuF4cpurlb/tLgtXaZ3J4rv0/L7fH6+XRur1u03x1J22Z5Af9WxQm5EN3DFgL2uifzF3P1OrkdTgkBHgD2UTm3F6J7T3aLe5TeE23e+2oI4b1iDs8txT/6z9Xy+/YW5Lcl/eY/kwfahcEEXt4bP5T549zeLubPjaenGylrphgOnxpxfn4IIZw505vjWLbzZP9ovTBmp30Yf5V9Ujq3j7kbr5HL7aMaGWwzedzAxtfP15u2D789zC/7gqm5vcYGD70bbF/thLkT4AFgv+S2uBdq2r30/t5fTryseU3zrV7GzkX3ld5Tx8j1hhe32axsT74+brPb8oSz8RvlRebDCTyK7uVFAYVOu/vwm/TeK7+/m6nSL/IH+/Wy9NjcvrLHvpPh63N7zvK3bFT5r1quf1h+z+X2w5cN343X1d8n/0t37jSTI1HVvf5quG6b69TbN5VLB9vcVr09c6LBWJWX4W22/TU1fz6bBeAYCfAAsBfi3H60Hv4vfyKsxuyP/8J7IYT3/quPxy/LNRK/oCa3v9fm8OaRTSzFXz6V2hife3AwRZej/uBldeVz7+tPyw8V5+c1cuk9hHAQwmDqzdWiB8/PX2kkldvX3Gkfos32lRXvweX6wy0Ui/938qvl7/zgpUvFO+f7bU6N7nd+IHEV3BNfvxPGXy/fbTP+4qh9+NmWo+geXwQ4zbZze7KXDdbz4XgJ8ABwnJL19m61vP+tX3iv+UWb3tMvu30zhNC9R619Wa6SH6f3VimHp54qtD96Qf5qCK+53K4t+/dUJvBpB+avNN7bgb9afv/KUz8+WLx794efeCI6XS+5hrx8l97KMPJ77ON2puy0fzt9b1/28TEX2pfL73FY7c0aFNL78gWrGX5ybq/cfh9G7sBvLIZa3sgm/O3l9saWDr0Lh2fX9RzjXgbYEgEeAPZFm9vjTN7m9kaT3kOh6p5KsI2VSn4m/y8bT+bw/ORCSFb13+hPJYSKjfGDKTrxSNNmlCFrLo0v9Nh9PFmoT8xupHaYt9vjJy+97aX3mvPzU42spu7qbfbxAJYtNJ3G7zdTfh+V2wfGkzppP160P5jel61lyuATknYo5vb4i5e+fudOdRG+JrdP3offS++biu7T7thbHno3dIKd3M5pI8ADwDFILpjPpeJcem89/gvvhRC+Fn396JF4RmB123y3/F7I7T25e+xWGuxEu/e2tjF+ULlAPThfkFtjn1td384jDBbGc9794SeSZyGMitxh5B1403faD9Xec2X/CZ9PYd3+qEX7Pb1b1vsX1I8pbsfb7+PX9A7eH8zwi2TLa5fc0zvnh3J7swG+HJK3tCe/kQztYXOb82GfCfAAsGttev/o67fOnDnTBO9uxn78n74XQvjaf/3xEK2Z73l8NduH4qb3kDnurrC4PZnbuyfhjV2NH8oL8sfcVNcddm7Z/Jp74ycsDWiUFucPdTo2tyfL75Pvru9KrtividybXa5fc7n9Rkw+oH4jZ+8XMnzvt8Rx5fbJLW9kT34o5vbBZ5uBOXyOE0CAB4Bj881nrn1z9StNdA+d9F6Z27/WOdBu8DS7nty+9MIjIYru5dX4uV7KC/KXHUWJtzxBsHzq8o/1vpLL3jX76gsv66Xi8nl4Xymm9/T1AyODd/Ig/ZplC/U77Stj8zrL9ROtdRJgcgDrlN+znRbL7xvJ7V3NPvx3f/BSkzJ3k9s3c+JdpuWwtdy+2Z35MCMCPADsVPLUuja3N5r0Hqqr7q3sIvx8IT1uubAUP/lUYTV+COG9K9cT44nO2AsVN9UNHpKffKq8uX2wGr9OyT3Upff4N0S7n7/y/Pzk3u/eW6vMz4Wd9oPWX65fGMmytY2W3KfJreGvuTNv2cLq+vnlFze0Cb/yIL3NnHhX1/LkPfkhSu9yOwjwsOLg4GCxWCwWC4usgG0Yld6PXvBP3gshfO2vZHN1HLkff+1WCOFrn7oWvzgZ8stL8ZNPFVbjL78Sb4z/Z6mN8X95+Ka6aSX3MOkwvMrH21Rc3h7fitN7st7ePd6vPnj3omNu2O9mZhnikSQ7zZXfN7Jcv7Wp3D7h5LnhNvNr+KfV/3OhvbHmaoJx6Xp8MN74hvxks43K4dVszoe5E+ABYNe6gby3Zj75ypWvdJJ2slS+bPDRoza9F5apl5fi556K6/ndl01ckJ8P0rn03nbU3xt/+2YI4b2ricp/ubvCmXw53fQeLwRovzKY3pvc/pXLPxY60xDL1zx61FuqMOog/XYWIJfeQ+f8tvXr7ZXL9WPp3F59yl151/007fr5Le29j9P7UWLvvIsJp+iF7aTr5Plw+5Db4VQR4AFgR5ryeze9f/S1W5W5fZn280vce2X8rty6+glL8cNQDu+l98d/4b2xC/JD3cb49NialfmH6b12c3tmgqDy8eQrY21i767v6tbbv7K6gmCZqN/6eyEsM/zYC/C6Cum9HdUTxfReWKsfxi/XL+y3D1O33Ifcrvu6KYBLmXJ3/7r7NaJ75gq9kck8s6s8uaBjz3N79rK9DR161+vF4kpOBgEeAHahu3i+XQz/zdQS9zi9Hz2YCcNxek8unl+p/KfSe2FqIDnR0Mjtpe/qr7dPlceTUwO5fe8rrznM7QWJvfGZ3P7Vin31yxaqd9d3w1X760J6P/r60z9e6LryFP0NppbKtfqV1tlvnxxPsp0niqsPUqPKXlNXHkYuim8ktzdy6T2sXoO3xdw+dY3D4J78sLlifrkXmDsBHo6HzfZwqrTp/fF/8l68lf3iP34vhPD+X81vcY8eKeyKz22hzzUVxpT0y3fUhSi6LxfkdwL24F767sva9J5dlp+K7svy+5t/PxSy99Cm+tyD7WH7E3bXf+KN5Wi/unqwX5zec8fRF1bpr+/dH34iLsKX7sOLDJbfk62VT7nLJec4uhf6Hczwl3I33m263j7qrLuwun6+kN4bB/nfOdn2ow3wudw+suGE7Z2lV9MRnBgCPADsTi8/f/8rt86sbm8eDNuJXfGZXfSPv3qrt3e6bXDsUvzlnXZj9tL32h91PP7RU8W96OXCe3ymXdWVdZM28K+0kFyl/8bRUJv03i2/twaPtVtnDKOMyu3TWpt2yt3kS/IKGX4RVvachzF775Pi6L7+nvnB9L5u+3W5fcKG/OZ39ZZOvCtrz/kvHxYI8yLAA8B2xSfPNyX3R52T2Jvye6Gunt0V/0/fS++if/VWYUj1S/G7JuylXz64umD+8X/6XveMvcqOPv4L7zVn17/3zLWQT+/x4vyP377ZTmQsi+dR+T2Z2wtLA0bvru/8rGMTcnuy/J69vr46z+dy+7QZgQ22Vth4X39Wf/M5P/FLd+780KVQffZ+5diSa8tzJ/aPPqy+Or0fhHBpfDbupfeN1NubMU+7yn7swfjx7EPvij44SQR4ANiiXHpPyl0UV9oVn9+aXtP44AV1yS6qnopvtuvMDjTpvXyafePjq7MDTXqPpTfVtyE/Osi9FUf3+mL7soXq3fUhKr8nlgncvlk+P79+DPVn6adnEFbPpavcMpCrXU875a58v/006YPuMr1Pb3Yjx9Rv4Sa8kJ8O2GBu77e8nXp7etWA6M5JJ8ADwNZd/Pmvvf8jj+e+G+9+v/jz74UQ3v+R2l3x7aTAUSX/sORbWc8PFdfRJx9Mbnr//9l7t/Y8riu/c71fA9ekJq3RM8lNPzMDWaJI8ASAstlpW922rIPtNuTuJE1MntFc+dIXmdE8GSqddJuQZImiZNmyY0sigRcEAZ5kYebSSRR1IvIaXwNzsav2u2vvtdY+1K4XL4D/7yYSULWrqHZs/eq/Dv41v/KL+T2i3t5c9hfOYry9PUl0+XC+vd7YdVmpvBu/h85s2+OjsN7ePOIFscB+cntr1Mq3g3AUX4ju7WV49t73NMfe9SV56a9kKd5UH77b5Mx+3q714ed0zvOHT9/bhS0DfWClndTpeqZ+HiOHwJEBAg8AAAAMhYnfl+6t25+48fsfv7dCRH/s3rL0oe+6ele8e2CnDv+7qfPty9bRe6Ps9Y30/r3PTibbidXyKtqWu9hEeiZy//wWEd1S1911TuDUneT6fCKiuTna2/Nm1yW+cOJrRMfyebCL6MPvLNH4Xazbly/OnXJX9hVAa7zv0d8+NW+vgiTt5oWzxukR1wAveXvWsSko3l79WQDMOBB4AAAAYBDc4nkTvyvT5k3k7rquid+VYnWpFL+gDp/UUvyCtXYUa6cntjFeX1YnZfvmTeSOevZx1P1MYA5Pid87J6QV2/MN9rH5+cw53Ko51ttT4vfmdvdZapWE/4gcb5ewU+Vq1QJIYXtW431YPy+Jbu6su7ABnmmbbz8xmH8mZZ8GdG/vz8F6O6QdHHMg8AAAAMCAuPG7tCiusXcOycZDe2fq8D9co7k5pQ5fOt/90KCE9h4pjfHEdtR3w/8wfg/V3YzBCw8PrZjvjY8l/JPbu9Lu1+C2v33e7pbr6jST9ufn7eneLjGqtwpe0eACe5em97F/ZOllFIvObbz3ULw965wQ0dtr4Nm1voevQIa98xVv/+R/5v9PnMgQo/V6Yj7LohofHCwQeAB8sKEdANAft3g+7H5furtORBtnlkmw99C63a54z975Fvqu33oeHo302W8Nxe30xHp7tDE+9HaTtzt33frLFWrzW6+NPOTSr/knhvE7W6Kv/E/CzW8874oKW6Xf/HGkPzL3PULyWN3ebfzuyrbn8OZto/G70mxPgR5H8Xybr+Fv/9Tpy/Pqdt1Pju3ae61Zd5Q2Ra8Y+0+1VthOQoV/St7ejP3PmTzPPSjtdlPejwl24BgAgQcAAACGQlJ3au3dv/5Fpg7cGr5n9dLou+4LdFL0xFJ8e3LWWjtKa6cnIT9343e+Wl5I3S368PZLv9b26pG6JG/9mUvRD7rNBY66N58VnD+RVnI/N9dk+Fz+bDfhJQ7Jo0CqL31x83l5dJ/+JcVvtud216Vrs+/baaL+mfCNwPpqtEs/ce69RxW75tvm1ZPD+vlv/X+ffprQsj4L3p7xCHk93izk7QDMJhB4AAAAoDLM6ri76+7fWnv/Zx+ukTBt3rNxe83S/VtaFz2HUtau7LRTbixup6foqvmuumtl+XNzxufZGl3bG0+x9nhpdp07Xb+sHGuf6PnkWn2LZ+9NWYFj71L8znfady82996KdchX6W+PnKb2+Te/bZf/SfZORPtE3+wRuQ80oJ76ld9LzQVRh//WYLvrcrv9I4+oOlpPfMqfTp6CmkpwlIDAAwAAADWJ2rvLH19c+SP3c8XGXXtfurvOJvnNlXKez5bih+dP7pLH71nEeH9vj4g2vrdCsr1Lq+YpSPW9W7x/1q63N5eZhfNB/M6H/JxvK4P6otx85tLzbfG8FL/zc/iTd9GneHvqUfnersTv2mlqJYWHYu/2glyHb/5jExhpz1l3JMtn1snf+n8/9d7NHquMMxgRpT4gbZweDdmZP3lEvZKB5kF/OtRIfwBmBAg8AAAAUA1r70s76xsLy8TZO6vcelc80xLfPVaK69kL2MBf8XaP3HZ6au09RPF2Bb6dPgWTY4et9fk5eX9yvd2L38Vi+Hx7rziXTjrq0hc3b8kvLJ727Z/0j03TB91R7Vl3xSfbTwPsyd9qDzEz/L/V/tEK59Wnebv5bKjiAAAgAElEQVR5RFn9PKvu1UfrNc/6U3/AXvVF9AAcOBB4AA4MTMsD4Khi7d2F9fZ/9sFbc237cXhB1Ns94de93btG22knJ/O57fTk2Lu+KC5U91unLo1SbpTt3Y3fb/0F/xFBt/c+8bvh5jOXvDIBqY89JXXn8/b2xpQO+VvciLvoUUoLupIt208J0aJ9g62fT5xC776eHsKH9j7QrLvhTq47684w0Dg9yZmrh+00lUZ9AGYNCDwAAABQh2byvGPvUom78fA9d+t7e9nSh2t8S7ya5PO3fKjl0uJOu6Ku+OiNlL9q/tKDW3TqEntj4so6Q6juWbdX4VK7Z67zGu23g+hngpS43lyTGL/7I+64o6yI6i3oo2BaXsoLaO+Wae/8IVXb+F3YJH+4kyt6+3Bb8Qyst09N2gneDo4NEHgAAACgAmHrO6nV8pb1M8vUtraOpMZ1uYueuvbuluLrV05uaTfVhzPzJzeqY/OUVfNiwm8+XszNKX31oWAvfzRZI9f0xsfi987tzmeC5vaB43dq2609A3efuy53yPdsj+8cpUb3CtEWdPOfW8Xb4zPz2EX3Zo5dvsyH6p5o13qVex9vLzj5sHi7GLZXHXrXPkvooh/gWQDMMhB4AAAAoC9h67vL0s4GEW0sLLH3Lrcp/ahzyzoRhUdZQkX3FtR58TtXXd+txj+9TOpKOedGpt8+6UbhmjB+F9XdoI5AY2fOL38U2Tk/ub2GtFv8GXtpzfYF3i7F7wXe7sbvUXtvDiybmad4uyHt/2TNacGrljXee0jenj6RbuiTc2fpkTr1QHmEm28r3p51sv8grgG+z3Q9855oVARHDAg8AAAAUA1PuY26d37iZOl//P6PicibQr904y3PW9xbFG8XX6mr7p63i3clLJlPvfGXk9hcJ+Lt7pXfXSEnfpcWxYm3B/G75O3N9Ht1MV4Uxdu9+L1Pe7yLIq5lAb7Ozaefl5bbMRezvfcfX7v1wmu13udS2rY8HaVtXpm93/PknqSM0+sDXyTPuXSfuXqkhu3Ss1A/D44PEHgAAACgF8zeuMDbTfyu1Lc33u52xTtD7FNK8Zu72rF2erW8f5cTv2ctmXfj90i1fHivWSwnt6MvPxDvNegL3iV7n9wuSfuDW97uuksPb93Kd/hmAl+wwS6EaY9vH60MDvBulwLn9E57cuL3/glzc6A+M89suScy9l4cvzen9Wi/V4bV97TfxJP9Yof24m8lDq5PnqVXNmmfAnsfYqhe+yDf3od7FgCHEQg8AAAAUE6KvVuk1vSlG29l35LcFU9CYT9zV9fA9XZ67cZ76yR11AdC7qm7u6ZesncTv3s0Ob95H2FrHftEi/69wHN4ZR23jyyirFG7G++NvSdm5p69e7G/0mkfUsvepQMnryH9A8+09+e/uFml88Fz7FrBdfRkpVXh0//1W6zDp2zF68nQzfmTB3GFA5B2ACQg8AAAAEAh1t4XtzfGZ/kWd+K63xd3NohoLHTFE9f9rjfSN3d1ZdtW4zdhvhq/d2702unV+L1zY3cent/07tYXBI7tjcQLdTrq7e7JYfwuhvz2xdrHSePxLj28tZ7s8Er8HvX2RNh6+7Kd9mLXfcJeOv7AxN77uTkKht67fHP3s8Q+fPYF4ovr8ofVJ9bPp58c/QO6Dj/cDPzJ+8DbAZhtIPAAMGBDOwAgncXtSeTuxu+sbC+GXfE761YdN176cXiL3khPbGO8c6aE4u2xGyPz8Hj29oj1djtsb29Pyl1DdQ+9XSG8vTM2T/kH1b4SW8e+/ODWJaJb+i4650+U6+1S/F7g7VL8XnHKfXNg6ax7iZvz34wWO6S339sz+XN6a3DByYmfJ6YwZb3iuD6lAV7p0i+r+0ADPDiGQOABAACAEkz8buzdxO9KSB56u4nf/9mNtyjZ291GepIa43eCdfHd+J2tbNfb6dsbU5vqvfhdKmhn19RP4nchcifV3t34Xbpdt3d/PJ7Qgm4PufTgVujwTfweaz7PSt2l+XaUn7rznwC69QW5SGPzCuw9FDnF4XsOzyOiS3+4qfyz7XPy81/cvNl7DL5h39loMPkckG+8YQP8FCJ9Gn66nofbro8kBhw9IPAAAABANvzWd6G+PbR3yx9f+vEfuZ8XNNITZ++Tu+Qd71nt9J0b1eBdWfBOgr17Rezd698ioo0XmS8dIUxi77bWB49jTgjG402+RwR/rkvBGjw6dYk4b7faL/XhT16gjd952U4+h5z4XfJ274nRA0Pc/89wqf2acCttIV90bJ55pefbK42N6d6uT86j7h9TKeAPsfXzirSnnFOA9IZlDpzo7cUT75qncN4+BWkH4GgDgQcAAADycFvfqY3fXRa3x0Q0PrtIgr2H3e+L779Nc3Nuku+hBPvmNN/e5+Zob4+dXedWCkj2rsT7uR31RLT0QTOlb+P7PybJ3ok2XgwL7N9yfvtjSojfu7dPNti52b6E2GbfVsJLi+s7hyjN9s4FKfG7p9zec8NleBlHpYX/z//h5s2EdPpS8A63cmbmkTLlrgfMZvhKK/TCk1lvv9lvj91wDDerr/OU/2UaTzGE9s6O/QfgaACBBwAAAAqR1J1ae/ev5yT8n77/9pxwGiUU5LNnKt6uHEsJZfnSNHvd25trvs/n56G3k/lAEGvjb27nSvQn3whS9s+njceLHBLz9qRDhGb7rEOao3Ja7pX4Perwz9cdm6def+mLmyQXpVfvwLfwE+kGC9urUzCrr4A+1fi5Uf/UJu0BMINA4AEAAIAM2OJ56+0Ga+/KtHmT3u+1jjp++a/MXyzdeJsyG+mpm417SL30FFsUJ7XTk74oLvD25t7W3o1as9JOSrDPxe965N65kovfc72djd9zvZ2N3wu8XYrfa424Nxht1lrQOXtX4vfqY/Oon7fr9fODenv1XX2Jj5gpb6/yrKl5u/kvfzTVgwMHAg/AQYJx9wAcLlLs3UVaFOcOrvfYeOmv+FvkrniSg3HzOUC8q6idnvSOes7eO/cK6k7dgnmipguAOSE6FU8eaG+QWsfzhtsr++TTDwnUfen+LX18AH8O6+0PbqU0yYeEmj1qT2ta0HNSd2lEXJ+xeeLMvM9vJfbeK7De23/WnXJ43XOk7w65E/WUVFzZQl/9w8Q0nwXAoQACDwAAACRh7f3i1piINs8vEmfvbPH84p0xEY3PmVuCIP1lRtoLGulJbsu3sNm+TemVPfPFZfkkFM8v3XD627k5/JPftvE7E7l/8JZ0/uT2Nn7nZuOttY8QPys0FzwnH6IO6nex8Tvr7d6D4ud8fkvydu9xkbeqNzCPnPhd8XbvufEz2/p5xdu9p6e8aojSNt9k9elD74MGeP7wtI8C30wItKdQ56+4dMWnVHmWuR3pCDiSQOABAACADFx7d1G8vbngXHgLZ+Dvv2PT4/RGejMDz/uhF7+Hgi3Nuvfi91DdtRV33cw8VGvX25trXjKT7d7SY3PX3t2cXx+MZ/H8c+neLfuqxt5T4nfmEPsaCUPymkO69m7VPRfP3sta5S36wLy+p5XW8HfO7Np7ODkv+0B5AH6tcXcUm6WXOCYw63zivL3PRL30Ink7pb/gKbnPAuDYAoEHAAAA4pj43bP3xe1x1NsN1t4Xtzc0b3fsN72R3nPmySj7vT3K8faN7jT7FG+XSPH2+CEJg/HU29nF9XnWx0/IyzyEza5Zb9fj96x++2j8ntV4b0679PktEgrU2cL1nt6ulKz3t3fLEAPwsw6POrwUv4f9PEPM1ZvOyPrpPwuAwwsEHgAAAIjAtr5TQurO3SLYu3JLTiO9ez7bTq/be/vXScPwvHubkXixann/3m78Lg7GM+vugpZ4L36XZ+Nxvmc27XHxe66380Pykr1dp8p8+8lp9QbdUw9v1+vnQ3WfGLvc4p5YP18wSC+xfl5qMo++kjIm0LP3KdTJT2f03fSfBcCRAQIPAAAAaLCt7y4XtzaJaPP8RRLsPSyeN0expzW3xBrpo7hCHm2M7944Uei8G7sj8Zpx+sJMPv/eF7UmdmlZvXO71sFuxHtdaFD3vs2IE/JyUndxSF6mvTP99kUj7kjw9uLTeG8vnZk3OTZQ6z6D7vSTDXWWzJV6u8uoFdfPzOi4FG//zTWipEWJKUzNpaXJc7nPyt08B8CRAQIPAAAAJCGpO7X27sGatlV3e+A/7cbv45d/5N3CfhSIxu/NZW1v/KSuniMss7fn6zey99ree2PvfPxu8nY+6o+vnW9+K6X9rdLY2yV7J6J9omVpPJ55SXlWf/MUZUhe8nw70ufk5Yy4I3VaXvFpZsB7WIuSOzMvhB+e9/AW2aC+tGB+iAH4BlHaP79FwgcOCW+V3TfVuXfkDQhMs3elAZ5/hDwvUHuK2gAvenv+eHwAjjkQeAB4sOANAEBC8bz1doO1dyUhd71dwkvdlTDfs/dwiP3i+9r2OIvi7QX3TiSf2/3WuZebOS+tne80vZui97Qq/eb2e7cUezesf2/F/T+zG/gbe0+J36Pz7RLjd/+c0hF3VG9anuFWvZl5ytz78pX1ydPvKWcAPnXr53Vv994k8c1DJG8P36fyIwZooZ9Czb+L20WPf38DRxUIPAAAAMCTYu8uUnE7a+82fv9PL//oPwW/TSnF59vp9bF2RCTse1Mi/eiSOT+fN5rNxe+huusL5z3CMJyJ97uZZNTeJ0fFCvX9l6kxJI/aGNw/J3/EHWV23Zed1nM6vYtr2lXG1JNQhF/l5FDdKw7Sax6hevuAjwh0+laPkfXSU2hIbyd57RwARw8IPAAAAKBxYXOTiG5fvEicvbPF8xdvbxLR5gXmVx7/KSiYT0FqStfzc2VPe/GNJFXXdy1aWvOu2Lsbv0tF7Iq9m9vTA7h9ovAZbPye6+1S/J7u7VFqTctTDkwv2teuYefnxebk6548xPT75mSpbb62txsGHYbPP2IYnQ7tXff2PvvtiPN2di8gAEcJCDwAAADAYOJ3195dFG/3fyjH75Nr3nuHiGhuzvw8cRIeyXP1OjeyQX3CPDwt4Y9NtrMb6cIm9sWdDWmu/gS7oT1cR7ezYc/XG4Crl89KfexZqbsyNK7/iDvzMln99vqBxVPuOsdmensKfbw9dwA+5Uh7n0n46TcmRtlswX91b59ykbwCxteDYwIEHgAAAPBxi+etvV/c2kz3dhO/u/Y+Pr8YVuQ36m5uMfZ+vTvTLrmjPtoYT2nz8HRv99A3w3cG2gdXivH73p5N7BkJX1giolEsve9v7zZ+D33YFtsnzreTNDj9HFJH3FEwLS/rW4AS4CdOuWPOFEbE9ZlUb9yYnaLXc/o9yYP0qszA159C1evkj7S3Mwk/vB0cMyDwAAAAAI+J3y259u7cuEiBeBgJ39vbMyHy5qudWvp0b2+0v51ap+TtHuE8PGaIveDt0mh6vru+e9m4DeeDe32JVSScr3hXR9aX4dl72Xw7z969ZvvmnLIRd/kt96R+C+hTw6/obsGkels/L0107z/93jBc27x0fvOUz28R0XrOvHoFZbpe1kh8UhvgpdJ0ZXZgFWptngPgaACBBwAAADroxfPW6sNfhUjF7cpQ+vErfFe8PseezdsN0YL83I5673qpQz6M3Km19+7tvHVHI/T1heXl9itALXUXm+2rzLfLPKQ5io3uBW8vHndfNjPPP7Br71XG3VUcfW/IGoCfu8TOrZ/Xvb05P3NefVg/nzIVvz+Kt/c9WW2AF59btOUOgCMDBB6AAwb76gCYTRR1t79Nid8N7li7UMW9+N29RTqQhJr85vy9PfZM5pCujV+8M95UG+NdtKl4amk9Ccq9+P7b5ktE4n8bSt6+tLNOOUrf/GMMR9zLyp0x3071dil+z/L2RCqOzTMMMaaeb5ivN/re4Nn10JH7cvV59WyRPPeU5ptCUWX7FKbiZzw3+Y9gbse/U4EjDAQeAAAAmBCujvMK6SUUb5cuMPn8f/ZuefcX7mw20fkDe+cb47sd9YawPv9ikNInxu/Nxe3tkal4UlafNhjPJfxyYT4ZxMfjyScYlnY2mgl8OYG5ON8uN7oXWuWTmuSrjrtX4vdib9dr3UN173+mcnjKXYmIRf4Dzavv2vvhnYqvPG7y3IMYhgfAjAOBBwAAABoS7d2N36PebrCXXXzvHbauvvH27v72kPBedwze5LJXf0SJ8/C66r4ZNMY39ya31pPQ9O5fIy+uW7rxNr3EdwRI3u4+SF8sr3i7+Qt9Z15zjTLfLqeq38bvKSPucuP3iuPuSZB2Sh56r50cqHWV0ffsyYZBvT1d2hPr56e2zY4tSk/09qzZ+CGhvcPbAVCAwAMAAAAdLoxv3168EL1Mqmxn6+ond7HV8u/+QnmEsiuOt/fulSne3tzYvVLsjRe8vZmKFxh1517Z25vBeDfe9n4uKfdicKUCe8jkWcE6upTk3J9v53w4aJbYp8Xv+oi7RCLj7u+13wJOJ3UW6BPvKRh6X2tMfc/R98rJlD+sXmqA5729xiT8zlMOg7eXIfbt/+aavhjSoozZA+A4AIEHAAAAiOzsuvFt+xMlfncxtxjnT+yK7zMJ7+LtTenbgYc4D08w8MmNcim7bu/NX8dK5VOemOvtbPwe8XaD4wxK8bw4304N/FnYoyRvz4rf/W8B97rj7k9njLunShPvvdPYSfXFffjp0++p97B64tTdn4Tfz67FuXcPb5H8YUI7UG6AZ719+fNbtabie0jSTsbbLXt7iQ4/fcz/QKC1HswCEHgAAACgu/h98QIF9s6atrV9NrFnNfvCLyYt7k0pvhq/u3hfB8ywOv8uNqjfaufhcZvwml+pi+ukcfohnr2bjwUpg/Gafy9ui+ftvyaPiBbff2f88o8oJ3UXS+Vj9u6idJ7rW+iJE/Isb0+EH5t3r/DM3Ml5BfG7a6F95udJZxrqDr1TvL2Y9ZR59VVH6xkkb6/+IIMYtn98jYhuvfAa87sZdngAZgQIPAAimA8PwHEjLJ7Xvb25ZvECtcK5KHm7+RwQa3Enos0f/ND7ieft7Fg7vjL/vV8QTRzV2HsYv4d2La2sS4nfmxOcK6W++sntZ5f0le/RrnQbv4ed54vvN8bObNrjPEGZGLe4s5HSZu+hfQWI2bsUvxd4uxK/DzHx3sIWlivqnlI/P8T0e4nqe+w6hyevoM9daOc/KM3bc9fasYjS/oebKf8FWP5cp5Ee/9oGjjYQeAAAAMedsHie5OJ277LJIc2vZXvvYs7/n9r4PfR2UofhNX/LevvWZtKXgmRvN/F7aO/p3fUstmw++u/aYvzeNXDP3ptPBnt71Np7J373721exvPt6D48Dxu/83l7zqg85nB5XFxu6i5NiUuceE9q/C52zveL3Pt4e59h9dGnpNfPSwXqQ4TtFs/ep5y3l3wOSA7hpdn1ABxtIPAAAACONWHxvMf5jdtEtLV0gTh7Z29xu+J1/vMPfvifhV9FhuEJNe22Wj64fhK/69Xy+oOkRXGSt7Pxu9vxHrV3qRieEufbz81NHhdYgSTSrLenx++eAy91T0tcU6fMundfI2nc/Wlt3L37MmUT7w3yxLv1xOF5OWf2nX7feUqRt2ecz869G0zae47Hz3iQNGlv+F3xxM6u/8NN6ZUAOEpA4AEAAACiwLeNtxuMvSsXGy688y6Rb4mJk/CI6MJ4k/b2bv+IieINYlM90e0find1Tjjnz8OTjg1Rdrwnpu4byWveQ9z4fcwtmVNK9A2uRbPeroft+oZ51qKXMtN7/mR51r19bmL8XmXcvftW6ph6ZyZ/8vC8KUy/t0jS7k7C7wnv7bXn1Vum4+21pN00wHcm2EVvmfrAfABmEwg8AACA40u4+N31doO1d2m93CSWdwrX+Ul4nGZfeIcZYsf2vXfu4prq9fidPZ/tqHdu1EbisSd3bm/jd73LXcH8n8faO6vulLKdTq5dX9wej8+mjuhj/dni/xnbZy0H3w70mfPR5ybC5t6Kt+fG76GIFs/PU47t343v1s/r3m7I2mMX1s9L3p7xxt4j5AZ4Vtqp6DOB3gCvTNorGI+fDivtBG8HxxsIPAAAgGNKir27ROxdvlLM24n2ugZu4nc7l17ZP9e564c/JM7eN1+NzMNTCNWdOV+YiudRbO+TEwJvtw9NmW9Pgre3r+evr2deoFs8z+btyp9xfWFpWT6/bNY9yfF7rrenU3d43uSaIafoWSqur+PPT/P2/tvsSPX2zlN6x++stw/asd88V/D24RbdAXCIgMADAAA4jlh7P7++tbV8ngR7D4vnz6/fJqKt5Xh/O2mT8DgPX5xcrI2y9+7qpvpSJK4sqHfj9xRvj+JJdbG9s93vufPtwx9adSeijbOLzVO8sX/cDC3W283To90BxuHd+F0O29vLMlN33tvb0+K3y/F73WV1k2NLvX3dvk83ZL7UteWBZunxrzTksHoLXyRf+1nTXGvnP/o7zGK54abuAXBIgcADAAA4doT27hF6O7Xq7pISvzdXbtwmotvcsSHuRHqpbp+5S65mTwneo9Xy7OOiSfjFrTEl75A38N5+/R1PqpXsPertBmvvzHx7Zw52dFRebm9/qO4F3fI2fpe8vb0saWAec74wIo7d1ScfwsTvvLcnT79fl2fX3Tp1SRp5mC7tifXz01xlZxh0od3kKcmb7QxNeX+PgnZW2qnI283LY4ccOPJA4AE4eLBwHoBpwtq7O2reI/R2E7+z2+A9LnCpPh+/B7PrvPNT4vfmyrapfnKmiZc9AW5Dfk/dzYOk2gEPvYJdaq0Pkbzr4vV39BtdkU70dsNGrO89acR9DusLS94fk/X2rPjds/fisXn6xHsK2gfK4vdQ3XOn3yv2btjv/mepzwB85ulCpD+ES/cZjJ9VPz/VCflzc16pS2jvy79eU3bIVdlUD8BhBwIPAADgOHJ+fcv9W1bdSbZ3S7q3m/jdG1n3X370w//i3dsdZc8Pw5Ob6sMN8LajPrpd2T7FnB+N3/0HOTl/4mR7ZUUcefbOxe9Wp1l1p5i9s/F72Yj7dHqOph9u3D3FJt7nnyburitryI/ae3N40QB87bn1VtlFG+CHXmg3edB0N9tZzPB5/7m/Xpv8TdoGeACOMxB4AAAAxwgTvxt7Z4vnz9/aIqKtS+eJs3cXqbJdsXfnXtbAb3v6nTQMz/0i4I7B787Dsxe49fnNCVy2zxL19uYydbI9SUXy701eNRy/xxJ6u30o2xEQOS1/xH11pPi9zNuj9fNs1XpPb/cfkbC7rs/y+ZD108vLpf356XvsqMYqO8MUFto1D6o3sj4Lsane9XYD7B2ABCDwAAAAjgu2eD5Ud+PtzW8vMWLf3sjW2G/R3t7Wj19NeQdpzXsTvEt3ScPwVHu3hNLe3C7vqPfid2URnYeSvUe9vTnh1R9SQvzunxOM4pPid/dlFm+8HXr7Yvvo8Ss/Uk5orslpgM+NyqWxeVkPZY4t9faU+vmBZuDnZt194NbjBcPk0wbpaU9JWGhXQOJaO6r36SF785z9XgBdB6AICDwAAIBjQbg0jrrebrD27sbvordb2n8TvfD2xMM3ly4Q0cWN2+zsuug0+/7D8EhWd0oL3rNm2ncucHQ60dtF2n+2UW8vwLP3ReergbH3A4nflXH3FGy2zzif9/bUMfWRw2fP29Pr53Pn4euD9KIOn77QLmsjvf+UqYysD+E3z9V4LhrgATBA4AHQwHg5AI4GifY++ZVs117zvMFE+q69kxXXrmyff+vdMHfy4vfbP/qBf4E0DC/oeCch5LePCA/v3NvG76G6mx57tvjf4hXPS3XsvL3PzVHWcHvpHeT4fdwOrvP+07AYG5XHHVVBelk8ey/+gmDr5yVv71xWVDYvzYfLm1TP1c9PJ28v22MXbcUPHX6aC+2aJ+aMrO+/ml4J24vPLHs0/m0NHAcg8AAAAI4L527dIaI7l85JF9j4XQrGz7/1HnNXtyBfyds9326m2Vu1DiJ3bRheMMpe93b/52r87tq7+yBj79H4PfT2C79oB+NzY/OZEyoNtzeMhYHzirc38fv7/nq5Pt6+LGTmbAAueXtu/O7Ze59xd/riOgon1RfF76G6Tz4uJH8UiDyixx67xEF6zcWctw8k7dNfa2dhNs+lfC/ot91d+mQAwHEAAg8AAOCIY+J3Y+8WpXje5dytLSK64/5KnuV++6/4cJsdhud+I2BT8cgwvL09yu+oNw8K7V0ba2+vUbN3ErrfzbM2vfPbGXWLNop34nePrOH2Nn6XpP3i1ri5Jid1Z73dHrW0PY4upQvJ8vaex9YaU0/M4rp+k+rl9XW1ZuBPfiJ4u/cmfR5qCTfSF4ysT+FAvJ3t3p/OxwKSN9VLMwUAOHpA4AEAABxlvOJ5E79HR9adu7UVVqebYXXeD+Oj7N/SptNR195Nwp8yD09Sd4rZ++RvpcF43Jp6izRz3j/E+Ubg27vD+NUfLr73C3bmfMFw+8mxgU5nhfY2fh+/zMyl9xoETK1+1OGXuyXrHot3xmO16KB5MTl+L/P2lPp5YQB+1Un1VdfXeSPodW8fmj5fBJQGeD7bH+YbQfPEae23Yx4tDeEbfukdALMJBB4AAMDRJyyeV/J2jzvNSrnu3njW29feI2rCZGWUPXEl+rY439j7hbffDaN+vjjfabzfEkoAPCR1J9neveJ5KQkPs33F3g3jV3/ofmKJ1uePhb76cMgBK+2Ndd8Zs+MDOg/q2nv0E4Di8MvCoLjFttV/3F1rn4g0fK7/mHrq4e0p9fMFY/A3FpZHRLn9zSlL7AaC7eofYiN9z6oBvQFeGZVfcb8d81xIOwAyEHgAAABHFrZ4nvLtfXIjl403eb4jhJNR9t34fevHvmB7TfVS9h6q+/m3/Zjd2Hti/G5wq/RTJtvrFewF9u6h2Lt5tOJv+63Dp4btc3Oew7NL46TT2FF5S+3fGpNfspX8XdO23p7F+OxS88cPvL1Zidd/TL3QZF7liwDVWB+z3fcAACAASURBVDu/fG99XejAN4yIKLgg6u116+erM4S3R57IeXuV7n29Ab54U7154eEm2Jn/KcGEPDAjQOABAAAcTdjieZdzN+8Q0Z3nxZl2LmzkTtFR9nt7obQ3v+Xm4RnsNPsUb29eT8jeE7vrw8F4m0LHu/1nemHsyD+38S6dfWHVXHhZ9IJF1d4n8bthbo729rK8PQuvkl/y9sT4Xf94sZTfPK9vrSPmi0DRUDphMlzx+rrQ4aX/8FTP26e5i97iiavi7eb1imvaB9pLn/ToA9p4B8AhBQIPAADgiCOpe+cnbPy+wuTh59au09xc2EtviY6yJ2mavS2eF+bhSfZuceN3Zhfd28wGO+I+E0j2TkT7RBfHHf839p6yVV5Hj9+HSL7CtvOLtzejc/JI3lTHTs4ry9udM5co4ePFxtkl4/DZY+orba1zT1Mmupetr7MD8M3fmi73Kkvs4o+uIe1Z9fNly+16kr6a3tBnQX3zRDlsLz4TgGMCBB6AmQAL5wGoC7v4PfR2E7979n6HL7C/Q9TUyWuL6Fjnb89v2unl7J0CdXfn4YkPdYrnpTXvF6Ly38bvir23F1ywDq9k70qn/XCMzy9KIbyN31lvb65JnpPXeag8vi5q71L87pas1/1fhdzp9wXxe8Xddf7JsQ12lL/EbohF9Mv5vj1lb5/mijvm6YG9w9sBSAcCDwAA4KiRZe+Tv1W83b1s5RXzF7mj7NnzJycE3e/n195z5+Gd37itz10L1T1lpr1bPH97sTDoduP3Mm9n4/eUMDyX8blF5s944SIRLcbm5xn0TXWN/AuT9uKv16PVfOPskvnPffqY+v5b69rD2eb2at7ePCVsbh9yGP7kKc63gGWi9YR18alPFObAJS6lL+CgvP0A19QDcPSAwIPZ5vH4tVd+tra7O3/10RdXToS/ffONn62u7Zq/m59f+en11xdPBJcBAI4lZz/bJqLtb56NXimp9bm169ItSjCuD8OLTq1rRtnbC1TtJ6773X2EW5avEN3x7mFCeK94vlbkXtfbN7surXyhGF+4OEqO3z17Z+9Kj9/5PfP29oQNcyzimPq0rXWkxu9SmXqKtyfWz09hg93kWeEiei7D3zgTH4a/HJs/r3h70rtyKA3w0vi3QdfOKc8t8PaUUfkoYATHBwg8mF3Grz291Mr57lePiLpm/vjNp0+u7jo/2N1dWzq5xqs+AODYYOJ3Y++WaPzuXqaMtbPxu+TV59a08ng9Ej8v33s+GDvHTq2LfB0IGuBTJs9HCb19Mt8uc7idtp0u8+vAJpeBJ43Byzmw0qy7jmZfLO2Zt/G74u3NE4u21hmik+rXhacvpwXy8neBnG75BBPmR+KnKfTyvVvrgvoqxfPpG+mrTMVXvL3PsRRrgBefO/DmOQCODxB4MKOMXxstrTl//+XXj2nxhPv7rr1bdldPPk1weACOKV7xvInfXXtXvN3/YRC/s63v4Yb5EBu/K9XsrL1PiufN3wqj5vWm+jB+5/fJm6ckKz3b/V42mn5ETRF7eE7ufPsRieXrZfFcgbezt7iw6bfk7ZuZ8ftGjZV1Bhu/R8fUU8KwvfWFJcXhxUfsbIyLhtWLD+rh7S5W1I3JR5vep7aRfvo757TnTqupHoBjBQQezCTj16y9z69cvf76lRN++v6z9vcrG4+uGbN/PH7t5NIaEe2uvjG+cq2w4jAA4+UAOHSExfPp3t6OtbtjG84Vb/d/yEm4OMq++e0r4W89tlSpluzdK55nx9oTl+3rsCu7LoyDvXSLF8zFyn9vRo9Kn2/PH1VU22/G4CkSXpy6Z3l7OuyfXfH23Pg9VGvp3uj/RhqHj6+vczx/nDOsXkFYQV+4yi7+uIR2+iFI3zlHmbPxUx43eS68HYAhgcCDGWSi50I9/OP1j5v0fWXjms3lTyxee3T1y5Oru0RrP3vz9UWE8AAcM9jiecq39+avObVuxNvUohvDb1fKefbOj8Szt3fH0fHxuzTQ3kzC534bInl789w0e5f2bIfe7l+wuXmRaNPx5/SjUrJ33dubcy5eJDMkL7m13rN3b0Z91r16q3nU3pX4Pdfb02Eb8nXhH59dyv3CzXwX6D30Lqyfl7y9vX6JcqQ6Wtlexduz6ufZJ04hbyfO3ofePOe/gLP6DhELOFZA4MHs4ej5T1kJdy643P13mxNXfrqyurRGtPvx+uMrMHgAjhFs8bxL+kw7UlL3YA68dyWft9u43t4+N0d7e+YbgT+1Tl1EZ+81f8nH73NzW8vM54Pz687YfO4CD0m2DYq9e8n5xc1NKQNP+QRgDzEfAsRPAL/4BRHT51+MNxi/YMNcdF9dLtKf/eJ772y++qP0V2JtvMDbs2he3qvwV6W9OH7Xvb0uzZ8rnIG3s05ya0BPDsTb+R7+6Ybt4b56AI4hEHgwezz6yuj5/NXX+eihvSDwdyJavLxCa2vs1DsAwLFAUneXaPze3Pjz92luLtX5hUicH2Xf2rsl7u3Bs1whbw6Jebt7mRS/s5YYTraPIkn7+Y3bW83uutRPAOY0Pm833m4Ip/TZ+D2H3OstfMN8cFrzLSAtfl/c3hgJu+UuvvdOc+WrP6Ki+F3aWnfxzji3916CrxQYxqUNw22h7zxFCtt7bKQvfOJgO+dIGZh/EEXyob1jMB44nkDgwczx+OsvzV889QQv4PaC+SdPysf4U+8AAEcYdvF76O3hTDsSCuzPfrbthe1s0ztfZh8bZe+dzKo7mZr8vb1QSr3ifClLD71dv95ItffPMUz4m9b6mHsz75PZbE/yJ4AL77xrlt7r9l4RPX6XGuaLPwS4+DPqW2kvOUrdWkfON4XNnD559jTe299/Z/xyUqVAOsXb7HLr5yc3CmF7FcL6+YHa6fUGeNHb761vnB7qY4EHGuwBkIDAg5lF1HMbwLOGf/LJeSJ2Pj0A4GiSZe8W0du5uzx75wvsrzFJexO/h4X3SoO999u20z68XimDl+x9coGj0+GQPH0wHgvr7ay0J8bvIcwtqrSXxe/paHm7XCEfjd/Z6Lv5dhD8B4ny4/daW+skwv/fuPh+89HB2Hti/K7Xz/fZQp+LlG8PtJG+eShbJD/wDDy+SP7esA/1gLcDEAUCDw4daQE8AOB4YO194ZNtItq5fJY4D3eRsnHG3n/ycudG1ttvBv3t3Cj75ueqt7vX+APt2yien43nVNqzF1jc4nlpuH0j/5wrGqK74pSwXZmoH91L512ZMp2e8rvNF6WK9zZ+Z739gtznn4jm7ZaiKoPc6fcF8fvSzsYoGOduvb0W+jY7qaxAOCoevwuN9MkT73rUz3v2nvKexQ3wSthedqDylOzV8fdukVyDAMCxBQIPZhapi10P4O2vpQJ8AMARxLV3FraP/eyn20S0/a0E5xfWvLOpu/eBQFoUx/bGSxcLs/H8mN3YezR+Dy3aHNWR/8AVjfxHN7SnlMpHPwFEh9tFCXVa32kXRfJ293HRtN+L36U+84u3NxO/O5i3YuP3gbbWsfjL5zl1b+L3G2+nHOjG7+lb6PvH71LYXn0dfcpDh87bibN33dtN/XytMFz3dgCABAQezBwnnnjK1MDzXeyRAH78yZryWwDAkcLE7569uyqueHtzwbdk5+/G7829P3+fiBIn20naT9Jku8lvJ/F7qO7iZDs1eyeu5D6M7qPyH/q2vSU62d4rns8olQ9egI3f5Vn37Sh7os1FTYyl+N0/MC38l1C83X1owcJ5aWvdxa3NzfO9CgT8B7Ej61Mi95wigvQV9D1RvH2IxylPpIG9XRhfP70i+brSbj5AYIccOG5A4MHs0Xaxs6vgJivkmIj98ZtPLzX+/sLyoQvg9/f3R6PRaDTC/xQBkILS+h71doO197jz2wv29uw1fPz+GhOhn/15c+X2T/iAvbnXKZ4XZ9oL9m5JHE3vnVMg/8TtpUuJ37lPALfbQ+K735kDY97ucnG8KTm8a+9Z3p4Vv/vv06NF38bvire3VybNvSe1fl6qUV/cbo+V2y4SkVLuut5u6+dZi2alPXehnVQ/L7fTb1BQyFCRA/d2A7M6Pubt+rA9AI4nEHgwe5xYfmF+dXeXaHf1jfGVa51/LZFWwD8ev/nGz1bX2uF1wgJ5AMBRgW19J3nNe2jvk18pzv/z98PAkE3miVN36+3tjc0FevzORO7XrrPnd+7q5udSGK77f/FeuhTY7ner7tTae2L8nrCjThTji+NNIrq9eNF8Ky329kRyvT03fvfs3Up7LcSR9Vtjv61gbk5yeGV8XX9pL6uf91x6+mF7lXl7SgO8suhuoO30zDvwU/Fg4wD0AgIPZpATV366srq0RkRrS08/+eiLVsYfj187ucr6+/iNpdW19m/mVzau1VlfCwCYbZTW94VPdoho5/KCdK+N30XnN9XyHq3Pn7vZDKhjtsd/xoy1s0j2Hna/uwm/sXd/sl2AXsSu195H5V/xdiV+j3p7AaG95+6ou90N4XlvH9+WivzDlwmFfETMLPoqI/H56feytxfE74q0e68xid8NssN7SN5ecQW9B5tvT3MjvUHy9uK1dv45CQvqB0WeindYvd18L0Z1JJgdIPBgJlm8trGytrRGRLurJ0er8/PzRLu7k+Vw81df7/zPu90dN79y9fo1pO8AHG1s/B6qu/H29reNvSvF8917t6VjJzc6xfN6tbx/40+Mgfu/5efSd4vz9eydxNH0d5wL5KX0Lbr856buud6ux+/5O+qSPLn5j1FXs70W/dz43XwL8Lo7Low3b6u996mHB+pePW8nLnLP68YPilbGZxdJnQPnflzImoEfRSpKz/L29Pr5aS638x/NFslXlXZ9gp3o7UKrAgCgGAg8mFEWrz26+mWbt7vuTkQrG1/4jv7ECytXX7i8fCUcelcDdKcDMDuwre+ut3t49h6qu/V2w2QRnRwkekbtTrNn8Vrfxbn0XFP95LdB/B719vYys9MuY/Rd+l46CuJ3eTtddupecUdd91g+b09/sclRbfwuZPjtjPrF1I30bP08G7lTPXtP2mDn3cLG7yqhvVcZic/Wz4vevj02XxPqwnr7FKR98gLe2jnV25v+/EoN8HyRfKU5fGiAB4AFAg9mlhNXvthfHr/2ys/W3Oh9ZeP6tdDSTyxeQdU8AMeAdHs38bu196i3t3dps+XDYvuz//C+qRne/uuXycbvivkL6k6yvXvF85JOh97eXs9n71Fvdy9Lid9DeT7fnrYV/wSQNJ2eUnfUcQPqhQD8wjvvsnPR+6yaT8z/48fKi+vSd84r9fMF3p4Fq8oD7bEjVdq9V6pVNs96u9KAoB7F18+vC9k189+Ds1AkP/zeu/DpSFbAMQQCD2aaE4vXvli8RvT48WOiEydQGg8AIKKF3zXGvvPP+RZ3t/Vdr5Zn8XbCK95ORNbeJdjJ826DfTgVbyuomR8JQ+kNkr07F2iJevFeOpKm3DkHbjWfAEqm01PJjrqJPCtV6z33zLP+LHl7Qfweqrv7KaGJ/Yvi9/6b56P08fbi+vnQ3rOqAxTC+nnJ26s8zsWzd1baaYrebmBWx6verozZ6/lcAI4tEHhwKIC7AwDare9de1eK56lr7wu/36G9vZ1/8ZJ08aR43tzL7oH/VCytl2bOd6/xB+OZp7jxu2vv7L+y2yF529+MdLa7xfNydF9nLx11vT0ddnWc99D0HXUke7v5iJCyqU6K37O8vRjX3vsOwG/j97qb59n6ed7ba++fb58VD9urk+jtZSPxQ6y9S96+eOPt8Ut/1fMpUUzfe8h0wvbmHcJPBvfWSX43AI48EHhwCED+DgDwkLJ34ibPL/y+df5/8RIRLfz9+7S3xxZOkzyUnrx2+lbjO8Xzgbf7xZ3tR4FzP3+fnG8Ee0TmbYy9897ufSBo7T0avzOR+807xM3PD+8KN72HKN6uxO8p3p6OLeD37N17dMqmuhClXj1q79H4Xcq9Izvnc+J3z96rTMJ3CdW9YP982oN6eXuf+nnP3gfaS29/sn5mmf0vgcUbb/d+VrwBXhHjKXi7NEWfDmJxPQCzCQQezDKPx6+9smSXu/sN8OPXRktrNL9y9aevDzS8DgAwM3jxu4GdOT/57e933LR8589E5ydpF93f36C5uU47vRC/s3m70pp55ycvn2vT+P/RxO9zc1vPnwv/rV0aa29Q7D3sfjfe3vz2eW2ynUXeJ3/HnJ+buhd4e+6OOuq3pk5fNX+hfY3baQPzWJRi9Z6Re3M+F3rX2jxv43fF28tg6+f1hXbSeL+e9F9NX8aGkLqz3m7i91r185q072yQPGKgFuL2O0g7AAEQeDCzPH7zabv13bC7tnTyy6vtXvjHX39pfri6tPbx1UfBYHoAwJHBm13nFs+zm95t5N50qjt5+8Lfd4rYlR3yxtU75wf2zna/m0ds/43WGE9Ed37y8ojo3M07e3t7//W1V/4rF7zz9r631yylEwbOh7jqnkLuqDwWL36XatcLUvey3fJZ8btn7xe6nw9upy2rc+N3TdrbhfNRe1fid6lSvXrebvDsvfo2u/JF9MVPlAU13dv71M+Hu9b65+2RJ8akvcIj1AZ4fWW9tJOvvXeZMMEOHFcg8GBWGb/h2Pv8PDWj6HdXX3lz2cj6Ey+szO+afN75KQDgqOLF76y6k2vv7sV/Zpy/6WDf4ew6bKff+ZumYd5rfVe8vbkgZu+WsI797D+8nzsVL9fbpfg9cS+dfWJK/B56u31u+pA8ZUfd+Vtb0Sn3KbAj9C6kdd0r7JO/Z95wsd8UPYvk7bU2zzsP4lvc1VtK6uf7bqEXj+Xr5/XV9NLsgP5EFtTLmyzqPJ1T96ntvdO9HQAQBQIPZpTxJ2tERDR/deO6KZB/PH7t5NIa0e7H64+vXDlhVsddudYE9burb4yxSg6Aowg7u87lzO92iOiu3BVvUbbERTfJS1LtRfqJMGF7+43APujsz6/f4Srz7e2st5/9bNu08Wel7txo+ozi/BBWqsNh+Inxe3RHXXH8XuDt0fjdmrMSDm4uXrjYXZuXHr8r0u69Q/Hm+eZXA++fb54iDdirt9DOQ5d2S/FIfAmlCj23M7+pn7/xVvKjhVl0ac+VttylA2kHoCIQeDCbNPXxtPJT295+YvHaxsra0po1+ObHV65f/fjk6i6tfTK+tgiDB+CIwk6tO/M737r5+J2bPG++CDDHttmXjd/ZRXTNIZn2zg6mevIfmEMUeyei/eCoyfB8eQifwY3f+5TKh/G7lIRHO+0lojvqilFWzRen7l7iHS3tdR0+ndDeBx2D33mQMBdAOCQSv/fcQl9WP8+qe90Ze6ES6wvq2en9Vegp7TXfJLB3eDsAfYDAg5lm5XLnf9gWL6/Q2hrtfvWIaFIuf2L5hfnV3V368uvHdMiH2e3v749Go9FohLYuAAxe97sh9HYTv3v2zk6tW/j3NyYXtPY+id8De+/c+x+ae5VddBTU50tboM4ab5+b2wuK83V7N+wTnfvM32Zv7T0av4fqbrbTJa6mCze9hyjersfv6d6eG7/3XDVPQfwulamn/zd4NH4v2F1XZfN886BK++cnT2S9vd4Weg9Jj2tJu4Qu7QM/mvf2xe0NabJA/XcI+vkJ0g5APSDwYKbxnfzkk/NEQdh+4omniHZ9rwcAHHay7N3Ce/vvfEWf/Kpr76G6W29vzm/tXY/fJW83nOVSd1s8H7V3HcXemZb7zyYXG3tPid9Fab95J3G+PXPmYHm7wbN3dtV8Yvyur5onIkrYNk9Em4sXpP+cTGfnfPMagb1XGYbfeYTg7c1vc8bgU0L8zi+lz5H24vp5Vt3revukft7ZhZm4pn44WGmnYbwdE+zAMQcCD2aTJlX3nfwIhe0AAB1r72f+4w4R3f3zBeLs3UVaFOem7pOLnVH2xG6h+w/MXZPfCvZu4veRcDE7PK+YO98864bwUuu7tO/dVffUJ9aYcu/F70rurdu7Hr9XHHpvYVfHhS8gPVrC2rJUoH5h43afrXUhbNytS3tW/G7r53Vvrw7v7fLUgEoPLQ/bxdX0Zn1GDCVs555VOCFfb4CXvX2jz+a5lH31ABxbIPBgRmlU3W9sb8P2Tht82zA/JChuB+BAcO2dhZ1dF71r519OYnZ+EZ1g7yZ+D+3dM3P/vyba3xqx5+N3udM+hbD1Pdfblfid9XZW2tPjd9bb7dNT5uRxZ4qWm7JqXorfE729GMXb3RdIjN+V+vkCb++DZ+/T9/biA1Pid9bbaybtMYffeOnHwdMPOG8furt+/fQyES3D6sGxBwIPZpUTV366srq0tvazN19fdPbDMW3wj9c/3hUOAQAcTkz87nm4G78r3t5c0N7Fxu8W197P/PsbRHT3X4r97V7ruxSnKx/59onOufY+N9fT20NYbz/76bZ5UFbqnu7tyqODM+Ob6lJ21Lnxu+Tt525tZc269yjz9vT4nS2e77+4zkPqLZcmAvR6Fhd0R729uH4+0dvLttmxKNvppSECveg6vKmc9zhwaaeDmIoHwDEHAg9ml2bq/OrJp7/auH6trZhvDH7tkzdfP7lM9Gj9laVmYbw38Q4AcEhRWt+j3u6x8LudMMXaCRT9THuZsXe9eJ7USvhoic6dv37ZOHy4l87sqyMiyrR6afK8PTD6mcCL3/uUyieul6e0ZnsdZcl8ziGd+J339krb5i3ef8QVby+L3xVvb69M2l3XXCzXz0vV6cPl7QbP3ututgueJXr7cA9tmJtjJ+fnentx/bwltHf9tKbwvmoDfPP/a9AAD449EHgwyyxee3T1y5Oru2tLJ9eI5ufniWh31+j62urJtVX3Yvg7AEcBtvWd5DXvrL2buxa6DfPMAnkTzreDoJTsnaRddN259In/RsmulJ/Yew6huofnWHuPxu+ht5dtp2tPK/F2PX7PmnifFb9L3u4+N2PbfFq4feHtd905ZLXw7P1C/rK6+CPkXfTShD/+nLT4fTob6ZtntfXzrLezr1q4005qgJc31S/eGY+5sQLVkdrXDypsN1PrAAAGCDyYWR6/+fQrq7tOcfzurlwpP3/10TX4OwBHBqWJ/cxvd4jo7rflrvjuXWHeTlbdDXt7rkRJM+ddUq5RsFvczd47afZeFlH/V+ydXR13Vh6PtyWUyo8UaZ9Mpy9J3VlvL14v3zl54NH3ESrZO+vMireXxe+KtHtvUit+7+/txfXznr1PI2xXvX0KT6fD4O1LN97e4FoJhsN8U0bgD2YKCDyYZSRhN1k8PfXUU0RPXr68vIiJ9AAcCWz8Hqq78fbmt629K8XzxEXuzV1hV/zenlc8n+Lt/m///n1KHjJvV9Ybe3+SG2sXxZZhK/Yutb5L+97PBrvlPSR7J+fDhCVrOj0F8btStR6191qr5qlo2/xILccw/5QuvP2ufiCp9fNS0D1E3k5c5D61nXbN4zY3SR741/ehQqx9gN7OSvu4dLmdgr6y3h80YDqSBigbibK0s5EymR+A4wAEHsw28/MrL/z08hN08uRJohMn4OkAHF341vffioquFM/7V/7dDSK6+69eItbeHZQsPXcufR/Ofbp9J6ENfuGT7Z3L2mVh63uBt7vxu2Lvhn2i89p0+iSf5/P29tiUUXniycPn7XYynO7wRIUWpBeoV7T3KSyid+vndW8fiCreXlY/b/HsfYiwnW2A1739QGC34mFCHgAhEHgws5y4cv3RFSg7AMeDdHs38btn77y3m2vMdLp/pVW5s93vRvv1e3OL5/3bhfh9+1tno/p3trX3lOZ5vkh+Mpo+qf0+au89SRl6n7imrtaq+RTYsfPm0ReIbnOPNv+XjUbJNn6XpP28M/puK3lRvFI/Ly60673BTiFUd0nas3bRk1A/L0r77U2Sh/bXgp2cT9Mqkp+atGdNsJO22UPdAZCAwIMZJsfeHz9+TET06NEjIqKvP/nkKyKiL+nyF+iNB+DQcOY3d4no7nfOSBd4re+at7uXtQbuxe+6t7v39plLn4WbmSsOf/aTBGkXMvysaXle93sKW8+fO89bN39I7rK6jDepsWpeqp9XvD2RzaULFxOWxoX2fj64a2upHZ5XhLKInp3t1xNxQv6BhO0DT8snWdop09t71s+H9h71dvPmQ4i0JO3mTyeN/QcAGCDwYOYR1PzLL4n0wXZERPNPPiY0yAMw4zRb37v2rhTPk6DupHbF62vez/zdjaak2Wmz1HP7KvH72U+39/b2vvrrl7/irnFFfdvk7e1PpPid9XZW2tPj9z5V6+KZ+d6eFb/7J+evmmdhvd0unPdg43cX1uH5efiV9sPb+F2Rdu9NqpTNH4i0N48O1F2S9tyN9CTXzyvSrrcMVITV4FmrkDdMc5s9AEcACDyYWR6/+fTJVV3PjyL7+/uj0Wg0GmHkKTgm5BbP+1dGQ/tWwpUtcZ3UPehMTpk5b9bUkzA2z+Ps7yd/utC3F36/UzaXPjwqOtwucmBsdVwKXvyu5N49U/cUb8/Fxu+St7uP9uL3qL17FHt7Qfwe2ruyiD71TK5+XllHfztt097k/OT6+RlZTd959FSG4ZGcXc+gt5dJuxlBj39BAsccCDyYWU488ZQ8h97BHUlPTz55+YkniMhMvcPcOwBmnMnWd8fDPXtXvL25wIb2YfE8W2P/79rm9r9VG+PNMvnfN430vLd3N8kv/G5HGn3vESr6wu/9l1+Q6+Td+L1PqXwYv1tpr/svyKy3py+ZJzl+L/D23Pjds/cq6+ssm0sXwi9Y59e3lL79Alhb7i/tLIq0D/G4yXM5b59ChTwJ6q5Ie5Pb1+t7l7z94tZ4ClG/RKjuKdLOjtwDALhA4MEsMz8/35q5VXOYOQBHDjZFj3q7/6vYWDvr7c0Frb17Te8eShju2btBd/hG1bpn/omX8P/ZAqn2bmHS+092iGjncuQjQlg87yl0LXtna++9rwYFbfYkL5yn3qk7Za6d1/fVZeFN3esZv0sRd6K3l9XPh/auFAtwQwAAIABJREFUvFuV+nnW25UeAfGcnPp5eUH9UEE32wDPevvU0n4PaUIeoUIegNpA4MHssnjti5maP4fidgDq4ra+u7Dqzl5JNrRv7T3q7f5vrb13PVxcRzc3N/mtsAbMGz7HdAgQkRO572UuNw5Xxxlvb3/btNZHzwlz72l6e8GBUqt51oY5JX7P8vaKVJF/i+Tt1VP99nHstrnKYXtYPy95e+f62vE76+1TFmYlbK/9oPgEO0g7AAcCBB4AAMAB4LW+s03s8f5251d6tbx/49++RFz2Hl1HZ69pmt4FJGm3hAXzBil+t9Lu2bur7olIJfe17N37s+venhW/e/YubJjLi99ZaZ88Ynh7DymI3xVp946tFb9Px9tDdG8f5oni+PqynXN96udDe9e9veeOehbThc5i/lBjYeB/XzI/dAJwhIHAg8PG48fjR4/o668/+YqevPzEE3Ty5CKq6QE4xIR+zve3y8Xz1BXvuPZ3W9+lUfPsQHtp+v3kAq5+XikQcAnL9cOw3SB5uxK/s95uvxRsCw8qI3fDPIsUp/eZdWfjd8nbc5fMVayfLya09+Heh/X28xu307fQU4/6ec/eK3p7WD+veHuth6bAyvD0i+S1pH0qG+wBAC4QeHBYeDx+7ZWfrXW3xq01/+/8ytWfvn4F6+IAOCzwk+eV/na5eJ69bDIMTw1trLqHFe9n/u4G7e3R3Bx7grdPnmLe3lzT2rsUv1skb29uz0nddW9vrqln7+c+3U4/K4zflRr4tA1zSW7v2Xt4l7H3gvh9iBp15insvPohPyJI3u6+z0Bl8yFRb+9TP88XyXNHFeycS2dGvJ0EdR9O2jHBDoAUIPDgMBDbKLe7trq09vHKxhfXZqppHgDAkW7vjYd3f6Un9uwFnd8Gk+e1fvWuvRvhb+x9b09cKS/voqdY8Txzva3Vj8239+J3qVQ+ZTxeGee6j06P3yVvP/vZdtmIO/98dud871l3Nn7v4+0XuuKt1M/38fay+nnd2wei2Nv749n7LITt1KNWv+Qd5E14jbTH6tjZYXs98T4iYA4RABB4MPN49j4/v/IUra3tmtz9ya8++XhtbZeIaHdt6eknH31xBTk8AIeB0x/fI6J7L5yWLvCH0stN8iz+LjpuY9yZNz/YufJ9+7fW3vW59Mo+eZLtvbOUzoH19oWgwd5Oto/G7+xieelBfTC6fudbZ8lR93TsCD3P3guq7qX4vczbc+N3z97t+eeJttLq8LXDhdJ0aZ5fRTx7r+XtbP28KO3j2ySP5esPK8aDenvYAK94+3Cv4SF5+8GWxyt1+wAccyDwYMZ5/OYrrb3PX924burkx7S2tEa79MTilSuLV65dezx+7eTSGtHu6itvLkPhAZhhTPzu2Xukv11I1LXQvrV3ydvNX7j2PvmtYO9sq/zkQcLk/Oa33db3eNieD7s6Lmu3fC30+F1a+c5eX7phTq7D7526U87m+fO37ugOL8Xvire771A3fr/NJvyxu/rUz+ve3lyT2TCfUj/f39v718/zRfJVpV2fYCdJu/lDdYoRwtTd/ERYw9GfUN0Xtzdob2/8sjg/D4BjBQQezDbjNxp9X9nYl+vjTyxee3T1y5Oru7S7+sb4CgrpAZhNcovnPaKh/eR2WaetvfvvZn4bzqVnvd0Otzd98vbnavE8qTH4nwR99ZO7hOJ5ad+7lPNPwd4lWG/vM+LOYuN31tvPfnanfYHEoXRi/J7u7S4jebz/BUG/PXsfdBI+K+10EHXyQ0+wl6rQlRn+w+HZe8rnhloN8Lq3Myg1893/9uvxSthFB0AeEHgw0zz++ksiIlrZ6Ej5ySfniXbpy68fUzu57sSVn66sLq1R54cAgNnB2rvr4Snt6+Z6gx7a82X2b35ARHe5sH3ybt450lx6aSndtxcoVjzvH+VcHBlNH9h7urcPh1Qz78XvUt5OCfaeuWHOq8Pv3GXsvSB+18vUEw8ctVH5bZOEB97OttAfjLdn9vMnxu+KIR+gtw/63M47HPRA+1xpn9T5Rze39XB4yds70s6+wGhEaIMHxxsIPJhpHn21S0S0cjkhU1+8vEJra7T71SMiCDwAMwqboke93SNF+yfXOP8KKMXvk6MEdSfZ3sWjYt7uXqbE7x6evZ/5jztSd/3kFjl+18fdF8N6u32B/g+Vh95VmHWntJfbrwnKtPzwQLbQXfLkFG8vq59XpN27uG67e0i6PBfXz7Pezj7XPKK6S0vSPsSzdEJ7Tw3z8/euRyfYSdJ+8c6YiDa9toLuC5j6+Ubc4fDgeAOBB4eRE088RbQLVwfg0OC2vrtI/e2svYehfXQifXPZle9Lv6Jw8rw5p1V9PbonLn4P1T1aWh+yrc6cT1wsTzm75dNx43f3r1NW1pmnF8TvijPr3p4bv3v2HpYAZK2sCxHydr4FoBahvQ+0dk6S9vPrt4loa3kaxeqevVcP26WadkXazTcIqee/LvwmvOFW0MVCeKVC/qIyJC/6+WAqDm/+lwtz78GsAYEHR4a23P7ws7+/PxqNRqMR/jcDHA281ne2if30r+8R0b2/EPvb3buyxtpJ3P3OmVDdpYheLJ53huRJLq3YexOe/25nr/tvq4q97xMtBAdGi+cXPtmWvH3hdzujf76Q/t81YfF8ircXI4btn2635fr9t8Fxw+r7La4jJ36Xw/Y73sUV43f2ofpdufG7Wz+ve3t7ft64u8T4PWUS3nBEpX06iFX6B7E63qCH7RHyw38AjhUQeDDTNM3ua5+Mry1GmuAfr3+cXm4PADgIQnU33t78trV3pXieAns//fE9fqxd+6+ATfz+5gd2cjKT2wve3tybUDzv2fuZ39zV19FL7CS49M6fLxiHTyyepyB1d8fdmx57ZdaaxVP3Am/Pit8p3DBXsqxOTMvLvD03fg9Fusok/MRnGQYK2w2hurvSPuBza3h7n/p51pkVaU8Zj888RZ1gp3TXF6+Oz2iAFwjVPUXaNwsWyKOQHhxXIPBgpjmx/ML86u4urS29dlmZQu/sih/W35GNA5ALO3ne9Xb/V3LxvH5ZJ37v2nv4150bY43xEuGOurAEICV+J6J//JcvEdE/Jlh0CgVr6hY+2TlLtC2Mx3Nhvb09pFfqLm6Y47y9LH7Xy9T7p+7SIxppF56eu3neQ2mnr74rXtpvR1PxdknaTdWA8m5VEOfhTTFpb96ELZKfbmu9ZfzKj6RfJYXtAIB8IPBgtrHD5deWRl+ubFy/ZgL3tgn+4/UxffWzj9d2m1Xx3rR6AMDBkm7vJn73tJwvtueuYe3dxbN3MbcPbgnjd363PDdXL6X1XVoRF7nrzxfMP1k3fme9Xd8tb56+8ElzzdlPJhcbmT/7yc7O5aYoIFR3+3RlPd7kWUL8zm+Yyw/bQ2z8Lnl7yrR8FyV+17y9HrZ+PmUGXsGsO6l+XnLjdGnvUz+ve/vQ8PPwZkPaSfD2upvnWCRvH0jaOxPsADj2QODBrLP4+tX5tdVdItpdWzq51t0Hv7u6tGv/Zv7qI+g7ADPIc7+6T0T3//I56QKv9T3F20Ucew8j99NXP/R+cuY3d1OEn5V2yuy67xwYNMz/k393Y25ujuQN9goFkXvqyVwm7xXtly2Z1zbMxew9K34PNszxXxAK4nf5u8CdxLXzVBS/c2X59YvkJWk3z6qe7bOE6q5/YqjV9159aXxZ/fzkfQJ7P5C8XZT2rU0i2jw/jRF9AACCwINDwIkrXzyi115ZXdt1ftg0wbfMr1z96etXsP4dgFnCxO+evSvF8ySoO8n2zi+T50rlPXXv3Dg3p3R7SuoePndyixC/i1PufusPsUvHU/f06fQUxO+Tn19uuuI9+uyZt/G7sGGuTfITavijsPIcbbyPYuN3xdvdF6gYv7O2XFHa3fhd93b3farH74obDxG2hw3ws7A0XnmTKUj7pAHeQfT2935BRMV74AEAxUDgwWHgxJVrXyy/Pn7jlZ+t2Z89NT9P9NRTLzx5eXl58QTUHYDZIrd4nr1SGUpPicvkg8idp/vvoPpi+fC3O+y8uu6oOebA3xb6ML/3Lthjl1I83/mJIM8Lv98huUI+K3737N37dmBeoDh+L/P23Pg9yPPrbJ7nflW+KJ4y6+cNoboPEeyHiBPsp1IhT1KRvLw0fqD6eenzwcGE7eeEin0j7bUpmWAHwDEGAg8OCydOLF77YvFa+3dXrn1x5UDfBwAgYu3djd89e1e83bsgWjwvLpMX7P3e6ovE5ee6t3vX2J/z9m5+1Xaqu6c1+Xy+vUe9vQzW28/8x53oiPu0w7W8PfoaKSjF6v1TdxL22PXfXSc+TvL2m3ekjXrFpDTSD4S8dm6L5BeT6FM/P/TS+NwXcN5k8/ZiSVF6/wb40N5Fb28/fZr6+WlPrcM4YXBcgcADAAAYBLb1Pert/q/U4nnmnL29e//bi8pbGXu3lK2UT7F3wz7RSE3vdVhpJ6Izf3dDqlwti9+bYzM/B0jxe7q3e6TH76y32zeRlt77p8nxe7G3p9fP2/hdkXbvfarE76wep0t7n/p53dvd1xsofpdeYFBvZxvghdj/AMJ2eYd8+zJSg89wxfNzc7S3ZwbXWSDrAFgg8OBQ8fjx4xN+ufzj8Xj966/piSeWF9EED8DB47a+u0j18OlD6UnxdntBa+/R4nnFpSPN7cn2Lp0Wjd8lb29ul+1dh/V2VtrL4ndFm3V7Tyyet3j27n1BSNw2HyJF3Gc/3VaW5/UktPcq2+xCBG8XW/rrwq2Ln0Z9PvtoS8HS+D7180rYzj2u19y7+MtEvd0y3S73cI08D+J3cIyBwINDwuM3X3tldW13/uqjL66cmPywXf9ORLRK8ytXr1+7AosH4MDwWt/ZyfPPfXSfiO5/t9dQetJze7V43r+4/UygL5bzhD89S9/5zpmF39y1tyj2fvfbfsk9dffYKRP1mgu4+D3d27Ow8Tuft7fvULYnz0WS5ypr55XSdPtBIX3ofUr8zi+cU6U9K34P4abW33FfZpAh9svxsL3Og4T6eTntv03y6w1HaO/Fefv4wkUiWsx3e0na9XV9UyNU94vvvUNEm68GU/Rg7+B4A4EHh4Hxa6MlM75u9+P1x1caRR+/5ti7+e3a6kl6Yh/L5AA4cEJ1N97e/Pa7vYbSSzc2uX1g77q3e0Q3w+WWwUe5y62Ok/bPZ8XvZaXyWfG7Z+/st4OC+F1JvHVvz43fPXuvsn+ef9Clc+HXmSHCdmVXfP/B+NH6eVaM06W9Z/28Lu3OU2runOPfRJDhoYvk2QZ43dsPik1hTh5JDfyQdgBaIPBg9hm/ttQOn59feeGJ5i8fv2lH0q9sPHr9JK2/cXJ1jWjtZ2++vogUHoADgJ0873q7R/pQeluQn7FMnpN2snofODC7kc7SX9rD+J33dntBft+pjd9Db7fHsg9NJ2vhfG72rkn773fKts0zT+H22CnenrVz3kNeOMev0+MPKYrfPXuvuNNOeBxjzkp7f3VYdU9v1K/zDnKCPf3m9mlKe9YEO8nb+0zdA+C4AYEHs44V9W71PD36qknfVzauLZ4goivXHtGXJ1d3d1ffGF9BCA/AlEm3dxO/pwyl9xrpU5fJC+pOsr1LRObSJ1u9X34vWHSnut7bbPftBUqre/e0OfxkkBu/W2kP7V0flddckxC/E2fvBQPwlfg919sLsPXzire7L1Mxfpd3zsWL+fvUz0ve7r7VQL3u0r76gaRdaoDXpH3jNhHdFt4z9rheDfChvUe9vZm0FzbA10CU9tubJI8GAABIQODBrNOI+vzV651YffxJk7+vXLb/u3Bi+YX51d1d+vLrx3TI59nt7++PRqPRaLSPmjFwqDj1ywdE9OB7p6QLvNb3FG/3yFgm//80tfSdufScvYfxe6ju0dL6FDx1L55OPzkwecl8bvYuhe2TDXMJg+4le9d2zssvkxu/Sym31LfPnJAfvweL4nt9I9Dj9zJvL3+Ztn5e9/ZiUurnWW/Pkvb+9fNRaZ8+/Ez7ma2Qz/kwYT5G4N+FAHCBwIMZ5/HXXxIR0VNPnOB+TPNPnpz89MQTTxF12+KrA7UGIMTE7569m/j9njCsbiQMpWfG13tl8+2NZ359L2spXcpGurKtcinw/33xnTML7Wb4fxI0vU/eKkjO073dvyAhfifB3gfaOa8n7dvumzjWfVbYXadUp3tL5mrF7+xCO8Xbe8bvkrSbrwzsy9TFs/cpLI0Xw/ZbW1vTKtE3sOquSPvtZsDeMLG2NNN+Jr19uHH6ABxDIPDgcNDxdHIK6D2xJyKi3a8eER3uBB6AQ4RSPC/ZO7UL0ik2lN63d4e7f3HafbDk7dJGOubArr2f/viePpc+kZG6wXjnO2f0pXEWUdrbTwD6fHuSDVw82V7vXFAQv0t5O2XZu/ery2dDh6cgde/TM6/E75In98zbPdz4Xfd2960S4/fE+nk55O/eaEY2OOUt/evnFW9vLsjcSF+AuDf+gJJ2Itq8cJH9b4wL49vKwrwpEKo7pB2AgYDAgxmnCdU9J+cD+PbHvu0DAAbD2rsbv0ft3bBPdLpr7178rti7PcE8Xu+KVwgVPVR9KX7XzdwSvWaf6E9i8XvIQOX3iRF9Cqy3n2nN/25sxJ1i780Fl8+elZbYyd7eJ36XvD2jJj8/fg8VumyiXhZ53h7+bf7mcFs/zxfJV8r5U+rnD1za2QZ4vkh+yEH6OmZwHUtehTw3Nh8AoAOBB7POySfnify+djaAf/zmK2atHJfKAwAGJGx9j9p7SK69pyDF72y07l2mz6U3JDp8AfyMevll0uN3RcITi+RT4nf/5O4txt6V+D1q782zLlfL2/0XaON3Rdq916gVv4t76VVvz4rf+edK0n7zDv9W0qIE/Vcqnr3X8vYU5BV0zEK+pAN718+LRfLvvEtU8pVEIn2CneTtRzJsN5+n0S8JZhAIPJh12gh+9Y3x8rVG4YMJdo/Hr72ytLbb/SEAYGDc1ncXqR4+5N53n2sK6dXBdQr7RGfU4vnJ3wr18CnV9SE291YcPl3v//FvXzIhfK63R4vnJ1eyeXvOejm9eD7F26tjSzAozd5z4/fQ3nvV5Mvxe5m0F+PWz+ve3lwfztJTFf3OyquUUD8viXGKt9eqnxf2z03vw4FEaO+TvJ37hy/Nya/wJoK0m28Tpl5gIDDBDgAWCDyYeRZfvzq/trpLa0snv1y5+sKT9NXHq/4E+hOT2XUrG1ghB8A08Frflcnz6Shr3vugtLLrk+1Cc+YXyzmH3DU35vfP/7e/fem/cT+X7H3HfRNHvxe6Mh/ZNu9cUzajrsDbo/F7Fuze+2LYXfS6tPeJ30Vv/3SbfROJsvg9VPfU2v7SgN3Qx9v7Pbepn1fCdu6u8zR8/bykwTNYJD/9nfYAAA8IPJh9Tly5fvXjk6u7RLtrq+6MeSdqX7y8Qmtfrlz96etXoO8ATJdQ3U99+IBezPP56uouLKi71z5Os2vPvaUmcyW6n/h/foN6SnP7jvKrby9IU/HYoD5rvZyN3xVnHjp192gH5vWK3wu8PRcbvyvS7r1P3fhd2k5PMW/XV9lp7O3ZMm9J2s1HB+XdqhPa+0Hl7Up2fVDeDmkH4FAAgQeHgRNXvnhEr72yujbR9/mVjetu1L54DSVWAEwPdvL8qQ/9WvoCnvtlW0v/vRKl173dI1o8ryh0WeG9TriIno3fFXs3uIXllFZgr8fvC+3udz5vT+iut+jxu7R8fgikiHvh9zvpr5Ebv4f23n+bnR6/S25cvMcuSlM//9Z7FPP25vpL5ygzfk+vn2dX1tPw0i41wCvSbv440gtPgdDeh/Z2TLADoAwIPDgknLhy7Ysr1x6Px4+I6OTiIsbUAXBg1LV3Y5sTbyciovs59s5KO8nebuL3lLXwFjvlXnpWSO7q+H/y5gf2r8uyd+/pKe3xicXzKfPqzTUF8Xt/ac+K3xVvd9+nVvzOLqWvtYJeQpJ286GBfSXxqNL4fevHr3o/6TNgL+/RsgMfSNgelfYDgd1pT5nSzg7MBwAMDQQeHCpOwNwBOGAme+M+eEBED75/inpn7/tEFfatd5HsXUL3dv/nA8TvIbmfAFzS18tLxJfDF5zpxO+St59p0/4h8Oy9Zx++Er/38fas+nk3fte93X2x6vG7Sd1ZDtzb9Vl9sTN7NcCz6q5Ie8qWO+FBqRPsqnj7oJjBdRZMsAMgBAIPAAAgG9feq5MVvzdD7D9qAvzoAPwwfmdWwatj7RPtPWs9+58E8Ttr77kr33Pj9+INc1nxe6juxR8FRgkr30MUb+8Tv0vJdvqW+GJCda+y006P3zVpX7ve/FVs1VnP+nld2qfPbW6JPR1o0k6KtG/cJvmdp4zn7QAABQg8AACAVJq9cV17Z+P33AXp97733Olf3ifH3k//6n7KKnir7p0fqsXzzROlrXKCvacQnlllUXyut2efL4Xttg6/R+pObfDOnM8da17m7O92totmyyuqXGvuvfugs59tK97eubJq/C5tp9e9vUr8LkXZZ39+nYi2f/JKn8PTYdVd/NbQOP8gVj+b0k4xb58dQnU3pQTS+wMAIPAAzCj7+/uj0Wg0GqF+DMwIbuu7ZO8PnOHzBe5q7d2shY+ecLpr7yZ+Tyme90zbPE6fhC/F79H18mfa3XISC7+5a/dyefF7H3VPid8psPeCun0pfme9Pf1bQNThbfyuSLt5K+kLgkdB/O7Ze93B9cGzSqS9GDd+16XdYuw9PX7PYkvaVz9rYfutLelVp0CutEvD9oYj3G9vGWKJPQBHEgg8ANlArcExxGt9b/76wwfUlXaXU2989BzR/de/W/A469KKw5/msnf1TN+ijbe7T9SL5zs/UZ3c8/wzH9+THH4hrVR+cmDmenn/ZGFpnFKxnxu/K7acOC3PLqtTHN78x5FVd+9TQt218+wTD8bbs3fFl8TvrLqf/exOz1Xw7eHx+nlWhqcj7WwDPOvt7h8hfUJ+8Di1AT78B25+4nwlCe190LA9a4Kd5O2QdgAKgMADAACIMRpNLNrpex/Jy95PvfFR7kPY1vdTHz4wPzWfCcxrsOouxe/syndX3SlnC73xdumbwpmP70mCfebje3Y5vJkkH6o7m7fr7fqJsN7eZ0je5OQ2fufz9rYKIGvbvMvZ1saNyYsr7nsvn1fid7GXvt/y+RBbP69Ie3BxzW8H0o56Cqv65+Y8pawYv4th+807yhtK9K+fV8L24jPz4D6X3P7RD9hrZ6dCXpT28W1qB+8BAAqAwAMAAODgdsV52H3jz954aH7y8KVnm98F/36fcprlucyx9t7sOlbaKfB2j8T4XSm8UUrlrb37twhF8um1+iwLMXOO2ntW/O7Zu1e9n7WsboFTcX7/fIK094nflRl4g+6rD+29xq54LX6XrDjSiq/8//Eie1e83fxF8U67PoT2Pj1vN3T/Ic+4t2sV8vnT9QEALBB4AAAAAQn2btgnOhXYe9MYn+/wlvsvnnId3sTvz310n9KGzLNI9i4Vz7Mr38vaZlj3jubtLAttgK8TenuVvvrJ+exmeLXrPhdW2mmYPXM2fk8ZXJ/eKp8Yv7OV8IPvipek/dNt6ZUYWlF3t9mlvkBbP88XyddedJeIKZsPSZT24vp5kb09kqX9/FvvEdHWj8V1ADoVG+D1sB0AUBcIPAAAgC7J9s7SGWvXo4zWc3jtSs7qn/tlu1guZymdIVR3U5l/T/46kAgv7b++F11Q5wb4UYf3/u/nhu3KjrrwPcPMvMDbc+N3ydubZ7X2PkT8Htp73cH1LpIhZxbbp13sxO+6t3cPn4ZCe/Z+IN4uSTtNMWxnG+ClInPj7TNCqO5VpN3082PSEAAsEHgAAAAO+fb+4KVnT914aOL3cKXccx8+uC+3yiedb+P3Lrq3N9d0x9qHuPE7G7lT2lh7hSH21SkOb//vV6XF3aDthx8yde9of+3UnbiN9BST9j6L4kn29qHL8olT96FDfuYdgn31hhRvL6uflxrgFWk3dQTSqw5NrrSb+P3C2+8O+E4OZnAdS5a3mz8mJtgBUAYEHgAAQF8mre9djHsX70K//+Ip9nNCqO6et/u/VVvfiY3cP7rPPiiRiLR3H2ee/j9c/VA/zQvS3X8y5h+v+Yni7bnxO5+355TiR+N3/hGx63vG7wXeXoCtn1ek3XuluvG7tKC+urfr9fOKCU85b49KuyVlPD5zfu/6+dDeDzxsV4ydUCEPwAEBgQcAANALa5LKVrlih7coLi3Zu4nfFXsPh8+7OX/6VvkoStguxf4sUWceLnX3Tm4kvzR+z/X2/kj5dlZHfcmi+MDehyvLpxrSXqt+XvJ2891Bes+BYNU9q2N/CEzZfEinXqDGuj4WpQFel3bzhUJ6eQDAFIDAAwAAqIO0EJ6ITn3w4Dmi+98/RUTPffDg/vd7FdXr++cNUuu7tDHOK9Evzt4nB/7qvr5b3iUav1Ng752G+YQB9Xr8Ln0a6PNFwIvfJU8+85u7WXP1suJ3xdvdt6oo1fyi+ISy/D7BuOTDyli+Wrjxuy7tzi3ZG+lz6+fZ9fU0w9JO/Rbd9STF2AEAswMEHgAAQDlsiTuzVa43TXd9K+3W3tn4PWx9T/R2/7el8Xu0aN9gZ9ftBTmbWIQvD7rLlW1Fm/WjsuJ3xds7pw0Qv3v23vMRJYviBwjbbf28Iu3ei02h151V97o76hPeoY60162f15Nq80lCevP4Q3s3wEvqDmkfjUaEKXpgVoHAAwAAKMSzd+vthslWuQ/ylrq7hFPxXPTWdxK8/dQvHzz4Hj8Yr7mrRvF8evzuwnq7vlsuZT+8G78rm+elZfUFsPvn+5+sxO935bVz4i394nfJ28/8bkd6GeaQovg9tPfiuXqdY9Pq58NN9ZYpSzsp3n7zjjRyf2hSpL0yafs+wp32lmkaOybYAdATCDwAAIBeeN7u0cfeJZq59GrrO/Mmv2zexNh7Fsr1SjtIAAAgAElEQVR6eeH6eAW+tzruv6+++N+5y6Kb4dMJ1b3gcD1+z/X2nvG74sl1I/3oonj3y0Lu+roU2El4VaTdxaSNkvVK3p4l7bXq51lvd49t75rynDzGkHVjl+bkN8zN9W+Dl7xdlHbzRPmjALv0DgAwNSDwAAAASjDx+7P/56/Y3zZb5frZe+IeeAPr7VbamcPT4ner7gWVlCnxe5ifh4/Out1FCdulo8pC8oHy9sn5Th2+Ju2/3UlcO09F8Xto7ykN+X3o4+1V6udFaf90m+SteAOhhO31HpFXP78l1u3Xi9mjDs+Ztijtt7ZIfu2Dxex+t6B8HQAJCDwAJezv749Go9FoNOj/wEznKQBYmq6/rHu4f3fUW98f9JhgZ6bZ7xOd/uV9SgjbmaerxfMWT56r2zs7O+CJf/vhXPvP07xAYkK+wI2I99+ndx0+BfG75O2JQ+kK4vfQ3usuovdgZ+Dp0p4Vv0v187y3D7Yr/k73cXe+eY79zyd1XzVxm10tQnuf8hY6yzSk3YNz+KYBfqMTg+vePoN40g4ASAECDwAAoEPKyrcmfueK573W92Jd1+N3Sd1Jtfco7PD55355n+THpWM3xnl2ZCJ3d45dYsW+l5kr2pz4ISAxM9fz9sRt80kPkgbgqQX8PeN3cXD9wGE7yd5u/qJgiV0K1t5TpL0n6fXzUvt6orQPUT8vevt0mu3lgvZDJ+0GVt3N9wilVx8AQBB4AAAABhO/N3+tOrxi7y5RdT/1wcMH3+ezetbe2b1xtko/5UuBFL+L3l6KG79Lm96jQ/ISrZvP29sXSNkzn1g8zz6oWNSV+F1ZzD5c3q6H24n2Xha/695eRmL9/Pa3zore/g/v93mBAhQNnk7YztbPs95e630iDfAJhK47m95uBtexeEUEAIAoEHgAAAAde29+QvTsjc/NXz946RnzF6fMT9q/DWGL5yeqH/z21AeTrwBG5kfB5Hnd2/2fx4rnLdKm9z7ebhGl/aP70RH3icXz/Lz6bt2+NyevgNz98MXxuyLtZLydi/07J+TH79Et8dEX649n75K3143fpd71dGmvWD8vebs5XNqWNyhK2B7+MHdHfR+2lvkXy5J2aeNd8jtkTLCTvB3SDkAfIPAAAAAannn/cyL6/GXRz4no4UvPkLwxzkW65tkPHlIQvD9sf2LsnZV2Mt7OJe0mfk8snpfUnSrZO3NsrOU+EXE5fOayuvBMV7mL98OnY+P3xC3xQxDaeyj/5vXqFs+zXw2G2BjvIUn7wt/fIKKdv3lJvHNvL3FLWeQFnPp5XdrZW9LpWT8f2vtBNdtbqnj71JCk3RQaSH8WAEA6EHgAADjumPjds3cbv7s87GbvKd6ei6Tu1G+mPbs6zo36leeWwUp7QfyujJfTvT03fu+/Hz43fvfsPbxRX1nXuTIhfmc/FlTcNqfUz0tRf1axfXr87tbPi97+yY6di2bsvbhm/o7R7LQ0nlX36W+Pt5iy+ZCZlXbzYUJ67YNCqZDPbRAwTQGY3QuAAgQeAACONWHxPAn27iLNmZfsXZ9L/9AJ5MN/a5N6dC1S/C7tez8VNNjri+ULUOw9Ecnbn/vVfbNkvk/qHj7Fs/eKy+dd6nbRJz1RSviTK+37xO9Kif7QlfnEqfvCJ3W+VqTXzysF8DMo7TRdb2cb4HVvnzX0sB0AMBAQeAAAOL5Ye3fjd2PvD7hG9/1Ap9Oq7nl7173de6gUv4ez69K9vbm+XvZ++qP792KWrsTvX//rF81fePb+3K+yvyzo8btYit9jP7wSv5d5e1n8viOI8ah96EA1+TZ+T++rr1s2H+6ot+je3jN+D6kl7XXr5xVp79NsX6UBPlfac5fVD0Go7pB2AKYGBB4AAI47oYSz9m4wOm1uMThV99pWOdP6PiIKG+CjtZL7RNHwmvX2Zz94aD4TSPZuUeL3+997LmW1no5SPC8tjWO9vU/8zs+9q7EfPkT35CFS97t/vqB/Blpo7X24+D2lrz4XvX5e8vZaYXs6kgCbN1e+LwxHVNotZR8LqhDa+6Bhe9kEOzO4jiXL280fFhPsAOgJBB4AAI4pUuu7Yu+GfaIwUo+2vj809s6dVoy0Ou7Zdrj9Q2FN3eQEuXjeWzUfdfjTmZPqWG/Xw3Zj71G8+F3roq+0H97G70ojffRlmAOT43dK+A/SznfORNsx0jGRO0tKK36f+F2U9t/tENGO/GJVsPXzd77ZrKAL/6l6nxuanvwp1syz6n6ARfuWO9J8+xmrkN/68Q+U3yJsB+BggcADAMBxhG19JzV7Z2mr7jNa35+98bmyiE7i/vdPPedU0Yfq/uwH4heEaPzeedD3GEk2DfbPEd0X6vN1e/fidylyf+Lf/jLlDRPjd1aVo+8QnpAxlC7WSJ97oPigYKVc+megPvG7Iu2JJ+fixu+6tzfXm0r+5Pg9qX6eG0G//U1mgfzC31euw0+PxBPH2h8Uh8LblZid2jYB6Q9SC0ywAyAFCDwAABw72Nb3LB6+/Myz738u3Sh6ez/YvF3x9mjxvBe/s+pO3fF4z7V/7Zr8KKHCnzhntrPuUubbJRbPsyvovdL9xFXzOtGwvefJXvze/Ef221qdfJR9oqx4OmLsv92hnP3zVBq/h+q+UGWzXc5yOHkLHSftlTbP6dSS9uL6eb0BXpR2dZFe/KH1GuBTjB0AMINA4AEA4PhSoO7hvSZ+l+fS894+sveqA+p1ovaeQujt+i76EH3NOyvn7i3mgsT4nYWVdlIH5sXP5NJypbM96u0F8XufpL0YOx+etfeUqv6eSGPwKObt2fH75QWKxe/bf/0y8xo5SXv1+nnR2z/dlr4yTBPd22cESd0baW/3CwIAZhMIPACF7O/vj0aj0WiEWi9wuGCL55+53mr2K/lpvGzg/VP37mkPiYhe4nvpWaLxe/T6cDtdClKirqu+dmAQv0vSTjFvz43fNWn/9b3cbfPpj5uyvYsL51Rjrxi/i7viq4TtCnNznrCx0k7qjH2GHiE8G4nzC+Q/nXwXSF9uV51caZdG5Q/Ellz3Ps2YHRPsAKgFBB6AmQafCUBdIvbeDzuaXg/2TZt98x/oIeN3ad97iHRllr0baWc/Lije3rbH399LS73EsP2j+8qg+1yk/fDUbwC+Er9LnwnsLTsDrX/jvH0KMbtB3zk3hV3xDXNzpBTJt18cmob8eo3uUZSwvdYj+s+fD+19RsJ2yduLpZ1dXA8AmD4QeAAAOHZ8470/ENEfXv1GldPclXIubPyeOyQvpKm9zymeT/d2/Xrxfbi8/dSHD5oe+9LU3WKHz3v2HtbhJxxVtB9ekPb+8XvZivieiGF75pb44vg9Y1d8cvxeWD8vlJ3X2lHfp34+tPeK3l6M9E1hOtIebYCXpf0OqXv1DhAzuM4yC3GF+dI9C28CAAsEHgAAjgvmX0o8ey+O3yVvb+fSV7b3U2qnPQvr4c/eeGgOiY6mV+J3u3Pey9vdM1O+Atj4nf+tsDRO+SJQFr/z++GLknblfKvl018Rb2j+jxXYu/dig8bvQyyK74Nn77W8veRNhDXyidI+aP28MnBuFsJ2tUL+4F+PxZN2AEAWEHgAADgW1C2ef1a1d5b+2fvk6f/Xr6RfSbPr7KK76CcAqXj+gbBAjtRvAQXxO+vt3jn3hLxdXw3nxe/afvgEe8+N32utiM+FbWqotcouZeU7S9Ku+Nrxu0ndQ1K8fbLQrt6EM0naaVphu1Q/r4+IN58JlJfXqdUAr4ftMwur7qYs3zTJAwCiQOABAODoY+3djd9Ze3/2+ucP8+fY+YcE8fvDfvZu4vcH1r3/j790fyvNtJO201NO8bzi7UR06o2PlHNSptPb+P3rf/09IvqauzLR3ono3l+ePh0L4YX98O1COyH2L4aP9wdbEe/h/Wcj2oRfJX4XS/QPKGzv4+39nsun4pL6mg8Q0tsOTYq0zwihuqdIu6mfn/JyOMXJ0UsPQDEQeAAAOC7ore+ft94+io371uN31957ervBt/eA/a6nKd6eWDxPgrc/+8HDyXg8uUI+q4WeFWab/4evodh7c4Hg8OEWegqq9xNXzVNC/J7o7dPhzJsfEOWtPdcJ43elr55iXQNDIGnw9Mbjdf9p69JusZ35WY/qWT/Pz7dXT+s/+i4dpXF9mmF71gQ7ydsh7QBUAQIPAABHHKX1/XMhbH/mvT98Lnj+iIi9xyue76Pup248NLp+qlVxxd4N++5ieYHE4vkQZWCeQsFy+JP/90dzjvYYe3fPidq7/xRO2knuuu9PmbcPGr+n2Htx/K57e+fw5Pi9T/287u2d83Pi90n9PDFr53RYdU8ftlcdrW5/lmJ2ydtntkJeknaT+Uub9gAABUDgAQDgKMO2vpOs7tSq/jPv/WFy8avfoFaHpNl1Fk/d9S8FKUTtPYvE3XKstDPb6QItVIrnpUHxJm/31sgVZO+TK//yNL/NTvX24vhd712fcuq+EK6dqxe8G+yCes/ehx6erxOq+4AV+7LD7/wNv0OeIO1EFGuAl6T97Gd3iGj7mzM3Q16pkM+t1TdHYfA7AClA4AEA4MjCtr57fOPdRtT/8IP4Vjl98rx/ce/18lkz5/edxF46KjolPms7XUh4prLdLWXJvP0QkJu9uyfos+6Lie6ck1bWs+dE7XfhN3ezVsE38Xs9qbbe7qE/YqD43aTu/PtMp9Pecfha0l63fl6RdlNKYFr0ZwHd2ys+olYDvB62AwCGBgIPAABHn1Ddrbf7P3+P/zlLorfnxu9Z3l5wYJ9S+ZT+eevM7O3SlPvOG3aL5wvsPXf6fW787hHe2H9FvIvR4Oh0hoUiXVfq58ukfTgkb8/+QFBcP+/+XPB28/VB+cQwHFFpr/iUng3wU5D2Qsx3GaFuJVR3SDsA0wcCDwAARxO2eF7ydhO/6/Zu4/esvD3X3qWR8lXw1D19t5xXPH+/Ped+90Dz8p695y6H94rni7N3cl6mZ/wuZen9d8Ur8Ts7+E1x+IWw7dx0v+ejePsBjKOTpP23OyS/6lAvI6TWXslA4lq7igid9qK0SxPyp0No71FvN/XzU26AVxrXs7w9awAeACAKBB4AAA4OoUGdevcBFth7FGXHe7Ra/pn3P3+W6KF8gncxvfyM+QvloYmwcu7OujMXpE+quy9LuDsPX8nqs4rnpwAbvysF8FFv7xO/64Z85jd3rbCaivqy1N173Jnf7qSE7c3FyU/sUz+ve3tzfcIu+lqw6p4+aS/h/Lz6eVM5z7xSvaS9FtKCuoMP2znurLwq/QphOwAzAgQegHL29/dHo9FoNMLYFVCCZO/mVzX+Q/X0L74goi9++HTKxVL8znfOqxvpLCZ+t9H9s+9/rjv8s//m1884pZvF9i4l6sqMeu00J35X7N2wT/ScumQ+q3heaaFPITd+V6T9uV/dTy+zT31cG79L0u4+K7GjnvI1m7gc+wAn0oXqXmU7PeXUz5uyeZaK0p7LEZB2OghvjzbAa0n7zTuk/nEAANMHAg8AAAeBYu/2glKHN/G7Z++5xfOKt3skFs8bG1dKoJ/9N78WfpNKgbenx+8PXjzV55tK3nL4ft5+Oie9t4voQ0MuK7zPjd9De5c66mtOpOM+GSSNo6sdvysr2XVvrx6/15L26vXzorf/fkd554GQGuB1xTWVBdIf5KCQvP3ctevVdzfoYAQ9AFlA4AGYdZDzH0Gi9t7r7Mnhf3Czd6dO/hlh8ryeqHv2bi5OGTXvBenuH978Z/pZeTXdszc+p7SV8t4/U1t+X5a6W1KGz3vcf/GUFMLr8fuj//27uc/SXkON3623e+jXV4nf+V3xlYJ9RbOlnP9AwnZxgXylsD0dyYHNpwHl+0LNd+Dq51ndzRq/Jz+uTgN8irRXoWIDvCjt9pOEsCAQADA7QOABAGC6pNt7fghv7f3pX3zxB7ly/vMffOOZdxkbZ/nGe38gVewfCmPqwj+n/QQQrb03PHvjcyI6dePzB2kOT7FJex5K/F7g7QpK8Xy4790waaHPie4pFr+z3l5xw5wSvxd7uxS/J3a/i/X5H9/TN9hXR5T239ylWPO/f1R+/O7Wz+vS7t8yxZp5JWwPfyiNx58CrLrrxt6uuzuwvndW3VNm6be769EAD8CsAIEHAIApMmT2btHt3fD5D77Bvso3fvGF+Qv9BBu/S/ZOzkQ3qbveDquLEnX4Z9//nP11bvzOevvkkKL9dmHxvCTtlLamTuF0t3nemrmUt1OavRfH77ohV2ynN9j4XZF2790S4/c+9fO6t3euHz5+Z9W9Zh1+j/r50N6r5O39UbbTVYzZ6yKtqaPeC/Dy3wQj6AGoDAQeAACmxcD2blvfo/YeYr3dYE9g3dvm54q9G/aJnhG665+Ry+a98PzhS7Hm+eColOJ5L36XIveeFfiWU798IIbtHzx48P1TRHTyjY+Kz2eDd9bbbSGA8h2hDBu/S96e8kGBPTNvIl3YVF9pHX0uobp7f5Ad71XbWXoLVafWsSQ25w8Xv5uy+ZAZkXaSvX1mpZ1kb5+ytP//7L3ps2VXeae5Tkf/EVW3qqvCVYIPDqJbU043M5UU9Bewq427KA8YbNympPIAAlwgbNOeKEBCICQGoRQIMBIztuXosvWhLaFUZt6cNFAVBBGN0g67ouq6/ovbH9Y5++yz13rf9a61195nn3Oe59PNe/dwcrh5z7N/7wAAg4LAAwBsA9G9cTpHzp1d9fYO+lr4spEMxuJ5zwvvKGmez5pdH3q7fTm8hSZ+79jyuaesSfvrv34hOfq+Q3QGXqeAfz7ufoD4vWPv4S2qT7OP5u26tA8Rvys18NFzu/be/tJb36g4vF4/30fah0aSdpfv7cX183oDvCTtvqZAef06fernkw3wkrT736NSPrBe/OC6Bqb8ANhB4AEANp5263v/q/n4PWurnMLFd54JQ3h7/D4/vjUq72Iq9vdY4nfllHk+Xxq/SzPno96ejN8tDi8NrrfsnO+DtN2tSl+9Er9biuTHoWw2nmLv8wNUh4+8DHUqnrTlvi5S/bzkvW/4s2edc88JG+/HRPf2CaJUyPcfzrdyo6oN8B1pB4AyEHgAgO3BuPJdIVp+f/arly6+88zFd8bb5jMuLhTPS5l5OOJ+uVheOEUpnrcvmeuZvXf+lOxhu37NrHzKtG2+NH7X18UXXNCOPultNHvXpT05ji5p79qtW/G7cZR9+cS7HvXzurRPgVxpj47KHxk9bJ8yUXX3ZQXKw4i14B+IUxEAUwaBBwCYKrY3EAXF8xKd1ncpbJ+vlP/VvCg+vJrm7bGYPZm9hxdUVLzj7ReiR77jrnOtw849+UL8MJmkvfv4/dzXLxymtjfNnHv9N5/3SfvR4jOuJfbnvn5BGXffE03aF6+q4jR714rfxbC99RRAeXmRK5fWz1vC9txxdwpKCB9V9/FX0EWJqrvk7T5+H61+viG09+HC9irz50PLtUi7tLV+aKRlda7SMjyAHQeBBwDYYCraexttq9xXtMZ4C1FvP/PVS8bF8kr5veeuJ1+QvF1aDq9o+YVMhz/35Av+y1Va6OevYVE/H9bJn/v6Bb9nzj6+Pjd+dzE9fr26rE6/YFb8HplIF5yu7K6rRfgyRt4eL9XADyHtWfH7s3IB/HTCdt/3HjLZCnnf9x5lsmE70g4wGgg8AMAkyanfO/2lA+fc5Xft97lhtHh+2VTvG+NL7V3vnG/sXWFZPC8dsHgu0DHn9inRZwfJUN3u8OdWB+DZ4/f4V6VGekHaa8Xv0oh4Sdrrxu/RLL3ixDtj/F7W2V4xfp9fMObtWdJeUD+fZKOl3RV5+9D184qxu/VJe7IBXpF2X3Gg/74AoAwEHqAXR0dHs9lsNpvRLgU1ySme9/becPqJy+7XTJ3wfgR9wtudc71b6ztyvjIeb/VLyfg9RKzDl1W/Hb/bS+LbzwXCefjnKm2bc4K3JwN2yfa7h8nxe9Tby5L2KEr8LhXAW7y9YvxeJu1DEK2rUboJRkCT9tI5eXXr5xVjd4uCAuV3MRBK/bwut/43qP+m1oXk7QVtAr41gHdQAFkg8AAAY3F0ZFoFX9T67uP3009cds6deeLyJYPDh+oeHWLf096bV6kspUsWz3fi90baO/auV9dblsNLXHjHXZ2/ueV1gkcAZfH7qx/4Refcq7Ej7eXxufG7vo/dYu994ne9cb1i6q6jDLSXFtor1+lj+5K3r1x/4Pi9XT+flPbujUaP3y3SPh0sxl71djUb4CtKOwD0BIEHAIghmXbPoCDp8JnXl4rnkw4fvojcFXRnv3LponmOnb5S3oi+4N1i7z2RWuj7EE3Oy3bRJ+29id8lb2+eFBjzfDtN/G5ZO6c/VmiTG7839fOWLXRZs+76EPf2R55yzrm9vaHvHiWq7uMMyfvrn32jc+5/T8XyUXXXjV3acjcCkrrr0q6vrB+NqLrj7QBrBIEH2AAo1B8bxbFns8Ed3oBYPN9CcfhZ6+DLv3bayfZ+uWl9j7l60uGXy8+CFvfOcvhk/B7Fn2XcDO/6iXdyeJ4nK37vcMsD39prCdv8Uub43UhHj8Pre3sfIn6PDMMLzu25Z85CZDDe6Nvjne7tnhHt3biRruYdM+vnfeV8yAgxe24DvC+bj1I9Zq/O/3vPr0hfypV2/9iCCXYA1UHgAQBWSdp1FYfv3C7H6pXi+ZXP/9rpsFX7zBOXnXOnW8coN5KK5y+1pF3ZT372K5eOZL2/+M4zjcNL9h6a+fLIxZeSw+2cXDyfOyi+Z/welfbmgsk1cjpS/O5T98jxtZ8LhIjD8KqOu9PdW6mBt5xoj98t9fPNg4PwW33F25Xr166fr7KObrj6+TVKewGSt2+AtP9rZeg9+g0wORB4AIAWw2xlG4Jo8bwk5NHJds3Beut7e/L8JSGHbz72gbz/TLLA/mK4GV7I0u2GHzkmZzl81nVCwvhdknaXehBgjN+jte6StNsvWBy/K9Xv9sV1PeN3vXF95LBdHzuneftg8bsYtq91SF6bmXMupu5v+NNnpRcfxz8U29tzg9XPi9L+5886+QHECCQb4DVp/8LX3N6eUkcAAOsFgQcAyKd/CF9+50jxvFOz9DCcX/lqqvU9Ku2nv3z5srpYzt4e71Ie3n8zvKfKYnZj/K6E7f5lVOyin99RkfanLuj76nqiSfs3nn/+bTWXzDW043fd2F//re87557/hYxu+T7xu+7AzQtIjMdbtfeC+D3yImVv73OXsvg9Wj/vdbfzDLXuArwCovXzurdXuu8gDfCSty9/g/1KgfJeDCPoAYpA4AEANoZo8XyH/S/O3f7g38VL6+fnGlrfQ5rje46mV5g/EfjVM8ZaiLLZdWEpvo5/MZbM3AX2bnT1vb29w8PDw8PDvb29PvG7J9mEr1zQHr+7mL2//huFrl4Qv0sa7KV9ZCyD8TwjjMdr6ufjRfKjL8aTkDLqqLe3J+SPzwjSPhBpaQeAjQKBBwDYPEJ1b7zd4+1dPF2I66NaPpf22Jek+D0a2itI13F1N8PHLqX08GcRxvtRb68Sv0veLkl7xfi98fYOkrRXj9/lIfaasWfF70aUpH0tI/GidOx9Ot7uCe39DX/67BAJcP/6+dDek94u7asfk6i6W7xdWV8PAGsHgQcA2Axmsf78jrd7GnuPxu+d1vdk2B65glo8XwX/W80qns/y9vkpv3LWGRw+Gr9HC/KNEb2OFL9Hvf3cUxec9/OiyD28fjR+j3p7cdIeRYnfy6S9GD0et8fsZdeX7mipbPepe4jlXiPUzz8nbJVfe5F8iC+bD5l42O773qOMH7Yzgh5gOBB4AIB+DLQxvnsTq7036K3vTi2DT9r7oNgDfEnaz3z10qV3nnG2AP/s1y7e5dwLwqU69q5IuDFXz43fe9bJF8fvUth+7usXjFvie8bvord/83nptcVfRu/4XZT2b3/fya9zHCRpd9PI2yVpd/nePnT9vCTtbh3ebmyAV4zdlUl7a+wfAEwWBB4AoAeDboxfXml+l/3HD5xzB3dr5fGW1vcOzUi8aFN9lOHi98beCzbDn/lqxqvq7J+7qxXme5mff+aXzzrB28+2DkhiLJ6/ed8vOFmSl6fXGMjXponfFW9fOXKY+F2R9uXB8+n3g8fvurfPjzesspOu3wc9bM8dJl9lSN7yaoq0f+9Zpz50GAKpfl4xdrcoK1B+L+tCl3Zfse/9HwC2FQQeACAfb+YjbIxv4e19+Uu1eL6D7u3dz+cXz+c2vSeJ2nvU26PSnozfLfvnnJDwR8fmVSmeb+jYu6V6P36dzPi9Y+992uYL4vfQ3i3j9BIvoyh+DwW452a7YtpqbayQt2ykr/PaWvXzSWmvSY+U2CLtVajYAG8x9roM2gDvJ883MIIeoAAEHqAvR0dHs9lsNpvxc2gbODqyroIfa2O8j98be/fxu6X1XdwJL3i7j9+TW+UaFGk//eXL0aF3xmt2xFuRbcXeLURVvJH2jr0bl9UpSJIvCXn1VXMh8b562dvrxu/R/XO6tA8Rvysb3XRvHy1+j6r7FCrknaDuirQ34/EHfE0xouquG3t0192YSOq+3sF4BXSkHQB6gsADALSwaHnWk5p+IXyn9V0vnm/QdsKr9m7Ekref+fLlS5kO37lswttTlp6M3y0D8Fzpmro20eL54l76KvF7rrfnosTv0tL4/mF77F6aYEvevq6wvUEpgE9Ke0H8nlU/r7XcV0/a2/fNbIB/VqkIWNMWuiRK3XuWsc/756exIi6q7r63X68sAAAFBB4AYEF1e+9Hp/W9wV4839kJn0SJ36N/NO1O+/CpQYHDe0J190X7lgcH9tl1zqDf/e29jSrtF194x1nn3C0PfCvrmnb0yXMWe+8Tv0vebh+J52rE7/Le+Oed/CLjl6oav/eR9qFZl7QXIHn7ZKXdyd6+cTG7W0yej5IcyDcR/I9dCiph4iDwAADOufFK4nPRi+d1b2/jl6Vdev+oLqIAACAASURBVNf+mSCEl4rnxQ1zwYQ8b+/FlfNOkPPoqDxlUp2leL55OtCtkG87v61D3kIj7bFF8dk1+fMNc4vVcZ7Xx2bRN/G7pMd3PbWYq//2yvPwmvhdkfbl65R31/V9Ga34Xff2xfHiHrvh0JfSKbX9Q5Mcbp87J6992br186K0/+mz7vDwuXe/o+yyfernkw3worT/+bPN6ZvCFkg7wMaBwANsBnTaT4Wqc+lW8O33i+tHW98b7N7eHHz6SwcuVicfFs/bvX1+vFCxb4/fO/Ye9XZ/jGXOfBi/K9X4SlZvid/vevKF6EB4ua09fs2B4vfuMLynusX53t6HiN9De+9Zol8Wv4cOXLzWrg+m4farYX5Bw3zP+nn7Rrq6U+uTROvnNW+fJFqF/JTWy//1r/+yS02wU6TdOAbf18/zfgagDAQeAGByRLe+e6RieN3eLUS9ff+LB/peugb79LsQ/yburLyarqx4XvJ2vcDeOKA+StTbk0m7t3fjxZXd7xfengjbB8UH7x10aa8ev/vUPYru7bnxe279vCeq7n0W1NdiykPy2uRKu4/f11s/r4ftA91uiAb4pLQDwGgg8AAA0yJsfY/Orjv1+IFz7optrF3u7Dp78/yyeL5FYev7r56JOnxj75b4XVkRn9Uen7hLE78vyI3cY0e+cOj3Y+UgSbszeHuV+L3A2wvQ43fJ29cStjdow+1T0j5o/L6ufvue9fOhvU82bPeE6m6R9or75/qDtANMEwQeAGBIkiWCq5XzbRRv75Aunl8l6u2di1zuqPuiTv6MOriuJ5LDu5S9S93vFudfeQE58XtU2pvCe+OIOx+/JzfGteP3RtpDe7/ryRfmQ+9t9l5GVNobjPbeM34Xpf0bz7vUKwwuVTN+F4fbrzVpryjt49TP+7L5EN/Z7lzhHnjr3fMb4JXG9UlVyBuJqrtR2udVADTAAwwGAg8AUIR9Y3wNot5+Rd4J74LwvJH2jr1HT+/ae4tLv3b6zGo5fZ/i+SRK6/vMuegyOWU5fJXi+aiZdxrmFxF9neL5hmje3mddfFb8LllxU9WvlAP0oR2/694+P15eYjcQ8pA87TWPwNqH5D371jc6595o3FEnSLsrCtv91d7wuSdzT8xC8vYNkva//hmtX32IpJ0GeICeIPAAAKUkHb7fG5RT5w+u3LPvVHu3oOx4z7V3j3f4sHi+rHK+QzuED1vfm6Q9/HPvOZ2+4ezXLrpA0aU4PXpwLpKBJ1e+hydmxe9Zhe4dew9b8ZW18yEF8XuowWUL7YLLlsfvurcvrp/dLd+zfn64IXmuR/wu1c9r0t5j3P2gSNLuf3fK72ho7A3w40s7AFQEgQcAyKHj5IrDl9r7qfNzqVbsvaFgdp1vrY/W5zuDvXePryHtOk37euRLi1XzZdPp2/j4vR2kKzXwtgH1pvi9I+E37/uFm8LxK0em3L4n0vI5ZYRedXzwHqJ7+zjxe2y4/QRm0U11SF6HhLQPXyGvE62fVyrkK7biD9cAnzD2xW92szbYAewsCDwAgHOuR0l8W9T9FYrUfTabtU/z9i4hFc/H18s1jwAW0h5dKZ/FpV87PXT/QBO/d+z9TGbFfu7sOsnbl2PwDPaehZK0n/3axXBgnn6dsvhdMnZP0ttrxe9l0l6MJX73kbuE7u2Dxu9KND1BafdE1V35zc4D//UNq9PD9pD5xrtp1M8bpb0uNMADjAACDwCwYOCSeDuNvVuK58XFckJ0L2XvxSyH5Mm1+llEl8ZFvT0ZvxuL55vu945+587Aa7B3v4f2rj8gkC+Yncnr0t7MwxshdZe8/dzXL+gvsnudSvF7H2kflFrSPk79/HNvfeP8/9NgTd3QO+r6N8CH6j7xofcNkrdP5LECAPQHgQeowNHR0Ww2m81mDGXZeAYoiS9GL553hjp5hT7xu0daTVcRPWy3t9xH4/fkyLqOvdvjd8Xepal1/rLhGjl7/O6xD58Pxbh4GF5Z/K5Ie/fg4eP3hLEvigWk1zw0Ylu74cWPTHSlvGeCi+UbnhM2zLvJe7u0Z94zQWlngh1AfxB4AIBVoiXxwqa3ipw6f+Du2Xep1vfo7LrmYONku/72PgLGUvlk/N62d0XaV64T5PZZY/BCot5elrR7zq3KdrJ4Xloap0j7oPF7aML9V8eXxe+S/YYV/vou+sjr6Vc/r0v78hR1p13yLv1RjN0594ZHnnLOPXfv20uuPHD9fHVpH7N+XvL2Pnefd+A/+rXiKwDAOCDwAADrpNP6LqF7e4dk/C6hRPqjceaJy86wXt4+u87J3n7mK5eUNXUhWfG7viLOYu+58XtI1Nv7XDDEEr+LI/EMZ9WN333qHqV4I3114rPozHPyB6JdP5+Q9vajgcNDb+9jxu/z+vk/W2yMbz4vG7uz/dYGJTnBTpL2N/zZsy71u9MICn/WPkcQAHQQeACAyeHNXIrT9XC+oHh+Ct7e4LfT9S+ebzLzjr2f+Up2W7uleL5BLJJfFAL02TYv3HElfpfD9ov2tfM94/fESLzeYXuIHr9L3m6X9uHid2UZ+9qlPSTqt5Oujf+tdyhfLdiHNzJKhbz39r6E9t7+UqbDM8EOYBwQeACAtTET+u2VSvis0vo2B7bRd0bOxBrgZ8717DEwxu/zg4PYXCl0j3q7JX63jsGL+XbYex8uq9Oxp+WKt88PiG2ti1/KPA+vHb8nRuI99YLyIiNX7h2/S9J+7hsXnHMX3pYxG686taR96Pp5ZWbe4FPoetfPRxNp3dilZfXjo4ft1VDsvTmgRg7v+94baIAH6AkCD7AxMCpvy+jYe3Rv3KnzVxZfPaVcqrH3ZPw+c84po+++eHA6fxW85/K79l0/hz/zxGV7/N62bnFLvBq2R2fdS0SV20t7+AzGvrJOInd1XIfkDHwL9vg9qu5hQ350fV0V2vG77u0eb+/Dxe8Skrfrr3xk6kr7aPXz2m75UWL2Wg3wobpbpD26uz5B0t770ZF2AKgIAg8AMDkab+9+XvVzxd59/N5RzfbV2gH+6S8e6A4fjd8bFIdvvnTmibmiX/LG/sRltyieNyJJ++kvX77sDd9WKm+J39v2rlS2J709N36XkBLy5PR7+xMB3d598B55AakZ+EbK4vdQgNvSPibt+nld2lunpDfSdyiI3yWS2+mUkoHK5HRfp6V9YEftibRk3lM5bC8mP4SPqrvv7ddn5gOAEQQeAGANSMXzLmbvPn7PbX2X9r2H15lfodUbrzh81N4vr26A9783f0F/Hf+Z04YK+bLu99O2kfXL6+TMrnOyt5/56qVw1n1PovG7UtZeJW9P0lPaq8fvPnWPonv7aPF7VHr776jvg2XKvav0UKAPUv28YuzO8PtK3HSU+vnJSvuzv/kOVzSCXnFyZSAfAPQBgQcAGJuovZ86f8W16uQPwpr5mKiHre+at8fyKKl5/vTC5w/+3f48Nl9V9460N5TtqNOL56PeHpV2S/xuLJ5fjsFbtXe79rcpiN8VaT/7tYvJnfOt65TH76K3P/mCvVU+Cz1+l7x9XWF7g0/doySlvSB+70N8yr0s7cVr5+Ye/shTuSeuXMQg7WtHqZ9PGPvieYH+25wzmeHw2yrt/kczXYowfRB4AIBRaez91GNXnHNX/n2kuT1i782X7t6PlspHvf3U+YOVrfLyOz/JusNZd8XefvqJvJDc5Xh7AVEP99IerY5Qjq8Yv//Nh37efxDqcf/aeyOKtDcfJzfPt+kZv4vSbhie16Fu/N5H2ntir5/XBuatO2nXiTrtG777nOKx7V13a8Qo7bUoaYDPR5P2P3/WpX7XAFARBB4AoB5HR242c7OZSz3C9/YeRbH3+QELhxf3zJ2fu3R0MF6bsHheIVT3/ccPDnKuIF55NX5XtsTp9m6P3y0z8Fxp2B6SjN+lEn3plOHi95C6e+N12vG77u3t40eO3yVv11+2fLX68fsmSvsaJ97XQjLYpLEvF9dPj2d/45ejnx/6eQEAKCDwAADj4eP3xt6j8buFUN0baQ8p3zwntMEnZ92HWOL3eN7+pQMnx/5tLhuWw6/cTppd/+XL4aB75Qp94vf48rmxknaPMMdek/ah4/fQgYeYXZ9+Ga34XZf25SnqOvqhkQfmab8FyzWHq5+XvH1kaS9ogE/U9k9gF10xA0m7z/ApUAfoDwIPADASs9ls/s6l1NsbjhZl3oq3rxTPy4Thud3bk/F78bb507FReZbieWP3e8fe9cl58UvZ9sO7IH5X5tg75/7l/d9OX7BG/F7g7cMhlcHr3p4bv+fWz3ui3ttnQX1/2vXzurQ3tAfjrx1J2v/Vd77vDg+//95f6nPZoevnJW/faGNviKo7YTvA1EDgAerAknbQWdp7PZL2rtApnk9Ieyyrl6blWZA2xkW93cfvfYrnpal1UW+fx+8f+45yuwZ7/K7MsZ/f1/ZEQPd/HalIvhmJZ7zI/F/y27tXO5ez+71M2ofGp+5RktJeEL/3qZ8XptxPQtGjaN6+wNv71GrmRWnvN/d+vfix8xJv/PyT848mMDMPADog8AAAY5C094N7Tu2fv5JsgLfQ2HsyftcTckupfFb8nuXt81MMxfMSUW+3hu3q21Z78byP37uvISjO9xe0xO+erPhd8fb5i4wtrpNQ/iVfePtdocN3jxG8PXesfd34XfL29SbtbXzqHmWC0j4Pw7/7nEXa1060fl5bMl/1+ULPBnj7BLvkkLmltDeY7d1ffKNH0ANsEAg8AMDwyFvf21zJsXclfp8fIOt3tPu9fXy6PT5zdl2o7vtfPLAX2GfF78qWuKS9G7vfdaLS3v+yLqd4vqFjxT0b7C+kHLvt8E38rkh753WOGb9L0l4w3N4NE7/Xkvbi+vniBnhPaO+T8vYoeti+cZjm4R8ePvfuWBpvtve//tk3mn7CAUAlEHgAgGGxF89XqbGXWt/FkfXCkUr8bimeT2T7OXPvjXvjot7eDM+Twv+VK9jG4EXjd0nanX0Y3tcuHvr9WD3wqXtIcgC+JX5P2vvyyHZ1fcuE/bv88Tvt2/G77u3z49Vd9IOiSbv6+teOGLY//HWjCs6fFxTtje/fAB+qu0Xa5/edTAN8yQa75m+HanmADQGBBwAYkJkte69F2Ppu93b9+BD79LuVgxfHFM+36xAdPt8Zet9ZU6djz8k1af/KpXBfXU+i8btk7J6RB9p7LgS98Q1Hzp2TJ+rZ4/ey7XGh+q6x374dvyelfXmWupd+fJT273nY3vuZ1ED4svkoY4bttRbIKd4+kYcLjKAHqAgCD7BJMCpvbZgXvI/Dfqp+Pl4kf/6Kr9JPj6ZPxe9texcH4PljYl+12LsSv0sb4yzL6iSyVse5mL3rA/D1C2aZdkLa/+Ricu18Q1b3exUuvOOuqMPXv9HbxBr46t5evD0uqu65c/J1qtfPa9Lefh4xPXWfiLT3x/e9S+Qau3+IwKh5gA0CgQcAGIqC+H3Wo5Bemjx/6vxi7Xyqxz5ZPN+gTK23t8ef/tKBE2bUhbPrlDXvurdnxe9RlPnw+tz76vG7i9l7n0X0drImzBVcuVb8Lnl77vWHqJ/3qXsUi7SvMX5PSnvDcsVdpsAPUT//3Hu0Qeu9Zsj7392INeeKtE8kYweA0UDgAQAGoax4/tRjV/adO1AXxXfi96i3N9Ie+VKP4nmp+71xfvtuOT95/syXDi69a//Su/bPCIvfxbD9SwfziN5g70nC+L1A2gtIxu/SdjdF2qccv3uqh/CStN/11AtuMUtvOPT4vae0r52o35btvetF+DhAUGglZnfVB8gP3ACvSfv3nnWp3+xo+B91jKAHGA0EHgBApnfl/MlHrzrn3G+czDpr/7ErksN7e0+G7SHFxfONk3fkXAnq7dPpozTxe8felW1zOvb4XfL25lGCxd77x+9Rbx8nae8wXPDevn5Z/K57+/z68iJ65fr943fJ2/VXXp3c+vnobnlPnrR3fLv5ZVlkrYT5h4fNNaM2+4ZHnlJu2qy7K3lVvZEa4CVvf8NnnnSOUXMAgMADAAyAj9/n9m5m/7Er0Y+9zM8DfUHdncHeFcLi+WTYHpJXPL+Ksu896u32+N24Os4F9m6cft+9mrzErnvkavzeSPvfxA422nuV+H1oae9PKMB3pfbPD0Q7ftelvUHfSC/eaLD6+WrS3tTPP/x18YiWb4ev4Q3ffU5M2gOeu/ft0k2WQj69PnwJUdrbfQED/HZogAfYRBB4AIBhufobJ/t0tkucWhj+FbXe3rXsPRm/Jwvgq++Wk7y9OGw3omyMU8bm2YvnM0bZC0XyzRWUYv7upeSp+BZ0b7/ryYtOHZ5XfEc9Htf3sevenhu/FxNV99wh+aOhGLtLPYyogODw4sGrSN6+Iu3R/H+qwXVU3S378HzFwZQb4P3k+QaG7wLUAoEHgN1A6kgf7C2Fj9+vLorn979w9eDXtUL6duSuOPmpx+IxuxK/zw+Q3Tu9ai4l5429Zy1477D/xQNv+El7L4vfc6W9AHvxfFTL/8XHvuOc22uZRnTnvE5W/C5Je/sizSOGc09evFDb4aP0kfb+903Wz/vUPcpA0l4Wv7fr5y3S3jpxueJuCkjS7qP+77/3l5afshXbr5Fw23xDnyX206Ej7QAwBAg8AOwAyjy5YTbDdYrnT33hqlMdfv+xK8kgParu/qyC1vfc/fDOMJ1et3d9dZy9bV4pto8ieftyDF7K3nPjd/GVCFl6I/yHPUpk7cXzDaG9h6d3ls9XdPh2/J4w9kWdf1Ztf/X4XfL2LGkvq5/vQ1TdCzbepW+UrJ9vWHXp6L46be596xbe3uez65PfPqv37dkA7x8rJANwxdjdtki7J6ruvsNf33sHALkg8ADVYEn7RElOg6/n8LPZrH0hH797e/fstz72Mj9/cYG9n3r0qnPuijr9zl48v/xMvrcnp9Mrre+NtHfsfeXg1WOMxfPG4fOXeo/BU9bXdYjG79o0e9vO+Vqz68SB9jnO72o4fHsEvaTuYXO+t/eRe91FaTc8d1gLPnWPYpT29cbvetiuMaV294S091lfNw2e/Vn1NxiM5QOAuiDwALDVFO1yK73Vyr2uCu59RS6kP7Wa2xvtPVk87wQJP7WI/fvb+8pn5KR9/4sHTs3hk+jF89LSOG0Mnq14Pit+16T9y5fDlXWeJn7v5PDNL/fkAuBo/C4Zuyen0r575LnFZ7zJ+1/6BfX6k7D5d0gsSB9/m12Hdv287u3t40dodE/Wz/eX9ikQCm3BMvk0wxTSW4x9gtgn2OnG7px7w+eenEKHQh/8T3ACGNgIEHgAgPqF9I29+/jdLu2RAx67Eubzy6/mT57PmH5nXuretK/rxyhfzYrfO0S9vcoYvNzVcS5m75YldmHx/N/+7s855/7lx7+tHONpi70u7We+eim5eb4n55584ULg59JTNLu058bvxfXzobpXLMKvWD+vSfs3n3cL7R+NjPp5f7wy+t5+kXb9fCa1FshJ6j60tI8wwS4Rsy9urT+8cIv6ecQYoCIIPABABZq9cXMnXgi8ou46Pn6XRtZJre9JaY98ybIZXjD55Yr4VXtfuab5KUCSTvwu5e3OPgav3+w6ZWOcJO1h/N7W8raK/+3qZ5T2+Gb4fGjv/XfRh/G7WwTv4S99bbx3eEna/bMD/UHDaCg18CPMrrfQjt+T0h6clf2kYND6+ZVpc6vEpX1KVfEepe49y9jnjw8m1gBvNHYAWDsIPABAXyzF8yc/P0/ar/5mWulzW98LvN1YPB8OrlPWxWkD8IqWw0eJentz/WQhgJ1o/F4g7QqSvYfd72H9vLQ0zo+yD6/vmlT//m93z8lBaYBvvD2093Cs/bri9yrSPlr9vCeq7mNOwitDMXbnHxMcHn7/fdoxVvb2hrP9WtI+WRRvR9oBpgkCDwBQjVDdG2/vcOrRq05qkm/K72X9nh8Z8/ZTX7jqY/+kvWtXjll6VN31AN9ehG/MzDt0ngvkbaEz+7Yi7aefuBzuqxOv04rfJXXXkaQ9mrQroX2yGl+K36P2roftE0Gflpc1377wBZjr55Xq90GlvTh+n9fPf+f77vAwIe2f/rpzi5Xs/ZS7T/18Em0GvmEt35RJtOtnGru/2hs+92Sv1wQAmSDwABsGs+6nxiw2J0/ydh+/J/veXap4PnL8Yr59smh/Of0uVTzvJGk/f0XaTrdyo97F89LGOH3ifRWa4fOhvesD8CXa8/B1ew/jd8nbPVKdfOfKTfe7Xew78/M69l7m7bnxey7t+N044r690G5dVJT24vr5nkSddm7s0inv+yWX0/QeJ392mtQAL3m7l/bNRVs+P0zG3tkbx9sVgLog8AAA5RTYu47S+h6qe3tBXfdLqfS+YPL88i3YIvnvb8yhdStr3qvU4evxu7Q0Tp97by+e/xcf+45lqrxTwvZWSb9SGqAg3bd5YX/zoZ93zt3yQGR+nijt7bL8qoO+y7bHRdW91lODivXzkrdPdk1dg0/do+jSXvJvQ6mQz71acHyBtM8X15eG/4UN8P5PYG/P2SbYadI+zB47lr0DjAYCDwDgykbQN/Z+4rPXnHPX3n1CObixdyV+77S+J8P2yBVsxfOhvYv74c9fORAa7J1zB3fvh03y7Qva98aJYfvjB8qe+eUr6THE3gneXpa0R/Hxe7s7XbJoaQVdOAk/unZefAGG4fPNS/qb1V8eHh7evO/nXbSz/ePfvvg7P295AZ6B4nefukdJ3muc+L1dP69L+/KUX6o2st6CpX5ek/bOibV8WzhxrtDtCD2/DT5qsBsdtielfaj7/tY7wk+SugMMBwIPAFvN0VG1VfD+UsHCOW/vDVL87rEUz7tA3WfOHTl35NzMYO/2yzrV2/0Hir3PD5AdPsrplod76w7/etoXVGbmFdCJ36W83dnsPTd+90g18yFZy+dr0XS/vyAMqzvb2mzn7f1sMBVPqdLPQo/fJW9f+0p5iai61312ULd+XjF2pz+PaHRaNvY69fPRm8Z47t63S19C2mvdEWkHGAcEHgC2naTD94jfG3v38Xuf1vfo5PmTzSnqXHrXsvdk8bwTvP3UY1c62+mS9q5fP7dTXXkQUDd+j+fti9OVGv4y2vF7Y++StLuctfMV4/cOob2f/ZOLtQZ9R/XeOMlPl/bcWXQF8bu9ft6n7lEmsqOuoR2/W6R9eeIvDrh2roSWwyvG7jZc2j1RkTZK+7yM39wAn5B2/xMWewcYCwQeAHYAxeH7Fc97jMXzURLevooSv88PyJ8835ySHE0v0Qnh4xPsBW/ff/xASersxfMWombe0f7Oqnntaob4vTOs7tI7z/ytcOTpL1+Obq0bB2kre3uQXuQsIX53go37u9zywLeiVwut/uZ9v+AW8bslbJ/H9WuN32tJ+8j1856ouk9wWV2kfn6B3tdteUJhvfsw0+8lfNO7BEk7wK6BwAPAbtB+w9EvLpBa3y3F8/qCd8nbo4vl20it70lpj3zpfDrAt7D/xQNJrU89fiAtmW+TVTwvxe9SnF7cLW/HG+nffvjf+l+Gkbt9j12H/vG7ZOwe3dt7EnV7peQ+VHf/CMC+e0+8cr3ud8nb9acPaTLHAWbVz/vUPcq0pF39E7AY+6SwT7DbGGknfgcYHQQeoCbseNsdjK3vTfwuqfvJz127+lsnXG97X/lMvrd3iueLaeL3jr2fSkX0EgXF80oNvO7tteL3w8PDxtu7L0Cdfl83fr/YfmTQMvZoLcqZr14K19dpF5fj96hx6ePrvI3rBfCd6L7j/D6ul+L9WrTr53Vpb2ivtVs7daW9T/38fHV8jwZ4cXq8YQ7fNOvnE8buM/+9vfrT40naATYNBB4AIJtk67tSNn/ycwvz/60Tzrme9t4m6u2nHr2qrKZTTsxCHIb3+IETvrSM30uL59voy+d6zqi3cynaXV+atMdvYYvfL8o99n4aojHAXyF/0HcSXdol4bevsm/oJPZ94veouucuutOu7+vnP/WNKldTpF1/EjEGyX9Ri7+16JJ5zwRjdjsZMXvtbz0nqDvSDjB9EHgAgEI6re+StC+NvZRTX7jqhAnz0uT5ZmCeXrS/ckql4nllw7xr5tvlDK6XaEL+0N73g1n3SYrj96i0N1jsvXr8rti758i5Tg29NX43G9fK62nF77qx+1L/5La5qI3f9eQLuWLvP6lX4yvL2OfSnqr/Hyd+b9fPJ6W9ob3fbj3I/6K+/95fkk5al7Qv2+/76bTk7cMue5Oje6QdYLNA4AEATMxmM/8ep1M874x5u4wev4eD65LSHvnSwMXzywn2BntPosTv2hB7Na6vHr9L3v4TH/muF0Lv+ZVvKsfvTY/94O/E9/Yu/spZF62fV01YUves8fg6kopH6+1f8+A3o191zr36gV+UblExaR+CqLqnZ+ZnNtu7KvXzTR27IWZ3hmcTk0Uves+S9nkLvfkUpB1gK0HgAQBKiE6e75TWW8gqno+qu+LtyeL5Kuwv7N16fObsumJpd+YNc7nxe4ef+Mh3/QeNQPrDRojflXV0Ohffeebs4kFAVvf7ElX5lDl5urEn4/cCOmJ/s/XJxt4Vafet9V77Dw8P+8/PU1jOnzdkvPEd7M4526K7KWCR9mr3GrEBXjHnQWN2/dZIO8B2gMADAKRp740L5TzM5D1K/O5b3y1Epf3k568md8tbiuel+P3KPaecc7PMOLdi8bxpiL3N3vsjZemnn7jcWRRX5XYSTfwuSfu8ql8t6e/PPH4XJFzcSFcvZu+Quz2u3f2ulMd35uHNh+R94lsuSOz933oo9gPVz1eU9nn9fKVm+1yi6q4be3tf/QRRzNk/NdCfVgx0a6QdYPtA4AEAEggb5EVvn0+262Hv0uy6Zlqevlu+TdbsOu/tbZIOv28rnjdyUHuIvSuN35UCeH/k4eFhI3Idcxs0fg/tXd9Fb7xgn9VxkrT7Uv+sGoEh4vcoUXVX7tuE9gVt9v2ffGMe2wAAIABJREFU7GjSnnoSMQQF9fPK9vW6MftwSPvnxXn4A0f9SDvAzoLAA2weLKsbkzJ7V5DsPSHtMWOvVTwfertz7tQXrlz59VPOuf3HrhwIFfL24nklflf2vSsPBWoVz7dRpH05yn5h782XBg3efeoe0lPai2nH77q3e6Jb6Ctiid/LBt1H7vLUCy761x3z9psfXLbZK87fudqyft6553/7bdJZnVS/vdxuakjePr60162ff+7et0c/r1xf8v+Su8fUnfcDffBFdvwZwqaAwAMApDnxmevOOfee45LPd0jOrjv56NVTzl35jZNXfuNk9JrSYnm3iN8Ve7cg7or/wtz5vb179lsPArzM768+GtBMe1Hx3qZM2l3zIMC8Xi5JM8E+tPfoXZLq3jN+l4zdU93by+L3UN1LltIJl60Sv/eX9lykNnvF3p3g9tG8vXop/nL+fO39ZKK0+wcTcjXBRhCV5+HCdn0AHsIJsJsg8AAAIv6p/NzeW/Qvno/m7Sc/d22+Fj5l7zpS/J6U9siX1Aw/q3h+//EDydtPnT+4cs9+8lL24nk9fteXxisXbIbVuarBuy7tp5+43FlcNzI+dY+ie/uY8btlO51TR+sl7lI6fF75d+LtXRmed+7Bbx6uHjz0nAUL0fp5rUK+0o668Rvg9Zb1f/Xw13NH91vQjd0h7QCAwAMASLQH180/45yT7T2JVDzfCL99sl3W7LoCb/fxe5Xx9Y11d+z91PnCFL1sdl2BtEsXVCQqN353MXu3DMOX0JfStzm7GIYnxe+St1cJ2yO3K43f7dvpRmuwT46vU1rWz339wtzVY1+VNt6tq35eC9v9S139Zmkvq58mCWlvkvbMsgW9ft4Us/ufR9g7ACDwALD9BB6eRRO/X3vPcf1IKX6Pavn8sOiXKhXPR7395KNXF+vlE/ZuvH40M1ei8qi32+N3e/H86S8daNK+KAewX9DH7z0j0MuCYCvSnhu/5+4OaCNK+1cuKSvoowwUvytJ+xBRf8/4vY0i7Z0igvm/sSByz52f5+R/rsv6+VJCda+VtA+B0gCfMPZF4K+UGBRAYTwA9AGBB4CtRrH32UxJM8Ti+d/58+jxndl1ybA9JFk8b0FaHddsm5dG5YVYiudXPpMp7csT76mz7M3TpOWhvRs32LU5PDz8uz94q3PuJz7y3aS6K/F71Nv7JO1RfPx+5quXzjp3UZ393onfFW+v+wol9Gy8irSvJX5PSvvyrHekd85F/wW+qr4YvQPfjtK4PmVvlzBK+/L4SgPwmBsPAFVA4AEqw4j4CZHM3gWHD4vnffxuKZ5XyuCrrIUP4/ektEcuUql4/lRsQN38S816OVupfJ/4Xdn3Lkm7JX7vOWpeCts9Rnsv7n4/+9VLksOfbaXoobpHpX0t8btYG68+dKhIn/g9d01dGfr8+aS9t2v1w52I1aW9T/18lQZ4yduH6KtPrnznHQIAFIPAA8CWUlo539h7GL9LRFfHnfjsovb+3Yna+4as+L3A25PF87l07L2gZ754dl2BtC/PTQ3Da2TGx+8W2W7id7FIfjFRTyns70MTvzefaUTdm3yTuruY2I8Wtoe0s3Fd2pentLbZ5d5iCF744C9IXxoh85fQ6+df+6lvdD7/499+m3Pux8LV1rJwvg960fv40o6xA0AtEHgA2G2EEL5t71L8rnt7h1rF81FvX46vT9l74uJy/K7se1eOL55UF9JsYo+/hkUtgL1OXorfO/aeRcfewzH43t6Hjt8bLrVc/VLg7UZpHyd+j6p77n67iiTjd18qHyVX2i3189Xxev/8L75eMna32GPvOTw89APzXvupb/QsThkUyduLjT1SP7+Yz4exA8BaQOABAJaEre+d2XVRaXeyt/v4PbkWXufqbwq74gvG1+fMrsuVdsuJK4flxO+hvRvX13VQiuc7WvJ3zjnDeLkQaX3dcLTj91DU2zQ1AmuM3J26zi0p7bnxe0WS0q5vs6uLXj+fJGvbfMn8vNjtBpo/Lw7D/9bzblF+X+1eSDsArBsEHgBgTtj63kZSd5eydwth/C7te1eeBVQpnm961yNfevSqVLcfP77H7DqxtV6Q9tz4PaRj7/NN8qv2Lhm7J+ntQ8fvUXU//eXL7v+yLreLXLNq/C55+6BJe0H9fDt+Tyfti3857b30ufcaOn73ZfNRzvmYXQ3Sfcz+autjj7HNvv3LgsQ+2gCvbZ4f4DGB5O0YOwCMDwIPALCCEr97jj8yP+D6vb60PtEqnxW/F3h7snjeQhO/d+zduLJu5VI9ZtdFvT2ZtCsD8DtE43e9HliX9qawf12pexTF1ceP3yVpt9QLRK42YvweVfc19rTnokl7+3mBbVK9D/w74+skG6+48a6DHraHlE2/0/vn58qOugPAmkDgAQCca8Xv0r73xts93t4Vsorno95+4rPXpN3yyxMNxfNS/K7se496e1b8rtMpntdW0Nl72otm10XtfbmLLrB3+974Dv3jd8XYXWnArtMnfte9feX4CcTveum7RdrL4vdipPp5TdqfuuCcu/D2MabQ7e3ttffYN/XzBWLfENk8XzVpV6S9G7OXTkgtx9+RRwYA4JxD4AE2FJbV1UUpnu94u6ex92T8riC5dzMtTyna75A1u07ydj1sN9p7Vvwez9sX3fXWRvrS2XVhzfzfpU4JGTp+T0j7E5eV5fMh48TvobrbHwEkrlwvfk82q4+j4lXq55PSvjzy7ef6364P9sT+x+9/m3SR1z7UnZ9fTIa0AwBMBgQeAHab1ru044/caD6+fu8xJ9h7g2LvUvyelPbWFeZH1iqej3r7yc9f9eG/sVT+1GNXnOzVWbPrIlcOLlU2pi5Kp3jeC0MzZz5Ud0vSrkzF71AQv7uYvRuvUAVL/K4XwFvOHTN+16W9eS6gDNibGlF1P/eJdE979o18/fynvuEOD+te2bO3t6ePmotKe7IaX6qfl7wdac+G0gCAdYDAA8CISEH3ED/+j46MhY4+frfbe7L1PZxdpxe6h/be0Hd8vbQrPmfhvFvE78Y179H4XRpZV7A6fuWy+bPrTLvocurka8Xv4kz71Bj8ZPzuS/Frxe99pL0PxfG7uFs+dqmyjfEv3PcLJWdlxu/KDvaVpN3W0z4ayvx5Xdpf/43nnXPPv+31Lhbd26vx/S//v/f9UvRgpB0ANg4EHgDGQtFpYRl7X5IOf3QUFs97e5dItr63iXr7ic9cXy6WF4rkk63vTo7fs6Q9K37XCYvnlTnzli101WfXuXq76FxO8bwSvxdI+zi04/eEsX/lkivulh8gftfz87Usn+uDVdotl1p3/byzGfvK8W8T5d9ejS+pu4dONADYOBB4ABiFZBi+Dodv7L2J3xt7L259l1bHNcPtpSF5rSsY5tIFjwYKwnZp4n2HrPjdKWH7F674Mv6eqXsHKX6PjqybvxJ9F13pmDo7iXV0OZX2g3a/S+o+/g55PX7XtsrnGPuY8buEYuxuHdvmXXv+fI9sX1L3UNp7ojTPS0gzUBB7AJgmCDwADM/4M3vbtN+ENQ17rZfULp5ffCaj9V1Z9t7eSDc/+D3NI4BEbbx1fH3M209+7to8nzeUylecXecCe7dsno9eyhi/d+xdkfZ//off8x8UrKEOKYjfJWlvPy/IaKpXHwGU4VP0KLqxryt+17fKe+efLO36eYu0d0/MjN9HxpfNR6lu7Hqqn5RwZYKpKPaWlwUAMBgIPEB9GBFfyEAhvEpZ67si7S7m7d0DZHu3F8+HNGeZdsvlzq4LUEbWRb19iPjd6Un7+QP/QMHbu67u9vjdrtkNlnV084cCOcXzVeJ3ydvHj9kl2vG7Lu3RU6ZMVN3nxu7j7koT44aun1eM3ZVKu1I/31PaLQcrYq8cwA/9TcT/VfJ3BxsEAg8A4Jy59T2q7t7554Yv2/uy9V06QC6eT0p75EuZk+pCwuL5K//+1PxNa2Dvetiu7JxfOSyz+z2093YTfnTHey2U+N2n7iG1ivOziuejSNJ+ujXuLutSI8TvUXWv2EVfWD/v178/8C3jkRKjLZDPZVk/H6BL+7kHv+mcu/CBX6zyMioauxHtmgWhPXIIAPVA4AFgd0m2visj6+xHeuyt75YgPb1bTrX33Nl1Uth+8tGrvobfWCrfJ35XRtaFc++9uv/9H73V2cbU5cbvHXuXjN2TcdkBZte143fd28Pj14hSAD/o5rmKDLFqfr3188//ttZe3o33Dw+9vfesmZfUfe1KHL6Akmr8df8uAGATQeABYOeYzWbRN03tIF36apTlcLsexfOepn09du51ab18g714PknT/d6xd+Pa+ZVL2Yrnw/g9S9oblP1SFUlI++MHB8OMxCuL30N17xPgdy5bK36vJe0F9fNV4veksa9r1Xz/+nkpbK9ek+/L5qNM33ULqvERewAoAIEHgF2nid/teXuUKsXzHQNvD8zTG+/bFM+uU0bWRb09K363I3n7qceuhMvq2rTVfbj43cXsPWsXffSyteJ3vQBe9/a1xO+St1uW2E0BP4U+SsVV827E+F3bXffgN2u15XsUY3fb4rH9xf6o9cnt+DMBgD4g8ACwi5x45Ma1e49du/dY9A3U8YcXpfXv1Rrj58fYWt8jn3/3ifndg9b3cE1dY+/Vi+dzpX15KeOA+pz43QX2bq+6D+29CsrIOkXaR47fC6W935i0PvG7Lu3RU4wMPb5Oj9mnPzZPQpP2JmbPqW1R6ud3QdotlM3PI7QHAAQeACbDiO8/oiPrGm/vft5QPC8R7o2TJtUpu+UbehbPt5G8/eTnr139zRPOXCrfc3ad1F2vzL2XOt49fljd3/uLlMbvZdJeRln8njD2Lx24ZoOdErnv7bnDQ3d46B1+nPg9qu72pwBDkIzEFWk/+7WLdcfFV0eqnx9k4Xxo+IeHzrnn/4PWPI95doj8gSyyd6rxAcAh8AAwBqt719fFvP7QuSPn2q9G8nYfv/csnm+Ievvx+56+/sBbXMrek63vDZb43QX2fvLzpp3zK5fqN7su6u1lI+5Ce/er4yz23kaR9lOPH0TXzouXGjJ+d4K9W5bSV8QSv+vV70lpr7UuvgxN2nvsmV9v/XzJwnl7l3ssn5fUHassgzZ7AHAIPMDmsmHb5tft8J03Mcc+/aJ7350uZe86xcXzzUOBZIDvbK3vSvG8MrIu6u1Z8btOp3he2Rvv7CPuqm6JW66jC+w91/8blL30kYMN8Xu4Q96jG3s6fu8cXyl+7yntPek5vi4p7X1utF4GXzh/eOjUpXFHbtQaq10DsQfYKRB4AJgMs9nQ7/Aab7/xvjstxxcUzyelPaR68XyutLdONNXhZ8XvYpH8F6465678uq2RPriIZO+W+F0ckieclRW/e3rG72XSPhrt+F039uYJQtZueTd6/B5V9+p3N8XvnRz78NAt5uTZ4/cLHxRFuu7CeT3SRwTXDmIPsJUg8AAwChOI3499+kXj8cni+XBvXIG3zwP8esXzkref+Ow1X8BvLJWvOLuug5f2yOdtxfM+fi8L3nOlvYys4vkwfpe8ff+LB0qFf0g6fl+1xHn8/tHv2G/hZHWXZuxNJ35Xtritecl8jw2Ivtc9SnnFfqx+vi3t8+nora9qkjf8I1owUkvs+esEWAsIPABMiQHe4ekTfXsS9fbjj9zwQ/L6TL9zOcXzLkjdkwvnI5fqPbtOGlknebuP37OK53V7D+N3ZZO8y5pyV3t2XYMi7c3Hc9WvFb8rlrgYaBcSbpJvqLJSfuVeA8TvFaV9qPr5pL2v/u0oxu6Kp9DF0GN2h8VtEQzGB9gIEHgA2GaaNxad+P34wzec0OVuj987HH9ksXwuNuI+ihK/S3vj9GnzUW/Pit91wuJ5Zc685O1l2IN3ZY388hi1IT95qSgF8XtI/9F3ifg9sMTLH/63rh2/r1qi5O3Z3fVrmjMvefv4S+YT9fOyvc/r5z/xTWeT9uZS3t771MxL6r4UswlMJ4UREFUcsQdYBwg8wCBs2IS5baex92TruzS7LintsS/1Kp73eHsvkPYGaWtdh9zZdZK3N5X8SXvPit//+R98r/mMZO8+fg+RZuDbi+drxe9l0l4zfrdVaIvS/sRlJ5cMrJd2Kq5Le0NZzr+u8XXRtva6De1KXD//QeZ9jB9qsEr0fQ5t9gDDgcADwNaS2/recPyR63qJu+LtyeJ5C038HlV333jvq/eNpfIVZ9e5wN713XVRjLPrOkg18yFlG+m6F++9Ok5vXK++Z84VDJ9vxe+Xfu/noseEXfrVa+bb9Kmfj6r7UOF/bNqcc/Fx7rnb43zqHmVsaQcogvl5AMOBwAPAdhK+FbDH71F7P/bwjRvz6vqEvSfuIsTvesd7Z1mdNDMvuGbf2XXKyDpla52xeD4rfm/sXZJ2ywVdfvyeiy7ty5XyWYPuBh4+H6q7vtnOzqD188om9sEr9ovmCOho0v7At7KvJtTP613xmBIMDWIP0B8EHgC2mWTxvLLv/djqivgbhs3wnqz+ecnblfXyy2PyJ9WFhMXzudLeupRxQH26eL7T8X7lnv2/F4489YUrnYXz2q1tre+uKH53VffJF2CJ333kLnH6I9/Vzp1A/F5L2nvVz9//7cRxNofXXdrf5eKHfj7j9RXdaO5AI7gQugUyFcVeuRrAdoDAA8CUqPRDt1M839h7M7tO8vaOtIfUKp6PentTuq/bu7F4Pnd2neTtJz93zVfyG0vl9fjdUjzv7f3v//jfzE8JInfjCnqJKlJ9IM+3U66/lvhd38GuS3v/+/YPwzVp/8olp07InwLt+nmLtC9P/NDPu6L4vSF6u67b9B9Ed3TENLtdZJSZCAzGBwhB4AFgFEZ8h6f8XI96+7GHXrzx/judau/J4nkL8iS86/oBba42xfOr0+lOrvp81uw6F9h7e/S9PkKvdakKxfNKQi5Je278Xrw6TjF242UHpR2/68a+/0ffc84d/MFbXY69jxy/J6V9edavnnGTit89QQgfdenlMLweG+D1W3gG95bk//CIUzHMDoyh/JMuC+0BNggEHgDGYpR3eOHeOL31vbF3BUvxvBS/J6U9RInfr8qt71fffeJkkMlH43dlZF1nZd3qpSrshIsWzxdI+2gkpP38Qbh5XmGE+F1S9/lNa1ji0ETVvSPtE0evezdOsI/H74aHAg1jh43K//DIJ4xIQWhPMg+bBQIPACMy4ju8qLcfe+hF58P2xQfLL/Uunl/9TLa3J4vnFXufH7Bw+LB4vkza3SJ+T9p7VvzuVGk/+ejVcNu8eJ3B4ncXs/dT58tj9qyV8kZ86h4lsZpOj9+D/u2C+N1SP6+vYbdIe0H8PgTJTvW0tO/tGR+vpKV9jYEtFgQTJnfdHcBkQeABYFzaP0Frv9GUfhIfe2i5Se74Qy9ef/+d1xf2Xrd4Purtxx++cf29ifb4ZPF80t7jZwnefuKz130TvsXeDXfJmF3nYvb+zz78Z/4Dace7cEHrRLr0pZSGdlnas+J3T5X4XfL29MXNljgc/aW9ygsoX/9+eOgsxv7xb/vnIEovQJfW3047flem0zuSQwCA3QOBB9hgjo6OZrPZbDbjPZwL7P3OT7304m/f4VbtvXtKjftKq+OOLx4KKIPuO1gmz+tcffeJ5jfVsff24jp9ZV2HPrPrlJF1Jx+92hk17z+wx+/z+5bG72XSXkZW8XwUUdofP4iuoBfZ25s/HTDH7wW043fd2JtUX+/bjzJ+/B7dM+85+/FIb/xS+42sPmGR1J3/8AEAdhkEHgC2ijs/9ZL/wNu7hYL4PSntkS/1KJ7vQ7hwvmGg4nld2puPo/Zux148v3KWIu2PXZl7vs3eC+J3I+34XfH26vd1Lm7vxePrJHUPLzUX/onF73p4HjX2PihPBzD2CcFIOQBYNwg8AGwDPn4P7T0ZvyftvU2Bt/cvni9AkXa3iN+rFM+3kbz95OevdVbNK+qeG7+bXtiiYj+091z/X14z2GynHVwUv4fqHpX2vPi9eTrwRP1h8kqEPsTs+oHid0Xa59pv7EGwPZNC2gHWiH/nwPcabBwIPABsPJbW9z5Evf3Yp1/0c/KS9m7BsvjdeimDvRsxxu8usHdl+XzS3i1Y4ndpTp6+wS6reL5W/O6lWmKosN2GHr9XkfbR4ncJbWVd2AVgniMg1c8j7QAA0AcEHmAoaFAfh8beO/G7xd6z4vf5KbbtdG3KiuezpD2XPsXzysg6ZWud1PEe0id+z5X2wrvUWB1XRdrXFb9L3n76SwftdfRTw7pnfjXVj1TdJx0++OeNtAMAQC0QeADYBqq0vielPaRu8fyg0u56FM/nSntI0t77rI5TltK5rCl3tWfXtdGN3T8OmNv+WiP3Nu34XZH2UV+Tc65f/Xx8z3zupRSHX/3nHVV3pB0AAIpB4AFgg+m0vjco8fuN93eT8wJvr1s8L3n78Udu+Or9449cd7ZW+ZNy/Xxu8bwi7Sc+ey1cNR/Fx+9lW+J0xLDdNk6v/L758bsT7L1nBf5o8XtU3aPeXhC/D10/r8zAt0i7NvQu9o9ZCfaRdoBJQQM8bC4IPABsKmHru7143gnefudDL77oN8On7N2CJX7v2Ht74n279/7EI9ev1Rh3Z4zfQ3s/8dnlid7ek3T22Cn2nhu/h4RL7Ly9K/H7QfgI4J5959x+vxxeG3SvGvsU4ncfuUusJWwPScbvPaU9F6QdAADGBIEHgM0mq3g+jN/nF1k4/4vCASEFxfPKwPlwU13rS/PrJB0+Gb9H7V0ZON+W9sjt1Pi9qZn/Zx/+s57Bu13aW6cksveIvTdfumdfcvho/K4Ye3hwLWrF77qxuxxpX2/8rkn7ly875y7l75mX0NfLIe0AADAoCDwAbCTGvXGSsbuWtDc09l63eF7ydkXa3SJ+7zwFUBw+q3i+WNrdIn5P2vt//ejPOpu9R+N3Sdqd6u3dI4X4XbH3+QGyw3sS0n7+inPuyj2Ju4QXHCd+16XdPxRo76KfFO34PSnty7P8k4LM+N049M4h7QAAMCIIPACsm9nMZb791ffGKdLuvLerB1QpnneCtx97+MaNeT6v2bvCiZbSe5mfpVbHeU5+7prk7U0fftLekxyuTvbKyt4VaT/56NWF56ftXS+eT9q7eNnF7vfIPvnz3Xt5e59U/O4Edc9dUB9l5OHzUXU/M8zdo+qOsQMAwLpA4AFgw5D2xjlB3f1h/pgwdW9Itr43FMyuaybeSwPzuteJxe8SxsXvHXvXN8/LV9Pi98beffx+8tG0bDe730N7t5w+HE0I33h7h6W0Hx66w8PoSDMjQ8TviTV1qrSPE78b6+d95C5hkXZ7/K5E+g5pB9gimGAHGw0CDwCbitL03plLn2yPt7S+S8XzSWkPsRTPJ1E66pWB88rOeWPxfJTOlrj/ql6nkfYQSdprxe9G5o+IAnUPk3bnFhvFWg6/xvhd8vYqMbtE3fhdN3ZXNWnXjd3x/h4AAKYHAg8A6+PoyAnF8BJS8Xy4Sa6hsfcmfj/20Is33n/njfff6Uvu7a3vbQq8Pat4Xo/fIzvkM6W9mDB+79i7Hz7fUfECaR8f/d9i3N570z9+F6X98QO3EP7cqw0dv/tU/OwiftelvZm9lxy5J92oid8xdgAA2HQQeIDN5ujoaDabzWazXXjf2bH3Oz750kv/4Q6n2nuDUjzvsRTPO8Hbj336RW/4SXtPXz+neN4TVffjj1z3kp+096z4vWPvHXXvnKJJ+6Ih315mP1D8Lkn7qd//02WintM2P1r8rnt7ePxAlMXv8z92wdujy+q9vZfF74q378L/nLB5hI+q/Wf45woACDwAbBx3fHKu697edaq0vkuz65qzcjbDD1g839Z+pcC+TWcLvXhYrHg+au/N7vfQ3ttL7JQx+B2UpwAdkqvj2mje3rnsvz/lJha/h+peq39ej98vvWvfOXemNJy/rC5yi0p7GfrGOIwdpo5SmJY/8xVCaICHTQeBB4DNwP/Ebey9wVI8Lx4gt74npT3ypSGL59Ud8mLGbiyeNw6fb+L3sGZeanqPbp5fftVcPN9/dZxbqHj41jiU9mKqx+96Abzu7Vnx++V/t+9STQRnvnRw6V37l9613zh8Mn5XpP30R77rnDMO/0vG74q08zYdNolkWxkOD7DzIPAAA7JT9e2DEra+D1E8rwTpyfb4IYrn09J+73G3WCYXcnKY4nlv737OvHMuVHdd2t0ifh+heF4vfU94+96eW1P83kfaizn9xYNa3e+KtO83d3nislvdOFgA0g7bRuZQmHVCST/A+kDgAWBjqFs872na10PufOjFZIF9reL5NnKF/I2sDvmr7zmedPgsmvL4kBOfvTb3/JS9D40u7ct98vVS9+WtS+N33dhPtbbZ2e195O53Xdr73qgVvyPtAITwADsOAg8AU2eI4vmGjoG3hd+yW87Tv3i+6X7v2Hv7RGOHfBvF4XNXx4X23j5X2TDXfUmDxe8uZu+FI+7Hit+dYO9e2sdkHoz/8fdyT4yqu77lrqzdParuSDsAZEEDPGwBCDwATJqC4vlwb9z887KQh0G9fbdcWfG8buOK8Dfxu1Q53x/FxnXhNxbPV0EZWadI+/yhgK+0l0q4bV3Z3dfzR//GpeL3K3LSrhv7ROL3y+/an383vivyG6l7O2VjHO+8AQBgl0HgAWADyCqe9zQF8Pox+gEVi+eT+bllQH3WejlPNIQP43dF2v+X3/lz/0G4KK59rr14vjh+L5N2EVXUq8TvirG7dcTsElL8fjkm6m2ypD0ZvyPtAAAASRB4AJgufYrno/Z+5ydfetHSP2/YLeexxO+Suvvr+wcBVdbLFSB5e7NG3tu7pO5Z2Ivn22jS/vlrvrDfeM2V+L0q7fg9Ie2PXVk8GrCqb2783hNd2vf/8HvOObe3p/ftZ9wOaQcAAMgBgQeAiWIvnlc63u9clX+7vetIxfP6wPnwiYA9xnc+/YJNAAAgAElEQVRF8XuUZvd7x96lAfi6vRvj96zi+Wb3e2jvzTD8QSmL36PqPsTzAp3c+vlmq/zl339r+NXug4PDw4JbuNX4HWkHAAAoBoEHgAkQm6m7/PWqdTeKLHn7nUFi3z3goRedYOn21veVzwjebsnw3WDF820aaY/dfeXK7R3v9hF3RpLd6fGzBGlfY/zuB85LJHfRrz1+b6Q9ynBpf1TdkXaAPPiWKYUJdrAdIPAAMEnkdbg3fvuO8Gt3PPjySx+43an27uP3ZN+7M4t31Nsty+fmp49VPB/au/Q4wNv7f3vgLc5g7w1li98VY3djJe1RpPg9Ie2//6dl0+/qomfjkrfPjd0/u0n9Lg7+8K3KLZL38hwdHbFHGqBL830BACCDwAPA9Ei9gzlyzh9xx4Mv+894e1eo1fquLI1vXyTJ+MXz+hr5Q2kku0zB4ndd2pfL5A32PkL8njD2L1x1iyJ/41b5tcTvkkhbOvar3KiB1AsgTdLh+T4C2HkQeICN5+joaDabzWazLXl/bMsfGnV3LXs3Fc8755w7Ju+NC0lKe8h0iudPPHLjeOtqUdr2bozfLcXzV37rhFs8anExe7eH/KPRbJKP2rtlKf0aacfvurd7vL1nPSDoxO/pmB0AclEcnu8pAEDgAWBDefEDt9/ZcnjXr3g+bH1XEvLkdYYunvcT5mbtMQFmlI73vb2965m75aX4/eqqurc54ZfSxeq01xi/N97eQTf2bvze/GHGfnejxe+hVOvb6QuQvB1jh+0k1OmhG0D4VhoAGuBha0DgAWBCzGaz3B+txtZ3C8c+/aIYtn/qJT8zz9JCr1NQPJ/r1Q0nFs8IomF+x96XZ9ni9469K3PmTyw2ybfv3bHc3Hl4/SmT9iVK00HwuxsIfZeb7u32+F2/C++GYctRisJi41cBAIYGgQcYlm2rb58Yydb3Bkv83lHr9r46ZVNd5zoVi+edrO5+g93svcecnMOfkG8RVXd/r6yydk3aP/T0tfvf4qL2LjNC/C55u8du71c+8n86pft91eFrxe/J7eu1wnblRkeOeBB2hmRLFw4PAKODwAPAVAgXv+tYWt+l4nml4z3cM7/8kuEpgI5SPK8PnFd2zjeifu3eYy7m7Z34XbF3C01UHtr7ic9c9zcwXailuPbi+TIkaW8/BdAH7K2QP/CvD4mY/fwVt+jY72/vvsU9ZPn8kRHZsDvwrx0AJgkCDwCTINfeG7KK5yXNVqTdLeL3/vvnwuJ5RdpDY49y/L6/0A9o30KqmW+Q4nelvn0u7eEp+fG7hYL4PSQ8fR7Um2fUJeJ3z+IJRVn87gR1D/fbFdCun5ceEFA0BGCCEB4AxgWBB4AJcfsDL7v7rFXxzjB23hP19js++dJLPp832Lvl+vbiecnbmyb8pL37+F2vw1+96XXF3qPF8wXSXkbd+N0u7cV4e69LI+1RdGkvjt+j6o63A8D2wQQ72CYQeABYK619Obc/8LJ+bJtkXi/Nrrtj4fwvWTbDL+y9VvG8C1J3o/aX4e/1T+97urH3aPDeoEj78Ueuzz3fYO9jxu966bvF23Pjd0+V3e+St1eJ2VduZBlER8EwAADA5EHgAWASNPZu347Wid+VafN3yEG9Hr/PjyktnlcGzivH14rfw5w/au9N93to7z1X0Fsoi98T0v65a74/v2Lq3tBdHVdwBUnaH7viUjP2YleLx++6sTuSqB1n/L1oAABQCQQeANZJdG9c0uFnC3vXV8Qp3m4vntftPSyez5V2y4krh71Xm3UX8k/ve9oJNfNRJGkfIn7PWh3n43cXs3dpHb3pskXxu5F2/K57++rxhfG7KWYHKNuLhuEDAEwDBB4AFkjv6gZ7xxYOrnv5vtudc3c8+PKdzr0orIjz50TV/Y5PvOyce+mDtzuDvetYWt/biAvkH3oxq0PeOrvOFr+37b1A2ltXK1xEr7F4pqDE7420hyjSPrX4PVT3trT3ej33zOP6qLpj7BCBvWiwe9AAD1sGAg8AzrnSTKYeL913e+cV3PngvKj+pQ/c7m8ffYle2pfX+aB5M3zv4nlxgXzrrKwO+SrF851hddfvPf7fYoc1s/TsdfKm+P09x11O/N6xd8XYnS1pV1bTRw6uHb9f+eN/o3xV93ZL/N4YuwTvUEGDMQdDwDcdAIwLAg8A68lk/BPxcOz8HS1vj57YMfb4MYMVz2sL5GXbrzKpzl48/98e+Bn/QSc5t0+tb2Mvnl+yt5dYlt4q6del/cRnr81VP6dOfsD43Ut463fXR9pN91WlHWOH+hDCe1ozVgEApgMCD7DzrOMNirL1XfJ2j27vAxXPl0m7M6+XM8bvHknCr997bP5nurB3/ZTc+N3CPH736+gUh9/ba7rfQ3uXdtFbyCqeL47f9Tlzpz78Z845t7d3RZ20F72mj98xdoCpkHT43fx+ZCACwFpB4AG2gaOjo9lsNpvNBnxzXy+TmZn3xi0PMCyHr148L3n7nZ98yXfgGwvsqxAtnpf2yYdHdlBODI7Mj98bVifnaYvlZWkviN+HwMfvTrD3ubQ3LOw9N36X1B1pB1gbisPzjbkJ0AAP2wcCDwBr4+WYlitWP1rxvAv0u72yTh993zm9bvzuVPc+9sG/uPGJn3HmUvmK8fvV9xx3zs0CFS+TdsvpkddQO35vpD3kVI0SfSXJ570mwITg+xEApgQCDzA4Y8Tjm4NSPC+pe9TzOxQXz+vT5u9UFsiXLodvk7s6LrT3f/LBv/Af7O3tGZvk7cXz9vj95GeuX33P8SPnTurS/pnrK2X2NkaL3xVjdznSrsfvkrfz/wMAAAAkQeABYDw69n77/a+8/KHb9FO8vfvN8C9+8PY7YyF8bvF8sbS7RfxepfW9IRq/KzZ+7OEbnVHz7a+WTaoLyVodd+09x+d/tYG9F5bfZxbPF8fvurSf/PxV59zV38zoZo+CtAMAAEAVEHgAGJvb73/Ff2C0d+eL51OWbonfo+ru59774XkWe9ext76HxfO6tDcfR+3dsmHO5c+uU/TbZ+lZZxXE7xayVsc1RNXdG/vKxX/zpCuN3/F22Ej49wlA8zxMGAQeAEZivjfObO8NZZPn9YHzzbK6+cHq6HtPY+9ViufbSN5+7KEXb7x/RfKl4N2+Yc5ItHheMXbn3IkPPe1flnSAfnr34Kqr466qA+FDae9PqO68C4T1w1402DGQcNhKEHgAsNHv55/U+h7ugW/w8bvF3lc+I3h7x9ij6PH7/JhKxfNN93vHvY+1rn9jNcxP2nv1+N2lrPv4I9eXqq8vfl8wUPwe2nsVabfE7/q6ON44wrRgLxoAwIaDwAPsPCNmMp34XRk4bxlc1ybq7Xd84uV5Pq/au714vs/eOH1e3TH5ynrHe4PR3i003e+hvRcPrs8qni9bHZcw9s9dc43t947ckXbYYNiLBpBCGbgLsHYQeAAYPJMZtHheOcs+3E7H0vre4ON3y3h5RdrdIn5P2rux9b1BMnBlZJ0i7b22xAsUrI5zgr33HF/fjt8xdtgq+BcLALCxIPAA4JwbMJPpPMZu7D0Zv0ftPSntkS/1jt89xvhdUff2DHzd3hsae48G7/bW92jxfJm0W07vUHd1nDKyTjf2svhdUnekHQBgytAAD9sKAg8AC9o/5Lx11/ux18Tv81/mFM8rQbri7fbieR2leF6vmfe63j1F3WDX4OP39o535eCsvXGKdR97+MYiz89I1IeI3zserg+Zr7glXl8Xx7tAAIBdgPp5mDgIPAAMSLR4XrH3hqZ9PaTZHp+0dyNK/B4WzyvSHjX2KJbieY+i7vbi+ab7PbT36Ap6C/bi+bLVcbq0n/jMdX9Zu71L8TvSDgAAABsEAg8AQyEVz0e544GXXSt+7xj47fe/4rz8L+xdoTm3YvG85O13fPIlPz/PYu+W4vmmZv6ffPAvkvYuoc+rk6S9IH5PUrA6zsXsvWLOj7EDAADA5oLAA8Cw+Phdan1/+b7b55YfGzvfKbxvo8+3c/WK512Quoc75y0ki+e9uv/3T/4fzhyM+/jdMl4+ecGsTfK5s+uU+F0ZWadcvyx+d4K9I+0AAOChfh6mDwIPsCUcHR3NZrPZbDYRG+kUz3tuX43ZoyjS7hYPAnq2vjeE8bsycD7q7cb4vbF3KX5v23uSRrYVdW8Pw7fXyQ8Rv3fsXR8yXytp1yvwJ/I9AgAAA8EEO9hiEHiAMZiaXQ+NVDwfVffb7n/FOffKokJeuuYd97/y0oduO3JOeTZubH0Pi+clb9fD9ujyeYWovbe3xM0Pi/m2npB7XS8mq3i+YHWcLu3HH7medU0pfkfaAQAAYOtB4AEgk5xtc1K/+m2rov6KYTN8c6mexfMNorQv5ucZS+WN8XvS3sPieUXaLcaeG79byF0d52L2Xivnx9gB1kntZSUAa4f6edgIEHgAyEH52Tab+Xdy0Z9/t8nRemPvevF8EmPxvNT93jwXsMb4mcXzHdrq7ofV/ffFLyVvb2bp2e3dQsXVcdfuf4t0inL9gvjdCfaOtAMAAMB2g8ADQIyjIzebNU4+J/lkWnh2rdh7g6X1XUGxbmVenRLml02qk+jE76G9N6vjOvYe3T+fcd8B4veOaStz5msl7cotMHYAAOhAAzxsNwg8ANjIqSu77eOvOOde+Z10YXyy9d0Z7L3Bx+/JCfPpGXgpe8+K39v2HtbM//fwNMHbc+N3i72XrY5Tpf2GH63Xp6NeXz7HezIAAKhOo/0U0sPEQeABoCZHzt3+8RUbtxTPW7jjEy87IWZv4ndJ3dvT75Mt9LUIi+cPDw+VOfM9w/YCClbHuZhdH7/vL5a/CGbyGUHaAcoJfYMGdQCALQWBB4BB8PF7/9Z3aW+c3qne2TbvUrvr2tesFb97jj304o33i+3od37yJT9LL2nvQ8TvnmR3unDWDeciun79gZ9xzh2/72l3eOj29vRbKw8FMHYAK4bRJADV2PZnQ+TwMH0QeACoj6V43pNbPD9zLprDh8YeJVk8n8S4Oq6J30N7t6yvG4Fo8bw+ZH4u7Q3JsD3m8MotkHaAbAyjSbbYtQBCyhrg8XbYIBB4AKhMY+/J+N0+dt7bdeeH6u33v+INP2nv9uL5PqvjpIHzzrm99/8/e3Icvcb43aWk/djDNxaqn7b3Zfxuvj7SDlAOpgFQCX4YwQaBwAPAIPRvfZdm1zXabxxuN2jxvC7ty49j9p5VPG8hd3Wci9l1R/6z+uQbrj8g7pNzvE8CGBlCeIB8+FEFkwWBB4D6lLW+K0I+PziW+urxe2Pv/Yvn20jefseDL/tBeo29S8F7bvG8JX6fHynE74qKJxP7bvwew8fvLmbvvA0CAAAAqAICDwA1MRZ0eiFPRuhKjb2xeN5TpXi+6X7v2LvfXTc/ZnUMvlI27xm6eL6PtLtln7x4ZCPtIUtlx94BAAAAKoHAA2wPfvjKbDYbJPA8OjL2W1rid0nd/bnJDvms4nnd3pXieX1eXdvbPc2Od73j3ZmL58vQpH0xEt9u7x38jncJTB0AANZI2QS7WqcDjAMCDzAS2/DzIOXws5i96x3vecevWrGxeN5OcsJ8KO0Nh4eH//Dpn3YGe7eTG7+7mHUf6/eY4PgjN5B2AAAAgImAwANADrLDdz4rebiSz7cZp3i+6X6X1N2fPk/pBXv3wbu3d2com68Vvysj6yRpL4jfQ3ufP4pi/DUAAADA6CDwAJBJa0uqT19v//grzeq4qLff9rFXXvnd25zB3nPXy0koxfP6yLrwFP34w9W5enemGunts+ui8XuBtNtRau/L60e2oPAEYNPh2xAAYItA4AEgj8beb/v4K+53bnOtxe8dbvvY3MO9vSexrJezxO9h8bwi4Zb5dk7teHeL+D1p7w1Z8bsi7Xd+6iU/Uc9i79H4vVzazTMRAGAo+DYEaEEHO+wICDwACPi3hvIC4ai3N9Ie+ZKaqyvr5RqMs+s8d3ziZcnbb3/glZfvu80Z7F0qnm/b+97e3j/YXpK9eL7Z/R7ae7iFPjd7r5a0J+WBd1EAQ8O3IUAl8H/YFBB4AMhgJrxTVLzdWDzvsRTPG+P3jr3f/sArrWNMDwKi/t9Rd7dYHdezeL4x9ihtaV+eIuyij3Lj/eKUu15vVhR54D0QwDjwbQgAsEsg8ABgpWPvt370B+73bnUGe09iaX1XiueVgfNtb+9QUDwv2bsdH7/ruj4/MibtDY29R+P3G6nr10wYMASAtcO3IQDAzoDAA0Aet370B/6DH/zercZTjMXzCmHxfJm0u0X8nls8H6p7G3v8rqi7v8i8zF6194bG3pPG7igLBAAAANh8EHgAMOHj98beLQxRPC95++33v7KI6NP2notk73rxvF4zvzzLX3xvz5ntvYnfFW9H1wEAYHeggx12BwQeANKEre/2+F3HXjzvgtS9fVbufDv9gCZ+V4L3aPG8Iu19m+RTHe+8awEAAADYehB4ALASFs/f/rFXXv7d217+3dtuD9rgLfG7VDyv27hi+xWL512qbN5z5ydfUsT7jgdfzh1xFw6Zj4KuAwAA1IIAHzYIBB4AEnSK5xt77z+7zuOFvFja3XK+nalW38g/ft9/8h9E1b2J30N7bw+9yx5xt9jrHoU3FgAAAAA7DgIPACUo9r48xha/R9X9to+/4har5o0F9jpZ8XvU3hUbDxfFt0nH7w/96/kHgb0j7QAAADrk57BTIPAAW8XR0dFsNpvNZnV/jHXid93eleJ5feC8l/blwb+TE+PXmF3XXvye3BKnS7vrMeKOtyAAAAAAEAWBB4AEWXvjwuJ5Rdo7xh6lYvG8Hr83He//+H3/6R8+/dP/EH0xizH4RnvvgLQDAAAAQB8QeACIM5vNok5pLJ6XvP3Wj/3gB797q0vZu6V43kiyeN6r+z88/NP+l//w6Z9uf/X2BxKurqCPuJtLezDhHwAAYIr4H1hb98SZCnzYLBB4AIgg7Y2zFM+7IHW/9WPL7fHe3nWMxfM9F7+3C+ZDot6eG7+H9s77AwAAgIqg37BrIPAAkEYqnl8ae2zsfNvb59dZ2LsSvzf2XmV2ncfH77qxu35hu9Itz7sKAAAAAKgCAg8AXZZ741a93cfv+oq4UNpD+re+Lw+zxe+Suv+j9/ylc+5/fOannMHew/gdaQcAAACAMUHgAWCFdvH8bR/9gWvF78nt7rq9V2x9V4rn9YHzt9//SjOszjm3t7e3uFRG9i55O9IOAAAAAIOCwANAHGXm/K3/sSXqH77VMoSteuv7ymdkae88C4jau+mm982lvWPvSDtsPJ2BF80v+bcNAAAwPRB4AFgSzq7zrBi7wPjF85K3NzPw25fqqLtrPQhQ5tVJ4O2wJShLEGYzHB4AJk7/CXbMwIONA4EHgDkde7/1I//5B//3/+ZS9u7PGbl43gWp+22tE8MNdqG9N3h713Xdw0932DaSKwxxeAAAgImBwAOAcy17v/Uj/9l/YLH3H3w4XRjfs3her3K/TRZ+/yxAUvfWgwAG0cFOkrR3gPAfyZauAQcA2CAQeABY0rF3ncbeb/2tv0oebC+eT/alK9LuFvF71N71K6PrABEI4XcW2isAACYJAg8Ai71xgb33b323F887Wd3b6+ss9u5a6u5XxDnn/kdwMMYOABDH0l4BsG5oX4fdBIEH2HXKBtf5+N1i71H0gfPe2FeON9h7wz96z1823t6BH/MAAAmQc9gZeAQAmwgCD7BtHB0dzWaz2Wxm+YE0Qut7E78r0h4ae5vk/vn5YYv4vWPvU//BfHTkZjNKUgEAAAAgCQIPAHmt78uzbHvjJG+/9aM/8KvmjfYexu/htPk2U/d2AAAAAIBMEHiA3aWs9T2reL5j77d+dHmWt3cj3t51Y/fg7QD16dRUN7/k2w0A1gTV77CzIPAAO0qf1vfI59VdcW1v72CM3yV19/0C7V8qVwOAbHyLhwStHwBbD9sEASYGAg+wi5S1vjf4+L1Y2t0ifo/au97x3lZ03+offh4A0uhm3mCZRs53H8C2wvM7gOmBwAPsLrmt7038HlV3L//zAnuDvbdRpF0yc4J3gL4YHR4AdpNtf35HET5sKAg8wM5hb31PTpvvnGKx94bbPvaK5O36T1PUHaAaisPb9X7D38QDQASe7gFMFQQeYLfQW99zjb2NZbeca8XvHXs3qjj2DlAZvo+gA6UZYGdNz+8Iz2GXMW2KBoDNQvrBJrW+K/gjkx3yjb2H8bs+bd7+X9A2qzsDgWCa2C2u4F8v/+wnjv6330g+f4PbyqDf/r2pIvA8BYANhQQeYBdRvL1xe8vB3XM/+gNn2A9X8MNym+0dAGCC6O0VAACwJhB4gF1BLJ4PjD1+mCF+l9S9j3Kj7gAA64H/cmF7IX6HzQWBB9gJOvZ+6x//lx/8/v/qDPYuFc/rHe+1fiJi7wAAANAG94YdB4EH2CFu/eP/4j/w9p4kLJ6XvL36z1HUHWBj4DsUAABgLBB4gC3k6OhoNpvNZvMplfO9cQt7bzAWzzvB24fzauwdYBIwjRwAdPgZDTA6CDzAlhO2vmcVz4cMatSoO8C0SDo836cAWwnP7wCmCgIPsBNYiueVafPjuDT2DjBF6k4j71yq+SXf8gBTg+d3AJMEgQfYZvTi+eR+uNEsGnUHmDS1visVGZjNkAGAyTG9bYJsgAdA4AF2iCZ+X0t5vAT2DrATJMtxcXiACcJ3JcDEmPF2GWArkba+d1jv/wCo+xz/57DLfwKw9Ribafku2CD4jwvWAQk8AAk8wG4xnR9X2PsSX6NI/AjAdwEAAIAKAg+w/UxNj1F3AAAAyIXkHMAh8ADbzQR/yGHvAAAAsC54CgCbDgIPACOBugMAAAAA9OF/WvcLAICdAHsHAAAAAOgJCTwADAvqDgAAAD2h9B3AQwIPAAOCvQNABvwvAQAAoEICDwCDgLoDwBK/KxEAAAD6QQIPsJ14Z56t6R0z9g4AXZL/FfB/BQAMDHX4sAWQwANATVB3ABBRcnj+uwAAADCAwANANbB3AEjA/wwAkA/JOUADAg8AFUDdC+mkkc0v+TMEgCnj/7PifyoAgNGhBx4A+oK9F6JMKGDcFwAAAAAEkMADQDmoezlJRZ/NSLcAAABqQR0+bAck8ABQCPZeDgE7AACAjbWI982bz9wc834AZhB4AMhmNps19n50dIS9DwWeDwAAsA5effDNr5mdvgeLh+mBwANAHgTvAAAAsNXc/PEPnXMHj2PxMD0QeACwQvAOAAAAu8BrX7c//+jg8Te/5vQ9j2DxMBUQeAAwQfAOAAAAu8Etbzp/+dW/evjuucUfPP5eLB6mwow34gDbSq2hL6h7fezN7fyBA8AEYQ88jEXdNzP517n5zCMP/sf3Pn6w+PX+3X/1J+ffdEvPVwPQAwQeYGup8jMPex8EBB4ANhoEHsZi3QLvnMPiYVog8ABbS8+feaj7gBgFnj92AJgmCDyMxSQE3jmHxcNkoAceYGvxP6VmRavIsPdh4Y8UAABgo7jlTfd2+uJpi4e1QAIPsM0UPG9G3cdDf7bCHz4ATBYSeBiFWvF73Ut1s/j9ux/+8AfuJYuHsUDgAbaZ3B9X2PvYSA7PHz4ATBkEHkZhOvXzIaHF/8n5e5F4GAEEHmCbsf/EQt0BAMAKAg+jMGWBd85FLJ62eBgeBB5gmzH+xMLeAQAgAwQeRmHyAu+cw+JhbBB4gG0m+RMLdQcAgGwQeBieiTbAC9y8+cyDv/LmhcXvP/zqZerpYSCYQg+wu2DvAAAAAL24efPmM8+8+pc/dq+7e38+of51r8XeYTD+53W/AABYA6g7AAAAQC43b9589dVXf/zjp3/0nR/+8ODgIHrQ/k++ZuSXBbsEAg+wc2DvAAAAsCP0qJ+/efOme/XVv/zx0z/60Q9lXW/Y399/3et+7iff8tqfogUeBgSBB9ghUHcAAAAAiZvPPPLg0yZbd865/f27vbC/5jW33IKzw0gwxA5gm2k/dcbeAQCgDgyxg4FZ1wS7Z+6Zvflx8asIO0wBEniA7Qd1BwAAAEjxzNMr9o6wwxRB4AF2COwdAAAAIM5N95N33/3wW96CsMOUoYQeYJtpZ+8NfNcDAEAvKKGHgalVQj/CBniAkWEPPMA2E/2JNWsx/ksCAAAAUFiLdd985pmbN8e8IUAhCDzAlnO0Suers1XW8goBAAAA1sozD775za95zWx2zzPrfiUACeiBB9gt2g4fGnvnM5ScAQAAwPZz88c/dM45t/+Tr1nzKwFIgcAD7C4dP8fnAQAAYBd59Ud+7fvrXsvsOpg6CDwAzMnyeWQeAAAAtgMCeNggEHgAiKP7POE8AAAAVKfiBDv7pQjgYYNA4AHABM3zAAAAsI0QwMMmgcADQDY0zwMAAMC2QAAPmwRr5ACgL/qmOsfmeQAAAJgszzz9uP/gh08/8swzN1kHD9NmRjIGAIOiSzv/BQEAbB7+P3b+A4faVGyAt1/t5iOnX/Peg+DT+/t3v+51P/mWt/zUa15zyy0k8zAdEHgAGI9kAs//SAAAGwACD8Owlgl2z9wze/Pj6Qsi9DAREHgAWBv4PADARoLAwzCsQ+AXAfz+3Q9/+Cd/9PR3fvjDg4Mwjw/Z399/3et+DqGH0UHgAWAqUGwPALAZIPAwDOsQ+EUAf/dfHZ1/0/LTN2/efPXVv3z66R/98IePp4W+czLAgDCFHgCmApvnAQAAdpa6DfBWpBVyt9xyyy233PumNznnzju3EPofP/2j70SEnv1zMCIIPABMFDbPAwAAwLBYV8g1Qn9vIPQ/dD/3U9TQw2gg8ACwAbB5HgAAAKojBfBJWkIPMCoIPABsHlk+j8wDAADsFPZqfGsADzAZEHgA2HhongcAAIB8nnnaL5CjiR02BwQeALYNmucBAAA2i/VMsHNvOv/qq2959S+f/jFN7LAxsEYOAHYINs8DAFSANXJQm7oCv6bHAQBjQAIPADsEzSGYycIAABTISURBVPMAAAAAsLkg8ACwu9A8DwAAsGUQv8N2g8ADAMyheR4AAGB8UG4AOwg8AEAENs8DAAAAwNRA4AEA0tA8DwAAAABrB4EHAMiG5nkAAAAAGB8EHgCgLzTPAwAAAMAIIPAAADWheR4AAMAOG+ABskDgAQAGhOZ5AAAAAKgFAg+wkYQeiPttBDTPAwAAAEAxCDzAlkCQu4nQPA8AAAAAdhB4gI2EIHf7oHkeAAB2DVrWAXJB4AG2AXuQy8/ITYHmeQAAgCx4HAC7AAIPsG0Qzm8l/LUCAAAAAAIPsOUQzm8lNM8DAAAA7CAIPMAOQYq7ldA8DwAAmwgV7wAFIPAAuwvh/FZC8zwAAADAtoLAA4BzhPPbC3+zAAAAAFsDAg8AEQjntxWa5wEAYCuhIB92BAQeABIQ4W4rNM8DAAAAbBYIPADkQTi/rdA8DwAAo0FgDlAGAg8A5RDObzH85QIAAABMDQQeAKpBOL/F0DwPAAAAsHYQeAAYBPLbLYbmeQAAmBQU5MPuMOMfOgCMTOh7bfhPadPh7xdgy/Hf43wvQw+q+zYCD7sDCTwAjA3h/HbD3y8AAADAQCDwALBm6JzfbmieBwAAAKgFAg8AE4LwdruheR4AAACgDwg8AEwXwvnths3zAAA7CP3qAH1A4AFgMyCc33r4KwYAgAJ4IgA7BQIPABsJ4fzWQ/M8AAAAQAcEHgA2HpLbrYfmeQAAAACHwAPA9kE4v/XQPA8AAAC7CQIPANsM4fwuwN8yAMCmQL86QE8QeADYIQjndwGa5wEAdgeeCMCugcADwI5CbLsL0DwPAAAA2wQCDwDgHOH8bkDzPAAAAGw0CDwAQBfC+R2Bv2gAgDGh3B2gPwg8AEACwvkdgeZ5AAAAmDgIPABABmS2OwLN8wAAADBBEHgAgHII53cEmucBACYINfmwgyDwAAB1IJzfHfi7BgAAgLWAwAMADALh/O5A8zwAQBLScoAqIPAAAINDYLs70DwPAAAAw4HAAwCMDeH87kDzPAAAAFQEgQcAWCeE8zsFf90AALWgJh92EwQeAGBCEM7vFDTPA8COgGwD1AKBBwCYKKS1OwXN8wAAAJAEgQcA2AwI53cKmucBAAAgBIEHANg8COd3Df7GAQAAwCHwAABbAOH8rkHzPABsEDTAA1QEgQcA2CqIancNmucBYAfhoQDsLAg8AMA2Qzi/a9A8DwAAsMUg8AAAuwLh/A7CXzoAAMA2gcADAOwohPM7CM3zAAAAGw0CDwAA5LS7CMX2ADACNKsD1AWBBwCALoTzOwgPcQBgU+ChAOwyCDwAAGjgdbsJxfYAAAATBIEHAIAMCOd3EDbVAQAA/P/t3T1yGtkagOHm1l0KOFBpBa0VgBJFSidrhZDczKEzJxBC5lSREsMKYAUqB272wg34a/Gnlkb8fPTz1AS2hCSm1FPDy3fO6Qsh4AH4JMP5arJ5HijJWnf4cgIegK9hOF9N3scBgJMR8AB8PVFXWTbPA8DxCHgAjs5wvppsnge+nGX5VJyAB+CkDOcry+Z5APiXBDwA52Q4X1neyoHrZlQOxyDgAbgUiq7KbJ4HgHcJeAAulOF8Zdk8DwA7CXgAAjCcrzKb54E5y/JBwAMQj+F8lXk3By6f0oYjEfAAxCbnKs7meQCqQ8ADcFUM56vM5nkArpuAB+BqGc5XnM3zAFwZAQ9AVRjOV5w3dOA0bICH4xHwAFSRlsPmeYjF+wKQCHgASAznK8/meQBCEPAA8IbhPDbPA3CZBDwAHGI4j/d0ALgQAh4AyhJyJDbPw0F2qsNRCXgA+CTDeWyeh9PwvgDM1fxnAABfbjvkivzPtyKu8zKY/0sFffIcn9KGozKBB4CvZzhPYs8FAF/tP+d+AgBcqFGv1xuNptNzP4/4Zm9tfLb21lmeIadx4DJIXAlcBeN3ODZL6AHYafRUaw2Wf0nT7Pbx4eG+0azXz/mkrs51LrHm494t9gu6GCyhZz8BD8cm4AHYZdq7a3Qmuz+3zPlmU81/LT3P3EVfCQKe/QQ8HJsl9ADskv9Z1HuadbM0TYufm0wGg06r1ajVand3T1bZf53yS6xP/9w4JdsuANjJBB6AHVYL6NNuPm4vBu3T6Sj//fLy/DqYvJ3Np9nwV984/qgueiTLCZ1/sb0JPPuZwMOxmcADsG3693Xxp9tv6y6v15vNdr8/Hs9ms1meD7PlYH4yaDWeRqd/mlViOM/c4eF8cqT5fK22/qf4EShQ73ACAh6AbasF9NlDc89D6vVmfzzOu8vF9YMfPUvpT8T6alY+1POf/BkHvtAFBnBaAh6ALaOXxfnz6U3j8CPr7V/LhJ/8yY/7rNjDcJ6Vr39z592Hua4ATkjAA7Bp9wL6Per3j4uCf/1rBH92hvMU/dvF9i4SgAvz33M/AQAuTokF9LsezeUpZtt2oRU/Ytvq1dv4FR++HrYff0it5kw7bICH0xDwAGwov4D+zaPLjOs5o8P99vl4I6YyPe8iALg0ltAD8NZ6Af2ks7jV+1OvN5ruut37dPTUWvZ7qXE9F8POeYrePQwPgEvgPvAAvLW6BfxOaZrd3iY3Nzd//vx5HQxWq+eL94tfm456v1+enxfvCNzePt483N8365+d1E9Ho6Tx+S+nJPecZ6H82zeuisqzhB5OQ8AD8Ma0d9foTJIkSbPu482f5+fXyeS9Te476331jXY8Ps2+/+o3Pxriy7cWNn7cdNT7+Td5+Hbf/PB35F1ivtJKB3zxca6KClLvcDKW0ANQNP39vIju24d2u90fj8ez2WyW58Nulm49Ok2z7jCfHa73NMu6w2E3y1bfYDIZtBp3T6OPPbXlbvv08f7Nj8tfOoNOp9X6x43oj8Cx9nyUSwLgeBxiB0DRnhPo6/Vmu9+8v1lO53cumF8b/VzUe+GBzWaS9PvJdPT0T2swSZLJoPX0MOuX3ji/2pu/cVjevo9zDI61Z4fCL9vhiABHZQIPQMGqhneeQF9v/+qmSZIkk07j4Py82Z/lw26WdX9tZX692R8Ps/mfBy8fGMIv31rYembfHrMsTR2id3KG89fv4739b+88D8BB9sADsLZe+Z4N9wzH12fc7X1I+R+z9S2mo97PH8tD75Lbx+//ay82tu/ZAM9FsnP+qhwu7dK/zXeL3YURlz3wcDIm8ACs7VlAX9T8X3exlX3w40s3nU9HT3e1RqszmKwMOq1Gbb5X3kL5UAznr8qBKvtIsL17pzpXRVDqHU7JHngAVg4voF+o3z+mnckkSZJJ5+eovXsIP52Ofv98eX59TZIkub29TZLk5ubh27f5Z1+et1bDj54aq5vXpWl2+3iTLO5TNxm07m7y77sX0E9Hvd/Jt3v3lrtsds6Hd4Tfy8bv2uZ5gDIsoQdgqcQC+rnDy+gP3D/urfVq+PU33LpFXCHsd/xAC+ujs9iebRbbx2ICD6dkAg/AUokF9HPNhywZDJIkSQYvo37zzYNHT4V6T7PsNkmS5PX1tfiYxZ3ll6vhR0+76z1Jknqzn3df199x45lZWB+e4TzbDg/ntz/i2gCqQ8ADsDBNbtI0nUwmhxbQz+0t+Gnvx2JevncmPu3dNSZJsl4Nv7y/e5J93/UF9fb3rLMs/I0F9L+31+IXPjvq/X75M1/Gf3v7ePNwf2+l/UWzppqdPtTzLowTM36HE3OIHQAL9WZ7PB7PZrMSi9GbD4s7wW0cZbce4u+M8eJD0sf7+fL5Vb/vm/s3bhbH5m0O2je/1cq0Nz8QrzNYHIk3GHQ6rUajdvf0pQfvcUwOPGMnRyQCVSbgAfiMdcFPnn9/pIlXvb6I8dUq+BL3cS+3gH70VGt0BstF92mWZVmWLd4CmAw6jdqdiA9Hs7GPO88DlSLgAfiU9e3kigW/GpYPXkY7vmi62u6+WvWe7z5efpcyC+invbvVT8iG+Ww27vf7/X5/PJvlw8UznnT+kfCxGc6z04fuVOfyACIS8AB8Tr09nuX5cNjNbv+sCr7e/r6YzA9atbun0XQVytPp6OmucKL85gD+wDF0y8YvsYB+9HN53l02HPebGwfitcf5vOEl/BUxnGcfd54Hro+AB+Dz6vVms93v9wv73Zv9vLtYsD4ZtBqN5avjRqM1KNxbrsTAfWnZ+CUW0K/30w933wZv9QbDBxf+E4ZgYx/v9Xw5J9jB6Ql4AL5Yvd0f5/mwm6Vp4aNp1h3m+Wy4GNAvq7v+7Xb+gde/e4J6uVJ+M/l3rL1//zy89SJ/BV8Bgo0DLLYHIhLwABxBvd5s98fjwgvkcb+98yZuy9Pw9gX1alH8xgL6ZawXFtCX6ff1OwZUjuE8+9g8D0Qh4AE4pWZ/Npvl+fChscz1VcF3fo62En596N37C+hXH/rA8nyqynCeA2yeBy6WgAfg5Or1ZmEa3+wv1tUPWo273irip6PeXW116F2JBfQrB87DK3dqHpWj1jjA2z072QAPZ/Hfcz8BAGj28+5rozNJkkmn1ejsesj7C+jL2XnvOSjYCJKNJNv4q3qpoOIvfbvYXSHAUZnAA3AB6u1xPlyeXr+UZsPlmXclTqAvcR5eod8N4CnJcJ4DbJ4HTkzAA3AZ6s12fzybzfK52Ww27jf+zj9XbgH9+wfMr/v90Dl3sIel1Bxm8zxwbDULewCIZjrq/fzx/DpJHvNxuzhIHz0tds2n3Y3PJEmSTHt3jfmR9js/Df/C4R7zcovkui4SG+DhXAQ8ANdklfBJmg1/9ZuLSp9Oez//6QyW4/fhrG8AzzFdU6pxDO9O4C/8IhHwcC4CHoDrsp6zz6VpMin8NcmG+arr4QTEPO8K1/MCHs7FHngArku9PZ7lwyxdHohXqPc0G+Yz9c6J2TnPu2yeB0oygQfgak2nozyf/7HRKNx5Hi6E4TxlXOB1YgIP5yLgAQAuwgV2GpfmEhbbq3c4IwEPAHBxxDxlnKXnBTyckYAHALh0ep4yTnOdCHg4IwEPABCJmKekI10qAh7OSMADAAT2uUgrfpVXg1XwVYvt1Tucl4AHALgS5WN++5FeE1bKp3tewMN5CXgAgOtUpueVPMnH3/pxkcC5CHgAgOv37sR1g5eIVXYJN6sDdhLwAACVU77nvVasOGs04KIIeACASisT814xAlwCAQ8AUC0fXU5f5KUjwBn959xPAAAAAHifCTwAAAAEYAIPAAAAAQh4AAAACEDAAwAAQAACHgAAAAIQ8AAAABCAgAcAAIAABDwAAAAEIOABAAAgAAEPAAAAAQh4AAAACEDAAwAAQAACHgAAAAIQ8AAAABCAgAcAAIAABDwAAAAEIOABAAAgAAEPAAAAAQh4AAAACEDAAwAAQAACHgAAAAIQ8AAAABCAgAcAAIAABDwAAAAEIOABAAAgAAEPAAAAAQh4AAAACEDAAwAAQAACHgAAAAIQ8AAAABCAgAcAAIAABDwAAAAEIOABAAAgAAEPAAAAAQh4AAAACEDAAwAAQAACHgAAAAIQ8AAAABCAgAcAAIAABDwAAAAEIOABAAAgAAEPAAAAAQh4AAAACEDAAwAAQAACHgAAAAIQ8AAAABCAgAcAAIAABDwAAAAEIOABAAAgAAEPAAAAAQh4AAAACEDAAwAAQAACHgAAAAIQ8AAAABCAgAcAAIAABDwAAAAEIOABAAAgAAEPAAAAAQh4AAAACEDAAwAAQAACHgAAAAIQ8AAAABCAgAcAAIAABDwAAAAEIOABAAAgAAEPAAAAAQh4AAAACEDAAwAAQAACHgAAAAIQ8AAAABCAgAcAAIAABDwAAAAEIOABAAAgAAEPAAAAAQh4AAAACEDAAwAAQAACHgAAAAIQ8AAAABCAgAcAAIAABDwAAAAEIOABAAAgAAEPAAAAAQh4AAAACEDAAwAAQAACHgAAAAIQ8AAAABCAgAcAAIAABDwAAAAEIOABAAAgAAEPAAAAAQh4AAAACEDAAwAAQAACHgAAAAIQ8AAAABCAgAcAAIAABDwAAAAEIOABAAAgAAEPAAAAAQh4AAAACEDAAwAAQAACHgAAAAIQ8AAAABCAgAcAAIAABDwAAAAEIOABAAAgAAEPAAAAAQh4AAAACEDAAwAAQAACHgAAAAIQ8AAAABCAgAcAAIAABDwAAAAEIOABAAAgAAEPAAAAAQh4AAAACEDAAwAAQAACHgAAAAIQ8AAAABCAgAcAAIAABDwAAAAEIOABAAAgAAEPAAAAAQh4AAAACEDAAwAAQAACHgAAAAIQ8AAAABCAgAcAAIAABDwAAAAEIOABAAAgAAEPAAAAAQh4AAAACEDAAwAAQAACHgAAAAIQ8AAAABCAgAcAAIAABDwAAAAEIOABAAAgAAEPAAAAAQh4AAAACEDAAwAAQAACHgAAAAIQ8AAAABCAgAcAAIAABDwAAAAEIOABAAAgAAEPAAAAAQh4AAAACEDAAwAAQAACHgAAAAIQ8AAAABCAgAcAAIAABDwAAAAEIOABAAAgAAEPAAAAAQh4AAAACEDAAwAAQAACHgAAAAIQ8AAAABCAgAcAAIAABDwAAAAEIOABAAAgAAEPAAAAAQh4AAAACEDAAwAAQAACHgAAAAIQ8AAAABCAgAcAAIAABDwAAAAEIOABAAAgAAEPAAAAAQh4AAAACEDAAwAAQAACHgAAAAIQ8AAAABCAgAcAAIAABDwAAAAEIOABAAAgAAEPAAAAAQh4AAAACEDAAwAAQAACHgAAAAIQ8AAAABCAgAcAAIAABDwAAAAEIOABAAAgAAEPAAAAAQh4AAAACEDAAwAAQAACHgAAAAIQ8AAAABCAgAcAAIAABDwAAAAEIOABAAAgAAEPAAAAAQh4AAAACEDAAwAAQAACHgAAAAIQ8AAAABCAgAcAAIAABDwAAAAEIOABAAAgAAEPAAAAAQh4AAAACEDAAwAAQAACHgAAAAIQ8AAAABCAgAcAAIAABDwAAAAEIOABAAAgAAEPAAAAAQh4AAAACEDAAwAAQAACHgAAAAIQ8AAAABCAgAcAAIAABDwAAAAEIOABAAAgAAEPAAAAAQh4AAAACEDAAwAAQAACHgAAAAIQ8AAAABCAgAcAAIAABDwAAAAEIOABAAAgAAEPAAAAAQh4AAAACEDAAwAAQAACHgAAAAL4PwXxYDPh49AzAAAAAElFTkSuQmCC)"
      ],
      "metadata": {
        "id": "HMBhbNdNRudw"
      }
    },
    {
      "cell_type": "code",
      "source": [
        "model.intercept_"
      ],
      "metadata": {
        "colab": {
          "base_uri": "https://localhost:8080/"
        },
        "id": "d3uH-EfxRwGH",
        "outputId": "8a3ed336-8387-48de-8e99-e77fb405f1a1"
      },
      "execution_count": 60,
      "outputs": [
        {
          "output_type": "execute_result",
          "data": {
            "text/plain": [
              "4.630879464097768"
            ]
          },
          "metadata": {},
          "execution_count": 60
        }
      ]
    },
    {
      "cell_type": "code",
      "source": [
        "model.coef_"
      ],
      "metadata": {
        "colab": {
          "base_uri": "https://localhost:8080/"
        },
        "id": "J4a5cFcYSa-6",
        "outputId": "ad4e77b7-fe9b-42c8-9bcb-dc246f219c7d"
      },
      "execution_count": 61,
      "outputs": [
        {
          "output_type": "execute_result",
          "data": {
            "text/plain": [
              "array([0.05444896, 0.10717457])"
            ]
          },
          "metadata": {},
          "execution_count": 61
        }
      ]
    },
    {
      "cell_type": "code",
      "source": [
        "model.score(X, y)"
      ],
      "metadata": {
        "colab": {
          "base_uri": "https://localhost:8080/"
        },
        "id": "aAnq7hGBSf8Z",
        "outputId": "92662319-e13c-4600-e0f6-8fec202a2c20"
      },
      "execution_count": 62,
      "outputs": [
        {
          "output_type": "execute_result",
          "data": {
            "text/plain": [
              "0.9025896186081139"
            ]
          },
          "metadata": {},
          "execution_count": 62
        }
      ]
    },
    {
      "cell_type": "code",
      "source": [],
      "metadata": {
        "id": "u_a-pqr8TvTi"
      },
      "execution_count": null,
      "outputs": []
    },
    {
      "cell_type": "markdown",
      "source": [
        "# Usando todas as variáveis explicativas"
      ],
      "metadata": {
        "id": "Do2t4P-0Tvt_"
      }
    },
    {
      "cell_type": "code",
      "source": [
        "X = df[['TV', 'Radio', 'Newspaper']]\n",
        "y = df['Sales']"
      ],
      "metadata": {
        "id": "ZsJzeIkmS0qg"
      },
      "execution_count": 72,
      "outputs": []
    },
    {
      "cell_type": "code",
      "source": [
        "model.fit(X, y)"
      ],
      "metadata": {
        "colab": {
          "base_uri": "https://localhost:8080/"
        },
        "id": "NwR_yAmZTuFA",
        "outputId": "16eec2ac-a45b-4a80-ccf3-72aeeaecf20a"
      },
      "execution_count": 73,
      "outputs": [
        {
          "output_type": "execute_result",
          "data": {
            "text/plain": [
              "LinearRegression()"
            ]
          },
          "metadata": {},
          "execution_count": 73
        }
      ]
    },
    {
      "cell_type": "code",
      "source": [
        "model.coef_"
      ],
      "metadata": {
        "colab": {
          "base_uri": "https://localhost:8080/"
        },
        "id": "sxvU8dK1UMx0",
        "outputId": "706656c3-05c0-4172-bc14-03661706ff8f"
      },
      "execution_count": 65,
      "outputs": [
        {
          "output_type": "execute_result",
          "data": {
            "text/plain": [
              "array([0.05444578, 0.10700123, 0.00033566])"
            ]
          },
          "metadata": {},
          "execution_count": 65
        }
      ]
    },
    {
      "cell_type": "code",
      "source": [
        "X = df[['TV']]\n",
        "y = df['Sales']\n",
        "\n",
        "model.fit(X, y)\n",
        "\n",
        "model.coef_"
      ],
      "metadata": {
        "colab": {
          "base_uri": "https://localhost:8080/"
        },
        "id": "BN4JGFSeURpR",
        "outputId": "1b665589-b0f7-4131-e382-ef4b38701871"
      },
      "execution_count": 75,
      "outputs": [
        {
          "output_type": "execute_result",
          "data": {
            "text/plain": [
              "array([0.05546477])"
            ]
          },
          "metadata": {},
          "execution_count": 75
        }
      ]
    },
    {
      "cell_type": "code",
      "source": [
        "model.score(X, y)"
      ],
      "metadata": {
        "colab": {
          "base_uri": "https://localhost:8080/"
        },
        "id": "BA1tZv0UVkhZ",
        "outputId": "d3a9d328-e0f1-41c7-c4ee-74c39295c844"
      },
      "execution_count": 76,
      "outputs": [
        {
          "output_type": "execute_result",
          "data": {
            "text/plain": [
              "0.8121757029987414"
            ]
          },
          "metadata": {},
          "execution_count": 76
        }
      ]
    },
    {
      "cell_type": "code",
      "source": [
        "X = df[['Radio']]\n",
        "y = df['Sales']\n",
        "\n",
        "model.fit(X, y)\n",
        "\n",
        "model.coef_"
      ],
      "metadata": {
        "colab": {
          "base_uri": "https://localhost:8080/"
        },
        "id": "falrGJdQUnac",
        "outputId": "a7783e71-b13c-4a8a-f5df-910ec17a9004"
      },
      "execution_count": 67,
      "outputs": [
        {
          "output_type": "execute_result",
          "data": {
            "text/plain": [
              "array([0.12443166])"
            ]
          },
          "metadata": {},
          "execution_count": 67
        }
      ]
    },
    {
      "cell_type": "code",
      "source": [
        "X = df[['Newspaper']]\n",
        "y = df['Sales']\n",
        "\n",
        "model.fit(X, y)\n",
        "\n",
        "model.coef_"
      ],
      "metadata": {
        "colab": {
          "base_uri": "https://localhost:8080/"
        },
        "id": "B5BiIqJoUvkp",
        "outputId": "54041090-0e6d-49ae-b457-df6b152dab4f"
      },
      "execution_count": 68,
      "outputs": [
        {
          "output_type": "execute_result",
          "data": {
            "text/plain": [
              "array([0.038324])"
            ]
          },
          "metadata": {},
          "execution_count": 68
        }
      ]
    },
    {
      "cell_type": "code",
      "source": [
        "model.score(X, y)"
      ],
      "metadata": {
        "colab": {
          "base_uri": "https://localhost:8080/"
        },
        "id": "ykzrMrYiU2wp",
        "outputId": "1f6eeb2d-9682-490d-ed46-67a4f1f013c8"
      },
      "execution_count": 74,
      "outputs": [
        {
          "output_type": "execute_result",
          "data": {
            "text/plain": [
              "0.9025912899684558"
            ]
          },
          "metadata": {},
          "execution_count": 74
        }
      ]
    },
    {
      "cell_type": "code",
      "source": [],
      "metadata": {
        "id": "GKZlVvVxVUb3"
      },
      "execution_count": null,
      "outputs": []
    }
  ]
}