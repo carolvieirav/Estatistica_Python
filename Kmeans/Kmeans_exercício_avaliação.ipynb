{
  "cells": [
    {
      "cell_type": "markdown",
      "metadata": {
        "id": "view-in-github",
        "colab_type": "text"
      },
      "source": [
        "<a href=\"https://colab.research.google.com/github/carolvieirav/Estatistica_Python/blob/main/Kmeans/Kmeans_exerc%C3%ADcio_avalia%C3%A7%C3%A3o.ipynb\" target=\"_parent\"><img src=\"https://colab.research.google.com/assets/colab-badge.svg\" alt=\"Open In Colab\"/></a>"
      ]
    },
    {
      "cell_type": "code",
      "execution_count": null,
      "metadata": {
        "id": "3hwUxkHXTibu"
      },
      "outputs": [],
      "source": [
        "# Importe as bibliotecas"
      ]
    },
    {
      "cell_type": "markdown",
      "metadata": {
        "id": "XH0w6AziTibw"
      },
      "source": [
        "# Exercício\n",
        "\n",
        "Neste exercício, usaremos um dataset contendo informações sobre as preferências do cliente. Veremos quanto cada cliente gasta em um ano em cada subcategoria do supermercado e tentaremos encontrar semelhanças usando clusterização.\n",
        "\n",
        "A origem do dataset é [essa](https://archive.ics.uci.edu/ml/datasets/wholesale+customers)."
      ]
    },
    {
      "cell_type": "code",
      "execution_count": null,
      "metadata": {
        "id": "muhOVVi6Tibx"
      },
      "outputs": [],
      "source": [
        "# carregue os dados"
      ]
    },
    {
      "cell_type": "markdown",
      "metadata": {
        "id": "Jjpb75v-Tibx"
      },
      "source": [
        "#### Explore o dataset com as técnicas matemáticas e de visualização que aprendemos. O que você encontrou?\n",
        "\n",
        "Checklist:\n",
        "\n",
        "* O que significa cada coluna?\n",
        "* Algum dado categórico para converter?\n",
        "* Algum dado faltante(NaN) para remover?\n",
        "* Colinearidade da coluna - alguma correlação alta?\n",
        "* Estatísticas descritivas - existem outliers a serem removidos?\n",
        "* Distribuição de dados em colunas - a distribuição é assimétrica?\n",
        "*etc"
      ]
    },
    {
      "cell_type": "code",
      "execution_count": null,
      "metadata": {
        "id": "MLYkazH6Tiby"
      },
      "outputs": [],
      "source": [
        "# seu código aqui\n"
      ]
    },
    {
      "cell_type": "code",
      "execution_count": null,
      "metadata": {
        "id": "RsT-GRC3Tiby"
      },
      "outputs": [],
      "source": [
        "# suas observações"
      ]
    },
    {
      "cell_type": "markdown",
      "metadata": {
        "id": "0vHgCn73Tibz"
      },
      "source": [
        "# Limpeza de Dados\n",
        "\n",
        "Se sua conclusão do desafio anterior for que os dados precisam de limpeza/transformação, faça isso nas células abaixo. No entanto, se sua conclusão for que os dados não precisam ser limpos ou transformados, sinta-se à vontade para pular esse desafio. Mas se você escolher o último, forneça uma justificativa."
      ]
    },
    {
      "cell_type": "code",
      "execution_count": null,
      "metadata": {
        "id": "us4wkNshTibz"
      },
      "outputs": [],
      "source": [
        "# seu código aqui"
      ]
    },
    {
      "cell_type": "code",
      "execution_count": null,
      "metadata": {
        "id": "XuPEVDoRTib0"
      },
      "outputs": [],
      "source": [
        "# suas observações"
      ]
    },
    {
      "cell_type": "markdown",
      "metadata": {
        "id": "GpvSYaMVTib0"
      },
      "source": [
        "# Pré-processamento de dados\n",
        "\n",
        "Um problema com o dataset é que os valores são muito diferentes em várias categorias (por exemplo, `Fresh` e `Grocery` em comparação com `Detergents_Paper` e `Delicassen`).\n",
        "\n",
        "Valores em escalas diferentes nas variáveis podem causar problemas em nosso clustering. \n",
        "\n",
        "Estandardize seus dados na célula a seguir:"
      ]
    },
    {
      "cell_type": "code",
      "execution_count": null,
      "metadata": {
        "id": "GMiDlGktTib1"
      },
      "outputs": [],
      "source": [
        "from sklearn.preprocessing import StandardScaler\n",
        "\n",
        "# seu código aqui:\n"
      ]
    },
    {
      "cell_type": "markdown",
      "source": [
        "\n",
        "**Depois de estandardizar seus dados, atribua os dados transformados a uma nova variável.**"
      ],
      "metadata": {
        "id": "je7dd_bhZvL5"
      }
    },
    {
      "cell_type": "markdown",
      "metadata": {
        "id": "YQcYON0XTib2"
      },
      "source": [
        "# Clusterização com K-Means\n",
        "\n",
        "Aplique o método de clusterização K-means no seu dataset. \n",
        "\n",
        "Após treinar seu modelo, armazene o resultado em uma nova coluna do seu dataframe."
      ]
    },
    {
      "cell_type": "code",
      "execution_count": null,
      "metadata": {
        "scrolled": true,
        "id": "KQwqzvbaTib2"
      },
      "outputs": [],
      "source": [
        "# Seu código aqui\n"
      ]
    },
    {
      "cell_type": "markdown",
      "metadata": {
        "id": "9Vd6cZR0Tib8"
      },
      "source": [
        "# Desafio (Bônus) - Mudando o número clusters\n",
        "\n",
        "O grande desafio do algoritmo Kmeans é saber qual número fornecer ao parâmetro `n_clusters`.\n",
        "\n",
        "No aprendizado de máquina avançado, os cientistas de dados experimentam diferentes números de clusters e avaliam os resultados com medidas estatísticas (leia [aqui](https://en.wikipedia.org/wiki/Cluster_analysis#External_evaluation)). \n",
        "\n",
        "Não estamos usando medidas estatísticas hoje, mas podemos usar uma forma visual. Aplique o método do cotovelo e teste valores de `n_clusters` no seu modelo."
      ]
    },
    {
      "cell_type": "code",
      "execution_count": null,
      "metadata": {
        "id": "YWTF5WGPTib8"
      },
      "outputs": [],
      "source": [
        "# Your code here"
      ]
    }
  ],
  "metadata": {
    "kernelspec": {
      "display_name": "Python 3",
      "language": "python",
      "name": "python3"
    },
    "language_info": {
      "codemirror_mode": {
        "name": "ipython",
        "version": 3
      },
      "file_extension": ".py",
      "mimetype": "text/x-python",
      "name": "python",
      "nbconvert_exporter": "python",
      "pygments_lexer": "ipython3",
      "version": "3.7.2"
    },
    "colab": {
      "provenance": [],
      "include_colab_link": true
    }
  },
  "nbformat": 4,
  "nbformat_minor": 0
}