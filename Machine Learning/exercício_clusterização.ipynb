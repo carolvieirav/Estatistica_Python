{
  "nbformat": 4,
  "nbformat_minor": 0,
  "metadata": {
    "kernelspec": {
      "display_name": "Python 3",
      "language": "python",
      "name": "python3"
    },
    "language_info": {
      "codemirror_mode": {
        "name": "ipython",
        "version": 3
      },
      "file_extension": ".py",
      "mimetype": "text/x-python",
      "name": "python",
      "nbconvert_exporter": "python",
      "pygments_lexer": "ipython3",
      "version": "3.7.2"
    },
    "colab": {
      "provenance": [],
      "collapsed_sections": [
        "V5y13j_ZTI93",
        "9lz45tQqTI96",
        "WteTjmjmTI9-",
        "565Vzt2bTI-A",
        "O3UW3Mc6TI-D",
        "e-JJHcpQTI-M",
        "SRXDUtWWTI-Z",
        "GIL76StZTI-d",
        "Zi3AnuAdTI-f",
        "t5HqjQeOTI-k"
      ],
      "include_colab_link": true
    }
  },
  "cells": [
    {
      "cell_type": "markdown",
      "metadata": {
        "id": "view-in-github",
        "colab_type": "text"
      },
      "source": [
        "<a href=\"https://colab.research.google.com/github/carolvieirav/Estatistica_Python/blob/main/Machine%20Learning/exerc%C3%ADcio_clusteriza%C3%A7%C3%A3o.ipynb\" target=\"_parent\"><img src=\"https://colab.research.google.com/assets/colab-badge.svg\" alt=\"Open In Colab\"/></a>"
      ]
    },
    {
      "cell_type": "code",
      "metadata": {
        "id": "vK40n6oUTI9c"
      },
      "source": [
        "# importe as bibliotecas \n"
      ],
      "execution_count": null,
      "outputs": []
    },
    {
      "cell_type": "markdown",
      "metadata": {
        "id": "A161Ta4HTI9f"
      },
      "source": [
        "# Exercício\n",
        "\n",
        "Começaremos trabalhando com o conjunto de dados `wine` no scikit-learn. \n",
        "\n",
        "Começamos carregando o conjunto de dados usando a função `load_wine` ([documentation](https://scikit-learn.org/stable/modules/generated/sklearn.datasets.load_wine.html)). Na célula abaixo, importaremos a função do scikit-learn."
      ]
    },
    {
      "cell_type": "code",
      "metadata": {
        "id": "qScYk1EfTI9f"
      },
      "source": [
        "from sklearn.datasets import load_wine"
      ],
      "execution_count": null,
      "outputs": []
    },
    {
      "cell_type": "markdown",
      "metadata": {
        "id": "GMYMizJiTI9h"
      },
      "source": [
        "Na célula abaixo, use a função load_wine e atribua o conjunto de dados wine a uma variável."
      ]
    },
    {
      "cell_type": "code",
      "metadata": {
        "id": "0fntnoKWTI9i"
      },
      "source": [
        "# digite seu código\n"
      ],
      "execution_count": null,
      "outputs": []
    },
    {
      "cell_type": "markdown",
      "metadata": {
        "id": "BaRuQ6oJTI9k"
      },
      "source": [
        "Execute o código a seguir para transformar wine em um dataframe:"
      ]
    },
    {
      "cell_type": "code",
      "metadata": {
        "id": "WfUdKDCCTI9l"
      },
      "source": [
        "df = pd.DataFrame(data= np.c_[wine['data'], wine['target']],\n",
        "                     columns= wine['feature_names'] + ['target'])"
      ],
      "execution_count": null,
      "outputs": []
    },
    {
      "cell_type": "markdown",
      "metadata": {
        "id": "ubtFDm6ATI9x"
      },
      "source": [
        "# Agrupando o conjunto de dados\n",
        "\n",
        "Nesta parte do laboratório, agruparemos os dados para encontrar características comuns entre os diferentes vinhos. Usaremos o algoritmo de agrupamento k-means para atingir esse objetivo.\n",
        "\n",
        "#### Começamos importando k-means do scikit-learn e então criamos 4 clusters."
      ]
    },
    {
      "cell_type": "code",
      "metadata": {
        "id": "Qkf-fJC_TI9y"
      },
      "source": [
        "# digite seu código\n",
        "\n"
      ],
      "execution_count": null,
      "outputs": []
    },
    {
      "cell_type": "markdown",
      "metadata": {
        "id": "V5y13j_ZTI93"
      },
      "source": [
        "#### `Print` o `label_` do clusters "
      ]
    },
    {
      "cell_type": "code",
      "metadata": {
        "id": "FIDipbVHTI94"
      },
      "source": [
        "# digite seu código\n",
        "\n"
      ],
      "execution_count": null,
      "outputs": []
    },
    {
      "cell_type": "markdown",
      "metadata": {
        "id": "9lz45tQqTI96"
      },
      "source": [
        "#### Calcule o tamanho de cada cluster. Isso pode ser feito contando o número de ocorrências de cada label único na lista acima.\n",
        "\n",
        "Qual é o maior cluster dos 4?"
      ]
    },
    {
      "cell_type": "code",
      "metadata": {
        "id": "YVgN9s0STI96"
      },
      "source": [
        "# digite seu código\n"
      ],
      "execution_count": null,
      "outputs": []
    },
    {
      "cell_type": "markdown",
      "metadata": {
        "id": "O3UW3Mc6TI-D"
      },
      "source": [
        "#### Qual é o teor médio de `ash` para cada cluster?"
      ]
    },
    {
      "cell_type": "code",
      "metadata": {
        "id": "ON8nguZ0TI-D"
      },
      "source": [
        "# digite seu código\n"
      ],
      "execution_count": null,
      "outputs": []
    }
  ]
}